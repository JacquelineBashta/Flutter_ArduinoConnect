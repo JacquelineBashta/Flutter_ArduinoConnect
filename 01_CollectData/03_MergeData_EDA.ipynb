{
 "cells": [
  {
   "attachments": {},
   "cell_type": "markdown",
   "metadata": {},
   "source": [
    "## Import Data"
   ]
  },
  {
   "cell_type": "code",
   "execution_count": 17,
   "metadata": {},
   "outputs": [],
   "source": [
    "import pandas as pd\n",
    "import matplotlib.pyplot as plt\n",
    "import seaborn as sns\n",
    "import numpy as np\n",
    "\n",
    "sns.set_style(\"darkgrid\")\n",
    "import glob\n",
    "import os\n",
    "\n",
    "import random\n",
    "\n",
    "# userAcceleration data\n",
    "# float S8g = 4096.0;\n",
    "# NewAcceleration = userAcceleration/S8g ;  \n",
    "# unit = g\n",
    "\n",
    "# rotationRate data (speed of rotation)\n",
    "# float RFS2000 = 16.4;\n",
    "# NewRotationRate = rotationRate/RFS2000 ;  \n",
    "# unit = deg/s\n",
    "\n",
    "# attitude \"oriantation\" (angle of rotation) \n",
    "# unit = deg\n",
    "\n",
    "# gravity ( gravitional force on sensor axis)\n",
    "# float S8g = 4096.0;\n",
    "# NewGravity = gravity/S8g ;  \n",
    "# unit = g\n",
    "\n",
    "# Get data file names\n",
    "START_T_COUNT = 0\n",
    "START_F_COUNT = 500\n",
    "\n",
    "path = r'D:\\_1_Technicals\\DataScience_Bootcamp\\Final_project\\Flutter_ArduinoConnect\\00_DataSets'\n",
    "filenames = glob.glob(path + \"/*.csv\")\n",
    "\n",
    "# shuffeling the files as its always ordered alphabetic\n",
    "random.seed(10)\n",
    "shuffled_filenames = random.sample(filenames, len(filenames))\n",
    "\n",
    "\n",
    "dfs = []\n",
    "num_t = START_T_COUNT\n",
    "num_f = START_F_COUNT\n",
    "for filename in shuffled_filenames:\n",
    "   \n",
    "    df = pd.read_csv(filename, index_col=False)\n",
    "    df.columns= [\"time\",\"rotR_x\",\"rotR_y\",\"rotR_z\",\"acc_x\",\"acc_y\",\"acc_z\",\"or_x\",\"or_y\",\"or_z\",\"grav_x\",\"grav_y\",\"grav_z\"]\n",
    "    df.acc_x = df.acc_x/4096.0\n",
    "    df.acc_y = df.acc_y/4096.0\n",
    "    df.acc_z = df.acc_z/4096.0\n",
    "    \n",
    "    df.rotR_x = df.rotR_x/16.4\n",
    "    df.rotR_y = df.rotR_y/16.4\n",
    "    df.rotR_z = df.rotR_z/16.4\n",
    "    \n",
    "    df.grav_x = df.grav_x/4096.0\n",
    "    df.grav_y = df.grav_y/4096.0\n",
    "    df.grav_z = df.grav_z/4096.0\n",
    "    \n",
    "    _, tail = os.path.split(filename)\n",
    "    df[\"action\"] = str(tail).split(\".\")[0]\n",
    "    \n",
    "\n",
    "    if df.action.str.startswith(\"t_\").sum():\n",
    "        df[\"label\"]= 1\n",
    "        df[\"action_num\"] = num_t # 0 - 30\n",
    "        num_t +=1\n",
    "    else:\n",
    "        df[\"label\"]= 0\n",
    "        df[\"action_num\"] = num_f # 100 - 122\n",
    "        num_f +=1\n",
    "    \n",
    "    df = df.drop(columns=\"time\").reset_index().rename(columns={\"index\":\"time\"})\n",
    "    dfs.append(df)\n",
    "df_all = pd.concat(dfs,axis=0).set_index(\"time\")"
   ]
  },
  {
   "cell_type": "code",
   "execution_count": 18,
   "metadata": {},
   "outputs": [
    {
     "data": {
      "text/plain": [
       "(10280, 15)"
      ]
     },
     "execution_count": 18,
     "metadata": {},
     "output_type": "execute_result"
    }
   ],
   "source": [
    "df_all.shape"
   ]
  },
  {
   "cell_type": "code",
   "execution_count": 19,
   "metadata": {},
   "outputs": [
    {
     "data": {
      "text/html": [
       "<div>\n",
       "<style scoped>\n",
       "    .dataframe tbody tr th:only-of-type {\n",
       "        vertical-align: middle;\n",
       "    }\n",
       "\n",
       "    .dataframe tbody tr th {\n",
       "        vertical-align: top;\n",
       "    }\n",
       "\n",
       "    .dataframe thead th {\n",
       "        text-align: right;\n",
       "    }\n",
       "</style>\n",
       "<table border=\"1\" class=\"dataframe\">\n",
       "  <thead>\n",
       "    <tr style=\"text-align: right;\">\n",
       "      <th></th>\n",
       "      <th>rotR_x</th>\n",
       "      <th>rotR_y</th>\n",
       "      <th>rotR_z</th>\n",
       "      <th>acc_x</th>\n",
       "      <th>acc_y</th>\n",
       "      <th>acc_z</th>\n",
       "      <th>or_x</th>\n",
       "      <th>or_y</th>\n",
       "      <th>or_z</th>\n",
       "      <th>grav_x</th>\n",
       "      <th>grav_y</th>\n",
       "      <th>grav_z</th>\n",
       "      <th>action</th>\n",
       "      <th>label</th>\n",
       "      <th>action_num</th>\n",
       "    </tr>\n",
       "    <tr>\n",
       "      <th>time</th>\n",
       "      <th></th>\n",
       "      <th></th>\n",
       "      <th></th>\n",
       "      <th></th>\n",
       "      <th></th>\n",
       "      <th></th>\n",
       "      <th></th>\n",
       "      <th></th>\n",
       "      <th></th>\n",
       "      <th></th>\n",
       "      <th></th>\n",
       "      <th></th>\n",
       "      <th></th>\n",
       "      <th></th>\n",
       "      <th></th>\n",
       "    </tr>\n",
       "  </thead>\n",
       "  <tbody>\n",
       "    <tr>\n",
       "      <th>0</th>\n",
       "      <td>1.219512</td>\n",
       "      <td>0.182927</td>\n",
       "      <td>2.317073</td>\n",
       "      <td>-0.008545</td>\n",
       "      <td>0.007812</td>\n",
       "      <td>-0.006592</td>\n",
       "      <td>18</td>\n",
       "      <td>68</td>\n",
       "      <td>123</td>\n",
       "      <td>0.308105</td>\n",
       "      <td>-0.883301</td>\n",
       "      <td>0.352539</td>\n",
       "      <td>t_stand_front_drinksmallcup_10ml_1s_left</td>\n",
       "      <td>1</td>\n",
       "      <td>0</td>\n",
       "    </tr>\n",
       "    <tr>\n",
       "      <th>1</th>\n",
       "      <td>-0.426829</td>\n",
       "      <td>-0.304878</td>\n",
       "      <td>2.987805</td>\n",
       "      <td>-0.000977</td>\n",
       "      <td>-0.001709</td>\n",
       "      <td>-0.009033</td>\n",
       "      <td>17</td>\n",
       "      <td>68</td>\n",
       "      <td>123</td>\n",
       "      <td>0.305176</td>\n",
       "      <td>-0.884766</td>\n",
       "      <td>0.351562</td>\n",
       "      <td>t_stand_front_drinksmallcup_10ml_1s_left</td>\n",
       "      <td>1</td>\n",
       "      <td>0</td>\n",
       "    </tr>\n",
       "    <tr>\n",
       "      <th>2</th>\n",
       "      <td>-0.975610</td>\n",
       "      <td>0.304878</td>\n",
       "      <td>3.597561</td>\n",
       "      <td>0.000488</td>\n",
       "      <td>0.010498</td>\n",
       "      <td>-0.001953</td>\n",
       "      <td>17</td>\n",
       "      <td>68</td>\n",
       "      <td>123</td>\n",
       "      <td>0.302246</td>\n",
       "      <td>-0.885986</td>\n",
       "      <td>0.351074</td>\n",
       "      <td>t_stand_front_drinksmallcup_10ml_1s_left</td>\n",
       "      <td>1</td>\n",
       "      <td>0</td>\n",
       "    </tr>\n",
       "    <tr>\n",
       "      <th>3</th>\n",
       "      <td>-3.902439</td>\n",
       "      <td>2.682927</td>\n",
       "      <td>4.085366</td>\n",
       "      <td>0.004395</td>\n",
       "      <td>0.002930</td>\n",
       "      <td>-0.018311</td>\n",
       "      <td>17</td>\n",
       "      <td>68</td>\n",
       "      <td>123</td>\n",
       "      <td>0.298828</td>\n",
       "      <td>-0.887939</td>\n",
       "      <td>0.349121</td>\n",
       "      <td>t_stand_front_drinksmallcup_10ml_1s_left</td>\n",
       "      <td>1</td>\n",
       "      <td>0</td>\n",
       "    </tr>\n",
       "    <tr>\n",
       "      <th>4</th>\n",
       "      <td>-11.341463</td>\n",
       "      <td>5.609756</td>\n",
       "      <td>-0.548780</td>\n",
       "      <td>0.000000</td>\n",
       "      <td>0.022949</td>\n",
       "      <td>-0.002930</td>\n",
       "      <td>17</td>\n",
       "      <td>68</td>\n",
       "      <td>123</td>\n",
       "      <td>0.294922</td>\n",
       "      <td>-0.891846</td>\n",
       "      <td>0.342285</td>\n",
       "      <td>t_stand_front_drinksmallcup_10ml_1s_left</td>\n",
       "      <td>1</td>\n",
       "      <td>0</td>\n",
       "    </tr>\n",
       "    <tr>\n",
       "      <th>...</th>\n",
       "      <td>...</td>\n",
       "      <td>...</td>\n",
       "      <td>...</td>\n",
       "      <td>...</td>\n",
       "      <td>...</td>\n",
       "      <td>...</td>\n",
       "      <td>...</td>\n",
       "      <td>...</td>\n",
       "      <td>...</td>\n",
       "      <td>...</td>\n",
       "      <td>...</td>\n",
       "      <td>...</td>\n",
       "      <td>...</td>\n",
       "      <td>...</td>\n",
       "      <td>...</td>\n",
       "    </tr>\n",
       "    <tr>\n",
       "      <th>163</th>\n",
       "      <td>-2.500000</td>\n",
       "      <td>0.609756</td>\n",
       "      <td>3.048780</td>\n",
       "      <td>0.019775</td>\n",
       "      <td>-0.014160</td>\n",
       "      <td>-0.008545</td>\n",
       "      <td>-11</td>\n",
       "      <td>80</td>\n",
       "      <td>155</td>\n",
       "      <td>-0.197998</td>\n",
       "      <td>-0.965332</td>\n",
       "      <td>0.168701</td>\n",
       "      <td>t_stand_hold_drinksmallcup_10ml_1s_hold</td>\n",
       "      <td>1</td>\n",
       "      <td>30</td>\n",
       "    </tr>\n",
       "    <tr>\n",
       "      <th>164</th>\n",
       "      <td>-0.548780</td>\n",
       "      <td>1.585366</td>\n",
       "      <td>2.804878</td>\n",
       "      <td>0.014648</td>\n",
       "      <td>0.005615</td>\n",
       "      <td>-0.001709</td>\n",
       "      <td>-11</td>\n",
       "      <td>80</td>\n",
       "      <td>155</td>\n",
       "      <td>-0.199951</td>\n",
       "      <td>-0.965088</td>\n",
       "      <td>0.167725</td>\n",
       "      <td>t_stand_hold_drinksmallcup_10ml_1s_hold</td>\n",
       "      <td>1</td>\n",
       "      <td>30</td>\n",
       "    </tr>\n",
       "    <tr>\n",
       "      <th>165</th>\n",
       "      <td>-0.609756</td>\n",
       "      <td>1.829268</td>\n",
       "      <td>2.012195</td>\n",
       "      <td>0.014160</td>\n",
       "      <td>0.000732</td>\n",
       "      <td>-0.004395</td>\n",
       "      <td>-11</td>\n",
       "      <td>80</td>\n",
       "      <td>155</td>\n",
       "      <td>-0.200928</td>\n",
       "      <td>-0.965088</td>\n",
       "      <td>0.167236</td>\n",
       "      <td>t_stand_hold_drinksmallcup_10ml_1s_hold</td>\n",
       "      <td>1</td>\n",
       "      <td>30</td>\n",
       "    </tr>\n",
       "    <tr>\n",
       "      <th>166</th>\n",
       "      <td>0.182927</td>\n",
       "      <td>1.707317</td>\n",
       "      <td>1.158537</td>\n",
       "      <td>0.010254</td>\n",
       "      <td>0.006836</td>\n",
       "      <td>-0.006348</td>\n",
       "      <td>-11</td>\n",
       "      <td>80</td>\n",
       "      <td>155</td>\n",
       "      <td>-0.201660</td>\n",
       "      <td>-0.964844</td>\n",
       "      <td>0.167236</td>\n",
       "      <td>t_stand_hold_drinksmallcup_10ml_1s_hold</td>\n",
       "      <td>1</td>\n",
       "      <td>30</td>\n",
       "    </tr>\n",
       "    <tr>\n",
       "      <th>167</th>\n",
       "      <td>1.219512</td>\n",
       "      <td>2.195122</td>\n",
       "      <td>-0.914634</td>\n",
       "      <td>0.014404</td>\n",
       "      <td>0.000244</td>\n",
       "      <td>-0.005371</td>\n",
       "      <td>-11</td>\n",
       "      <td>80</td>\n",
       "      <td>155</td>\n",
       "      <td>-0.201904</td>\n",
       "      <td>-0.964844</td>\n",
       "      <td>0.166992</td>\n",
       "      <td>t_stand_hold_drinksmallcup_10ml_1s_hold</td>\n",
       "      <td>1</td>\n",
       "      <td>30</td>\n",
       "    </tr>\n",
       "  </tbody>\n",
       "</table>\n",
       "<p>10280 rows × 15 columns</p>\n",
       "</div>"
      ],
      "text/plain": [
       "         rotR_x    rotR_y    rotR_z     acc_x     acc_y     acc_z  or_x  or_y  \\\n",
       "time                                                                            \n",
       "0      1.219512  0.182927  2.317073 -0.008545  0.007812 -0.006592    18    68   \n",
       "1     -0.426829 -0.304878  2.987805 -0.000977 -0.001709 -0.009033    17    68   \n",
       "2     -0.975610  0.304878  3.597561  0.000488  0.010498 -0.001953    17    68   \n",
       "3     -3.902439  2.682927  4.085366  0.004395  0.002930 -0.018311    17    68   \n",
       "4    -11.341463  5.609756 -0.548780  0.000000  0.022949 -0.002930    17    68   \n",
       "...         ...       ...       ...       ...       ...       ...   ...   ...   \n",
       "163   -2.500000  0.609756  3.048780  0.019775 -0.014160 -0.008545   -11    80   \n",
       "164   -0.548780  1.585366  2.804878  0.014648  0.005615 -0.001709   -11    80   \n",
       "165   -0.609756  1.829268  2.012195  0.014160  0.000732 -0.004395   -11    80   \n",
       "166    0.182927  1.707317  1.158537  0.010254  0.006836 -0.006348   -11    80   \n",
       "167    1.219512  2.195122 -0.914634  0.014404  0.000244 -0.005371   -11    80   \n",
       "\n",
       "      or_z    grav_x    grav_y    grav_z  \\\n",
       "time                                       \n",
       "0      123  0.308105 -0.883301  0.352539   \n",
       "1      123  0.305176 -0.884766  0.351562   \n",
       "2      123  0.302246 -0.885986  0.351074   \n",
       "3      123  0.298828 -0.887939  0.349121   \n",
       "4      123  0.294922 -0.891846  0.342285   \n",
       "...    ...       ...       ...       ...   \n",
       "163    155 -0.197998 -0.965332  0.168701   \n",
       "164    155 -0.199951 -0.965088  0.167725   \n",
       "165    155 -0.200928 -0.965088  0.167236   \n",
       "166    155 -0.201660 -0.964844  0.167236   \n",
       "167    155 -0.201904 -0.964844  0.166992   \n",
       "\n",
       "                                        action  label  action_num  \n",
       "time                                                               \n",
       "0     t_stand_front_drinksmallcup_10ml_1s_left      1           0  \n",
       "1     t_stand_front_drinksmallcup_10ml_1s_left      1           0  \n",
       "2     t_stand_front_drinksmallcup_10ml_1s_left      1           0  \n",
       "3     t_stand_front_drinksmallcup_10ml_1s_left      1           0  \n",
       "4     t_stand_front_drinksmallcup_10ml_1s_left      1           0  \n",
       "...                                        ...    ...         ...  \n",
       "163    t_stand_hold_drinksmallcup_10ml_1s_hold      1          30  \n",
       "164    t_stand_hold_drinksmallcup_10ml_1s_hold      1          30  \n",
       "165    t_stand_hold_drinksmallcup_10ml_1s_hold      1          30  \n",
       "166    t_stand_hold_drinksmallcup_10ml_1s_hold      1          30  \n",
       "167    t_stand_hold_drinksmallcup_10ml_1s_hold      1          30  \n",
       "\n",
       "[10280 rows x 15 columns]"
      ]
     },
     "execution_count": 19,
     "metadata": {},
     "output_type": "execute_result"
    }
   ],
   "source": [
    "df_all"
   ]
  },
  {
   "cell_type": "code",
   "execution_count": 20,
   "metadata": {},
   "outputs": [
    {
     "data": {
      "text/html": [
       "<div>\n",
       "<style scoped>\n",
       "    .dataframe tbody tr th:only-of-type {\n",
       "        vertical-align: middle;\n",
       "    }\n",
       "\n",
       "    .dataframe tbody tr th {\n",
       "        vertical-align: top;\n",
       "    }\n",
       "\n",
       "    .dataframe thead th {\n",
       "        text-align: right;\n",
       "    }\n",
       "</style>\n",
       "<table border=\"1\" class=\"dataframe\">\n",
       "  <thead>\n",
       "    <tr style=\"text-align: right;\">\n",
       "      <th></th>\n",
       "      <th>rotR_x</th>\n",
       "      <th>rotR_y</th>\n",
       "      <th>rotR_z</th>\n",
       "      <th>acc_x</th>\n",
       "      <th>acc_y</th>\n",
       "      <th>acc_z</th>\n",
       "      <th>or_x</th>\n",
       "      <th>or_y</th>\n",
       "      <th>or_z</th>\n",
       "      <th>grav_x</th>\n",
       "      <th>grav_y</th>\n",
       "      <th>grav_z</th>\n",
       "      <th>label</th>\n",
       "      <th>action_num</th>\n",
       "    </tr>\n",
       "  </thead>\n",
       "  <tbody>\n",
       "    <tr>\n",
       "      <th>count</th>\n",
       "      <td>10280.000000</td>\n",
       "      <td>10280.000000</td>\n",
       "      <td>10280.000000</td>\n",
       "      <td>10280.000000</td>\n",
       "      <td>10280.000000</td>\n",
       "      <td>10280.000000</td>\n",
       "      <td>10280.000000</td>\n",
       "      <td>10280.000000</td>\n",
       "      <td>10280.000000</td>\n",
       "      <td>10280.000000</td>\n",
       "      <td>10280.000000</td>\n",
       "      <td>10280.000000</td>\n",
       "      <td>10280.000000</td>\n",
       "      <td>10280.000000</td>\n",
       "    </tr>\n",
       "    <tr>\n",
       "      <th>mean</th>\n",
       "      <td>0.645903</td>\n",
       "      <td>-0.217650</td>\n",
       "      <td>0.989217</td>\n",
       "      <td>0.015352</td>\n",
       "      <td>-0.000973</td>\n",
       "      <td>-0.005411</td>\n",
       "      <td>-8.634630</td>\n",
       "      <td>44.144066</td>\n",
       "      <td>188.631323</td>\n",
       "      <td>-0.143357</td>\n",
       "      <td>-0.549473</td>\n",
       "      <td>0.502353</td>\n",
       "      <td>0.705837</td>\n",
       "      <td>160.187743</td>\n",
       "    </tr>\n",
       "    <tr>\n",
       "      <th>std</th>\n",
       "      <td>46.190426</td>\n",
       "      <td>30.474136</td>\n",
       "      <td>41.713982</td>\n",
       "      <td>0.071285</td>\n",
       "      <td>0.083417</td>\n",
       "      <td>0.066256</td>\n",
       "      <td>26.554959</td>\n",
       "      <td>35.626979</td>\n",
       "      <td>87.881588</td>\n",
       "      <td>0.415015</td>\n",
       "      <td>0.385081</td>\n",
       "      <td>0.321684</td>\n",
       "      <td>0.455688</td>\n",
       "      <td>226.690364</td>\n",
       "    </tr>\n",
       "    <tr>\n",
       "      <th>min</th>\n",
       "      <td>-252.560976</td>\n",
       "      <td>-214.756098</td>\n",
       "      <td>-204.512195</td>\n",
       "      <td>-0.414795</td>\n",
       "      <td>-0.616211</td>\n",
       "      <td>-0.527832</td>\n",
       "      <td>-66.000000</td>\n",
       "      <td>-74.000000</td>\n",
       "      <td>0.000000</td>\n",
       "      <td>-0.919678</td>\n",
       "      <td>-0.999512</td>\n",
       "      <td>-0.965576</td>\n",
       "      <td>0.000000</td>\n",
       "      <td>0.000000</td>\n",
       "    </tr>\n",
       "    <tr>\n",
       "      <th>25%</th>\n",
       "      <td>-12.865854</td>\n",
       "      <td>-7.576220</td>\n",
       "      <td>-10.914634</td>\n",
       "      <td>-0.011230</td>\n",
       "      <td>-0.031982</td>\n",
       "      <td>-0.027588</td>\n",
       "      <td>-30.000000</td>\n",
       "      <td>25.000000</td>\n",
       "      <td>111.000000</td>\n",
       "      <td>-0.505127</td>\n",
       "      <td>-0.813477</td>\n",
       "      <td>0.342224</td>\n",
       "      <td>0.000000</td>\n",
       "      <td>9.000000</td>\n",
       "    </tr>\n",
       "    <tr>\n",
       "      <th>50%</th>\n",
       "      <td>0.304878</td>\n",
       "      <td>0.426829</td>\n",
       "      <td>-0.182927</td>\n",
       "      <td>0.006836</td>\n",
       "      <td>0.000000</td>\n",
       "      <td>-0.001709</td>\n",
       "      <td>-4.000000</td>\n",
       "      <td>49.000000</td>\n",
       "      <td>210.000000</td>\n",
       "      <td>-0.087646</td>\n",
       "      <td>-0.684692</td>\n",
       "      <td>0.587646</td>\n",
       "      <td>1.000000</td>\n",
       "      <td>20.000000</td>\n",
       "    </tr>\n",
       "    <tr>\n",
       "      <th>75%</th>\n",
       "      <td>16.051829</td>\n",
       "      <td>7.621951</td>\n",
       "      <td>11.219512</td>\n",
       "      <td>0.042236</td>\n",
       "      <td>0.030273</td>\n",
       "      <td>0.018555</td>\n",
       "      <td>6.000000</td>\n",
       "      <td>64.000000</td>\n",
       "      <td>256.000000</td>\n",
       "      <td>0.109619</td>\n",
       "      <td>-0.353027</td>\n",
       "      <td>0.703918</td>\n",
       "      <td>1.000000</td>\n",
       "      <td>503.000000</td>\n",
       "    </tr>\n",
       "    <tr>\n",
       "      <th>max</th>\n",
       "      <td>477.012195</td>\n",
       "      <td>276.829268</td>\n",
       "      <td>202.682927</td>\n",
       "      <td>0.616943</td>\n",
       "      <td>0.559570</td>\n",
       "      <td>0.521240</td>\n",
       "      <td>84.000000</td>\n",
       "      <td>166.000000</td>\n",
       "      <td>359.000000</td>\n",
       "      <td>0.995117</td>\n",
       "      <td>0.699219</td>\n",
       "      <td>0.998047</td>\n",
       "      <td>1.000000</td>\n",
       "      <td>522.000000</td>\n",
       "    </tr>\n",
       "  </tbody>\n",
       "</table>\n",
       "</div>"
      ],
      "text/plain": [
       "             rotR_x        rotR_y        rotR_z         acc_x         acc_y  \\\n",
       "count  10280.000000  10280.000000  10280.000000  10280.000000  10280.000000   \n",
       "mean       0.645903     -0.217650      0.989217      0.015352     -0.000973   \n",
       "std       46.190426     30.474136     41.713982      0.071285      0.083417   \n",
       "min     -252.560976   -214.756098   -204.512195     -0.414795     -0.616211   \n",
       "25%      -12.865854     -7.576220    -10.914634     -0.011230     -0.031982   \n",
       "50%        0.304878      0.426829     -0.182927      0.006836      0.000000   \n",
       "75%       16.051829      7.621951     11.219512      0.042236      0.030273   \n",
       "max      477.012195    276.829268    202.682927      0.616943      0.559570   \n",
       "\n",
       "              acc_z          or_x          or_y          or_z        grav_x  \\\n",
       "count  10280.000000  10280.000000  10280.000000  10280.000000  10280.000000   \n",
       "mean      -0.005411     -8.634630     44.144066    188.631323     -0.143357   \n",
       "std        0.066256     26.554959     35.626979     87.881588      0.415015   \n",
       "min       -0.527832    -66.000000    -74.000000      0.000000     -0.919678   \n",
       "25%       -0.027588    -30.000000     25.000000    111.000000     -0.505127   \n",
       "50%       -0.001709     -4.000000     49.000000    210.000000     -0.087646   \n",
       "75%        0.018555      6.000000     64.000000    256.000000      0.109619   \n",
       "max        0.521240     84.000000    166.000000    359.000000      0.995117   \n",
       "\n",
       "             grav_y        grav_z         label    action_num  \n",
       "count  10280.000000  10280.000000  10280.000000  10280.000000  \n",
       "mean      -0.549473      0.502353      0.705837    160.187743  \n",
       "std        0.385081      0.321684      0.455688    226.690364  \n",
       "min       -0.999512     -0.965576      0.000000      0.000000  \n",
       "25%       -0.813477      0.342224      0.000000      9.000000  \n",
       "50%       -0.684692      0.587646      1.000000     20.000000  \n",
       "75%       -0.353027      0.703918      1.000000    503.000000  \n",
       "max        0.699219      0.998047      1.000000    522.000000  "
      ]
     },
     "execution_count": 20,
     "metadata": {},
     "output_type": "execute_result"
    }
   ],
   "source": [
    "df_all.describe()"
   ]
  },
  {
   "cell_type": "code",
   "execution_count": 21,
   "metadata": {},
   "outputs": [
    {
     "data": {
      "text/plain": [
       "7256"
      ]
     },
     "execution_count": 21,
     "metadata": {},
     "output_type": "execute_result"
    }
   ],
   "source": [
    "(df_all.label == 1).sum()"
   ]
  },
  {
   "attachments": {},
   "cell_type": "markdown",
   "metadata": {},
   "source": [
    "## Missig Data"
   ]
  },
  {
   "cell_type": "code",
   "execution_count": 22,
   "metadata": {},
   "outputs": [
    {
     "data": {
      "text/plain": [
       "rotR_x        0\n",
       "rotR_y        0\n",
       "rotR_z        0\n",
       "acc_x         0\n",
       "acc_y         0\n",
       "acc_z         0\n",
       "or_x          0\n",
       "or_y          0\n",
       "or_z          0\n",
       "grav_x        0\n",
       "grav_y        0\n",
       "grav_z        0\n",
       "action        0\n",
       "label         0\n",
       "action_num    0\n",
       "dtype: int64"
      ]
     },
     "execution_count": 22,
     "metadata": {},
     "output_type": "execute_result"
    }
   ],
   "source": [
    "pd.isna(df_all).sum()"
   ]
  },
  {
   "attachments": {},
   "cell_type": "markdown",
   "metadata": {},
   "source": [
    "##  Class Balance"
   ]
  },
  {
   "cell_type": "code",
   "execution_count": 23,
   "metadata": {},
   "outputs": [
    {
     "data": {
      "image/png": "[encoded data removed]",
      "text/plain": [
       "<Figure size 640x480 with 1 Axes>"
      ]
     },
     "metadata": {},
     "output_type": "display_data"
    }
   ],
   "source": [
    "plt.title('Size of each class')\n",
    "plt.xlabel('activity label')\n",
    "plt.hist(df_all.label,rwidth=1)\n",
    "plt.xticks([0,1]);"
   ]
  },
  {
   "cell_type": "code",
   "execution_count": 24,
   "metadata": {},
   "outputs": [
    {
     "data": {
      "text/plain": [
       "54"
      ]
     },
     "execution_count": 24,
     "metadata": {},
     "output_type": "execute_result"
    }
   ],
   "source": [
    "len(df_all.action_num.unique())"
   ]
  },
  {
   "cell_type": "code",
   "execution_count": 34,
   "metadata": {},
   "outputs": [
    {
     "data": {
      "text/plain": [
       "<matplotlib.lines.Line2D at 0x1dbc523fa00>"
      ]
     },
     "execution_count": 34,
     "metadata": {},
     "output_type": "execute_result"
    },
    {
     "data": {
      "text/plain": [
       "<Figure size 640x480 with 0 Axes>"
      ]
     },
     "metadata": {},
     "output_type": "display_data"
    },
    {
     "data": {
      "image/png": "[encoded data removed]",
      "text/plain": [
       "<Figure size 1500x500 with 1 Axes>"
      ]
     },
     "metadata": {},
     "output_type": "display_data"
    }
   ],
   "source": [
    "### Length of time series\n",
    "action_num_list = df_all.action_num.unique()\n",
    "series_length = list()\n",
    "for act in action_num_list:\n",
    "    series_length.append(df_all[(df_all.action_num == act)].shape[0])\n",
    "plt.figure(2)\n",
    "plt.figure(figsize=(15,5))\n",
    "plt.title('Histogram of length of raw time series')\n",
    "plt.hist(series_length,bins=len(action_num_list),rwidth=0.2,align='left');\n",
    "#plt.xlim(0,350)\n",
    "plt.xlabel(\"size of each observation\")\n",
    "plt.ylabel(\"number of observation with same length\");\n",
    "plt.axvline(200, color=\"grey\",linestyle=\"dashed\")\n",
    "plt.axvline(300, color=\"grey\",linestyle=\"dashed\")"
   ]
  },
  {
   "cell_type": "code",
   "execution_count": 26,
   "metadata": {},
   "outputs": [],
   "source": [
    "# There is too small and too large datasets\n",
    "# lets analyze which is which\n",
    "action_num_list = df_all.action_num.unique()\n",
    "each_series_length = list()\n",
    "for act in action_num_list:\n",
    "    each_series_length.append((df_all[(df_all.action_num == act)].shape[0],act))\n",
    "each_series_length.sort()"
   ]
  },
  {
   "cell_type": "code",
   "execution_count": 27,
   "metadata": {},
   "outputs": [
    {
     "data": {
      "text/plain": [
       "(584, 4)"
      ]
     },
     "execution_count": 27,
     "metadata": {},
     "output_type": "execute_result"
    }
   ],
   "source": [
    "each_series_length[-1]"
   ]
  },
  {
   "cell_type": "code",
   "execution_count": 28,
   "metadata": {},
   "outputs": [
    {
     "name": "stdout",
     "output_type": "stream",
     "text": [
      "The largest dataset size is 584 with name: t_sit_hold_DrinkCup_10ml_1s_right\n"
     ]
    }
   ],
   "source": [
    "#check the largest dataset\n",
    "dataset_name = df_all[df_all.action_num == each_series_length[-1][1]].action.unique()[0]\n",
    "print(f\"The largest dataset size is {each_series_length[-1][0]} with name: {dataset_name}\")"
   ]
  },
  {
   "cell_type": "code",
   "execution_count": 29,
   "metadata": {},
   "outputs": [
    {
     "name": "stdout",
     "output_type": "stream",
     "text": [
      "The shortest dataset size is:38 with name f_sit_front_EatFood_2sec_right\n"
     ]
    }
   ],
   "source": [
    "#check the smallest datasets\n",
    "dataset_name = df_all[df_all.action_num == each_series_length[0][1]].action.unique()[0]\n",
    "print(f\"The shortest dataset size is:{each_series_length[0][0]} with name {dataset_name}\")\n"
   ]
  },
  {
   "cell_type": "code",
   "execution_count": 30,
   "metadata": {},
   "outputs": [],
   "source": [
    "# drop the largest dataset\n",
    "df_all = df_all[df_all.action_num != each_series_length[-1][1]]"
   ]
  },
  {
   "cell_type": "code",
   "execution_count": 31,
   "metadata": {},
   "outputs": [
    {
     "data": {
      "text/plain": [
       "<Figure size 640x480 with 0 Axes>"
      ]
     },
     "metadata": {},
     "output_type": "display_data"
    },
    {
     "data": {
      "image/png": "[encoded data removed]",
      "text/plain": [
       "<Figure size 1500x500 with 1 Axes>"
      ]
     },
     "metadata": {},
     "output_type": "display_data"
    }
   ],
   "source": [
    "### Length of time series\n",
    "action_num_list = df_all.action_num.unique()\n",
    "series_length = list()\n",
    "for act in action_num_list:\n",
    "    series_length.append(df_all[(df_all.action_num == act)].shape[0])\n",
    "plt.figure(2)\n",
    "plt.figure(figsize=(15,5))\n",
    "plt.title('Histogram of length of raw time series')\n",
    "plt.hist(series_length,bins=len(action_num_list),rwidth=0.2,align='left');\n",
    "#plt.xlim(0,350)\n",
    "plt.xlabel(\"size of each observation\")\n",
    "plt.ylabel(\"number of observation with same length\");"
   ]
  },
  {
   "attachments": {},
   "cell_type": "markdown",
   "metadata": {},
   "source": [
    "### Conclusion"
   ]
  },
  {
   "attachments": {},
   "cell_type": "markdown",
   "metadata": {},
   "source": [
    "From above analysis\n",
    "\n",
    "1. This dataset raised concern on class imbalance. --> make sure to consider same number of  f and t dataset \n",
    "2. The distribution of time-series length is broad. --> average dataset size should be around 200 - 300 (4sec to 6sec)"
   ]
  },
  {
   "attachments": {},
   "cell_type": "markdown",
   "metadata": {},
   "source": [
    "## Export Data"
   ]
  },
  {
   "cell_type": "code",
   "execution_count": 32,
   "metadata": {},
   "outputs": [],
   "source": [
    "df_all.to_pickle(\"merged_df.pkl\")"
   ]
  }
 ],
 "metadata": {
  "kernelspec": {
   "display_name": "Python 3",
   "language": "python",
   "name": "python3"
  },
  "language_info": {
   "codemirror_mode": {
    "name": "ipython",
    "version": 3
   },
   "file_extension": ".py",
   "mimetype": "text/x-python",
   "name": "python",
   "nbconvert_exporter": "python",
   "pygments_lexer": "ipython3",
   "version": "3.9.1"
  },
  "orig_nbformat": 4,
  "vscode": {
   "interpreter": {
    "hash": "81794d4967e6c3204c66dcd87b604927b115b27c00565d3d43f05ba2f3a2cb0d"
   }
  }
 },
 "nbformat": 4,
 "nbformat_minor": 2
}
