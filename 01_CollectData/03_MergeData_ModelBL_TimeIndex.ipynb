{
 "cells": [
  {
   "attachments": {},
   "cell_type": "markdown",
   "metadata": {},
   "source": [
    "## Import Data"
   ]
  },
  {
   "cell_type": "code",
   "execution_count": 91,
   "metadata": {},
   "outputs": [],
   "source": [
    "import pandas as pd\n",
    "import matplotlib.pyplot as plt\n",
    "import seaborn as sns\n",
    "import numpy as np\n",
    "\n",
    "sns.set_style(\"darkgrid\")\n",
    "import glob\n",
    "import os\n",
    "\n",
    "import random\n",
    "\n",
    "# userAcceleration data\n",
    "# float S8g = 4096.0;\n",
    "# NewAcceleration = userAcceleration/S8g ;  \n",
    "# unit = g\n",
    "\n",
    "# rotationRate data (speed of rotation)\n",
    "# float RFS2000 = 16.4;\n",
    "# NewRotationRate = rotationRate/RFS2000 ;  \n",
    "# unit = deg/s\n",
    "\n",
    "# attitude \"oriantation\" (angle of rotation) \n",
    "# unit = deg\n",
    "\n",
    "# gravity ( gravitional force on sensor axis)\n",
    "# float S8g = 4096.0;\n",
    "# NewGravity = gravity/S8g ;  \n",
    "# unit = g\n",
    "\n",
    "# Get data file names\n",
    "START_T_COUNT = 0\n",
    "START_F_COUNT = 500\n",
    "SPLIT_T_RATIO = 0.7\n",
    "\n",
    "path = r'D:\\_1_Technicals\\DataScience_Bootcamp\\Final_project\\Flutter_ArduinoConnect\\02_Model_Trials\\datasets\\EDA_Phase\\trial1'\n",
    "filenames = glob.glob(path + \"/*.csv\")\n",
    "\n",
    "# shuffeling the files as its always ordered alphabetic\n",
    "random.seed(10)\n",
    "shuffled_filenames = random.sample(filenames, len(filenames))\n",
    "\n",
    "\n",
    "dfs = []\n",
    "num_t = START_T_COUNT\n",
    "num_f = START_F_COUNT\n",
    "for filename in shuffled_filenames:\n",
    "   \n",
    "    df = pd.read_csv(filename, index_col=False)\n",
    "    df.columns= [\"time\",\"rotR_x\",\"rotR_y\",\"rotR_z\",\"acc_x\",\"acc_y\",\"acc_z\",\"or_x\",\"or_y\",\"or_z\",\"grav_x\",\"grav_y\",\"grav_z\"]\n",
    "    df.acc_x = df.acc_x/4096.0\n",
    "    df.acc_y = df.acc_y/4096.0\n",
    "    df.acc_z = df.acc_z/4096.0\n",
    "    \n",
    "    df.rotR_x = df.rotR_x/16.4\n",
    "    df.rotR_y = df.rotR_y/16.4\n",
    "    df.rotR_z = df.rotR_z/16.4\n",
    "    \n",
    "    df.grav_x = df.grav_x/4096.0\n",
    "    df.grav_y = df.grav_y/4096.0\n",
    "    df.grav_z = df.grav_z/4096.0\n",
    "    \n",
    "    _, tail = os.path.split(filename)\n",
    "    df[\"action\"] = str(tail).split(\".\")[0]\n",
    "    \n",
    "\n",
    "    if df.action.str.startswith(\"t_\").sum():\n",
    "        df[\"label\"]= 1\n",
    "        df[\"action_num\"] = num_t # 0 - 30\n",
    "        num_t +=1\n",
    "    else:\n",
    "        df[\"label\"]= 0\n",
    "        df[\"action_num\"] = num_f # 100 - 122\n",
    "        num_f +=1\n",
    "    \n",
    "    df = df.drop(columns=\"time\").reset_index().rename(columns={\"index\":\"time\"})\n",
    "    dfs.append(df)\n",
    "df_all = pd.concat(dfs,axis=0).set_index(\"time\")"
   ]
  },
  {
   "cell_type": "code",
   "execution_count": 92,
   "metadata": {},
   "outputs": [
    {
     "data": {
      "text/plain": [
       "(10280, 15)"
      ]
     },
     "execution_count": 92,
     "metadata": {},
     "output_type": "execute_result"
    }
   ],
   "source": [
    "df_all.shape"
   ]
  },
  {
   "cell_type": "code",
   "execution_count": 93,
   "metadata": {},
   "outputs": [
    {
     "data": {
      "text/html": [
       "<div>\n",
       "<style scoped>\n",
       "    .dataframe tbody tr th:only-of-type {\n",
       "        vertical-align: middle;\n",
       "    }\n",
       "\n",
       "    .dataframe tbody tr th {\n",
       "        vertical-align: top;\n",
       "    }\n",
       "\n",
       "    .dataframe thead th {\n",
       "        text-align: right;\n",
       "    }\n",
       "</style>\n",
       "<table border=\"1\" class=\"dataframe\">\n",
       "  <thead>\n",
       "    <tr style=\"text-align: right;\">\n",
       "      <th></th>\n",
       "      <th>rotR_x</th>\n",
       "      <th>rotR_y</th>\n",
       "      <th>rotR_z</th>\n",
       "      <th>acc_x</th>\n",
       "      <th>acc_y</th>\n",
       "      <th>acc_z</th>\n",
       "      <th>or_x</th>\n",
       "      <th>or_y</th>\n",
       "      <th>or_z</th>\n",
       "      <th>grav_x</th>\n",
       "      <th>grav_y</th>\n",
       "      <th>grav_z</th>\n",
       "      <th>action</th>\n",
       "      <th>label</th>\n",
       "      <th>action_num</th>\n",
       "    </tr>\n",
       "    <tr>\n",
       "      <th>time</th>\n",
       "      <th></th>\n",
       "      <th></th>\n",
       "      <th></th>\n",
       "      <th></th>\n",
       "      <th></th>\n",
       "      <th></th>\n",
       "      <th></th>\n",
       "      <th></th>\n",
       "      <th></th>\n",
       "      <th></th>\n",
       "      <th></th>\n",
       "      <th></th>\n",
       "      <th></th>\n",
       "      <th></th>\n",
       "      <th></th>\n",
       "    </tr>\n",
       "  </thead>\n",
       "  <tbody>\n",
       "    <tr>\n",
       "      <th>0</th>\n",
       "      <td>1.219512</td>\n",
       "      <td>0.182927</td>\n",
       "      <td>2.317073</td>\n",
       "      <td>-0.008545</td>\n",
       "      <td>0.007812</td>\n",
       "      <td>-0.006592</td>\n",
       "      <td>18</td>\n",
       "      <td>68</td>\n",
       "      <td>123</td>\n",
       "      <td>0.308105</td>\n",
       "      <td>-0.883301</td>\n",
       "      <td>0.352539</td>\n",
       "      <td>t_stand_front_drinksmallcup_10ml_1s_left</td>\n",
       "      <td>1</td>\n",
       "      <td>0</td>\n",
       "    </tr>\n",
       "    <tr>\n",
       "      <th>1</th>\n",
       "      <td>-0.426829</td>\n",
       "      <td>-0.304878</td>\n",
       "      <td>2.987805</td>\n",
       "      <td>-0.000977</td>\n",
       "      <td>-0.001709</td>\n",
       "      <td>-0.009033</td>\n",
       "      <td>17</td>\n",
       "      <td>68</td>\n",
       "      <td>123</td>\n",
       "      <td>0.305176</td>\n",
       "      <td>-0.884766</td>\n",
       "      <td>0.351562</td>\n",
       "      <td>t_stand_front_drinksmallcup_10ml_1s_left</td>\n",
       "      <td>1</td>\n",
       "      <td>0</td>\n",
       "    </tr>\n",
       "    <tr>\n",
       "      <th>2</th>\n",
       "      <td>-0.975610</td>\n",
       "      <td>0.304878</td>\n",
       "      <td>3.597561</td>\n",
       "      <td>0.000488</td>\n",
       "      <td>0.010498</td>\n",
       "      <td>-0.001953</td>\n",
       "      <td>17</td>\n",
       "      <td>68</td>\n",
       "      <td>123</td>\n",
       "      <td>0.302246</td>\n",
       "      <td>-0.885986</td>\n",
       "      <td>0.351074</td>\n",
       "      <td>t_stand_front_drinksmallcup_10ml_1s_left</td>\n",
       "      <td>1</td>\n",
       "      <td>0</td>\n",
       "    </tr>\n",
       "    <tr>\n",
       "      <th>3</th>\n",
       "      <td>-3.902439</td>\n",
       "      <td>2.682927</td>\n",
       "      <td>4.085366</td>\n",
       "      <td>0.004395</td>\n",
       "      <td>0.002930</td>\n",
       "      <td>-0.018311</td>\n",
       "      <td>17</td>\n",
       "      <td>68</td>\n",
       "      <td>123</td>\n",
       "      <td>0.298828</td>\n",
       "      <td>-0.887939</td>\n",
       "      <td>0.349121</td>\n",
       "      <td>t_stand_front_drinksmallcup_10ml_1s_left</td>\n",
       "      <td>1</td>\n",
       "      <td>0</td>\n",
       "    </tr>\n",
       "    <tr>\n",
       "      <th>4</th>\n",
       "      <td>-11.341463</td>\n",
       "      <td>5.609756</td>\n",
       "      <td>-0.548780</td>\n",
       "      <td>0.000000</td>\n",
       "      <td>0.022949</td>\n",
       "      <td>-0.002930</td>\n",
       "      <td>17</td>\n",
       "      <td>68</td>\n",
       "      <td>123</td>\n",
       "      <td>0.294922</td>\n",
       "      <td>-0.891846</td>\n",
       "      <td>0.342285</td>\n",
       "      <td>t_stand_front_drinksmallcup_10ml_1s_left</td>\n",
       "      <td>1</td>\n",
       "      <td>0</td>\n",
       "    </tr>\n",
       "    <tr>\n",
       "      <th>...</th>\n",
       "      <td>...</td>\n",
       "      <td>...</td>\n",
       "      <td>...</td>\n",
       "      <td>...</td>\n",
       "      <td>...</td>\n",
       "      <td>...</td>\n",
       "      <td>...</td>\n",
       "      <td>...</td>\n",
       "      <td>...</td>\n",
       "      <td>...</td>\n",
       "      <td>...</td>\n",
       "      <td>...</td>\n",
       "      <td>...</td>\n",
       "      <td>...</td>\n",
       "      <td>...</td>\n",
       "    </tr>\n",
       "    <tr>\n",
       "      <th>163</th>\n",
       "      <td>-2.500000</td>\n",
       "      <td>0.609756</td>\n",
       "      <td>3.048780</td>\n",
       "      <td>0.019775</td>\n",
       "      <td>-0.014160</td>\n",
       "      <td>-0.008545</td>\n",
       "      <td>-11</td>\n",
       "      <td>80</td>\n",
       "      <td>155</td>\n",
       "      <td>-0.197998</td>\n",
       "      <td>-0.965332</td>\n",
       "      <td>0.168701</td>\n",
       "      <td>t_stand_hold_drinksmallcup_10ml_1s_hold</td>\n",
       "      <td>1</td>\n",
       "      <td>30</td>\n",
       "    </tr>\n",
       "    <tr>\n",
       "      <th>164</th>\n",
       "      <td>-0.548780</td>\n",
       "      <td>1.585366</td>\n",
       "      <td>2.804878</td>\n",
       "      <td>0.014648</td>\n",
       "      <td>0.005615</td>\n",
       "      <td>-0.001709</td>\n",
       "      <td>-11</td>\n",
       "      <td>80</td>\n",
       "      <td>155</td>\n",
       "      <td>-0.199951</td>\n",
       "      <td>-0.965088</td>\n",
       "      <td>0.167725</td>\n",
       "      <td>t_stand_hold_drinksmallcup_10ml_1s_hold</td>\n",
       "      <td>1</td>\n",
       "      <td>30</td>\n",
       "    </tr>\n",
       "    <tr>\n",
       "      <th>165</th>\n",
       "      <td>-0.609756</td>\n",
       "      <td>1.829268</td>\n",
       "      <td>2.012195</td>\n",
       "      <td>0.014160</td>\n",
       "      <td>0.000732</td>\n",
       "      <td>-0.004395</td>\n",
       "      <td>-11</td>\n",
       "      <td>80</td>\n",
       "      <td>155</td>\n",
       "      <td>-0.200928</td>\n",
       "      <td>-0.965088</td>\n",
       "      <td>0.167236</td>\n",
       "      <td>t_stand_hold_drinksmallcup_10ml_1s_hold</td>\n",
       "      <td>1</td>\n",
       "      <td>30</td>\n",
       "    </tr>\n",
       "    <tr>\n",
       "      <th>166</th>\n",
       "      <td>0.182927</td>\n",
       "      <td>1.707317</td>\n",
       "      <td>1.158537</td>\n",
       "      <td>0.010254</td>\n",
       "      <td>0.006836</td>\n",
       "      <td>-0.006348</td>\n",
       "      <td>-11</td>\n",
       "      <td>80</td>\n",
       "      <td>155</td>\n",
       "      <td>-0.201660</td>\n",
       "      <td>-0.964844</td>\n",
       "      <td>0.167236</td>\n",
       "      <td>t_stand_hold_drinksmallcup_10ml_1s_hold</td>\n",
       "      <td>1</td>\n",
       "      <td>30</td>\n",
       "    </tr>\n",
       "    <tr>\n",
       "      <th>167</th>\n",
       "      <td>1.219512</td>\n",
       "      <td>2.195122</td>\n",
       "      <td>-0.914634</td>\n",
       "      <td>0.014404</td>\n",
       "      <td>0.000244</td>\n",
       "      <td>-0.005371</td>\n",
       "      <td>-11</td>\n",
       "      <td>80</td>\n",
       "      <td>155</td>\n",
       "      <td>-0.201904</td>\n",
       "      <td>-0.964844</td>\n",
       "      <td>0.166992</td>\n",
       "      <td>t_stand_hold_drinksmallcup_10ml_1s_hold</td>\n",
       "      <td>1</td>\n",
       "      <td>30</td>\n",
       "    </tr>\n",
       "  </tbody>\n",
       "</table>\n",
       "<p>10280 rows × 15 columns</p>\n",
       "</div>"
      ],
      "text/plain": [
       "         rotR_x    rotR_y    rotR_z     acc_x     acc_y     acc_z  or_x  or_y  \\\n",
       "time                                                                            \n",
       "0      1.219512  0.182927  2.317073 -0.008545  0.007812 -0.006592    18    68   \n",
       "1     -0.426829 -0.304878  2.987805 -0.000977 -0.001709 -0.009033    17    68   \n",
       "2     -0.975610  0.304878  3.597561  0.000488  0.010498 -0.001953    17    68   \n",
       "3     -3.902439  2.682927  4.085366  0.004395  0.002930 -0.018311    17    68   \n",
       "4    -11.341463  5.609756 -0.548780  0.000000  0.022949 -0.002930    17    68   \n",
       "...         ...       ...       ...       ...       ...       ...   ...   ...   \n",
       "163   -2.500000  0.609756  3.048780  0.019775 -0.014160 -0.008545   -11    80   \n",
       "164   -0.548780  1.585366  2.804878  0.014648  0.005615 -0.001709   -11    80   \n",
       "165   -0.609756  1.829268  2.012195  0.014160  0.000732 -0.004395   -11    80   \n",
       "166    0.182927  1.707317  1.158537  0.010254  0.006836 -0.006348   -11    80   \n",
       "167    1.219512  2.195122 -0.914634  0.014404  0.000244 -0.005371   -11    80   \n",
       "\n",
       "      or_z    grav_x    grav_y    grav_z  \\\n",
       "time                                       \n",
       "0      123  0.308105 -0.883301  0.352539   \n",
       "1      123  0.305176 -0.884766  0.351562   \n",
       "2      123  0.302246 -0.885986  0.351074   \n",
       "3      123  0.298828 -0.887939  0.349121   \n",
       "4      123  0.294922 -0.891846  0.342285   \n",
       "...    ...       ...       ...       ...   \n",
       "163    155 -0.197998 -0.965332  0.168701   \n",
       "164    155 -0.199951 -0.965088  0.167725   \n",
       "165    155 -0.200928 -0.965088  0.167236   \n",
       "166    155 -0.201660 -0.964844  0.167236   \n",
       "167    155 -0.201904 -0.964844  0.166992   \n",
       "\n",
       "                                        action  label  action_num  \n",
       "time                                                               \n",
       "0     t_stand_front_drinksmallcup_10ml_1s_left      1           0  \n",
       "1     t_stand_front_drinksmallcup_10ml_1s_left      1           0  \n",
       "2     t_stand_front_drinksmallcup_10ml_1s_left      1           0  \n",
       "3     t_stand_front_drinksmallcup_10ml_1s_left      1           0  \n",
       "4     t_stand_front_drinksmallcup_10ml_1s_left      1           0  \n",
       "...                                        ...    ...         ...  \n",
       "163    t_stand_hold_drinksmallcup_10ml_1s_hold      1          30  \n",
       "164    t_stand_hold_drinksmallcup_10ml_1s_hold      1          30  \n",
       "165    t_stand_hold_drinksmallcup_10ml_1s_hold      1          30  \n",
       "166    t_stand_hold_drinksmallcup_10ml_1s_hold      1          30  \n",
       "167    t_stand_hold_drinksmallcup_10ml_1s_hold      1          30  \n",
       "\n",
       "[10280 rows x 15 columns]"
      ]
     },
     "execution_count": 93,
     "metadata": {},
     "output_type": "execute_result"
    }
   ],
   "source": [
    "df_all"
   ]
  },
  {
   "cell_type": "code",
   "execution_count": 94,
   "metadata": {},
   "outputs": [
    {
     "data": {
      "text/html": [
       "<div>\n",
       "<style scoped>\n",
       "    .dataframe tbody tr th:only-of-type {\n",
       "        vertical-align: middle;\n",
       "    }\n",
       "\n",
       "    .dataframe tbody tr th {\n",
       "        vertical-align: top;\n",
       "    }\n",
       "\n",
       "    .dataframe thead th {\n",
       "        text-align: right;\n",
       "    }\n",
       "</style>\n",
       "<table border=\"1\" class=\"dataframe\">\n",
       "  <thead>\n",
       "    <tr style=\"text-align: right;\">\n",
       "      <th></th>\n",
       "      <th>rotR_x</th>\n",
       "      <th>rotR_y</th>\n",
       "      <th>rotR_z</th>\n",
       "      <th>acc_x</th>\n",
       "      <th>acc_y</th>\n",
       "      <th>acc_z</th>\n",
       "      <th>or_x</th>\n",
       "      <th>or_y</th>\n",
       "      <th>or_z</th>\n",
       "      <th>grav_x</th>\n",
       "      <th>grav_y</th>\n",
       "      <th>grav_z</th>\n",
       "      <th>label</th>\n",
       "      <th>action_num</th>\n",
       "    </tr>\n",
       "  </thead>\n",
       "  <tbody>\n",
       "    <tr>\n",
       "      <th>count</th>\n",
       "      <td>10280.000000</td>\n",
       "      <td>10280.000000</td>\n",
       "      <td>10280.000000</td>\n",
       "      <td>10280.000000</td>\n",
       "      <td>10280.000000</td>\n",
       "      <td>10280.000000</td>\n",
       "      <td>10280.000000</td>\n",
       "      <td>10280.000000</td>\n",
       "      <td>10280.000000</td>\n",
       "      <td>10280.000000</td>\n",
       "      <td>10280.000000</td>\n",
       "      <td>10280.000000</td>\n",
       "      <td>10280.000000</td>\n",
       "      <td>10280.000000</td>\n",
       "    </tr>\n",
       "    <tr>\n",
       "      <th>mean</th>\n",
       "      <td>0.645903</td>\n",
       "      <td>-0.217650</td>\n",
       "      <td>0.989217</td>\n",
       "      <td>0.015352</td>\n",
       "      <td>-0.000973</td>\n",
       "      <td>-0.005411</td>\n",
       "      <td>-8.634630</td>\n",
       "      <td>44.144066</td>\n",
       "      <td>188.631323</td>\n",
       "      <td>-0.143357</td>\n",
       "      <td>-0.549473</td>\n",
       "      <td>0.502353</td>\n",
       "      <td>0.705837</td>\n",
       "      <td>160.187743</td>\n",
       "    </tr>\n",
       "    <tr>\n",
       "      <th>std</th>\n",
       "      <td>46.190426</td>\n",
       "      <td>30.474136</td>\n",
       "      <td>41.713982</td>\n",
       "      <td>0.071285</td>\n",
       "      <td>0.083417</td>\n",
       "      <td>0.066256</td>\n",
       "      <td>26.554959</td>\n",
       "      <td>35.626979</td>\n",
       "      <td>87.881588</td>\n",
       "      <td>0.415015</td>\n",
       "      <td>0.385081</td>\n",
       "      <td>0.321684</td>\n",
       "      <td>0.455688</td>\n",
       "      <td>226.690364</td>\n",
       "    </tr>\n",
       "    <tr>\n",
       "      <th>min</th>\n",
       "      <td>-252.560976</td>\n",
       "      <td>-214.756098</td>\n",
       "      <td>-204.512195</td>\n",
       "      <td>-0.414795</td>\n",
       "      <td>-0.616211</td>\n",
       "      <td>-0.527832</td>\n",
       "      <td>-66.000000</td>\n",
       "      <td>-74.000000</td>\n",
       "      <td>0.000000</td>\n",
       "      <td>-0.919678</td>\n",
       "      <td>-0.999512</td>\n",
       "      <td>-0.965576</td>\n",
       "      <td>0.000000</td>\n",
       "      <td>0.000000</td>\n",
       "    </tr>\n",
       "    <tr>\n",
       "      <th>25%</th>\n",
       "      <td>-12.865854</td>\n",
       "      <td>-7.576220</td>\n",
       "      <td>-10.914634</td>\n",
       "      <td>-0.011230</td>\n",
       "      <td>-0.031982</td>\n",
       "      <td>-0.027588</td>\n",
       "      <td>-30.000000</td>\n",
       "      <td>25.000000</td>\n",
       "      <td>111.000000</td>\n",
       "      <td>-0.505127</td>\n",
       "      <td>-0.813477</td>\n",
       "      <td>0.342224</td>\n",
       "      <td>0.000000</td>\n",
       "      <td>9.000000</td>\n",
       "    </tr>\n",
       "    <tr>\n",
       "      <th>50%</th>\n",
       "      <td>0.304878</td>\n",
       "      <td>0.426829</td>\n",
       "      <td>-0.182927</td>\n",
       "      <td>0.006836</td>\n",
       "      <td>0.000000</td>\n",
       "      <td>-0.001709</td>\n",
       "      <td>-4.000000</td>\n",
       "      <td>49.000000</td>\n",
       "      <td>210.000000</td>\n",
       "      <td>-0.087646</td>\n",
       "      <td>-0.684692</td>\n",
       "      <td>0.587646</td>\n",
       "      <td>1.000000</td>\n",
       "      <td>20.000000</td>\n",
       "    </tr>\n",
       "    <tr>\n",
       "      <th>75%</th>\n",
       "      <td>16.051829</td>\n",
       "      <td>7.621951</td>\n",
       "      <td>11.219512</td>\n",
       "      <td>0.042236</td>\n",
       "      <td>0.030273</td>\n",
       "      <td>0.018555</td>\n",
       "      <td>6.000000</td>\n",
       "      <td>64.000000</td>\n",
       "      <td>256.000000</td>\n",
       "      <td>0.109619</td>\n",
       "      <td>-0.353027</td>\n",
       "      <td>0.703918</td>\n",
       "      <td>1.000000</td>\n",
       "      <td>503.000000</td>\n",
       "    </tr>\n",
       "    <tr>\n",
       "      <th>max</th>\n",
       "      <td>477.012195</td>\n",
       "      <td>276.829268</td>\n",
       "      <td>202.682927</td>\n",
       "      <td>0.616943</td>\n",
       "      <td>0.559570</td>\n",
       "      <td>0.521240</td>\n",
       "      <td>84.000000</td>\n",
       "      <td>166.000000</td>\n",
       "      <td>359.000000</td>\n",
       "      <td>0.995117</td>\n",
       "      <td>0.699219</td>\n",
       "      <td>0.998047</td>\n",
       "      <td>1.000000</td>\n",
       "      <td>522.000000</td>\n",
       "    </tr>\n",
       "  </tbody>\n",
       "</table>\n",
       "</div>"
      ],
      "text/plain": [
       "             rotR_x        rotR_y        rotR_z         acc_x         acc_y  \\\n",
       "count  10280.000000  10280.000000  10280.000000  10280.000000  10280.000000   \n",
       "mean       0.645903     -0.217650      0.989217      0.015352     -0.000973   \n",
       "std       46.190426     30.474136     41.713982      0.071285      0.083417   \n",
       "min     -252.560976   -214.756098   -204.512195     -0.414795     -0.616211   \n",
       "25%      -12.865854     -7.576220    -10.914634     -0.011230     -0.031982   \n",
       "50%        0.304878      0.426829     -0.182927      0.006836      0.000000   \n",
       "75%       16.051829      7.621951     11.219512      0.042236      0.030273   \n",
       "max      477.012195    276.829268    202.682927      0.616943      0.559570   \n",
       "\n",
       "              acc_z          or_x          or_y          or_z        grav_x  \\\n",
       "count  10280.000000  10280.000000  10280.000000  10280.000000  10280.000000   \n",
       "mean      -0.005411     -8.634630     44.144066    188.631323     -0.143357   \n",
       "std        0.066256     26.554959     35.626979     87.881588      0.415015   \n",
       "min       -0.527832    -66.000000    -74.000000      0.000000     -0.919678   \n",
       "25%       -0.027588    -30.000000     25.000000    111.000000     -0.505127   \n",
       "50%       -0.001709     -4.000000     49.000000    210.000000     -0.087646   \n",
       "75%        0.018555      6.000000     64.000000    256.000000      0.109619   \n",
       "max        0.521240     84.000000    166.000000    359.000000      0.995117   \n",
       "\n",
       "             grav_y        grav_z         label    action_num  \n",
       "count  10280.000000  10280.000000  10280.000000  10280.000000  \n",
       "mean      -0.549473      0.502353      0.705837    160.187743  \n",
       "std        0.385081      0.321684      0.455688    226.690364  \n",
       "min       -0.999512     -0.965576      0.000000      0.000000  \n",
       "25%       -0.813477      0.342224      0.000000      9.000000  \n",
       "50%       -0.684692      0.587646      1.000000     20.000000  \n",
       "75%       -0.353027      0.703918      1.000000    503.000000  \n",
       "max        0.699219      0.998047      1.000000    522.000000  "
      ]
     },
     "execution_count": 94,
     "metadata": {},
     "output_type": "execute_result"
    }
   ],
   "source": [
    "df_all.describe()"
   ]
  },
  {
   "cell_type": "code",
   "execution_count": 95,
   "metadata": {},
   "outputs": [
    {
     "data": {
      "text/plain": [
       "7256"
      ]
     },
     "execution_count": 95,
     "metadata": {},
     "output_type": "execute_result"
    }
   ],
   "source": [
    "(df_all.label == 1).sum()"
   ]
  },
  {
   "attachments": {},
   "cell_type": "markdown",
   "metadata": {},
   "source": [
    "## Missig Data"
   ]
  },
  {
   "cell_type": "code",
   "execution_count": 96,
   "metadata": {},
   "outputs": [
    {
     "data": {
      "text/plain": [
       "rotR_x        0\n",
       "rotR_y        0\n",
       "rotR_z        0\n",
       "acc_x         0\n",
       "acc_y         0\n",
       "acc_z         0\n",
       "or_x          0\n",
       "or_y          0\n",
       "or_z          0\n",
       "grav_x        0\n",
       "grav_y        0\n",
       "grav_z        0\n",
       "action        0\n",
       "label         0\n",
       "action_num    0\n",
       "dtype: int64"
      ]
     },
     "execution_count": 96,
     "metadata": {},
     "output_type": "execute_result"
    }
   ],
   "source": [
    "pd.isna(df_all).sum()"
   ]
  },
  {
   "attachments": {},
   "cell_type": "markdown",
   "metadata": {},
   "source": [
    "##  Class Balance"
   ]
  },
  {
   "cell_type": "code",
   "execution_count": 97,
   "metadata": {},
   "outputs": [
    {
     "data": {
      "image/png": "[encoded data removed]",
      "text/plain": [
       "<Figure size 640x480 with 1 Axes>"
      ]
     },
     "metadata": {},
     "output_type": "display_data"
    }
   ],
   "source": [
    "plt.title('Size of each class')\n",
    "plt.xlabel('activity label')\n",
    "plt.hist(df_all.label,rwidth=1)\n",
    "plt.xticks([0,1]);"
   ]
  },
  {
   "cell_type": "code",
   "execution_count": 98,
   "metadata": {},
   "outputs": [
    {
     "data": {
      "text/plain": [
       "54"
      ]
     },
     "execution_count": 98,
     "metadata": {},
     "output_type": "execute_result"
    }
   ],
   "source": [
    "len(df_all.action_num.unique())"
   ]
  },
  {
   "cell_type": "code",
   "execution_count": 99,
   "metadata": {},
   "outputs": [
    {
     "data": {
      "text/plain": [
       "<Figure size 640x480 with 0 Axes>"
      ]
     },
     "metadata": {},
     "output_type": "display_data"
    },
    {
     "data": {
      "image/png": "[encoded data removed]",
      "text/plain": [
       "<Figure size 1500x500 with 1 Axes>"
      ]
     },
     "metadata": {},
     "output_type": "display_data"
    }
   ],
   "source": [
    "### Length of time series\n",
    "action_num_list = df_all.action_num.unique()\n",
    "series_length = list()\n",
    "for act in action_num_list:\n",
    "    series_length.append(df_all[(df_all.action_num == act)].shape[0])\n",
    "plt.figure(2)\n",
    "plt.figure(figsize=(15,5))\n",
    "plt.title('Histogram of length of raw time series')\n",
    "plt.hist(series_length,bins=len(action_num_list),rwidth=0.2,align='left');\n",
    "#plt.xlim(0,350)\n",
    "plt.xlabel(\"size of each observation\")\n",
    "plt.ylabel(\"number of observation with same length\");"
   ]
  },
  {
   "cell_type": "code",
   "execution_count": 100,
   "metadata": {},
   "outputs": [],
   "source": [
    "# There is too small and too large datasets\n",
    "# lets analyze which is which\n",
    "action_num_list = df_all.action_num.unique()\n",
    "each_series_length = list()\n",
    "for act in action_num_list:\n",
    "    each_series_length.append((df_all[(df_all.action_num == act)].shape[0],act))\n",
    "each_series_length.sort()"
   ]
  },
  {
   "cell_type": "code",
   "execution_count": 101,
   "metadata": {},
   "outputs": [
    {
     "data": {
      "text/plain": [
       "(584, 4)"
      ]
     },
     "execution_count": 101,
     "metadata": {},
     "output_type": "execute_result"
    }
   ],
   "source": [
    "each_series_length[-1]"
   ]
  },
  {
   "cell_type": "code",
   "execution_count": 102,
   "metadata": {},
   "outputs": [
    {
     "name": "stdout",
     "output_type": "stream",
     "text": [
      "The largest dataset size is 584 with name: t_sit_hold_DrinkCup_10ml_1s_right\n"
     ]
    }
   ],
   "source": [
    "#check the largest dataset\n",
    "dataset_name = df_all[df_all.action_num == each_series_length[-1][1]].action.unique()[0]\n",
    "print(f\"The largest dataset size is {each_series_length[-1][0]} with name: {dataset_name}\")"
   ]
  },
  {
   "cell_type": "code",
   "execution_count": 103,
   "metadata": {},
   "outputs": [
    {
     "name": "stdout",
     "output_type": "stream",
     "text": [
      "The largest dataset size is:38 with name f_sit_front_EatFood_2sec_right\n"
     ]
    }
   ],
   "source": [
    "#check the smallest datasets\n",
    "dataset_name = df_all[df_all.action_num == each_series_length[0][1]].action.unique()[0]\n",
    "print(f\"The shortest dataset size is:{each_series_length[0][0]} with name {dataset_name}\")\n"
   ]
  },
  {
   "cell_type": "code",
   "execution_count": 104,
   "metadata": {},
   "outputs": [],
   "source": [
    "# drop the largest dataset\n",
    "df_all = df_all[df_all.action_num != each_series_length[-1][1]]"
   ]
  },
  {
   "cell_type": "code",
   "execution_count": 105,
   "metadata": {},
   "outputs": [
    {
     "data": {
      "text/plain": [
       "<Figure size 640x480 with 0 Axes>"
      ]
     },
     "metadata": {},
     "output_type": "display_data"
    },
    {
     "data": {
      "image/png": "[encoded data removed]",
      "text/plain": [
       "<Figure size 1500x500 with 1 Axes>"
      ]
     },
     "metadata": {},
     "output_type": "display_data"
    }
   ],
   "source": [
    "### Length of time series\n",
    "action_num_list = df_all.action_num.unique()\n",
    "series_length = list()\n",
    "for act in action_num_list:\n",
    "    series_length.append(df_all[(df_all.action_num == act)].shape[0])\n",
    "plt.figure(2)\n",
    "plt.figure(figsize=(15,5))\n",
    "plt.title('Histogram of length of raw time series')\n",
    "plt.hist(series_length,bins=len(action_num_list),rwidth=0.2,align='left');\n",
    "#plt.xlim(0,350)\n",
    "plt.xlabel(\"size of each observation\")\n",
    "plt.ylabel(\"number of observation with same length\");"
   ]
  },
  {
   "attachments": {},
   "cell_type": "markdown",
   "metadata": {},
   "source": [
    "### Conclusion"
   ]
  },
  {
   "attachments": {},
   "cell_type": "markdown",
   "metadata": {},
   "source": [
    "From above analysis\n",
    "\n",
    "1. This dataset raised concern on class imbalance. --> make sure to consider same number of  f and t dataset \n",
    "2. The distribution of time-series length is broad. --> average dataset size should be around 200 - 300 (4sec to 6sec)"
   ]
  },
  {
   "attachments": {},
   "cell_type": "markdown",
   "metadata": {},
   "source": [
    "## Feature engineering"
   ]
  },
  {
   "cell_type": "code",
   "execution_count": 106,
   "metadata": {},
   "outputs": [],
   "source": [
    "df_all.insert(0, 'accel_x', df_all.acc_x + df_all.grav_x)\n",
    "df_all.insert(1, 'accel_y', df_all.acc_y + df_all.grav_y)\n",
    "df_all.insert(2, 'accel_z', df_all.acc_z + df_all.grav_z)\n",
    "df_all.insert(3, 'accel_norm', np.sqrt(df_all.accel_x**2 + df_all.accel_y**2 + df_all.accel_z**2))"
   ]
  },
  {
   "cell_type": "code",
   "execution_count": 107,
   "metadata": {},
   "outputs": [],
   "source": [
    "df_all = df_all.drop(['or_x', 'or_y', 'or_z', 'grav_x', 'grav_y', 'grav_z', 'acc_x', 'acc_y', 'acc_z'], axis=1)"
   ]
  },
  {
   "cell_type": "code",
   "execution_count": 108,
   "metadata": {},
   "outputs": [
    {
     "data": {
      "text/html": [
       "<div>\n",
       "<style scoped>\n",
       "    .dataframe tbody tr th:only-of-type {\n",
       "        vertical-align: middle;\n",
       "    }\n",
       "\n",
       "    .dataframe tbody tr th {\n",
       "        vertical-align: top;\n",
       "    }\n",
       "\n",
       "    .dataframe thead th {\n",
       "        text-align: right;\n",
       "    }\n",
       "</style>\n",
       "<table border=\"1\" class=\"dataframe\">\n",
       "  <thead>\n",
       "    <tr style=\"text-align: right;\">\n",
       "      <th></th>\n",
       "      <th>accel_x</th>\n",
       "      <th>accel_y</th>\n",
       "      <th>accel_z</th>\n",
       "      <th>accel_norm</th>\n",
       "      <th>rotR_x</th>\n",
       "      <th>rotR_y</th>\n",
       "      <th>rotR_z</th>\n",
       "      <th>action</th>\n",
       "      <th>label</th>\n",
       "      <th>action_num</th>\n",
       "    </tr>\n",
       "    <tr>\n",
       "      <th>time</th>\n",
       "      <th></th>\n",
       "      <th></th>\n",
       "      <th></th>\n",
       "      <th></th>\n",
       "      <th></th>\n",
       "      <th></th>\n",
       "      <th></th>\n",
       "      <th></th>\n",
       "      <th></th>\n",
       "      <th></th>\n",
       "    </tr>\n",
       "  </thead>\n",
       "  <tbody>\n",
       "    <tr>\n",
       "      <th>0</th>\n",
       "      <td>0.299561</td>\n",
       "      <td>-0.875488</td>\n",
       "      <td>0.345947</td>\n",
       "      <td>0.987874</td>\n",
       "      <td>1.219512</td>\n",
       "      <td>0.182927</td>\n",
       "      <td>2.317073</td>\n",
       "      <td>t_stand_front_drinksmallcup_10ml_1s_left</td>\n",
       "      <td>1</td>\n",
       "      <td>0</td>\n",
       "    </tr>\n",
       "    <tr>\n",
       "      <th>1</th>\n",
       "      <td>0.304199</td>\n",
       "      <td>-0.886475</td>\n",
       "      <td>0.342529</td>\n",
       "      <td>0.997848</td>\n",
       "      <td>-0.426829</td>\n",
       "      <td>-0.304878</td>\n",
       "      <td>2.987805</td>\n",
       "      <td>t_stand_front_drinksmallcup_10ml_1s_left</td>\n",
       "      <td>1</td>\n",
       "      <td>0</td>\n",
       "    </tr>\n",
       "    <tr>\n",
       "      <th>2</th>\n",
       "      <td>0.302734</td>\n",
       "      <td>-0.875488</td>\n",
       "      <td>0.349121</td>\n",
       "      <td>0.989956</td>\n",
       "      <td>-0.975610</td>\n",
       "      <td>0.304878</td>\n",
       "      <td>3.597561</td>\n",
       "      <td>t_stand_front_drinksmallcup_10ml_1s_left</td>\n",
       "      <td>1</td>\n",
       "      <td>0</td>\n",
       "    </tr>\n",
       "    <tr>\n",
       "      <th>3</th>\n",
       "      <td>0.303223</td>\n",
       "      <td>-0.885010</td>\n",
       "      <td>0.330811</td>\n",
       "      <td>0.992281</td>\n",
       "      <td>-3.902439</td>\n",
       "      <td>2.682927</td>\n",
       "      <td>4.085366</td>\n",
       "      <td>t_stand_front_drinksmallcup_10ml_1s_left</td>\n",
       "      <td>1</td>\n",
       "      <td>0</td>\n",
       "    </tr>\n",
       "    <tr>\n",
       "      <th>4</th>\n",
       "      <td>0.294922</td>\n",
       "      <td>-0.868896</td>\n",
       "      <td>0.339355</td>\n",
       "      <td>0.978326</td>\n",
       "      <td>-11.341463</td>\n",
       "      <td>5.609756</td>\n",
       "      <td>-0.548780</td>\n",
       "      <td>t_stand_front_drinksmallcup_10ml_1s_left</td>\n",
       "      <td>1</td>\n",
       "      <td>0</td>\n",
       "    </tr>\n",
       "    <tr>\n",
       "      <th>...</th>\n",
       "      <td>...</td>\n",
       "      <td>...</td>\n",
       "      <td>...</td>\n",
       "      <td>...</td>\n",
       "      <td>...</td>\n",
       "      <td>...</td>\n",
       "      <td>...</td>\n",
       "      <td>...</td>\n",
       "      <td>...</td>\n",
       "      <td>...</td>\n",
       "    </tr>\n",
       "    <tr>\n",
       "      <th>163</th>\n",
       "      <td>-0.178223</td>\n",
       "      <td>-0.979492</td>\n",
       "      <td>0.160156</td>\n",
       "      <td>1.008374</td>\n",
       "      <td>-2.500000</td>\n",
       "      <td>0.609756</td>\n",
       "      <td>3.048780</td>\n",
       "      <td>t_stand_hold_drinksmallcup_10ml_1s_hold</td>\n",
       "      <td>1</td>\n",
       "      <td>30</td>\n",
       "    </tr>\n",
       "    <tr>\n",
       "      <th>164</th>\n",
       "      <td>-0.185303</td>\n",
       "      <td>-0.959473</td>\n",
       "      <td>0.166016</td>\n",
       "      <td>0.991204</td>\n",
       "      <td>-0.548780</td>\n",
       "      <td>1.585366</td>\n",
       "      <td>2.804878</td>\n",
       "      <td>t_stand_hold_drinksmallcup_10ml_1s_hold</td>\n",
       "      <td>1</td>\n",
       "      <td>30</td>\n",
       "    </tr>\n",
       "    <tr>\n",
       "      <th>165</th>\n",
       "      <td>-0.186768</td>\n",
       "      <td>-0.964355</td>\n",
       "      <td>0.162842</td>\n",
       "      <td>0.995681</td>\n",
       "      <td>-0.609756</td>\n",
       "      <td>1.829268</td>\n",
       "      <td>2.012195</td>\n",
       "      <td>t_stand_hold_drinksmallcup_10ml_1s_hold</td>\n",
       "      <td>1</td>\n",
       "      <td>30</td>\n",
       "    </tr>\n",
       "    <tr>\n",
       "      <th>166</th>\n",
       "      <td>-0.191406</td>\n",
       "      <td>-0.958008</td>\n",
       "      <td>0.160889</td>\n",
       "      <td>0.990101</td>\n",
       "      <td>0.182927</td>\n",
       "      <td>1.707317</td>\n",
       "      <td>1.158537</td>\n",
       "      <td>t_stand_hold_drinksmallcup_10ml_1s_hold</td>\n",
       "      <td>1</td>\n",
       "      <td>30</td>\n",
       "    </tr>\n",
       "    <tr>\n",
       "      <th>167</th>\n",
       "      <td>-0.187500</td>\n",
       "      <td>-0.964600</td>\n",
       "      <td>0.161621</td>\n",
       "      <td>0.995856</td>\n",
       "      <td>1.219512</td>\n",
       "      <td>2.195122</td>\n",
       "      <td>-0.914634</td>\n",
       "      <td>t_stand_hold_drinksmallcup_10ml_1s_hold</td>\n",
       "      <td>1</td>\n",
       "      <td>30</td>\n",
       "    </tr>\n",
       "  </tbody>\n",
       "</table>\n",
       "<p>9696 rows × 10 columns</p>\n",
       "</div>"
      ],
      "text/plain": [
       "       accel_x   accel_y   accel_z  accel_norm     rotR_x    rotR_y    rotR_z  \\\n",
       "time                                                                            \n",
       "0     0.299561 -0.875488  0.345947    0.987874   1.219512  0.182927  2.317073   \n",
       "1     0.304199 -0.886475  0.342529    0.997848  -0.426829 -0.304878  2.987805   \n",
       "2     0.302734 -0.875488  0.349121    0.989956  -0.975610  0.304878  3.597561   \n",
       "3     0.303223 -0.885010  0.330811    0.992281  -3.902439  2.682927  4.085366   \n",
       "4     0.294922 -0.868896  0.339355    0.978326 -11.341463  5.609756 -0.548780   \n",
       "...        ...       ...       ...         ...        ...       ...       ...   \n",
       "163  -0.178223 -0.979492  0.160156    1.008374  -2.500000  0.609756  3.048780   \n",
       "164  -0.185303 -0.959473  0.166016    0.991204  -0.548780  1.585366  2.804878   \n",
       "165  -0.186768 -0.964355  0.162842    0.995681  -0.609756  1.829268  2.012195   \n",
       "166  -0.191406 -0.958008  0.160889    0.990101   0.182927  1.707317  1.158537   \n",
       "167  -0.187500 -0.964600  0.161621    0.995856   1.219512  2.195122 -0.914634   \n",
       "\n",
       "                                        action  label  action_num  \n",
       "time                                                               \n",
       "0     t_stand_front_drinksmallcup_10ml_1s_left      1           0  \n",
       "1     t_stand_front_drinksmallcup_10ml_1s_left      1           0  \n",
       "2     t_stand_front_drinksmallcup_10ml_1s_left      1           0  \n",
       "3     t_stand_front_drinksmallcup_10ml_1s_left      1           0  \n",
       "4     t_stand_front_drinksmallcup_10ml_1s_left      1           0  \n",
       "...                                        ...    ...         ...  \n",
       "163    t_stand_hold_drinksmallcup_10ml_1s_hold      1          30  \n",
       "164    t_stand_hold_drinksmallcup_10ml_1s_hold      1          30  \n",
       "165    t_stand_hold_drinksmallcup_10ml_1s_hold      1          30  \n",
       "166    t_stand_hold_drinksmallcup_10ml_1s_hold      1          30  \n",
       "167    t_stand_hold_drinksmallcup_10ml_1s_hold      1          30  \n",
       "\n",
       "[9696 rows x 10 columns]"
      ]
     },
     "execution_count": 108,
     "metadata": {},
     "output_type": "execute_result"
    }
   ],
   "source": [
    "df_all"
   ]
  },
  {
   "attachments": {},
   "cell_type": "markdown",
   "metadata": {},
   "source": [
    "## Data Splitting"
   ]
  },
  {
   "cell_type": "code",
   "execution_count": 109,
   "metadata": {},
   "outputs": [],
   "source": [
    "num_t_ds = len(df_all.query(\"action_num < @START_F_COUNT\").action.unique())\n",
    "num_f_ds = len(df_all.query(\"action_num >= @START_F_COUNT\").action.unique())\n",
    "\n",
    "num_train_t = round(num_t_ds * SPLIT_T_RATIO)\n",
    "num_train_f = round(num_f_ds * SPLIT_T_RATIO)\n",
    "\n",
    "train_df = df_all[(df_all.action_num.between(START_T_COUNT,START_T_COUNT+num_train_t,inclusive=\"both\"))|\n",
    "                  (df_all.action_num.between(START_F_COUNT,START_F_COUNT+num_train_f,inclusive=\"both\"))]\n",
    "\n",
    "test_df = df_all[(df_all.action_num.between(START_T_COUNT+num_train_t,START_F_COUNT,inclusive=\"neither\"))|\n",
    "                  (df_all.action_num > START_F_COUNT+num_train_f)]"
   ]
  },
  {
   "cell_type": "code",
   "execution_count": 110,
   "metadata": {},
   "outputs": [
    {
     "data": {
      "text/plain": [
       "38"
      ]
     },
     "execution_count": 110,
     "metadata": {},
     "output_type": "execute_result"
    }
   ],
   "source": [
    "len(train_df.action_num.unique())"
   ]
  },
  {
   "cell_type": "code",
   "execution_count": 111,
   "metadata": {},
   "outputs": [
    {
     "data": {
      "text/plain": [
       "15"
      ]
     },
     "execution_count": 111,
     "metadata": {},
     "output_type": "execute_result"
    }
   ],
   "source": [
    "len(test_df.action_num.unique())"
   ]
  },
  {
   "attachments": {},
   "cell_type": "markdown",
   "metadata": {},
   "source": [
    "## Modeling"
   ]
  },
  {
   "cell_type": "code",
   "execution_count": 112,
   "metadata": {},
   "outputs": [
    {
     "data": {
      "text/html": [
       "<div>\n",
       "<style scoped>\n",
       "    .dataframe tbody tr th:only-of-type {\n",
       "        vertical-align: middle;\n",
       "    }\n",
       "\n",
       "    .dataframe tbody tr th {\n",
       "        vertical-align: top;\n",
       "    }\n",
       "\n",
       "    .dataframe thead th {\n",
       "        text-align: right;\n",
       "    }\n",
       "</style>\n",
       "<table border=\"1\" class=\"dataframe\">\n",
       "  <thead>\n",
       "    <tr style=\"text-align: right;\">\n",
       "      <th></th>\n",
       "      <th>accel_x</th>\n",
       "      <th>accel_y</th>\n",
       "      <th>accel_z</th>\n",
       "      <th>accel_norm</th>\n",
       "      <th>rotR_x</th>\n",
       "      <th>rotR_y</th>\n",
       "      <th>rotR_z</th>\n",
       "      <th>action</th>\n",
       "      <th>label</th>\n",
       "      <th>action_num</th>\n",
       "    </tr>\n",
       "    <tr>\n",
       "      <th>time</th>\n",
       "      <th></th>\n",
       "      <th></th>\n",
       "      <th></th>\n",
       "      <th></th>\n",
       "      <th></th>\n",
       "      <th></th>\n",
       "      <th></th>\n",
       "      <th></th>\n",
       "      <th></th>\n",
       "      <th></th>\n",
       "    </tr>\n",
       "  </thead>\n",
       "  <tbody>\n",
       "    <tr>\n",
       "      <th>95</th>\n",
       "      <td>-0.703613</td>\n",
       "      <td>0.327881</td>\n",
       "      <td>0.824463</td>\n",
       "      <td>1.132394</td>\n",
       "      <td>86.890244</td>\n",
       "      <td>29.207317</td>\n",
       "      <td>12.682927</td>\n",
       "      <td>t_sit_left_DrinkBottle_10ml_1s_left</td>\n",
       "      <td>1</td>\n",
       "      <td>5</td>\n",
       "    </tr>\n",
       "    <tr>\n",
       "      <th>176</th>\n",
       "      <td>0.103760</td>\n",
       "      <td>-0.567627</td>\n",
       "      <td>0.785400</td>\n",
       "      <td>0.974587</td>\n",
       "      <td>119.878049</td>\n",
       "      <td>-28.597561</td>\n",
       "      <td>-93.231707</td>\n",
       "      <td>f_stand_hold_EatFood_2sec_front</td>\n",
       "      <td>0</td>\n",
       "      <td>507</td>\n",
       "    </tr>\n",
       "    <tr>\n",
       "      <th>15</th>\n",
       "      <td>-0.448486</td>\n",
       "      <td>-0.496094</td>\n",
       "      <td>0.654053</td>\n",
       "      <td>0.935433</td>\n",
       "      <td>67.500000</td>\n",
       "      <td>43.719512</td>\n",
       "      <td>117.743902</td>\n",
       "      <td>t_stand_hold_DrinkCup_50ml_3s_hold</td>\n",
       "      <td>1</td>\n",
       "      <td>13</td>\n",
       "    </tr>\n",
       "  </tbody>\n",
       "</table>\n",
       "</div>"
      ],
      "text/plain": [
       "       accel_x   accel_y   accel_z  accel_norm      rotR_x     rotR_y  \\\n",
       "time                                                                    \n",
       "95   -0.703613  0.327881  0.824463    1.132394   86.890244  29.207317   \n",
       "176   0.103760 -0.567627  0.785400    0.974587  119.878049 -28.597561   \n",
       "15   -0.448486 -0.496094  0.654053    0.935433   67.500000  43.719512   \n",
       "\n",
       "          rotR_z                               action  label  action_num  \n",
       "time                                                                      \n",
       "95     12.682927  t_sit_left_DrinkBottle_10ml_1s_left      1           5  \n",
       "176   -93.231707      f_stand_hold_EatFood_2sec_front      0         507  \n",
       "15    117.743902   t_stand_hold_DrinkCup_50ml_3s_hold      1          13  "
      ]
     },
     "execution_count": 112,
     "metadata": {},
     "output_type": "execute_result"
    }
   ],
   "source": [
    "train_df.sample(3)"
   ]
  },
  {
   "cell_type": "code",
   "execution_count": 113,
   "metadata": {},
   "outputs": [],
   "source": [
    "X_train = train_df.iloc[:,:-3]\n",
    "y_train = train_df.label\n",
    "\n",
    "X_test = test_df.iloc[:,:-3]\n",
    "y_test = test_df.label"
   ]
  },
  {
   "cell_type": "code",
   "execution_count": 114,
   "metadata": {},
   "outputs": [
    {
     "data": {
      "text/html": [
       "<div>\n",
       "<style scoped>\n",
       "    .dataframe tbody tr th:only-of-type {\n",
       "        vertical-align: middle;\n",
       "    }\n",
       "\n",
       "    .dataframe tbody tr th {\n",
       "        vertical-align: top;\n",
       "    }\n",
       "\n",
       "    .dataframe thead th {\n",
       "        text-align: right;\n",
       "    }\n",
       "</style>\n",
       "<table border=\"1\" class=\"dataframe\">\n",
       "  <thead>\n",
       "    <tr style=\"text-align: right;\">\n",
       "      <th></th>\n",
       "      <th>accel_x</th>\n",
       "      <th>accel_y</th>\n",
       "      <th>accel_z</th>\n",
       "      <th>accel_norm</th>\n",
       "      <th>rotR_x</th>\n",
       "      <th>rotR_y</th>\n",
       "      <th>rotR_z</th>\n",
       "    </tr>\n",
       "    <tr>\n",
       "      <th>time</th>\n",
       "      <th></th>\n",
       "      <th></th>\n",
       "      <th></th>\n",
       "      <th></th>\n",
       "      <th></th>\n",
       "      <th></th>\n",
       "      <th></th>\n",
       "    </tr>\n",
       "  </thead>\n",
       "  <tbody>\n",
       "    <tr>\n",
       "      <th>0</th>\n",
       "      <td>0.299561</td>\n",
       "      <td>-0.875488</td>\n",
       "      <td>0.345947</td>\n",
       "      <td>0.987874</td>\n",
       "      <td>1.219512</td>\n",
       "      <td>0.182927</td>\n",
       "      <td>2.317073</td>\n",
       "    </tr>\n",
       "    <tr>\n",
       "      <th>1</th>\n",
       "      <td>0.304199</td>\n",
       "      <td>-0.886475</td>\n",
       "      <td>0.342529</td>\n",
       "      <td>0.997848</td>\n",
       "      <td>-0.426829</td>\n",
       "      <td>-0.304878</td>\n",
       "      <td>2.987805</td>\n",
       "    </tr>\n",
       "    <tr>\n",
       "      <th>2</th>\n",
       "      <td>0.302734</td>\n",
       "      <td>-0.875488</td>\n",
       "      <td>0.349121</td>\n",
       "      <td>0.989956</td>\n",
       "      <td>-0.975610</td>\n",
       "      <td>0.304878</td>\n",
       "      <td>3.597561</td>\n",
       "    </tr>\n",
       "    <tr>\n",
       "      <th>3</th>\n",
       "      <td>0.303223</td>\n",
       "      <td>-0.885010</td>\n",
       "      <td>0.330811</td>\n",
       "      <td>0.992281</td>\n",
       "      <td>-3.902439</td>\n",
       "      <td>2.682927</td>\n",
       "      <td>4.085366</td>\n",
       "    </tr>\n",
       "    <tr>\n",
       "      <th>4</th>\n",
       "      <td>0.294922</td>\n",
       "      <td>-0.868896</td>\n",
       "      <td>0.339355</td>\n",
       "      <td>0.978326</td>\n",
       "      <td>-11.341463</td>\n",
       "      <td>5.609756</td>\n",
       "      <td>-0.548780</td>\n",
       "    </tr>\n",
       "    <tr>\n",
       "      <th>...</th>\n",
       "      <td>...</td>\n",
       "      <td>...</td>\n",
       "      <td>...</td>\n",
       "      <td>...</td>\n",
       "      <td>...</td>\n",
       "      <td>...</td>\n",
       "      <td>...</td>\n",
       "    </tr>\n",
       "    <tr>\n",
       "      <th>214</th>\n",
       "      <td>0.237061</td>\n",
       "      <td>-0.446777</td>\n",
       "      <td>0.872314</td>\n",
       "      <td>1.008335</td>\n",
       "      <td>-10.000000</td>\n",
       "      <td>1.341463</td>\n",
       "      <td>8.292683</td>\n",
       "    </tr>\n",
       "    <tr>\n",
       "      <th>215</th>\n",
       "      <td>0.242920</td>\n",
       "      <td>-0.456299</td>\n",
       "      <td>0.864990</td>\n",
       "      <td>1.007684</td>\n",
       "      <td>-4.268293</td>\n",
       "      <td>2.134146</td>\n",
       "      <td>7.682927</td>\n",
       "    </tr>\n",
       "    <tr>\n",
       "      <th>216</th>\n",
       "      <td>0.234863</td>\n",
       "      <td>-0.425293</td>\n",
       "      <td>0.869385</td>\n",
       "      <td>0.995924</td>\n",
       "      <td>0.487805</td>\n",
       "      <td>5.304878</td>\n",
       "      <td>6.158537</td>\n",
       "    </tr>\n",
       "    <tr>\n",
       "      <th>217</th>\n",
       "      <td>0.234863</td>\n",
       "      <td>-0.425293</td>\n",
       "      <td>0.869385</td>\n",
       "      <td>0.995924</td>\n",
       "      <td>0.487805</td>\n",
       "      <td>5.304878</td>\n",
       "      <td>6.158537</td>\n",
       "    </tr>\n",
       "    <tr>\n",
       "      <th>218</th>\n",
       "      <td>0.220947</td>\n",
       "      <td>-0.428467</td>\n",
       "      <td>0.869385</td>\n",
       "      <td>0.994098</td>\n",
       "      <td>-7.439024</td>\n",
       "      <td>-0.792683</td>\n",
       "      <td>3.902439</td>\n",
       "    </tr>\n",
       "  </tbody>\n",
       "</table>\n",
       "<p>7073 rows × 7 columns</p>\n",
       "</div>"
      ],
      "text/plain": [
       "       accel_x   accel_y   accel_z  accel_norm     rotR_x    rotR_y    rotR_z\n",
       "time                                                                         \n",
       "0     0.299561 -0.875488  0.345947    0.987874   1.219512  0.182927  2.317073\n",
       "1     0.304199 -0.886475  0.342529    0.997848  -0.426829 -0.304878  2.987805\n",
       "2     0.302734 -0.875488  0.349121    0.989956  -0.975610  0.304878  3.597561\n",
       "3     0.303223 -0.885010  0.330811    0.992281  -3.902439  2.682927  4.085366\n",
       "4     0.294922 -0.868896  0.339355    0.978326 -11.341463  5.609756 -0.548780\n",
       "...        ...       ...       ...         ...        ...       ...       ...\n",
       "214   0.237061 -0.446777  0.872314    1.008335 -10.000000  1.341463  8.292683\n",
       "215   0.242920 -0.456299  0.864990    1.007684  -4.268293  2.134146  7.682927\n",
       "216   0.234863 -0.425293  0.869385    0.995924   0.487805  5.304878  6.158537\n",
       "217   0.234863 -0.425293  0.869385    0.995924   0.487805  5.304878  6.158537\n",
       "218   0.220947 -0.428467  0.869385    0.994098  -7.439024 -0.792683  3.902439\n",
       "\n",
       "[7073 rows x 7 columns]"
      ]
     },
     "execution_count": 114,
     "metadata": {},
     "output_type": "execute_result"
    }
   ],
   "source": [
    "X_train"
   ]
  },
  {
   "attachments": {},
   "cell_type": "markdown",
   "metadata": {},
   "source": [
    "### DecisionTreeClassifier (baseline)"
   ]
  },
  {
   "cell_type": "code",
   "execution_count": 115,
   "metadata": {},
   "outputs": [
    {
     "data": {
      "text/html": [
       "<style>#sk-container-id-5 {color: black;background-color: white;}#sk-container-id-5 pre{padding: 0;}#sk-container-id-5 div.sk-toggleable {background-color: white;}#sk-container-id-5 label.sk-toggleable__label {cursor: pointer;display: block;width: 100%;margin-bottom: 0;padding: 0.3em;box-sizing: border-box;text-align: center;}#sk-container-id-5 label.sk-toggleable__label-arrow:before {content: \"▸\";float: left;margin-right: 0.25em;color: #696969;}#sk-container-id-5 label.sk-toggleable__label-arrow:hover:before {color: black;}#sk-container-id-5 div.sk-estimator:hover label.sk-toggleable__label-arrow:before {color: black;}#sk-container-id-5 div.sk-toggleable__content {max-height: 0;max-width: 0;overflow: hidden;text-align: left;background-color: #f0f8ff;}#sk-container-id-5 div.sk-toggleable__content pre {margin: 0.2em;color: black;border-radius: 0.25em;background-color: #f0f8ff;}#sk-container-id-5 input.sk-toggleable__control:checked~div.sk-toggleable__content {max-height: 200px;max-width: 100%;overflow: auto;}#sk-container-id-5 input.sk-toggleable__control:checked~label.sk-toggleable__label-arrow:before {content: \"▾\";}#sk-container-id-5 div.sk-estimator input.sk-toggleable__control:checked~label.sk-toggleable__label {background-color: #d4ebff;}#sk-container-id-5 div.sk-label input.sk-toggleable__control:checked~label.sk-toggleable__label {background-color: #d4ebff;}#sk-container-id-5 input.sk-hidden--visually {border: 0;clip: rect(1px 1px 1px 1px);clip: rect(1px, 1px, 1px, 1px);height: 1px;margin: -1px;overflow: hidden;padding: 0;position: absolute;width: 1px;}#sk-container-id-5 div.sk-estimator {font-family: monospace;background-color: #f0f8ff;border: 1px dotted black;border-radius: 0.25em;box-sizing: border-box;margin-bottom: 0.5em;}#sk-container-id-5 div.sk-estimator:hover {background-color: #d4ebff;}#sk-container-id-5 div.sk-parallel-item::after {content: \"\";width: 100%;border-bottom: 1px solid gray;flex-grow: 1;}#sk-container-id-5 div.sk-label:hover label.sk-toggleable__label {background-color: #d4ebff;}#sk-container-id-5 div.sk-serial::before {content: \"\";position: absolute;border-left: 1px solid gray;box-sizing: border-box;top: 0;bottom: 0;left: 50%;z-index: 0;}#sk-container-id-5 div.sk-serial {display: flex;flex-direction: column;align-items: center;background-color: white;padding-right: 0.2em;padding-left: 0.2em;position: relative;}#sk-container-id-5 div.sk-item {position: relative;z-index: 1;}#sk-container-id-5 div.sk-parallel {display: flex;align-items: stretch;justify-content: center;background-color: white;position: relative;}#sk-container-id-5 div.sk-item::before, #sk-container-id-5 div.sk-parallel-item::before {content: \"\";position: absolute;border-left: 1px solid gray;box-sizing: border-box;top: 0;bottom: 0;left: 50%;z-index: -1;}#sk-container-id-5 div.sk-parallel-item {display: flex;flex-direction: column;z-index: 1;position: relative;background-color: white;}#sk-container-id-5 div.sk-parallel-item:first-child::after {align-self: flex-end;width: 50%;}#sk-container-id-5 div.sk-parallel-item:last-child::after {align-self: flex-start;width: 50%;}#sk-container-id-5 div.sk-parallel-item:only-child::after {width: 0;}#sk-container-id-5 div.sk-dashed-wrapped {border: 1px dashed gray;margin: 0 0.4em 0.5em 0.4em;box-sizing: border-box;padding-bottom: 0.4em;background-color: white;}#sk-container-id-5 div.sk-label label {font-family: monospace;font-weight: bold;display: inline-block;line-height: 1.2em;}#sk-container-id-5 div.sk-label-container {text-align: center;}#sk-container-id-5 div.sk-container {/* jupyter's `normalize.less` sets `[hidden] { display: none; }` but bootstrap.min.css set `[hidden] { display: none !important; }` so we also need the `!important` here to be able to override the default hidden behavior on the sphinx rendered scikit-learn.org. See: https://github.com/scikit-learn/scikit-learn/issues/21755 */display: inline-block !important;position: relative;}#sk-container-id-5 div.sk-text-repr-fallback {display: none;}</style><div id=\"sk-container-id-5\" class=\"sk-top-container\"><div class=\"sk-text-repr-fallback\"><pre>DecisionTreeClassifier(max_depth=4)</pre><b>In a Jupyter environment, please rerun this cell to show the HTML representation or trust the notebook. <br />On GitHub, the HTML representation is unable to render, please try loading this page with nbviewer.org.</b></div><div class=\"sk-container\" hidden><div class=\"sk-item\"><div class=\"sk-estimator sk-toggleable\"><input class=\"sk-toggleable__control sk-hidden--visually\" id=\"sk-estimator-id-5\" type=\"checkbox\" checked><label for=\"sk-estimator-id-5\" class=\"sk-toggleable__label sk-toggleable__label-arrow\">DecisionTreeClassifier</label><div class=\"sk-toggleable__content\"><pre>DecisionTreeClassifier(max_depth=4)</pre></div></div></div></div></div>"
      ],
      "text/plain": [
       "DecisionTreeClassifier(max_depth=4)"
      ]
     },
     "execution_count": 115,
     "metadata": {},
     "output_type": "execute_result"
    }
   ],
   "source": [
    "from sklearn.tree import DecisionTreeClassifier\n",
    "from sklearn.metrics import accuracy_score\n",
    "\n",
    "dtc = DecisionTreeClassifier(max_depth=4)\n",
    "dtc.fit(X_train, y_train)"
   ]
  },
  {
   "cell_type": "code",
   "execution_count": 116,
   "metadata": {},
   "outputs": [
    {
     "data": {
      "text/plain": [
       "0.8054573731090061"
      ]
     },
     "execution_count": 116,
     "metadata": {},
     "output_type": "execute_result"
    }
   ],
   "source": [
    "accuracy_score(y_train,dtc.predict(X_train))"
   ]
  },
  {
   "cell_type": "code",
   "execution_count": 117,
   "metadata": {},
   "outputs": [
    {
     "data": {
      "text/plain": [
       "0.7605794891345787"
      ]
     },
     "execution_count": 117,
     "metadata": {},
     "output_type": "execute_result"
    }
   ],
   "source": [
    "accuracy_score(y_test,dtc.predict(X_test))"
   ]
  },
  {
   "attachments": {},
   "cell_type": "markdown",
   "metadata": {},
   "source": [
    "#### Analyze results"
   ]
  },
  {
   "cell_type": "code",
   "execution_count": 118,
   "metadata": {},
   "outputs": [
    {
     "data": {
      "text/plain": [
       "38"
      ]
     },
     "execution_count": 118,
     "metadata": {},
     "output_type": "execute_result"
    }
   ],
   "source": [
    "len(train_df.action.unique())"
   ]
  },
  {
   "cell_type": "code",
   "execution_count": 119,
   "metadata": {},
   "outputs": [
    {
     "name": "stderr",
     "output_type": "stream",
     "text": [
      "C:\\Users\\Jacqueline\\AppData\\Local\\Temp\\ipykernel_18700\\2135228749.py:2: SettingWithCopyWarning: \n",
      "A value is trying to be set on a copy of a slice from a DataFrame.\n",
      "Try using .loc[row_indexer,col_indexer] = value instead\n",
      "\n",
      "See the caveats in the documentation: https://pandas.pydata.org/pandas-docs/stable/user_guide/indexing.html#returning-a-view-versus-a-copy\n",
      "  train_df_res[\"predict\"] = dtc.predict(X_train)\n"
     ]
    }
   ],
   "source": [
    "train_df_res = train_df[[\"action\",\"action_num\",\"label\"]]\n",
    "train_df_res[\"predict\"] = dtc.predict(X_train)"
   ]
  },
  {
   "cell_type": "code",
   "execution_count": 120,
   "metadata": {},
   "outputs": [
    {
     "name": "stdout",
     "output_type": "stream",
     "text": [
      "t_stand_front_drinksmallcup_10ml_1s_left [1 0]\n",
      "f_sit_hold_EatFood_2sec_front [0 1]\n",
      "t_sit_hold_DrinkCup_10ml_1s_hold [0 1]\n",
      "t_sit_left_DrinkBottle_10ml_1s_hold [0 1]\n",
      "t_stand_right_DrinkBottle_10ml_1s_hold [1 0]\n",
      "f_sit_front_EatFood_2sec_front [0 1]\n",
      "f_stand_front_LookMobile_2sec_front [1 0]\n",
      "t_sit_left_DrinkBottle_10ml_1s_left [0 1]\n",
      "f_stand_hold_EatFood_2sec_left [1 0]\n",
      "t_stand_hold_DrinkBottle_10ml_1s_right [1 0]\n",
      "f_stand_front_EatFood_2sec_hold [0 1]\n",
      "t_stand_left_drinksmallcup_10ml_1s_hold [1 0]\n",
      "t_stand_front_DrinkBottle_10ml_1s_hold [1 0]\n",
      "t_stand_hold_DrinkCup_10ml_1s_right [1]\n",
      "f_stand_hold_LookMobile_2sec_hold [0 1]\n",
      "f_sit_hold_EatFood_2sec_left [0 1]\n",
      "f_stand_hold_EatFood_2sec_front [1 0]\n",
      "t_sit_front_DrinkBottle_10ml_1s_front [0 1]\n",
      "t_stand_hold_DrinkCup_10ml_1s_hold [0 1]\n",
      "t_sit_hold_DrinkCup_10ml_1s_front [1 0]\n",
      "f_sit_right_EatFood_2sec_right [0 1]\n",
      "f_stand_hold_LookMobile_2sec_right [0 1]\n",
      "f_stand_front_EatFood_2sec_right [1 0]\n",
      "t_stand_hold_DrinkCup_50ml_3s_hold [1]\n",
      "f_stand_front_EatFood_2sec_front [1 0]\n",
      "t_stand_hold_DrinkBottle_10ml_1s_left [1 0]\n",
      "f_stand_hold_LookMobile_2sec_left [1 0]\n",
      "t_sit_right_DrinkBottle_10ml_1s_left [0 1]\n",
      "f_stand_front_LookMobile_2sec_hold [0 1]\n",
      "f_sit_hold_LookMobile_2sec_hold [0]\n",
      "t_stand_hold_drinksmallcup_10ml_1s_right [1 0]\n",
      "t_sit_hold_DrinkCup_10ml_1s_left [1]\n",
      "f_stand_front_EatFood_2sec_left [1 0]\n",
      "t_stand_front_drinksmallcup_10ml_1s_right [1 0]\n",
      "t_sit_front_DrinkBottle_10ml_1s_hold [0 1]\n",
      "f_sit_left_EatFood_2sec_left [0 1]\n",
      "t_stand_hold_drinksmallcup_10ml_1s_left [1 0]\n",
      "t_stand_hold_drinksmallcup_10ml_1s_front [1 0]\n"
     ]
    }
   ],
   "source": [
    "for num in train_df_res.action.unique():\n",
    "    print(num,train_df_res.query(\"(action == @num)\").predict.unique())"
   ]
  },
  {
   "attachments": {},
   "cell_type": "markdown",
   "metadata": {},
   "source": [
    "### Random ForestClassifier (baseline)"
   ]
  },
  {
   "cell_type": "code",
   "execution_count": 121,
   "metadata": {},
   "outputs": [
    {
     "data": {
      "text/html": [
       "<style>#sk-container-id-6 {color: black;background-color: white;}#sk-container-id-6 pre{padding: 0;}#sk-container-id-6 div.sk-toggleable {background-color: white;}#sk-container-id-6 label.sk-toggleable__label {cursor: pointer;display: block;width: 100%;margin-bottom: 0;padding: 0.3em;box-sizing: border-box;text-align: center;}#sk-container-id-6 label.sk-toggleable__label-arrow:before {content: \"▸\";float: left;margin-right: 0.25em;color: #696969;}#sk-container-id-6 label.sk-toggleable__label-arrow:hover:before {color: black;}#sk-container-id-6 div.sk-estimator:hover label.sk-toggleable__label-arrow:before {color: black;}#sk-container-id-6 div.sk-toggleable__content {max-height: 0;max-width: 0;overflow: hidden;text-align: left;background-color: #f0f8ff;}#sk-container-id-6 div.sk-toggleable__content pre {margin: 0.2em;color: black;border-radius: 0.25em;background-color: #f0f8ff;}#sk-container-id-6 input.sk-toggleable__control:checked~div.sk-toggleable__content {max-height: 200px;max-width: 100%;overflow: auto;}#sk-container-id-6 input.sk-toggleable__control:checked~label.sk-toggleable__label-arrow:before {content: \"▾\";}#sk-container-id-6 div.sk-estimator input.sk-toggleable__control:checked~label.sk-toggleable__label {background-color: #d4ebff;}#sk-container-id-6 div.sk-label input.sk-toggleable__control:checked~label.sk-toggleable__label {background-color: #d4ebff;}#sk-container-id-6 input.sk-hidden--visually {border: 0;clip: rect(1px 1px 1px 1px);clip: rect(1px, 1px, 1px, 1px);height: 1px;margin: -1px;overflow: hidden;padding: 0;position: absolute;width: 1px;}#sk-container-id-6 div.sk-estimator {font-family: monospace;background-color: #f0f8ff;border: 1px dotted black;border-radius: 0.25em;box-sizing: border-box;margin-bottom: 0.5em;}#sk-container-id-6 div.sk-estimator:hover {background-color: #d4ebff;}#sk-container-id-6 div.sk-parallel-item::after {content: \"\";width: 100%;border-bottom: 1px solid gray;flex-grow: 1;}#sk-container-id-6 div.sk-label:hover label.sk-toggleable__label {background-color: #d4ebff;}#sk-container-id-6 div.sk-serial::before {content: \"\";position: absolute;border-left: 1px solid gray;box-sizing: border-box;top: 0;bottom: 0;left: 50%;z-index: 0;}#sk-container-id-6 div.sk-serial {display: flex;flex-direction: column;align-items: center;background-color: white;padding-right: 0.2em;padding-left: 0.2em;position: relative;}#sk-container-id-6 div.sk-item {position: relative;z-index: 1;}#sk-container-id-6 div.sk-parallel {display: flex;align-items: stretch;justify-content: center;background-color: white;position: relative;}#sk-container-id-6 div.sk-item::before, #sk-container-id-6 div.sk-parallel-item::before {content: \"\";position: absolute;border-left: 1px solid gray;box-sizing: border-box;top: 0;bottom: 0;left: 50%;z-index: -1;}#sk-container-id-6 div.sk-parallel-item {display: flex;flex-direction: column;z-index: 1;position: relative;background-color: white;}#sk-container-id-6 div.sk-parallel-item:first-child::after {align-self: flex-end;width: 50%;}#sk-container-id-6 div.sk-parallel-item:last-child::after {align-self: flex-start;width: 50%;}#sk-container-id-6 div.sk-parallel-item:only-child::after {width: 0;}#sk-container-id-6 div.sk-dashed-wrapped {border: 1px dashed gray;margin: 0 0.4em 0.5em 0.4em;box-sizing: border-box;padding-bottom: 0.4em;background-color: white;}#sk-container-id-6 div.sk-label label {font-family: monospace;font-weight: bold;display: inline-block;line-height: 1.2em;}#sk-container-id-6 div.sk-label-container {text-align: center;}#sk-container-id-6 div.sk-container {/* jupyter's `normalize.less` sets `[hidden] { display: none; }` but bootstrap.min.css set `[hidden] { display: none !important; }` so we also need the `!important` here to be able to override the default hidden behavior on the sphinx rendered scikit-learn.org. See: https://github.com/scikit-learn/scikit-learn/issues/21755 */display: inline-block !important;position: relative;}#sk-container-id-6 div.sk-text-repr-fallback {display: none;}</style><div id=\"sk-container-id-6\" class=\"sk-top-container\"><div class=\"sk-text-repr-fallback\"><pre>RandomForestClassifier(max_depth=4)</pre><b>In a Jupyter environment, please rerun this cell to show the HTML representation or trust the notebook. <br />On GitHub, the HTML representation is unable to render, please try loading this page with nbviewer.org.</b></div><div class=\"sk-container\" hidden><div class=\"sk-item\"><div class=\"sk-estimator sk-toggleable\"><input class=\"sk-toggleable__control sk-hidden--visually\" id=\"sk-estimator-id-6\" type=\"checkbox\" checked><label for=\"sk-estimator-id-6\" class=\"sk-toggleable__label sk-toggleable__label-arrow\">RandomForestClassifier</label><div class=\"sk-toggleable__content\"><pre>RandomForestClassifier(max_depth=4)</pre></div></div></div></div></div>"
      ],
      "text/plain": [
       "RandomForestClassifier(max_depth=4)"
      ]
     },
     "execution_count": 121,
     "metadata": {},
     "output_type": "execute_result"
    }
   ],
   "source": [
    "from sklearn.ensemble import RandomForestClassifier\n",
    "\n",
    "rfc = RandomForestClassifier(n_estimators=100,max_depth=4)\n",
    "rfc.fit(X_train, y_train)"
   ]
  },
  {
   "cell_type": "code",
   "execution_count": 122,
   "metadata": {},
   "outputs": [
    {
     "data": {
      "text/plain": [
       "0.7975399406192564"
      ]
     },
     "execution_count": 122,
     "metadata": {},
     "output_type": "execute_result"
    }
   ],
   "source": [
    "accuracy_score(y_train,rfc.predict(X_train))"
   ]
  },
  {
   "cell_type": "code",
   "execution_count": 123,
   "metadata": {},
   "outputs": [
    {
     "data": {
      "text/plain": [
       "0.7750667174990469"
      ]
     },
     "execution_count": 123,
     "metadata": {},
     "output_type": "execute_result"
    }
   ],
   "source": [
    "accuracy_score(y_test,rfc.predict(X_test))"
   ]
  },
  {
   "attachments": {},
   "cell_type": "markdown",
   "metadata": {},
   "source": [
    "### Neurel Network"
   ]
  },
  {
   "cell_type": "code",
   "execution_count": 246,
   "metadata": {},
   "outputs": [],
   "source": [
    "from tensorflow import keras\n",
    "from tensorflow.keras.models import Sequential,load_model\n",
    "\n",
    "from tensorflow.keras.layers import Dense\n",
    "#from tensorflow.keras.utils import np_utils\n",
    "from tensorflow.keras.callbacks import EarlyStopping,ModelCheckpoint\n",
    "\n",
    "from sklearn.preprocessing import LabelEncoder\n",
    "from sklearn.model_selection import train_test_split"
   ]
  },
  {
   "cell_type": "code",
   "execution_count": 247,
   "metadata": {},
   "outputs": [],
   "source": [
    "input_dim = X_train.shape[1]\n",
    "cnn = Sequential()\n",
    "cnn.add(Dense(80, input_dim=input_dim, activation='relu'))\n",
    "cnn.add(Dense(40, activation='relu'))\n",
    "cnn.add(Dense(20, activation='relu'))\n",
    "cnn.add(Dense(1, activation='sigmoid'))"
   ]
  },
  {
   "cell_type": "code",
   "execution_count": 248,
   "metadata": {},
   "outputs": [],
   "source": [
    "opt = keras.optimizers.Adam(learning_rate=0.01)\n",
    "\n",
    "cnn.compile(loss='binary_crossentropy', optimizer=opt, metrics=['accuracy'])\n",
    "\n",
    "#X_train, val_X, y_train, val_y = train_test_split(X_train, y_train, shuffle=True)"
   ]
  },
  {
   "cell_type": "code",
   "execution_count": 249,
   "metadata": {},
   "outputs": [],
   "source": [
    "train_X = np.asarray(X_train)\n",
    "train_y = np.asarray(y_train)\n",
    "test_X = np.asarray(X_test)\n",
    "test_y = np.asarray(y_test)\n",
    "# val_X =  np.asarray(val_X)\n",
    "# val_y =  np.asarray(val_y)"
   ]
  },
  {
   "cell_type": "code",
   "execution_count": 250,
   "metadata": {},
   "outputs": [],
   "source": [
    "es = EarlyStopping(monitor='val_loss', mode='min', verbose=1, patience=10)\n",
    "mc = ModelCheckpoint('best_model.h5', monitor='val_accuracy', mode='max', verbose=1, save_best_only=True)\n"
   ]
  },
  {
   "cell_type": "code",
   "execution_count": 251,
   "metadata": {},
   "outputs": [
    {
     "name": "stdout",
     "output_type": "stream",
     "text": [
      "Epoch 1/100\n",
      "28/29 [===========================>..] - ETA: 0s - loss: 0.9190 - accuracy: 0.6384\n",
      "Epoch 1: val_accuracy improved from -inf to 0.74841, saving model to best_model.h5\n",
      "29/29 [==============================] - 6s 102ms/step - loss: 0.9156 - accuracy: 0.6393 - val_loss: 0.5324 - val_accuracy: 0.7484\n",
      "Epoch 2/100\n",
      "27/29 [==========================>...] - ETA: 0s - loss: 0.5617 - accuracy: 0.6948\n",
      "Epoch 2: val_accuracy improved from 0.74841 to 0.75053, saving model to best_model.h5\n",
      "29/29 [==============================] - 1s 29ms/step - loss: 0.5599 - accuracy: 0.6967 - val_loss: 0.5407 - val_accuracy: 0.7505\n",
      "Epoch 3/100\n",
      "25/29 [========================>.....] - ETA: 0s - loss: 0.5474 - accuracy: 0.7012\n",
      "Epoch 3: val_accuracy improved from 0.75053 to 0.75336, saving model to best_model.h5\n",
      "29/29 [==============================] - 1s 30ms/step - loss: 0.5442 - accuracy: 0.7036 - val_loss: 0.5240 - val_accuracy: 0.7534\n",
      "Epoch 4/100\n",
      "27/29 [==========================>...] - ETA: 0s - loss: 0.5283 - accuracy: 0.7085\n",
      "Epoch 4: val_accuracy did not improve from 0.75336\n",
      "29/29 [==============================] - 0s 16ms/step - loss: 0.5275 - accuracy: 0.7096 - val_loss: 0.5270 - val_accuracy: 0.7527\n",
      "Epoch 5/100\n",
      "27/29 [==========================>...] - ETA: 0s - loss: 0.5160 - accuracy: 0.7207\n",
      "Epoch 5: val_accuracy did not improve from 0.75336\n",
      "29/29 [==============================] - 0s 15ms/step - loss: 0.5164 - accuracy: 0.7183 - val_loss: 0.5282 - val_accuracy: 0.7505\n",
      "Epoch 6/100\n",
      "28/29 [===========================>..] - ETA: 0s - loss: 0.5139 - accuracy: 0.7286\n",
      "Epoch 6: val_accuracy did not improve from 0.75336\n",
      "29/29 [==============================] - 1s 47ms/step - loss: 0.5133 - accuracy: 0.7294 - val_loss: 0.5427 - val_accuracy: 0.7357\n",
      "Epoch 7/100\n",
      "27/29 [==========================>...] - ETA: 0s - loss: 0.5074 - accuracy: 0.7433\n",
      "Epoch 7: val_accuracy improved from 0.75336 to 0.76537, saving model to best_model.h5\n",
      "29/29 [==============================] - 1s 20ms/step - loss: 0.5060 - accuracy: 0.7441 - val_loss: 0.5136 - val_accuracy: 0.7654\n",
      "Epoch 8/100\n",
      "25/29 [========================>.....] - ETA: 0s - loss: 0.4804 - accuracy: 0.7576\n",
      "Epoch 8: val_accuracy did not improve from 0.76537\n",
      "29/29 [==============================] - 1s 29ms/step - loss: 0.4751 - accuracy: 0.7612 - val_loss: 0.5182 - val_accuracy: 0.7343\n",
      "Epoch 9/100\n",
      "28/29 [===========================>..] - ETA: 0s - loss: 0.4689 - accuracy: 0.7532\n",
      "Epoch 9: val_accuracy did not improve from 0.76537\n",
      "29/29 [==============================] - 0s 16ms/step - loss: 0.4682 - accuracy: 0.7534 - val_loss: 0.5172 - val_accuracy: 0.7527\n",
      "Epoch 10/100\n",
      "25/29 [========================>.....] - ETA: 0s - loss: 0.4521 - accuracy: 0.7640\n",
      "Epoch 10: val_accuracy improved from 0.76537 to 0.76749, saving model to best_model.h5\n",
      "29/29 [==============================] - 1s 23ms/step - loss: 0.4489 - accuracy: 0.7671 - val_loss: 0.4870 - val_accuracy: 0.7675\n",
      "Epoch 11/100\n",
      "27/29 [==========================>...] - ETA: 0s - loss: 0.4595 - accuracy: 0.7635\n",
      "Epoch 11: val_accuracy did not improve from 0.76749\n",
      "29/29 [==============================] - 0s 15ms/step - loss: 0.4630 - accuracy: 0.7603 - val_loss: 0.4523 - val_accuracy: 0.7640\n",
      "Epoch 12/100\n",
      "24/29 [=======================>......] - ETA: 0s - loss: 0.4468 - accuracy: 0.7688\n",
      "Epoch 12: val_accuracy did not improve from 0.76749\n",
      "29/29 [==============================] - 1s 30ms/step - loss: 0.4472 - accuracy: 0.7676 - val_loss: 0.5186 - val_accuracy: 0.7357\n",
      "Epoch 13/100\n",
      "29/29 [==============================] - ETA: 0s - loss: 0.4266 - accuracy: 0.7720\n",
      "Epoch 13: val_accuracy did not improve from 0.76749\n",
      "29/29 [==============================] - 1s 18ms/step - loss: 0.4266 - accuracy: 0.7720 - val_loss: 0.5740 - val_accuracy: 0.7258\n",
      "Epoch 14/100\n",
      "28/29 [===========================>..] - ETA: 0s - loss: 0.4206 - accuracy: 0.7716\n",
      "Epoch 14: val_accuracy did not improve from 0.76749\n",
      "29/29 [==============================] - 1s 35ms/step - loss: 0.4210 - accuracy: 0.7708 - val_loss: 0.5979 - val_accuracy: 0.7095\n",
      "Epoch 15/100\n",
      "24/29 [=======================>......] - ETA: 0s - loss: 0.4247 - accuracy: 0.7773\n",
      "Epoch 15: val_accuracy did not improve from 0.76749\n",
      "29/29 [==============================] - 1s 21ms/step - loss: 0.4286 - accuracy: 0.7729 - val_loss: 0.5133 - val_accuracy: 0.7102\n",
      "Epoch 16/100\n",
      "25/29 [========================>.....] - ETA: 0s - loss: 0.4220 - accuracy: 0.7658\n",
      "Epoch 16: val_accuracy did not improve from 0.76749\n",
      "29/29 [==============================] - 0s 15ms/step - loss: 0.4244 - accuracy: 0.7656 - val_loss: 0.5334 - val_accuracy: 0.7314\n",
      "Epoch 17/100\n",
      "26/29 [=========================>....] - ETA: 0s - loss: 0.3974 - accuracy: 0.7875\n",
      "Epoch 17: val_accuracy did not improve from 0.76749\n",
      "29/29 [==============================] - 1s 20ms/step - loss: 0.3961 - accuracy: 0.7870 - val_loss: 0.5491 - val_accuracy: 0.7357\n",
      "Epoch 18/100\n",
      "27/29 [==========================>...] - ETA: 0s - loss: 0.3914 - accuracy: 0.7898\n",
      "Epoch 18: val_accuracy improved from 0.76749 to 0.78728, saving model to best_model.h5\n",
      "29/29 [==============================] - 1s 28ms/step - loss: 0.3911 - accuracy: 0.7890 - val_loss: 0.4826 - val_accuracy: 0.7873\n",
      "Epoch 19/100\n",
      "28/29 [===========================>..] - ETA: 0s - loss: 0.3806 - accuracy: 0.8045\n",
      "Epoch 19: val_accuracy did not improve from 0.78728\n",
      "29/29 [==============================] - 1s 25ms/step - loss: 0.3813 - accuracy: 0.8033 - val_loss: 0.5426 - val_accuracy: 0.7618\n",
      "Epoch 20/100\n",
      "24/29 [=======================>......] - ETA: 0s - loss: 0.3709 - accuracy: 0.8017\n",
      "Epoch 20: val_accuracy did not improve from 0.78728\n",
      "29/29 [==============================] - 1s 17ms/step - loss: 0.3739 - accuracy: 0.8017 - val_loss: 0.5309 - val_accuracy: 0.7675\n",
      "Epoch 21/100\n",
      "26/29 [=========================>....] - ETA: 0s - loss: 0.3689 - accuracy: 0.8094\n",
      "Epoch 21: val_accuracy improved from 0.78728 to 0.79647, saving model to best_model.h5\n",
      "29/29 [==============================] - 1s 22ms/step - loss: 0.3678 - accuracy: 0.8105 - val_loss: 0.4878 - val_accuracy: 0.7965\n",
      "Epoch 21: early stopping\n"
     ]
    }
   ],
   "source": [
    "history = cnn.fit(train_X, train_y, epochs=100, batch_size=200,callbacks=[es,mc]\n",
    "                  #, validation_data=(test_X,test_y)\n",
    "                  ,validation_split=0.2\n",
    "                  )\n"
   ]
  },
  {
   "cell_type": "code",
   "execution_count": 252,
   "metadata": {},
   "outputs": [
    {
     "data": {
      "image/png": "[encoded data removed]",
      "text/plain": [
       "<Figure size 640x480 with 1 Axes>"
      ]
     },
     "metadata": {},
     "output_type": "display_data"
    }
   ],
   "source": [
    "history_df = pd.DataFrame(history.history)\n",
    "history_df.loc[:, ['loss',\"val_loss\"]].plot()\n",
    "plt.show()"
   ]
  },
  {
   "attachments": {},
   "cell_type": "markdown",
   "metadata": {},
   "source": [
    "#### Evaluation"
   ]
  },
  {
   "attachments": {},
   "cell_type": "markdown",
   "metadata": {},
   "source": [
    "- Evaluate last saved model (which is not the best option)"
   ]
  },
  {
   "cell_type": "code",
   "execution_count": 253,
   "metadata": {},
   "outputs": [
    {
     "name": "stdout",
     "output_type": "stream",
     "text": [
      "82/82 [==============================] - 1s 4ms/step\n"
     ]
    },
    {
     "data": {
      "text/plain": [
       "0.26787414298234197"
      ]
     },
     "execution_count": 253,
     "metadata": {},
     "output_type": "execute_result"
    }
   ],
   "source": [
    "from sklearn.metrics import mean_absolute_error\n",
    " \n",
    "predictions = cnn.predict(np.asarray(X_test))\n",
    "mean_absolute_error(y_test, predictions)\n",
    "\n"
   ]
  },
  {
   "attachments": {},
   "cell_type": "markdown",
   "metadata": {},
   "source": [
    "- Evaluate best model which was monitored and saved"
   ]
  },
  {
   "cell_type": "code",
   "execution_count": 256,
   "metadata": {},
   "outputs": [
    {
     "data": {
      "text/html": [
       "<div>\n",
       "<style scoped>\n",
       "    .dataframe tbody tr th:only-of-type {\n",
       "        vertical-align: middle;\n",
       "    }\n",
       "\n",
       "    .dataframe tbody tr th {\n",
       "        vertical-align: top;\n",
       "    }\n",
       "\n",
       "    .dataframe thead th {\n",
       "        text-align: right;\n",
       "    }\n",
       "</style>\n",
       "<table border=\"1\" class=\"dataframe\">\n",
       "  <thead>\n",
       "    <tr style=\"text-align: right;\">\n",
       "      <th></th>\n",
       "      <th>accel_x</th>\n",
       "      <th>accel_y</th>\n",
       "      <th>accel_z</th>\n",
       "      <th>accel_norm</th>\n",
       "      <th>rotR_x</th>\n",
       "      <th>rotR_y</th>\n",
       "      <th>rotR_z</th>\n",
       "    </tr>\n",
       "    <tr>\n",
       "      <th>time</th>\n",
       "      <th></th>\n",
       "      <th></th>\n",
       "      <th></th>\n",
       "      <th></th>\n",
       "      <th></th>\n",
       "      <th></th>\n",
       "      <th></th>\n",
       "    </tr>\n",
       "  </thead>\n",
       "  <tbody>\n",
       "    <tr>\n",
       "      <th>0</th>\n",
       "      <td>0.299561</td>\n",
       "      <td>-0.875488</td>\n",
       "      <td>0.345947</td>\n",
       "      <td>0.987874</td>\n",
       "      <td>1.219512</td>\n",
       "      <td>0.182927</td>\n",
       "      <td>2.317073</td>\n",
       "    </tr>\n",
       "    <tr>\n",
       "      <th>1</th>\n",
       "      <td>0.304199</td>\n",
       "      <td>-0.886475</td>\n",
       "      <td>0.342529</td>\n",
       "      <td>0.997848</td>\n",
       "      <td>-0.426829</td>\n",
       "      <td>-0.304878</td>\n",
       "      <td>2.987805</td>\n",
       "    </tr>\n",
       "    <tr>\n",
       "      <th>2</th>\n",
       "      <td>0.302734</td>\n",
       "      <td>-0.875488</td>\n",
       "      <td>0.349121</td>\n",
       "      <td>0.989956</td>\n",
       "      <td>-0.975610</td>\n",
       "      <td>0.304878</td>\n",
       "      <td>3.597561</td>\n",
       "    </tr>\n",
       "    <tr>\n",
       "      <th>3</th>\n",
       "      <td>0.303223</td>\n",
       "      <td>-0.885010</td>\n",
       "      <td>0.330811</td>\n",
       "      <td>0.992281</td>\n",
       "      <td>-3.902439</td>\n",
       "      <td>2.682927</td>\n",
       "      <td>4.085366</td>\n",
       "    </tr>\n",
       "    <tr>\n",
       "      <th>4</th>\n",
       "      <td>0.294922</td>\n",
       "      <td>-0.868896</td>\n",
       "      <td>0.339355</td>\n",
       "      <td>0.978326</td>\n",
       "      <td>-11.341463</td>\n",
       "      <td>5.609756</td>\n",
       "      <td>-0.548780</td>\n",
       "    </tr>\n",
       "    <tr>\n",
       "      <th>...</th>\n",
       "      <td>...</td>\n",
       "      <td>...</td>\n",
       "      <td>...</td>\n",
       "      <td>...</td>\n",
       "      <td>...</td>\n",
       "      <td>...</td>\n",
       "      <td>...</td>\n",
       "    </tr>\n",
       "    <tr>\n",
       "      <th>214</th>\n",
       "      <td>0.237061</td>\n",
       "      <td>-0.446777</td>\n",
       "      <td>0.872314</td>\n",
       "      <td>1.008335</td>\n",
       "      <td>-10.000000</td>\n",
       "      <td>1.341463</td>\n",
       "      <td>8.292683</td>\n",
       "    </tr>\n",
       "    <tr>\n",
       "      <th>215</th>\n",
       "      <td>0.242920</td>\n",
       "      <td>-0.456299</td>\n",
       "      <td>0.864990</td>\n",
       "      <td>1.007684</td>\n",
       "      <td>-4.268293</td>\n",
       "      <td>2.134146</td>\n",
       "      <td>7.682927</td>\n",
       "    </tr>\n",
       "    <tr>\n",
       "      <th>216</th>\n",
       "      <td>0.234863</td>\n",
       "      <td>-0.425293</td>\n",
       "      <td>0.869385</td>\n",
       "      <td>0.995924</td>\n",
       "      <td>0.487805</td>\n",
       "      <td>5.304878</td>\n",
       "      <td>6.158537</td>\n",
       "    </tr>\n",
       "    <tr>\n",
       "      <th>217</th>\n",
       "      <td>0.234863</td>\n",
       "      <td>-0.425293</td>\n",
       "      <td>0.869385</td>\n",
       "      <td>0.995924</td>\n",
       "      <td>0.487805</td>\n",
       "      <td>5.304878</td>\n",
       "      <td>6.158537</td>\n",
       "    </tr>\n",
       "    <tr>\n",
       "      <th>218</th>\n",
       "      <td>0.220947</td>\n",
       "      <td>-0.428467</td>\n",
       "      <td>0.869385</td>\n",
       "      <td>0.994098</td>\n",
       "      <td>-7.439024</td>\n",
       "      <td>-0.792683</td>\n",
       "      <td>3.902439</td>\n",
       "    </tr>\n",
       "  </tbody>\n",
       "</table>\n",
       "<p>7073 rows × 7 columns</p>\n",
       "</div>"
      ],
      "text/plain": [
       "       accel_x   accel_y   accel_z  accel_norm     rotR_x    rotR_y    rotR_z\n",
       "time                                                                         \n",
       "0     0.299561 -0.875488  0.345947    0.987874   1.219512  0.182927  2.317073\n",
       "1     0.304199 -0.886475  0.342529    0.997848  -0.426829 -0.304878  2.987805\n",
       "2     0.302734 -0.875488  0.349121    0.989956  -0.975610  0.304878  3.597561\n",
       "3     0.303223 -0.885010  0.330811    0.992281  -3.902439  2.682927  4.085366\n",
       "4     0.294922 -0.868896  0.339355    0.978326 -11.341463  5.609756 -0.548780\n",
       "...        ...       ...       ...         ...        ...       ...       ...\n",
       "214   0.237061 -0.446777  0.872314    1.008335 -10.000000  1.341463  8.292683\n",
       "215   0.242920 -0.456299  0.864990    1.007684  -4.268293  2.134146  7.682927\n",
       "216   0.234863 -0.425293  0.869385    0.995924   0.487805  5.304878  6.158537\n",
       "217   0.234863 -0.425293  0.869385    0.995924   0.487805  5.304878  6.158537\n",
       "218   0.220947 -0.428467  0.869385    0.994098  -7.439024 -0.792683  3.902439\n",
       "\n",
       "[7073 rows x 7 columns]"
      ]
     },
     "execution_count": 256,
     "metadata": {},
     "output_type": "execute_result"
    }
   ],
   "source": [
    "X_train"
   ]
  },
  {
   "cell_type": "code",
   "execution_count": 258,
   "metadata": {},
   "outputs": [
    {
     "name": "stdout",
     "output_type": "stream",
     "text": [
      "Train: 0.806, Test: 0.795\n"
     ]
    }
   ],
   "source": [
    "saved_model = load_model('best_model.h5')\n",
    "_, train_acc = saved_model.evaluate(train_X, train_y, verbose=0)\n",
    "_, test_acc = saved_model.evaluate(test_X, test_y, verbose=0)\n",
    "print('Train: %.3f, Test: %.3f' % (train_acc, test_acc))"
   ]
  },
  {
   "cell_type": "code",
   "execution_count": null,
   "metadata": {},
   "outputs": [],
   "source": [
    "#TODO use saved_model to predict data"
   ]
  }
 ],
 "metadata": {
  "kernelspec": {
   "display_name": "Python 3",
   "language": "python",
   "name": "python3"
  },
  "language_info": {
   "codemirror_mode": {
    "name": "ipython",
    "version": 3
   },
   "file_extension": ".py",
   "mimetype": "text/x-python",
   "name": "python",
   "nbconvert_exporter": "python",
   "pygments_lexer": "ipython3",
   "version": "3.10.9"
  },
  "orig_nbformat": 4,
  "vscode": {
   "interpreter": {
    "hash": "81794d4967e6c3204c66dcd87b604927b115b27c00565d3d43f05ba2f3a2cb0d"
   }
  }
 },
 "nbformat": 4,
 "nbformat_minor": 2
}
