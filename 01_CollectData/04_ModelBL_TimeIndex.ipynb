{
 "cells": [
  {
   "cell_type": "code",
   "execution_count": 157,
   "metadata": {},
   "outputs": [],
   "source": [
    "import pandas as pd\n",
    "import matplotlib.pyplot as plt\n",
    "import seaborn as sns\n",
    "import numpy as np\n",
    "\n",
    "sns.set_style(\"darkgrid\")"
   ]
  },
  {
   "cell_type": "code",
   "execution_count": 158,
   "metadata": {},
   "outputs": [],
   "source": [
    "# Get data file names\n",
    "START_T_COUNT = 0\n",
    "START_F_COUNT = 500\n",
    "SPLIT_T_RATIO = 0.7\n",
    "\n",
    "NUM_NO_FEAT_COLUMN = 3"
   ]
  },
  {
   "attachments": {},
   "cell_type": "markdown",
   "metadata": {},
   "source": [
    "## Static Funcs"
   ]
  },
  {
   "cell_type": "code",
   "execution_count": 159,
   "metadata": {},
   "outputs": [],
   "source": [
    "def fe_basic_features(df):\n",
    "    df_fe_1 = df.copy()\n",
    "    df_fe_1.insert(0, 'accel_x', df_fe_1.acc_x + df_fe_1.grav_x)\n",
    "    df_fe_1.insert(1, 'accel_y', df_fe_1.acc_y + df_fe_1.grav_y)\n",
    "    df_fe_1.insert(2, 'accel_z', df_fe_1.acc_z + df_fe_1.grav_z)\n",
    "    df_fe_1.insert(3, 'accel_norm', np.sqrt(df_fe_1.accel_x**2 + df_fe_1.accel_y**2 + df_fe_1.accel_z**2))\n",
    "    df_fe_1 = df_fe_1.drop(['or_x', 'or_y', 'or_z', 'grav_x', 'grav_y', 'grav_z', 'acc_x', 'acc_y', 'acc_z'], axis=1)\n",
    "    return df_fe_1"
   ]
  },
  {
   "cell_type": "code",
   "execution_count": 160,
   "metadata": {},
   "outputs": [],
   "source": [
    "def fe_lag_features(df,n_lagwindow, cols):\n",
    "    \"\"\"\n",
    "    Parameters\n",
    "    ----------\n",
    "    n : int       amount of lag features\n",
    "    cols : list   list of columns to lag\n",
    "\n",
    "    Returns\n",
    "    -------\n",
    "    pd.DataFrame    a dataframe with the list of columns lagged n times\n",
    "    \"\"\"\n",
    "    lag_df = df.copy()\n",
    "    NUM_FEAT_COLUMNS = len(df.columns)- NUM_NO_FEAT_COLUMN\n",
    "    for j in cols:\n",
    "        for i in range(n_lagwindow):\n",
    "            lag_df.insert(NUM_FEAT_COLUMNS+i, j + '_lag' + str(i+1), lag_df[j].shift(i+1))\n",
    "        \n",
    "    # Dropping all rows where the lag overlapped two different subjects/trials (n timeframes at the beginning of every trial).\n",
    "    for i in range(n_lagwindow):\n",
    "        lag_df = lag_df.drop([i])\n",
    "    \n",
    "    return lag_df"
   ]
  },
  {
   "cell_type": "code",
   "execution_count": 161,
   "metadata": {},
   "outputs": [],
   "source": [
    "def data_split_TrainTest(df):\n",
    "    num_t_ds = len(df.query(\"action_num < @START_F_COUNT\").action.unique())\n",
    "    num_f_ds = len(df.query(\"action_num >= @START_F_COUNT\").action.unique())\n",
    "\n",
    "    num_train_t = round(num_t_ds * SPLIT_T_RATIO)\n",
    "    num_train_f = round(num_f_ds * SPLIT_T_RATIO)\n",
    "\n",
    "    train_df = df[(df.action_num.between(START_T_COUNT,START_T_COUNT+num_train_t,inclusive=\"both\"))|\n",
    "                    (df.action_num.between(START_F_COUNT,START_F_COUNT+num_train_f,inclusive=\"both\"))]\n",
    "\n",
    "    test_df = df[(df.action_num.between(START_T_COUNT+num_train_t,START_F_COUNT,inclusive=\"neither\"))|\n",
    "                    (df.action_num > START_F_COUNT+num_train_f)]\n",
    "    \n",
    "\n",
    "    return train_df,test_df"
   ]
  },
  {
   "cell_type": "code",
   "execution_count": 162,
   "metadata": {},
   "outputs": [],
   "source": [
    "def data_split_FeatLabel(df):\n",
    "    X = df.iloc[:,:(-1*NUM_NO_FEAT_COLUMN)]\n",
    "    y = df.label\n",
    "    return X,y"
   ]
  },
  {
   "attachments": {},
   "cell_type": "markdown",
   "metadata": {},
   "source": [
    "## Import Data"
   ]
  },
  {
   "cell_type": "code",
   "execution_count": 163,
   "metadata": {},
   "outputs": [],
   "source": [
    "df_all = pd.read_pickle(\"merged_df.pkl\")"
   ]
  },
  {
   "attachments": {},
   "cell_type": "markdown",
   "metadata": {},
   "source": [
    "## Feature engineering (basic)"
   ]
  },
  {
   "cell_type": "code",
   "execution_count": 164,
   "metadata": {},
   "outputs": [],
   "source": [
    "df_fe = fe_basic_features(df_all)"
   ]
  },
  {
   "attachments": {},
   "cell_type": "markdown",
   "metadata": {},
   "source": [
    "## Data Splitting"
   ]
  },
  {
   "cell_type": "code",
   "execution_count": 165,
   "metadata": {},
   "outputs": [],
   "source": [
    "train_df,test_df = data_split_TrainTest(df_fe)"
   ]
  },
  {
   "cell_type": "code",
   "execution_count": 166,
   "metadata": {},
   "outputs": [
    {
     "data": {
      "text/plain": [
       "(38, 15)"
      ]
     },
     "execution_count": 166,
     "metadata": {},
     "output_type": "execute_result"
    }
   ],
   "source": [
    "len(train_df.action_num.unique()),len(test_df.action_num.unique())"
   ]
  },
  {
   "cell_type": "code",
   "execution_count": 167,
   "metadata": {},
   "outputs": [],
   "source": [
    "X_train,y_train = data_split_FeatLabel(train_df)\n",
    "X_test,y_test = data_split_FeatLabel(test_df)"
   ]
  },
  {
   "attachments": {},
   "cell_type": "markdown",
   "metadata": {},
   "source": [
    "## Modeling"
   ]
  },
  {
   "attachments": {},
   "cell_type": "markdown",
   "metadata": {},
   "source": [
    "### DecisionTreeClassifier (baseline)"
   ]
  },
  {
   "cell_type": "code",
   "execution_count": 168,
   "metadata": {},
   "outputs": [
    {
     "data": {
      "text/html": [
       "<style>#sk-container-id-14 {color: black;background-color: white;}#sk-container-id-14 pre{padding: 0;}#sk-container-id-14 div.sk-toggleable {background-color: white;}#sk-container-id-14 label.sk-toggleable__label {cursor: pointer;display: block;width: 100%;margin-bottom: 0;padding: 0.3em;box-sizing: border-box;text-align: center;}#sk-container-id-14 label.sk-toggleable__label-arrow:before {content: \"▸\";float: left;margin-right: 0.25em;color: #696969;}#sk-container-id-14 label.sk-toggleable__label-arrow:hover:before {color: black;}#sk-container-id-14 div.sk-estimator:hover label.sk-toggleable__label-arrow:before {color: black;}#sk-container-id-14 div.sk-toggleable__content {max-height: 0;max-width: 0;overflow: hidden;text-align: left;background-color: #f0f8ff;}#sk-container-id-14 div.sk-toggleable__content pre {margin: 0.2em;color: black;border-radius: 0.25em;background-color: #f0f8ff;}#sk-container-id-14 input.sk-toggleable__control:checked~div.sk-toggleable__content {max-height: 200px;max-width: 100%;overflow: auto;}#sk-container-id-14 input.sk-toggleable__control:checked~label.sk-toggleable__label-arrow:before {content: \"▾\";}#sk-container-id-14 div.sk-estimator input.sk-toggleable__control:checked~label.sk-toggleable__label {background-color: #d4ebff;}#sk-container-id-14 div.sk-label input.sk-toggleable__control:checked~label.sk-toggleable__label {background-color: #d4ebff;}#sk-container-id-14 input.sk-hidden--visually {border: 0;clip: rect(1px 1px 1px 1px);clip: rect(1px, 1px, 1px, 1px);height: 1px;margin: -1px;overflow: hidden;padding: 0;position: absolute;width: 1px;}#sk-container-id-14 div.sk-estimator {font-family: monospace;background-color: #f0f8ff;border: 1px dotted black;border-radius: 0.25em;box-sizing: border-box;margin-bottom: 0.5em;}#sk-container-id-14 div.sk-estimator:hover {background-color: #d4ebff;}#sk-container-id-14 div.sk-parallel-item::after {content: \"\";width: 100%;border-bottom: 1px solid gray;flex-grow: 1;}#sk-container-id-14 div.sk-label:hover label.sk-toggleable__label {background-color: #d4ebff;}#sk-container-id-14 div.sk-serial::before {content: \"\";position: absolute;border-left: 1px solid gray;box-sizing: border-box;top: 0;bottom: 0;left: 50%;z-index: 0;}#sk-container-id-14 div.sk-serial {display: flex;flex-direction: column;align-items: center;background-color: white;padding-right: 0.2em;padding-left: 0.2em;position: relative;}#sk-container-id-14 div.sk-item {position: relative;z-index: 1;}#sk-container-id-14 div.sk-parallel {display: flex;align-items: stretch;justify-content: center;background-color: white;position: relative;}#sk-container-id-14 div.sk-item::before, #sk-container-id-14 div.sk-parallel-item::before {content: \"\";position: absolute;border-left: 1px solid gray;box-sizing: border-box;top: 0;bottom: 0;left: 50%;z-index: -1;}#sk-container-id-14 div.sk-parallel-item {display: flex;flex-direction: column;z-index: 1;position: relative;background-color: white;}#sk-container-id-14 div.sk-parallel-item:first-child::after {align-self: flex-end;width: 50%;}#sk-container-id-14 div.sk-parallel-item:last-child::after {align-self: flex-start;width: 50%;}#sk-container-id-14 div.sk-parallel-item:only-child::after {width: 0;}#sk-container-id-14 div.sk-dashed-wrapped {border: 1px dashed gray;margin: 0 0.4em 0.5em 0.4em;box-sizing: border-box;padding-bottom: 0.4em;background-color: white;}#sk-container-id-14 div.sk-label label {font-family: monospace;font-weight: bold;display: inline-block;line-height: 1.2em;}#sk-container-id-14 div.sk-label-container {text-align: center;}#sk-container-id-14 div.sk-container {/* jupyter's `normalize.less` sets `[hidden] { display: none; }` but bootstrap.min.css set `[hidden] { display: none !important; }` so we also need the `!important` here to be able to override the default hidden behavior on the sphinx rendered scikit-learn.org. See: https://github.com/scikit-learn/scikit-learn/issues/21755 */display: inline-block !important;position: relative;}#sk-container-id-14 div.sk-text-repr-fallback {display: none;}</style><div id=\"sk-container-id-14\" class=\"sk-top-container\"><div class=\"sk-text-repr-fallback\"><pre>DecisionTreeClassifier(max_depth=4)</pre><b>In a Jupyter environment, please rerun this cell to show the HTML representation or trust the notebook. <br />On GitHub, the HTML representation is unable to render, please try loading this page with nbviewer.org.</b></div><div class=\"sk-container\" hidden><div class=\"sk-item\"><div class=\"sk-estimator sk-toggleable\"><input class=\"sk-toggleable__control sk-hidden--visually\" id=\"sk-estimator-id-14\" type=\"checkbox\" checked><label for=\"sk-estimator-id-14\" class=\"sk-toggleable__label sk-toggleable__label-arrow\">DecisionTreeClassifier</label><div class=\"sk-toggleable__content\"><pre>DecisionTreeClassifier(max_depth=4)</pre></div></div></div></div></div>"
      ],
      "text/plain": [
       "DecisionTreeClassifier(max_depth=4)"
      ]
     },
     "execution_count": 168,
     "metadata": {},
     "output_type": "execute_result"
    }
   ],
   "source": [
    "from sklearn.tree import DecisionTreeClassifier\n",
    "from sklearn.metrics import accuracy_score\n",
    "\n",
    "dtc = DecisionTreeClassifier(max_depth=4)\n",
    "dtc.fit(X_train, y_train)"
   ]
  },
  {
   "cell_type": "code",
   "execution_count": 207,
   "metadata": {},
   "outputs": [
    {
     "name": "stdout",
     "output_type": "stream",
     "text": [
      " Train data : 80.546 %\n"
     ]
    }
   ],
   "source": [
    "print(f\" Train data : {round(accuracy_score(y_train,dtc.predict(X_train))*100,3)} %\")"
   ]
  },
  {
   "cell_type": "code",
   "execution_count": 208,
   "metadata": {},
   "outputs": [
    {
     "name": "stdout",
     "output_type": "stream",
     "text": [
      " Test data : 76.058 %\n"
     ]
    }
   ],
   "source": [
    "print(f\" Test data : {round(accuracy_score(y_test,dtc.predict(X_test))*100,3)} %\")"
   ]
  },
  {
   "attachments": {},
   "cell_type": "markdown",
   "metadata": {},
   "source": [
    "#### Analyze results"
   ]
  },
  {
   "cell_type": "code",
   "execution_count": 170,
   "metadata": {},
   "outputs": [
    {
     "data": {
      "text/plain": [
       "38"
      ]
     },
     "execution_count": 170,
     "metadata": {},
     "output_type": "execute_result"
    }
   ],
   "source": [
    "len(train_df.action.unique())"
   ]
  },
  {
   "cell_type": "code",
   "execution_count": 171,
   "metadata": {},
   "outputs": [
    {
     "name": "stderr",
     "output_type": "stream",
     "text": [
      "C:\\Users\\Jacqueline\\AppData\\Local\\Temp\\ipykernel_24956\\2135228749.py:2: SettingWithCopyWarning: \n",
      "A value is trying to be set on a copy of a slice from a DataFrame.\n",
      "Try using .loc[row_indexer,col_indexer] = value instead\n",
      "\n",
      "See the caveats in the documentation: https://pandas.pydata.org/pandas-docs/stable/user_guide/indexing.html#returning-a-view-versus-a-copy\n",
      "  train_df_res[\"predict\"] = dtc.predict(X_train)\n"
     ]
    }
   ],
   "source": [
    "train_df_res = train_df[[\"action\",\"action_num\",\"label\"]]\n",
    "train_df_res[\"predict\"] = dtc.predict(X_train)"
   ]
  },
  {
   "cell_type": "code",
   "execution_count": 172,
   "metadata": {},
   "outputs": [
    {
     "name": "stdout",
     "output_type": "stream",
     "text": [
      "t_stand_front_drinksmallcup_10ml_1s_left [1 0]\n",
      "f_sit_hold_EatFood_2sec_front [0 1]\n",
      "t_sit_hold_DrinkCup_10ml_1s_hold [0 1]\n",
      "t_sit_left_DrinkBottle_10ml_1s_hold [0 1]\n",
      "t_stand_right_DrinkBottle_10ml_1s_hold [1 0]\n",
      "f_sit_front_EatFood_2sec_front [0 1]\n",
      "f_stand_front_LookMobile_2sec_front [1 0]\n",
      "t_sit_left_DrinkBottle_10ml_1s_left [0 1]\n",
      "f_stand_hold_EatFood_2sec_left [1 0]\n",
      "t_stand_hold_DrinkBottle_10ml_1s_right [1 0]\n",
      "f_stand_front_EatFood_2sec_hold [0 1]\n",
      "t_stand_left_drinksmallcup_10ml_1s_hold [1 0]\n",
      "t_stand_front_DrinkBottle_10ml_1s_hold [1 0]\n",
      "t_stand_hold_DrinkCup_10ml_1s_right [1]\n",
      "f_stand_hold_LookMobile_2sec_hold [0 1]\n",
      "f_sit_hold_EatFood_2sec_left [0 1]\n",
      "f_stand_hold_EatFood_2sec_front [1 0]\n",
      "t_sit_front_DrinkBottle_10ml_1s_front [0 1]\n",
      "t_stand_hold_DrinkCup_10ml_1s_hold [0 1]\n",
      "t_sit_hold_DrinkCup_10ml_1s_front [1 0]\n",
      "f_sit_right_EatFood_2sec_right [0 1]\n",
      "f_stand_hold_LookMobile_2sec_right [0 1]\n",
      "f_stand_front_EatFood_2sec_right [1 0]\n",
      "t_stand_hold_DrinkCup_50ml_3s_hold [1]\n",
      "f_stand_front_EatFood_2sec_front [1 0]\n",
      "t_stand_hold_DrinkBottle_10ml_1s_left [1 0]\n",
      "f_stand_hold_LookMobile_2sec_left [1 0]\n",
      "t_sit_right_DrinkBottle_10ml_1s_left [0 1]\n",
      "f_stand_front_LookMobile_2sec_hold [0 1]\n",
      "f_sit_hold_LookMobile_2sec_hold [0]\n",
      "t_stand_hold_drinksmallcup_10ml_1s_right [1 0]\n",
      "t_sit_hold_DrinkCup_10ml_1s_left [1]\n",
      "f_stand_front_EatFood_2sec_left [1 0]\n",
      "t_stand_front_drinksmallcup_10ml_1s_right [1 0]\n",
      "t_sit_front_DrinkBottle_10ml_1s_hold [0 1]\n",
      "f_sit_left_EatFood_2sec_left [0 1]\n",
      "t_stand_hold_drinksmallcup_10ml_1s_left [1 0]\n",
      "t_stand_hold_drinksmallcup_10ml_1s_front [1 0]\n"
     ]
    }
   ],
   "source": [
    "for num in train_df_res.action.unique():\n",
    "    print(num,train_df_res.query(\"(action == @num)\").predict.unique())"
   ]
  },
  {
   "attachments": {},
   "cell_type": "markdown",
   "metadata": {},
   "source": [
    "### Random ForestClassifier (baseline)"
   ]
  },
  {
   "cell_type": "code",
   "execution_count": 209,
   "metadata": {},
   "outputs": [
    {
     "data": {
      "text/html": [
       "<style>#sk-container-id-17 {color: black;background-color: white;}#sk-container-id-17 pre{padding: 0;}#sk-container-id-17 div.sk-toggleable {background-color: white;}#sk-container-id-17 label.sk-toggleable__label {cursor: pointer;display: block;width: 100%;margin-bottom: 0;padding: 0.3em;box-sizing: border-box;text-align: center;}#sk-container-id-17 label.sk-toggleable__label-arrow:before {content: \"▸\";float: left;margin-right: 0.25em;color: #696969;}#sk-container-id-17 label.sk-toggleable__label-arrow:hover:before {color: black;}#sk-container-id-17 div.sk-estimator:hover label.sk-toggleable__label-arrow:before {color: black;}#sk-container-id-17 div.sk-toggleable__content {max-height: 0;max-width: 0;overflow: hidden;text-align: left;background-color: #f0f8ff;}#sk-container-id-17 div.sk-toggleable__content pre {margin: 0.2em;color: black;border-radius: 0.25em;background-color: #f0f8ff;}#sk-container-id-17 input.sk-toggleable__control:checked~div.sk-toggleable__content {max-height: 200px;max-width: 100%;overflow: auto;}#sk-container-id-17 input.sk-toggleable__control:checked~label.sk-toggleable__label-arrow:before {content: \"▾\";}#sk-container-id-17 div.sk-estimator input.sk-toggleable__control:checked~label.sk-toggleable__label {background-color: #d4ebff;}#sk-container-id-17 div.sk-label input.sk-toggleable__control:checked~label.sk-toggleable__label {background-color: #d4ebff;}#sk-container-id-17 input.sk-hidden--visually {border: 0;clip: rect(1px 1px 1px 1px);clip: rect(1px, 1px, 1px, 1px);height: 1px;margin: -1px;overflow: hidden;padding: 0;position: absolute;width: 1px;}#sk-container-id-17 div.sk-estimator {font-family: monospace;background-color: #f0f8ff;border: 1px dotted black;border-radius: 0.25em;box-sizing: border-box;margin-bottom: 0.5em;}#sk-container-id-17 div.sk-estimator:hover {background-color: #d4ebff;}#sk-container-id-17 div.sk-parallel-item::after {content: \"\";width: 100%;border-bottom: 1px solid gray;flex-grow: 1;}#sk-container-id-17 div.sk-label:hover label.sk-toggleable__label {background-color: #d4ebff;}#sk-container-id-17 div.sk-serial::before {content: \"\";position: absolute;border-left: 1px solid gray;box-sizing: border-box;top: 0;bottom: 0;left: 50%;z-index: 0;}#sk-container-id-17 div.sk-serial {display: flex;flex-direction: column;align-items: center;background-color: white;padding-right: 0.2em;padding-left: 0.2em;position: relative;}#sk-container-id-17 div.sk-item {position: relative;z-index: 1;}#sk-container-id-17 div.sk-parallel {display: flex;align-items: stretch;justify-content: center;background-color: white;position: relative;}#sk-container-id-17 div.sk-item::before, #sk-container-id-17 div.sk-parallel-item::before {content: \"\";position: absolute;border-left: 1px solid gray;box-sizing: border-box;top: 0;bottom: 0;left: 50%;z-index: -1;}#sk-container-id-17 div.sk-parallel-item {display: flex;flex-direction: column;z-index: 1;position: relative;background-color: white;}#sk-container-id-17 div.sk-parallel-item:first-child::after {align-self: flex-end;width: 50%;}#sk-container-id-17 div.sk-parallel-item:last-child::after {align-self: flex-start;width: 50%;}#sk-container-id-17 div.sk-parallel-item:only-child::after {width: 0;}#sk-container-id-17 div.sk-dashed-wrapped {border: 1px dashed gray;margin: 0 0.4em 0.5em 0.4em;box-sizing: border-box;padding-bottom: 0.4em;background-color: white;}#sk-container-id-17 div.sk-label label {font-family: monospace;font-weight: bold;display: inline-block;line-height: 1.2em;}#sk-container-id-17 div.sk-label-container {text-align: center;}#sk-container-id-17 div.sk-container {/* jupyter's `normalize.less` sets `[hidden] { display: none; }` but bootstrap.min.css set `[hidden] { display: none !important; }` so we also need the `!important` here to be able to override the default hidden behavior on the sphinx rendered scikit-learn.org. See: https://github.com/scikit-learn/scikit-learn/issues/21755 */display: inline-block !important;position: relative;}#sk-container-id-17 div.sk-text-repr-fallback {display: none;}</style><div id=\"sk-container-id-17\" class=\"sk-top-container\"><div class=\"sk-text-repr-fallback\"><pre>RandomForestClassifier(max_depth=4)</pre><b>In a Jupyter environment, please rerun this cell to show the HTML representation or trust the notebook. <br />On GitHub, the HTML representation is unable to render, please try loading this page with nbviewer.org.</b></div><div class=\"sk-container\" hidden><div class=\"sk-item\"><div class=\"sk-estimator sk-toggleable\"><input class=\"sk-toggleable__control sk-hidden--visually\" id=\"sk-estimator-id-17\" type=\"checkbox\" checked><label for=\"sk-estimator-id-17\" class=\"sk-toggleable__label sk-toggleable__label-arrow\">RandomForestClassifier</label><div class=\"sk-toggleable__content\"><pre>RandomForestClassifier(max_depth=4)</pre></div></div></div></div></div>"
      ],
      "text/plain": [
       "RandomForestClassifier(max_depth=4)"
      ]
     },
     "execution_count": 209,
     "metadata": {},
     "output_type": "execute_result"
    }
   ],
   "source": [
    "from sklearn.ensemble import RandomForestClassifier\n",
    "\n",
    "rfc = RandomForestClassifier(n_estimators=100,max_depth=4)\n",
    "rfc.fit(X_train, y_train)"
   ]
  },
  {
   "cell_type": "code",
   "execution_count": 174,
   "metadata": {},
   "outputs": [
    {
     "name": "stdout",
     "output_type": "stream",
     "text": [
      " Train data : 79.952 %\n"
     ]
    }
   ],
   "source": [
    "print(f\" Train data : {round(accuracy_score(y_train,rfc.predict(X_train))*100,3)} %\")"
   ]
  },
  {
   "cell_type": "code",
   "execution_count": 175,
   "metadata": {},
   "outputs": [
    {
     "name": "stdout",
     "output_type": "stream",
     "text": [
      " Test data : 76.935 %\n"
     ]
    }
   ],
   "source": [
    "print(f\" Test data : {round(accuracy_score(y_test,rfc.predict(X_test))*100,3)} %\")"
   ]
  },
  {
   "attachments": {},
   "cell_type": "markdown",
   "metadata": {},
   "source": [
    "### Neurel Network"
   ]
  },
  {
   "cell_type": "code",
   "execution_count": 176,
   "metadata": {},
   "outputs": [],
   "source": [
    "from tensorflow import keras\n",
    "from tensorflow.keras.models import Sequential,load_model\n",
    "\n",
    "from tensorflow.keras.layers import Dense\n",
    "#from tensorflow.keras.utils import np_utils\n",
    "from tensorflow.keras.callbacks import EarlyStopping,ModelCheckpoint\n",
    "\n",
    "from sklearn.preprocessing import LabelEncoder\n",
    "from sklearn.model_selection import train_test_split"
   ]
  },
  {
   "cell_type": "code",
   "execution_count": 177,
   "metadata": {},
   "outputs": [],
   "source": [
    "input_dim = X_train.shape[1]\n",
    "cnn = Sequential()\n",
    "cnn.add(Dense(80, input_dim=input_dim, activation='relu'))\n",
    "cnn.add(Dense(40, activation='relu'))\n",
    "cnn.add(Dense(20, activation='relu'))\n",
    "cnn.add(Dense(1, activation='sigmoid'))\n",
    "opt = keras.optimizers.Adam(learning_rate=0.01)\n",
    "cnn.compile(loss='binary_crossentropy', optimizer=opt, metrics=['accuracy'])\n",
    "es = EarlyStopping(monitor='val_loss', mode='min', verbose=1, patience=10)\n",
    "mc = ModelCheckpoint('best_model.h5', monitor='val_accuracy', mode='max'\n",
    "                     , verbose=1, save_best_only=True)"
   ]
  },
  {
   "cell_type": "code",
   "execution_count": 178,
   "metadata": {},
   "outputs": [],
   "source": [
    "#X_train, val_X, y_train, val_y = train_test_split(X_train, y_train, shuffle=True)"
   ]
  },
  {
   "cell_type": "code",
   "execution_count": 179,
   "metadata": {},
   "outputs": [],
   "source": [
    "X_train_arr = np.asarray(X_train)\n",
    "y_train_arr = np.asarray(y_train)\n",
    "X_test_arr = np.asarray(X_test)\n",
    "y_test_arr = np.asarray(y_test)\n",
    "# val_X =  np.asarray(val_X)\n",
    "# val_y =  np.asarray(val_y)"
   ]
  },
  {
   "cell_type": "code",
   "execution_count": 180,
   "metadata": {},
   "outputs": [],
   "source": [
    "\n"
   ]
  },
  {
   "cell_type": "code",
   "execution_count": 181,
   "metadata": {},
   "outputs": [
    {
     "name": "stdout",
     "output_type": "stream",
     "text": [
      "Epoch 1/100\n",
      "29/29 [==============================] - ETA: 0s - loss: 0.7315 - accuracy: 0.6568\n",
      "Epoch 1: val_accuracy improved from -inf to 0.73216, saving model to best_model.h5\n",
      "29/29 [==============================] - 4s 35ms/step - loss: 0.7315 - accuracy: 0.6568 - val_loss: 0.5832 - val_accuracy: 0.7322\n",
      "Epoch 2/100\n",
      "26/29 [=========================>....] - ETA: 0s - loss: 0.5722 - accuracy: 0.6990\n",
      "Epoch 2: val_accuracy improved from 0.73216 to 0.77032, saving model to best_model.h5\n",
      "29/29 [==============================] - 0s 13ms/step - loss: 0.5725 - accuracy: 0.6967 - val_loss: 0.5241 - val_accuracy: 0.7703\n",
      "Epoch 3/100\n",
      "25/29 [========================>.....] - ETA: 0s - loss: 0.5466 - accuracy: 0.7050\n",
      "Epoch 3: val_accuracy did not improve from 0.77032\n",
      "29/29 [==============================] - 0s 11ms/step - loss: 0.5508 - accuracy: 0.7002 - val_loss: 0.5313 - val_accuracy: 0.7675\n",
      "Epoch 4/100\n",
      "24/29 [=======================>......] - ETA: 0s - loss: 0.5381 - accuracy: 0.7000\n",
      "Epoch 4: val_accuracy improved from 0.77032 to 0.77809, saving model to best_model.h5\n",
      "29/29 [==============================] - 0s 11ms/step - loss: 0.5356 - accuracy: 0.7004 - val_loss: 0.5268 - val_accuracy: 0.7781\n",
      "Epoch 5/100\n",
      "25/29 [========================>.....] - ETA: 0s - loss: 0.5295 - accuracy: 0.7058\n",
      "Epoch 5: val_accuracy did not improve from 0.77809\n",
      "29/29 [==============================] - 1s 24ms/step - loss: 0.5282 - accuracy: 0.7040 - val_loss: 0.5245 - val_accuracy: 0.7562\n",
      "Epoch 6/100\n",
      "28/29 [===========================>..] - ETA: 0s - loss: 0.5199 - accuracy: 0.7136\n",
      "Epoch 6: val_accuracy did not improve from 0.77809\n",
      "29/29 [==============================] - 0s 10ms/step - loss: 0.5187 - accuracy: 0.7147 - val_loss: 0.5559 - val_accuracy: 0.7449\n",
      "Epoch 7/100\n",
      "22/29 [=====================>........] - ETA: 0s - loss: 0.5073 - accuracy: 0.7305\n",
      "Epoch 7: val_accuracy did not improve from 0.77809\n",
      "29/29 [==============================] - 0s 11ms/step - loss: 0.5096 - accuracy: 0.7280 - val_loss: 0.5859 - val_accuracy: 0.7124\n",
      "Epoch 8/100\n",
      "25/29 [========================>.....] - ETA: 0s - loss: 0.4904 - accuracy: 0.7396\n",
      "Epoch 8: val_accuracy did not improve from 0.77809\n",
      "29/29 [==============================] - 0s 11ms/step - loss: 0.4873 - accuracy: 0.7414 - val_loss: 0.5368 - val_accuracy: 0.7625\n",
      "Epoch 9/100\n",
      "22/29 [=====================>........] - ETA: 0s - loss: 0.4777 - accuracy: 0.7532\n",
      "Epoch 9: val_accuracy did not improve from 0.77809\n",
      "29/29 [==============================] - 0s 12ms/step - loss: 0.4770 - accuracy: 0.7575 - val_loss: 0.5653 - val_accuracy: 0.7336\n",
      "Epoch 10/100\n",
      "29/29 [==============================] - ETA: 0s - loss: 0.4537 - accuracy: 0.7635\n",
      "Epoch 10: val_accuracy did not improve from 0.77809\n",
      "29/29 [==============================] - 0s 13ms/step - loss: 0.4537 - accuracy: 0.7635 - val_loss: 0.5316 - val_accuracy: 0.7583\n",
      "Epoch 11/100\n",
      "22/29 [=====================>........] - ETA: 0s - loss: 0.4530 - accuracy: 0.7673\n",
      "Epoch 11: val_accuracy did not improve from 0.77809\n",
      "29/29 [==============================] - 0s 12ms/step - loss: 0.4551 - accuracy: 0.7655 - val_loss: 0.5082 - val_accuracy: 0.7435\n",
      "Epoch 12/100\n",
      "22/29 [=====================>........] - ETA: 0s - loss: 0.4589 - accuracy: 0.7509\n",
      "Epoch 12: val_accuracy did not improve from 0.77809\n",
      "29/29 [==============================] - 0s 9ms/step - loss: 0.4616 - accuracy: 0.7519 - val_loss: 0.4611 - val_accuracy: 0.7760\n",
      "Epoch 13/100\n",
      "24/29 [=======================>......] - ETA: 0s - loss: 0.4462 - accuracy: 0.7694\n",
      "Epoch 13: val_accuracy did not improve from 0.77809\n",
      "29/29 [==============================] - 0s 12ms/step - loss: 0.4492 - accuracy: 0.7651 - val_loss: 0.5311 - val_accuracy: 0.7343\n",
      "Epoch 14/100\n",
      "22/29 [=====================>........] - ETA: 0s - loss: 0.4294 - accuracy: 0.7686\n",
      "Epoch 14: val_accuracy did not improve from 0.77809\n",
      "29/29 [==============================] - 0s 12ms/step - loss: 0.4284 - accuracy: 0.7690 - val_loss: 0.4497 - val_accuracy: 0.7689\n",
      "Epoch 15/100\n",
      "23/29 [======================>.......] - ETA: 0s - loss: 0.4208 - accuracy: 0.7759\n",
      "Epoch 15: val_accuracy did not improve from 0.77809\n",
      "29/29 [==============================] - 0s 10ms/step - loss: 0.4227 - accuracy: 0.7800 - val_loss: 0.4911 - val_accuracy: 0.7682\n",
      "Epoch 16/100\n",
      "24/29 [=======================>......] - ETA: 0s - loss: 0.4128 - accuracy: 0.7842\n",
      "Epoch 16: val_accuracy did not improve from 0.77809\n",
      "29/29 [==============================] - 0s 8ms/step - loss: 0.4139 - accuracy: 0.7835 - val_loss: 0.4908 - val_accuracy: 0.7710\n",
      "Epoch 17/100\n",
      "22/29 [=====================>........] - ETA: 0s - loss: 0.4155 - accuracy: 0.7786\n",
      "Epoch 17: val_accuracy did not improve from 0.77809\n",
      "29/29 [==============================] - 0s 9ms/step - loss: 0.4187 - accuracy: 0.7741 - val_loss: 0.5530 - val_accuracy: 0.7399\n",
      "Epoch 18/100\n",
      "22/29 [=====================>........] - ETA: 0s - loss: 0.4101 - accuracy: 0.7773\n",
      "Epoch 18: val_accuracy did not improve from 0.77809\n",
      "29/29 [==============================] - 0s 8ms/step - loss: 0.4090 - accuracy: 0.7789 - val_loss: 0.5039 - val_accuracy: 0.7682\n",
      "Epoch 19/100\n",
      "25/29 [========================>.....] - ETA: 0s - loss: 0.4081 - accuracy: 0.7806\n",
      "Epoch 19: val_accuracy did not improve from 0.77809\n",
      "29/29 [==============================] - 0s 8ms/step - loss: 0.4027 - accuracy: 0.7828 - val_loss: 0.4453 - val_accuracy: 0.7731\n",
      "Epoch 20/100\n",
      "22/29 [=====================>........] - ETA: 0s - loss: 0.3883 - accuracy: 0.7957\n",
      "Epoch 20: val_accuracy improved from 0.77809 to 0.79859, saving model to best_model.h5\n",
      "29/29 [==============================] - 0s 12ms/step - loss: 0.4044 - accuracy: 0.7890 - val_loss: 0.4286 - val_accuracy: 0.7986\n",
      "Epoch 21/100\n",
      "26/29 [=========================>....] - ETA: 0s - loss: 0.4361 - accuracy: 0.7615\n",
      "Epoch 21: val_accuracy did not improve from 0.79859\n",
      "29/29 [==============================] - 0s 11ms/step - loss: 0.4339 - accuracy: 0.7626 - val_loss: 0.5015 - val_accuracy: 0.7809\n",
      "Epoch 22/100\n",
      "23/29 [======================>.......] - ETA: 0s - loss: 0.4199 - accuracy: 0.7691\n",
      "Epoch 22: val_accuracy did not improve from 0.79859\n",
      "29/29 [==============================] - 0s 10ms/step - loss: 0.4129 - accuracy: 0.7743 - val_loss: 0.4208 - val_accuracy: 0.7859\n",
      "Epoch 23/100\n",
      "27/29 [==========================>...] - ETA: 0s - loss: 0.4056 - accuracy: 0.7778\n",
      "Epoch 23: val_accuracy did not improve from 0.79859\n",
      "29/29 [==============================] - 0s 10ms/step - loss: 0.4065 - accuracy: 0.7759 - val_loss: 0.4152 - val_accuracy: 0.7901\n",
      "Epoch 24/100\n",
      "28/29 [===========================>..] - ETA: 0s - loss: 0.3992 - accuracy: 0.7804\n",
      "Epoch 24: val_accuracy did not improve from 0.79859\n",
      "29/29 [==============================] - 0s 9ms/step - loss: 0.3999 - accuracy: 0.7796 - val_loss: 0.4811 - val_accuracy: 0.7661\n",
      "Epoch 25/100\n",
      "27/29 [==========================>...] - ETA: 0s - loss: 0.3881 - accuracy: 0.7922\n",
      "Epoch 25: val_accuracy did not improve from 0.79859\n",
      "29/29 [==============================] - 1s 19ms/step - loss: 0.3860 - accuracy: 0.7946 - val_loss: 0.4902 - val_accuracy: 0.7894\n",
      "Epoch 26/100\n",
      "27/29 [==========================>...] - ETA: 0s - loss: 0.3757 - accuracy: 0.7991\n",
      "Epoch 26: val_accuracy did not improve from 0.79859\n",
      "29/29 [==============================] - 1s 25ms/step - loss: 0.3750 - accuracy: 0.7987 - val_loss: 0.4502 - val_accuracy: 0.7951\n",
      "Epoch 27/100\n",
      "27/29 [==========================>...] - ETA: 0s - loss: 0.3894 - accuracy: 0.7969\n",
      "Epoch 27: val_accuracy did not improve from 0.79859\n",
      "29/29 [==============================] - 1s 26ms/step - loss: 0.3879 - accuracy: 0.7967 - val_loss: 0.4958 - val_accuracy: 0.7760\n",
      "Epoch 28/100\n",
      "25/29 [========================>.....] - ETA: 0s - loss: 0.3859 - accuracy: 0.7840\n",
      "Epoch 28: val_accuracy did not improve from 0.79859\n",
      "29/29 [==============================] - 0s 11ms/step - loss: 0.3863 - accuracy: 0.7856 - val_loss: 0.4218 - val_accuracy: 0.7908\n",
      "Epoch 29/100\n",
      "20/29 [===================>..........] - ETA: 0s - loss: 0.3815 - accuracy: 0.7920\n",
      "Epoch 29: val_accuracy did not improve from 0.79859\n",
      "29/29 [==============================] - 0s 9ms/step - loss: 0.3808 - accuracy: 0.7941 - val_loss: 0.5115 - val_accuracy: 0.7774\n",
      "Epoch 30/100\n",
      "25/29 [========================>.....] - ETA: 0s - loss: 0.3665 - accuracy: 0.7950\n",
      "Epoch 30: val_accuracy did not improve from 0.79859\n",
      "29/29 [==============================] - 0s 8ms/step - loss: 0.3658 - accuracy: 0.7971 - val_loss: 0.4596 - val_accuracy: 0.7724\n",
      "Epoch 31/100\n",
      "20/29 [===================>..........] - ETA: 0s - loss: 0.3580 - accuracy: 0.8058\n",
      "Epoch 31: val_accuracy did not improve from 0.79859\n",
      "29/29 [==============================] - 0s 9ms/step - loss: 0.3547 - accuracy: 0.8049 - val_loss: 0.5470 - val_accuracy: 0.7915\n",
      "Epoch 32/100\n",
      "25/29 [========================>.....] - ETA: 0s - loss: 0.3529 - accuracy: 0.8086\n",
      "Epoch 32: val_accuracy did not improve from 0.79859\n",
      "29/29 [==============================] - 0s 8ms/step - loss: 0.3554 - accuracy: 0.8068 - val_loss: 0.5357 - val_accuracy: 0.7682\n",
      "Epoch 33/100\n",
      "21/29 [====================>.........] - ETA: 0s - loss: 0.3649 - accuracy: 0.7995\n",
      "Epoch 33: val_accuracy did not improve from 0.79859\n",
      "29/29 [==============================] - 0s 9ms/step - loss: 0.3576 - accuracy: 0.8066 - val_loss: 0.5321 - val_accuracy: 0.7350\n",
      "Epoch 33: early stopping\n"
     ]
    }
   ],
   "source": [
    "history = cnn.fit(X_train_arr, y_train_arr, epochs=100, batch_size=200\n",
    "                  ,callbacks=[es,mc],validation_split=0.2)"
   ]
  },
  {
   "cell_type": "code",
   "execution_count": 182,
   "metadata": {},
   "outputs": [
    {
     "data": {
      "image/png": "[encoded data removed]",
      "text/plain": [
       "<Figure size 640x480 with 1 Axes>"
      ]
     },
     "metadata": {},
     "output_type": "display_data"
    }
   ],
   "source": [
    "history_df = pd.DataFrame(history.history)\n",
    "history_df.loc[:, ['loss',\"val_loss\"]].plot()\n",
    "plt.show()"
   ]
  },
  {
   "attachments": {},
   "cell_type": "markdown",
   "metadata": {},
   "source": [
    "#### Evaluation"
   ]
  },
  {
   "attachments": {},
   "cell_type": "markdown",
   "metadata": {},
   "source": [
    "- Evaluate last saved model (which is not the best option)"
   ]
  },
  {
   "cell_type": "code",
   "execution_count": 183,
   "metadata": {},
   "outputs": [
    {
     "name": "stdout",
     "output_type": "stream",
     "text": [
      "82/82 [==============================] - 0s 3ms/step\n"
     ]
    },
    {
     "data": {
      "text/plain": [
       "0.29296919509671404"
      ]
     },
     "execution_count": 183,
     "metadata": {},
     "output_type": "execute_result"
    }
   ],
   "source": [
    "from sklearn.metrics import mean_absolute_error\n",
    " \n",
    "predictions = cnn.predict(X_test_arr)\n",
    "mean_absolute_error(y_test, predictions)"
   ]
  },
  {
   "attachments": {},
   "cell_type": "markdown",
   "metadata": {},
   "source": [
    "- Evaluate best model which was monitored and saved"
   ]
  },
  {
   "cell_type": "code",
   "execution_count": 184,
   "metadata": {},
   "outputs": [
    {
     "name": "stdout",
     "output_type": "stream",
     "text": [
      "Train Data: 0.776, Test data: 0.753\n"
     ]
    }
   ],
   "source": [
    "best_saved_model = load_model('best_model.h5')\n",
    "_, train_acc = best_saved_model.evaluate(X_train_arr, y_train_arr, verbose=0)\n",
    "_, test_acc = best_saved_model.evaluate(X_test_arr, y_test_arr, verbose=0)\n",
    "print('Train Data: %.3f, Test data: %.3f' % (train_acc, test_acc))"
   ]
  },
  {
   "cell_type": "code",
   "execution_count": 185,
   "metadata": {},
   "outputs": [
    {
     "name": "stdout",
     "output_type": "stream",
     "text": [
      "222/222 [==============================] - 1s 3ms/step\n",
      " Train data : 29.578 %\n"
     ]
    }
   ],
   "source": [
    "best_model_predictions = best_saved_model.predict(X_train_arr)\n",
    "print(f\" Train data : {round(mean_absolute_error(y_train, best_model_predictions)*100,3)} %\")"
   ]
  },
  {
   "cell_type": "code",
   "execution_count": 186,
   "metadata": {},
   "outputs": [
    {
     "name": "stdout",
     "output_type": "stream",
     "text": [
      "82/82 [==============================] - 0s 4ms/step\n",
      " Test data : 31.822 %\n"
     ]
    }
   ],
   "source": [
    "best_model_predictions = best_saved_model.predict(X_test_arr)\n",
    "print(f\" Test data : {round(mean_absolute_error(y_test, best_model_predictions)*100,3)} %\")"
   ]
  },
  {
   "cell_type": "code",
   "execution_count": 187,
   "metadata": {},
   "outputs": [
    {
     "data": {
      "text/plain": [
       "array([[0.7117072 ],\n",
       "       [0.7054252 ],\n",
       "       [0.83823717],\n",
       "       ...,\n",
       "       [0.9940027 ],\n",
       "       [0.9958638 ],\n",
       "       [0.9967898 ]], dtype=float32)"
      ]
     },
     "execution_count": 187,
     "metadata": {},
     "output_type": "execute_result"
    }
   ],
   "source": [
    "best_model_predictions"
   ]
  },
  {
   "attachments": {},
   "cell_type": "markdown",
   "metadata": {},
   "source": [
    "## Feature engineering (Lagging)\n",
    "create info from consecutive points in time in one row.\n",
    "How to create :  copy one feature into a new column and shift it one or more rows down. Depending on the amount n of lag features, the dataframe gets n additional columns with n shifts in time."
   ]
  },
  {
   "cell_type": "code",
   "execution_count": 188,
   "metadata": {},
   "outputs": [],
   "source": [
    "lag_df = fe_lag_features(df_fe,15, ['accel_norm',\"rotR_x\",\"rotR_y\",\"rotR_z\"])"
   ]
  },
  {
   "cell_type": "code",
   "execution_count": 210,
   "metadata": {},
   "outputs": [
    {
     "data": {
      "text/plain": [
       "70"
      ]
     },
     "execution_count": 210,
     "metadata": {},
     "output_type": "execute_result"
    }
   ],
   "source": [
    "len(lag_df.columns)"
   ]
  },
  {
   "cell_type": "markdown",
   "metadata": {},
   "source": [
    "## Data Splitting"
   ]
  },
  {
   "cell_type": "code",
   "execution_count": 190,
   "metadata": {},
   "outputs": [],
   "source": [
    "train_df_lag,test_df_lag = data_split_TrainTest(lag_df)"
   ]
  },
  {
   "cell_type": "code",
   "execution_count": 191,
   "metadata": {},
   "outputs": [
    {
     "data": {
      "text/plain": [
       "(38, 15)"
      ]
     },
     "execution_count": 191,
     "metadata": {},
     "output_type": "execute_result"
    }
   ],
   "source": [
    "len(train_df_lag.action_num.unique()),len(test_df_lag.action_num.unique())"
   ]
  },
  {
   "cell_type": "code",
   "execution_count": 192,
   "metadata": {},
   "outputs": [],
   "source": [
    "X_train_lag,y_train_lag = data_split_FeatLabel(train_df)\n",
    "X_test_lag,y_test_lag = data_split_FeatLabel(test_df)"
   ]
  },
  {
   "cell_type": "markdown",
   "metadata": {},
   "source": [
    "## Modeling"
   ]
  },
  {
   "cell_type": "markdown",
   "metadata": {},
   "source": [
    "### Random ForestClassifier (baseline)"
   ]
  },
  {
   "cell_type": "code",
   "execution_count": 214,
   "metadata": {},
   "outputs": [
    {
     "data": {
      "text/html": [
       "<style>#sk-container-id-19 {color: black;background-color: white;}#sk-container-id-19 pre{padding: 0;}#sk-container-id-19 div.sk-toggleable {background-color: white;}#sk-container-id-19 label.sk-toggleable__label {cursor: pointer;display: block;width: 100%;margin-bottom: 0;padding: 0.3em;box-sizing: border-box;text-align: center;}#sk-container-id-19 label.sk-toggleable__label-arrow:before {content: \"▸\";float: left;margin-right: 0.25em;color: #696969;}#sk-container-id-19 label.sk-toggleable__label-arrow:hover:before {color: black;}#sk-container-id-19 div.sk-estimator:hover label.sk-toggleable__label-arrow:before {color: black;}#sk-container-id-19 div.sk-toggleable__content {max-height: 0;max-width: 0;overflow: hidden;text-align: left;background-color: #f0f8ff;}#sk-container-id-19 div.sk-toggleable__content pre {margin: 0.2em;color: black;border-radius: 0.25em;background-color: #f0f8ff;}#sk-container-id-19 input.sk-toggleable__control:checked~div.sk-toggleable__content {max-height: 200px;max-width: 100%;overflow: auto;}#sk-container-id-19 input.sk-toggleable__control:checked~label.sk-toggleable__label-arrow:before {content: \"▾\";}#sk-container-id-19 div.sk-estimator input.sk-toggleable__control:checked~label.sk-toggleable__label {background-color: #d4ebff;}#sk-container-id-19 div.sk-label input.sk-toggleable__control:checked~label.sk-toggleable__label {background-color: #d4ebff;}#sk-container-id-19 input.sk-hidden--visually {border: 0;clip: rect(1px 1px 1px 1px);clip: rect(1px, 1px, 1px, 1px);height: 1px;margin: -1px;overflow: hidden;padding: 0;position: absolute;width: 1px;}#sk-container-id-19 div.sk-estimator {font-family: monospace;background-color: #f0f8ff;border: 1px dotted black;border-radius: 0.25em;box-sizing: border-box;margin-bottom: 0.5em;}#sk-container-id-19 div.sk-estimator:hover {background-color: #d4ebff;}#sk-container-id-19 div.sk-parallel-item::after {content: \"\";width: 100%;border-bottom: 1px solid gray;flex-grow: 1;}#sk-container-id-19 div.sk-label:hover label.sk-toggleable__label {background-color: #d4ebff;}#sk-container-id-19 div.sk-serial::before {content: \"\";position: absolute;border-left: 1px solid gray;box-sizing: border-box;top: 0;bottom: 0;left: 50%;z-index: 0;}#sk-container-id-19 div.sk-serial {display: flex;flex-direction: column;align-items: center;background-color: white;padding-right: 0.2em;padding-left: 0.2em;position: relative;}#sk-container-id-19 div.sk-item {position: relative;z-index: 1;}#sk-container-id-19 div.sk-parallel {display: flex;align-items: stretch;justify-content: center;background-color: white;position: relative;}#sk-container-id-19 div.sk-item::before, #sk-container-id-19 div.sk-parallel-item::before {content: \"\";position: absolute;border-left: 1px solid gray;box-sizing: border-box;top: 0;bottom: 0;left: 50%;z-index: -1;}#sk-container-id-19 div.sk-parallel-item {display: flex;flex-direction: column;z-index: 1;position: relative;background-color: white;}#sk-container-id-19 div.sk-parallel-item:first-child::after {align-self: flex-end;width: 50%;}#sk-container-id-19 div.sk-parallel-item:last-child::after {align-self: flex-start;width: 50%;}#sk-container-id-19 div.sk-parallel-item:only-child::after {width: 0;}#sk-container-id-19 div.sk-dashed-wrapped {border: 1px dashed gray;margin: 0 0.4em 0.5em 0.4em;box-sizing: border-box;padding-bottom: 0.4em;background-color: white;}#sk-container-id-19 div.sk-label label {font-family: monospace;font-weight: bold;display: inline-block;line-height: 1.2em;}#sk-container-id-19 div.sk-label-container {text-align: center;}#sk-container-id-19 div.sk-container {/* jupyter's `normalize.less` sets `[hidden] { display: none; }` but bootstrap.min.css set `[hidden] { display: none !important; }` so we also need the `!important` here to be able to override the default hidden behavior on the sphinx rendered scikit-learn.org. See: https://github.com/scikit-learn/scikit-learn/issues/21755 */display: inline-block !important;position: relative;}#sk-container-id-19 div.sk-text-repr-fallback {display: none;}</style><div id=\"sk-container-id-19\" class=\"sk-top-container\"><div class=\"sk-text-repr-fallback\"><pre>RandomForestClassifier(max_depth=4)</pre><b>In a Jupyter environment, please rerun this cell to show the HTML representation or trust the notebook. <br />On GitHub, the HTML representation is unable to render, please try loading this page with nbviewer.org.</b></div><div class=\"sk-container\" hidden><div class=\"sk-item\"><div class=\"sk-estimator sk-toggleable\"><input class=\"sk-toggleable__control sk-hidden--visually\" id=\"sk-estimator-id-19\" type=\"checkbox\" checked><label for=\"sk-estimator-id-19\" class=\"sk-toggleable__label sk-toggleable__label-arrow\">RandomForestClassifier</label><div class=\"sk-toggleable__content\"><pre>RandomForestClassifier(max_depth=4)</pre></div></div></div></div></div>"
      ],
      "text/plain": [
       "RandomForestClassifier(max_depth=4)"
      ]
     },
     "execution_count": 214,
     "metadata": {},
     "output_type": "execute_result"
    }
   ],
   "source": [
    "from sklearn.ensemble import RandomForestClassifier\n",
    "\n",
    "lag_rfc = RandomForestClassifier(n_estimators=100,max_depth=4)\n",
    "lag_rfc.fit(X_train_lag, y_train_lag)"
   ]
  },
  {
   "cell_type": "code",
   "execution_count": 215,
   "metadata": {},
   "outputs": [
    {
     "name": "stdout",
     "output_type": "stream",
     "text": [
      " The acurracy for Train data is: 80.023 %\n"
     ]
    }
   ],
   "source": [
    "print(f\" The acurracy for Train data is: {round(accuracy_score(y_train_lag,lag_rfc.predict(X_train_lag))*100,3)} %\")"
   ]
  },
  {
   "cell_type": "code",
   "execution_count": 216,
   "metadata": {},
   "outputs": [
    {
     "name": "stdout",
     "output_type": "stream",
     "text": [
      " The acurracy for Train data is: 78.04 %\n"
     ]
    }
   ],
   "source": [
    "print(f\" The acurracy for Train data is: {round(accuracy_score(y_test_lag,lag_rfc.predict(X_test_lag))*100,3)} %\")\n"
   ]
  },
  {
   "cell_type": "markdown",
   "metadata": {},
   "source": [
    "### Neurel Network"
   ]
  },
  {
   "cell_type": "code",
   "execution_count": 196,
   "metadata": {},
   "outputs": [],
   "source": [
    "from tensorflow import keras\n",
    "from tensorflow.keras.models import Sequential,load_model\n",
    "\n",
    "from tensorflow.keras.layers import Dense\n",
    "#from tensorflow.keras.utils import np_utils\n",
    "from tensorflow.keras.callbacks import EarlyStopping,ModelCheckpoint\n",
    "\n",
    "from sklearn.preprocessing import LabelEncoder\n",
    "from sklearn.model_selection import train_test_split"
   ]
  },
  {
   "cell_type": "code",
   "execution_count": 197,
   "metadata": {},
   "outputs": [],
   "source": [
    "input_dim = X_train_lag.shape[1]\n",
    "cnn = Sequential()\n",
    "cnn.add(Dense(80, input_dim=input_dim, activation='relu'))\n",
    "cnn.add(Dense(40, activation='relu'))\n",
    "cnn.add(Dense(20, activation='relu'))\n",
    "cnn.add(Dense(1, activation='sigmoid'))"
   ]
  },
  {
   "cell_type": "code",
   "execution_count": 198,
   "metadata": {},
   "outputs": [],
   "source": [
    "opt = keras.optimizers.Adam(learning_rate=0.01)\n",
    "\n",
    "cnn.compile(loss='binary_crossentropy', optimizer=opt, metrics=['accuracy'])\n",
    "\n",
    "#X_train, val_X, y_train, val_y = train_test_split(X_train, y_train, shuffle=True)"
   ]
  },
  {
   "cell_type": "code",
   "execution_count": 199,
   "metadata": {},
   "outputs": [],
   "source": [
    "X_train_arr = np.asarray(X_train_lag)\n",
    "y_train_arr = np.asarray(y_train_lag)\n",
    "X_test_arr = np.asarray(X_test_lag)\n",
    "y_test_arr = np.asarray(y_test_lag)\n",
    "# val_X =  np.asarray(val_X)\n",
    "# val_y =  np.asarray(val_y)"
   ]
  },
  {
   "cell_type": "code",
   "execution_count": 200,
   "metadata": {},
   "outputs": [],
   "source": [
    "es = EarlyStopping(monitor='val_loss', mode='min', verbose=1, patience=10)\n",
    "mc = ModelCheckpoint('best_model.h5', monitor='val_accuracy', mode='max', verbose=1, save_best_only=True)\n"
   ]
  },
  {
   "cell_type": "code",
   "execution_count": 201,
   "metadata": {},
   "outputs": [
    {
     "name": "stdout",
     "output_type": "stream",
     "text": [
      "Epoch 1/100\n",
      "24/29 [=======================>......] - ETA: 0s - loss: 0.6753 - accuracy: 0.6698\n",
      "Epoch 1: val_accuracy improved from -inf to 0.71661, saving model to best_model.h5\n",
      "29/29 [==============================] - 2s 26ms/step - loss: 0.6570 - accuracy: 0.6767 - val_loss: 0.5906 - val_accuracy: 0.7166\n",
      "Epoch 2/100\n",
      "25/29 [========================>.....] - ETA: 0s - loss: 0.5578 - accuracy: 0.7006\n",
      "Epoch 2: val_accuracy improved from 0.71661 to 0.72933, saving model to best_model.h5\n",
      "29/29 [==============================] - 0s 10ms/step - loss: 0.5574 - accuracy: 0.7001 - val_loss: 0.5410 - val_accuracy: 0.7293\n",
      "Epoch 3/100\n",
      "26/29 [=========================>....] - ETA: 0s - loss: 0.5420 - accuracy: 0.7002\n",
      "Epoch 3: val_accuracy did not improve from 0.72933\n",
      "29/29 [==============================] - 0s 8ms/step - loss: 0.5426 - accuracy: 0.7013 - val_loss: 0.5506 - val_accuracy: 0.7293\n",
      "Epoch 4/100\n",
      "26/29 [=========================>....] - ETA: 0s - loss: 0.5359 - accuracy: 0.7002\n",
      "Epoch 4: val_accuracy did not improve from 0.72933\n",
      "29/29 [==============================] - 0s 10ms/step - loss: 0.5354 - accuracy: 0.7008 - val_loss: 0.5446 - val_accuracy: 0.7279\n",
      "Epoch 5/100\n",
      "26/29 [=========================>....] - ETA: 0s - loss: 0.5230 - accuracy: 0.7167\n",
      "Epoch 5: val_accuracy improved from 0.72933 to 0.76961, saving model to best_model.h5\n",
      "29/29 [==============================] - 0s 12ms/step - loss: 0.5238 - accuracy: 0.7146 - val_loss: 0.5142 - val_accuracy: 0.7696\n",
      "Epoch 6/100\n",
      "20/29 [===================>..........] - ETA: 0s - loss: 0.5058 - accuracy: 0.7337\n",
      "Epoch 6: val_accuracy improved from 0.76961 to 0.77173, saving model to best_model.h5\n",
      "29/29 [==============================] - 0s 12ms/step - loss: 0.5016 - accuracy: 0.7407 - val_loss: 0.5007 - val_accuracy: 0.7717\n",
      "Epoch 7/100\n",
      "22/29 [=====================>........] - ETA: 0s - loss: 0.5013 - accuracy: 0.7355\n",
      "Epoch 7: val_accuracy did not improve from 0.77173\n",
      "29/29 [==============================] - 0s 8ms/step - loss: 0.4972 - accuracy: 0.7411 - val_loss: 0.5126 - val_accuracy: 0.7548\n",
      "Epoch 8/100\n",
      "23/29 [======================>.......] - ETA: 0s - loss: 0.4709 - accuracy: 0.7461\n",
      "Epoch 8: val_accuracy improved from 0.77173 to 0.80071, saving model to best_model.h5\n",
      "29/29 [==============================] - 0s 12ms/step - loss: 0.4645 - accuracy: 0.7501 - val_loss: 0.4310 - val_accuracy: 0.8007\n",
      "Epoch 9/100\n",
      "20/29 [===================>..........] - ETA: 0s - loss: 0.4444 - accuracy: 0.7595\n",
      "Epoch 9: val_accuracy did not improve from 0.80071\n",
      "29/29 [==============================] - 0s 9ms/step - loss: 0.4485 - accuracy: 0.7589 - val_loss: 0.4601 - val_accuracy: 0.7739\n",
      "Epoch 10/100\n",
      "22/29 [=====================>........] - ETA: 0s - loss: 0.4324 - accuracy: 0.7655\n",
      "Epoch 10: val_accuracy did not improve from 0.80071\n",
      "29/29 [==============================] - 0s 8ms/step - loss: 0.4334 - accuracy: 0.7653 - val_loss: 0.4972 - val_accuracy: 0.7442\n",
      "Epoch 11/100\n",
      "25/29 [========================>.....] - ETA: 0s - loss: 0.4288 - accuracy: 0.7700\n",
      "Epoch 11: val_accuracy did not improve from 0.80071\n",
      "29/29 [==============================] - 0s 8ms/step - loss: 0.4281 - accuracy: 0.7706 - val_loss: 0.5874 - val_accuracy: 0.7463\n",
      "Epoch 12/100\n",
      "23/29 [======================>.......] - ETA: 0s - loss: 0.4161 - accuracy: 0.7676\n",
      "Epoch 12: val_accuracy did not improve from 0.80071\n",
      "29/29 [==============================] - 0s 9ms/step - loss: 0.4211 - accuracy: 0.7641 - val_loss: 0.4924 - val_accuracy: 0.7350\n",
      "Epoch 13/100\n",
      "29/29 [==============================] - ETA: 0s - loss: 0.4209 - accuracy: 0.7722\n",
      "Epoch 13: val_accuracy did not improve from 0.80071\n",
      "29/29 [==============================] - 0s 12ms/step - loss: 0.4209 - accuracy: 0.7722 - val_loss: 0.4847 - val_accuracy: 0.7837\n",
      "Epoch 14/100\n",
      "18/29 [=================>............] - ETA: 0s - loss: 0.4189 - accuracy: 0.7747\n",
      "Epoch 14: val_accuracy did not improve from 0.80071\n",
      "29/29 [==============================] - 0s 9ms/step - loss: 0.4117 - accuracy: 0.7798 - val_loss: 0.5528 - val_accuracy: 0.7435\n",
      "Epoch 15/100\n",
      "25/29 [========================>.....] - ETA: 0s - loss: 0.4185 - accuracy: 0.7736\n",
      "Epoch 15: val_accuracy did not improve from 0.80071\n",
      "29/29 [==============================] - 0s 8ms/step - loss: 0.4167 - accuracy: 0.7789 - val_loss: 0.4866 - val_accuracy: 0.7456\n",
      "Epoch 16/100\n",
      "28/29 [===========================>..] - ETA: 0s - loss: 0.4132 - accuracy: 0.7800\n",
      "Epoch 16: val_accuracy did not improve from 0.80071\n",
      "29/29 [==============================] - 0s 9ms/step - loss: 0.4127 - accuracy: 0.7800 - val_loss: 0.5231 - val_accuracy: 0.7357\n",
      "Epoch 17/100\n",
      "25/29 [========================>.....] - ETA: 0s - loss: 0.3852 - accuracy: 0.7964\n",
      "Epoch 17: val_accuracy did not improve from 0.80071\n",
      "29/29 [==============================] - 0s 9ms/step - loss: 0.3873 - accuracy: 0.7953 - val_loss: 0.5354 - val_accuracy: 0.7413\n",
      "Epoch 18/100\n",
      "22/29 [=====================>........] - ETA: 0s - loss: 0.3885 - accuracy: 0.7984\n",
      "Epoch 18: val_accuracy did not improve from 0.80071\n",
      "29/29 [==============================] - 0s 9ms/step - loss: 0.3872 - accuracy: 0.8001 - val_loss: 0.4837 - val_accuracy: 0.7788\n",
      "Epoch 18: early stopping\n"
     ]
    }
   ],
   "source": [
    "history = cnn.fit(X_train_arr, y_train_arr, epochs=100, batch_size=200,callbacks=[es,mc]\n",
    "                  #, validation_data=(test_X,test_y)\n",
    "                  ,validation_split=0.2\n",
    "                  )\n"
   ]
  },
  {
   "cell_type": "code",
   "execution_count": 202,
   "metadata": {},
   "outputs": [
    {
     "data": {
      "image/png": "[encoded data removed]",
      "text/plain": [
       "<Figure size 640x480 with 1 Axes>"
      ]
     },
     "metadata": {},
     "output_type": "display_data"
    }
   ],
   "source": [
    "history_df = pd.DataFrame(history.history)\n",
    "history_df.loc[:, ['loss',\"val_loss\"]].plot()\n",
    "plt.show()"
   ]
  },
  {
   "cell_type": "markdown",
   "metadata": {},
   "source": [
    "#### Evaluation"
   ]
  },
  {
   "cell_type": "markdown",
   "metadata": {},
   "source": [
    "- Evaluate last saved model (which is not the best option)"
   ]
  },
  {
   "cell_type": "code",
   "execution_count": 203,
   "metadata": {},
   "outputs": [
    {
     "name": "stdout",
     "output_type": "stream",
     "text": [
      "82/82 [==============================] - 1s 5ms/step\n"
     ]
    },
    {
     "data": {
      "text/plain": [
       "0.28199970984906014"
      ]
     },
     "execution_count": 203,
     "metadata": {},
     "output_type": "execute_result"
    }
   ],
   "source": [
    "from sklearn.metrics import mean_absolute_error\n",
    " \n",
    "predictions = cnn.predict(X_test_arr)\n",
    "mean_absolute_error(y_test_lag, predictions)"
   ]
  },
  {
   "cell_type": "markdown",
   "metadata": {},
   "source": [
    "- Evaluate best model which was monitored and saved"
   ]
  },
  {
   "cell_type": "code",
   "execution_count": 204,
   "metadata": {},
   "outputs": [
    {
     "name": "stdout",
     "output_type": "stream",
     "text": [
      "Train: 0.761, Test: 0.750\n"
     ]
    }
   ],
   "source": [
    "best_saved_model = load_model('best_model.h5')\n",
    "_, train_acc = best_saved_model.evaluate(X_train_arr, y_train_arr, verbose=0)\n",
    "_, test_acc = best_saved_model.evaluate(X_test_arr, y_test_arr, verbose=0)\n",
    "print('Train: %.3f, Test: %.3f' % (train_acc, test_acc))"
   ]
  },
  {
   "cell_type": "code",
   "execution_count": 205,
   "metadata": {},
   "outputs": [
    {
     "name": "stdout",
     "output_type": "stream",
     "text": [
      "82/82 [==============================] - 0s 3ms/step\n"
     ]
    },
    {
     "data": {
      "text/plain": [
       "0.3153974213771003"
      ]
     },
     "execution_count": 205,
     "metadata": {},
     "output_type": "execute_result"
    }
   ],
   "source": [
    "#TODO use saved_model to predict data\n",
    "best_model_predictions = best_saved_model.predict(X_test_arr)\n",
    "mean_absolute_error(y_test_lag, best_model_predictions)"
   ]
  },
  {
   "cell_type": "code",
   "execution_count": 206,
   "metadata": {},
   "outputs": [
    {
     "ename": "ValueError",
     "evalue": "Classification metrics can't handle a mix of continuous and binary targets",
     "output_type": "error",
     "traceback": [
      "\u001b[1;31m---------------------------------------------------------------------------\u001b[0m",
      "\u001b[1;31mValueError\u001b[0m                                Traceback (most recent call last)",
      "Cell \u001b[1;32mIn[206], line 5\u001b[0m\n\u001b[0;32m      2\u001b[0m \u001b[39mfrom\u001b[39;00m \u001b[39msklearn\u001b[39;00m\u001b[39m.\u001b[39;00m\u001b[39mmetrics\u001b[39;00m \u001b[39mimport\u001b[39;00m ConfusionMatrixDisplay\n\u001b[0;32m      3\u001b[0m \u001b[39mfrom\u001b[39;00m \u001b[39mmatplotlib\u001b[39;00m \u001b[39mimport\u001b[39;00m pyplot \u001b[39mas\u001b[39;00m plt\n\u001b[1;32m----> 5\u001b[0m conf_mat \u001b[39m=\u001b[39m confusion_matrix(best_model_predictions, y_test_lag)\n\u001b[0;32m      6\u001b[0m conf_mat_disp \u001b[39m=\u001b[39m ConfusionMatrixDisplay(confusion_matrix\u001b[39m=\u001b[39mconf_mat)\n\u001b[0;32m      7\u001b[0m conf_mat_disp\u001b[39m.\u001b[39mplot(cmap\u001b[39m=\u001b[39m\u001b[39m'\u001b[39m\u001b[39mGreens\u001b[39m\u001b[39m'\u001b[39m)\n",
      "File \u001b[1;32mc:\\Users\\Jacqueline\\anaconda3\\envs\\tf\\lib\\site-packages\\sklearn\\metrics\\_classification.py:317\u001b[0m, in \u001b[0;36mconfusion_matrix\u001b[1;34m(y_true, y_pred, labels, sample_weight, normalize)\u001b[0m\n\u001b[0;32m    232\u001b[0m \u001b[39mdef\u001b[39;00m \u001b[39mconfusion_matrix\u001b[39m(\n\u001b[0;32m    233\u001b[0m     y_true, y_pred, \u001b[39m*\u001b[39m, labels\u001b[39m=\u001b[39m\u001b[39mNone\u001b[39;00m, sample_weight\u001b[39m=\u001b[39m\u001b[39mNone\u001b[39;00m, normalize\u001b[39m=\u001b[39m\u001b[39mNone\u001b[39;00m\n\u001b[0;32m    234\u001b[0m ):\n\u001b[0;32m    235\u001b[0m \u001b[39m    \u001b[39m\u001b[39m\"\"\"Compute confusion matrix to evaluate the accuracy of a classification.\u001b[39;00m\n\u001b[0;32m    236\u001b[0m \n\u001b[0;32m    237\u001b[0m \u001b[39m    By definition a confusion matrix :math:`C` is such that :math:`C_{i, j}`\u001b[39;00m\n\u001b[1;32m   (...)\u001b[0m\n\u001b[0;32m    315\u001b[0m \u001b[39m    (0, 2, 1, 1)\u001b[39;00m\n\u001b[0;32m    316\u001b[0m \u001b[39m    \"\"\"\u001b[39;00m\n\u001b[1;32m--> 317\u001b[0m     y_type, y_true, y_pred \u001b[39m=\u001b[39m _check_targets(y_true, y_pred)\n\u001b[0;32m    318\u001b[0m     \u001b[39mif\u001b[39;00m y_type \u001b[39mnot\u001b[39;00m \u001b[39min\u001b[39;00m (\u001b[39m\"\u001b[39m\u001b[39mbinary\u001b[39m\u001b[39m\"\u001b[39m, \u001b[39m\"\u001b[39m\u001b[39mmulticlass\u001b[39m\u001b[39m\"\u001b[39m):\n\u001b[0;32m    319\u001b[0m         \u001b[39mraise\u001b[39;00m \u001b[39mValueError\u001b[39;00m(\u001b[39m\"\u001b[39m\u001b[39m%s\u001b[39;00m\u001b[39m is not supported\u001b[39m\u001b[39m\"\u001b[39m \u001b[39m%\u001b[39m y_type)\n",
      "File \u001b[1;32mc:\\Users\\Jacqueline\\anaconda3\\envs\\tf\\lib\\site-packages\\sklearn\\metrics\\_classification.py:95\u001b[0m, in \u001b[0;36m_check_targets\u001b[1;34m(y_true, y_pred)\u001b[0m\n\u001b[0;32m     92\u001b[0m     y_type \u001b[39m=\u001b[39m {\u001b[39m\"\u001b[39m\u001b[39mmulticlass\u001b[39m\u001b[39m\"\u001b[39m}\n\u001b[0;32m     94\u001b[0m \u001b[39mif\u001b[39;00m \u001b[39mlen\u001b[39m(y_type) \u001b[39m>\u001b[39m \u001b[39m1\u001b[39m:\n\u001b[1;32m---> 95\u001b[0m     \u001b[39mraise\u001b[39;00m \u001b[39mValueError\u001b[39;00m(\n\u001b[0;32m     96\u001b[0m         \u001b[39m\"\u001b[39m\u001b[39mClassification metrics can\u001b[39m\u001b[39m'\u001b[39m\u001b[39mt handle a mix of \u001b[39m\u001b[39m{0}\u001b[39;00m\u001b[39m and \u001b[39m\u001b[39m{1}\u001b[39;00m\u001b[39m targets\u001b[39m\u001b[39m\"\u001b[39m\u001b[39m.\u001b[39mformat(\n\u001b[0;32m     97\u001b[0m             type_true, type_pred\n\u001b[0;32m     98\u001b[0m         )\n\u001b[0;32m     99\u001b[0m     )\n\u001b[0;32m    101\u001b[0m \u001b[39m# We can't have more than one value on y_type => The set is no more needed\u001b[39;00m\n\u001b[0;32m    102\u001b[0m y_type \u001b[39m=\u001b[39m y_type\u001b[39m.\u001b[39mpop()\n",
      "\u001b[1;31mValueError\u001b[0m: Classification metrics can't handle a mix of continuous and binary targets"
     ]
    }
   ],
   "source": [
    "from sklearn.metrics import confusion_matrix\n",
    "from sklearn.metrics import ConfusionMatrixDisplay\n",
    "from matplotlib import pyplot as plt\n",
    "\n",
    "conf_mat = confusion_matrix(best_model_predictions, y_test_lag)\n",
    "conf_mat_disp = ConfusionMatrixDisplay(confusion_matrix=conf_mat)\n",
    "conf_mat_disp.plot(cmap='Greens')\n",
    "plt.show()"
   ]
  },
  {
   "cell_type": "code",
   "execution_count": null,
   "metadata": {},
   "outputs": [
    {
     "data": {
      "text/plain": [
       "0"
      ]
     },
     "execution_count": 143,
     "metadata": {},
     "output_type": "execute_result"
    }
   ],
   "source": [
    "np.argmax(100)"
   ]
  }
 ],
 "metadata": {
  "kernelspec": {
   "display_name": "Python 3",
   "language": "python",
   "name": "python3"
  },
  "language_info": {
   "codemirror_mode": {
    "name": "ipython",
    "version": 3
   },
   "file_extension": ".py",
   "mimetype": "text/x-python",
   "name": "python",
   "nbconvert_exporter": "python",
   "pygments_lexer": "ipython3",
   "version": "3.10.9"
  },
  "orig_nbformat": 4,
  "vscode": {
   "interpreter": {
    "hash": "81794d4967e6c3204c66dcd87b604927b115b27c00565d3d43f05ba2f3a2cb0d"
   }
  }
 },
 "nbformat": 4,
 "nbformat_minor": 2
}
