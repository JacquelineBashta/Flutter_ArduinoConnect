{
 "cells": [
  {
   "cell_type": "code",
   "execution_count": 2,
   "metadata": {},
   "outputs": [],
   "source": [
    "# True Label (tl)\n",
    "True_dict = {\n",
    "\"position\"  : [\"stand\",\"sit\"],\n",
    "\"item_init_pos\"  : [\"hold\", \"front\",\"left\",\"right\"],\n",
    "\"item\"  : [\"DrinkBottle\", \"DrinkCup\"],\n",
    "\"action_period\"  : [\"10ml_1s\", \"50ml_3s\", \"100ml_5s\"],\n",
    "\"item_final_pos\"  : [\"hold\", \"front\",\"left\",\"right\"],\n",
    "}\n",
    "# False Label (fl)\n",
    "False_dict = {\n",
    "\"position\" : [\"stand\",\"sit\"],\n",
    "\"item_init_pos\": [\"hold\", \"front\",\"left\",\"right\"],\n",
    "\"item\" : [\"EatFood\",\"LookMobile\"],\n",
    "\"action_period\" : [\"2sec\",\"10sec\"],\n",
    "\"item_final_pos\": [\"hold\", \"front\",\"left\",\"right\"],\n",
    "}"
   ]
  },
  {
   "cell_type": "code",
   "execution_count": 3,
   "metadata": {},
   "outputs": [
    {
     "data": {
      "text/plain": [
       "'t_sit_left_DrinkBottle_50ml_3s_left'"
      ]
     },
     "execution_count": 3,
     "metadata": {},
     "output_type": "execute_result"
    }
   ],
   "source": [
    "import itertools\n",
    "import re\n",
    "test_case_regex = r\": '([a-zA-Z0-9_]+)'\"\n",
    "true_test_cases_list=[]\n",
    "false_test_cases_list=[]\n",
    "\n",
    "t_keys, t_values = zip(*True_dict.items())\n",
    "t_permutations_list = [dict(zip(t_keys, v)) for v in itertools.product(*t_values)]\n",
    "for test_case in t_permutations_list:\n",
    "    t_test = re.findall(test_case_regex,str(test_case))\n",
    "    true_test_cases_list.append(\"t_\" + \"_\".join(t_test))\n",
    "f_keys, f_values = zip(*False_dict.items())\n",
    "f_permutations_list = [dict(zip(f_keys, v)) for v in itertools.product(*f_values)]\n",
    "for test_case in f_permutations_list:\n",
    "    f_test = re.findall(test_case_regex,str(test_case))\n",
    "    false_test_cases_list.append(\"f_\" + \"_\".join(f_test))\n",
    "\n",
    "test_cases_l = (true_test_cases_list) + (false_test_cases_list)\n",
    "test_cases_l[150]"
   ]
  },
  {
   "cell_type": "code",
   "execution_count": 4,
   "metadata": {},
   "outputs": [
    {
     "data": {
      "text/plain": [
       "320"
      ]
     },
     "execution_count": 4,
     "metadata": {},
     "output_type": "execute_result"
    }
   ],
   "source": [
    "#Remove unrealistic usecases\n",
    "red_test_cases_l = test_cases_l.copy()\n",
    "for testcase in red_test_cases_l:\n",
    "    if (\"walk\" in testcase) and (\"hold\" not in testcase):\n",
    "        red_test_cases_l.remove(testcase)\n",
    "\n",
    "len(red_test_cases_l)\n",
    "            "
   ]
  },
  {
   "cell_type": "code",
   "execution_count": 5,
   "metadata": {},
   "outputs": [],
   "source": [
    "\n",
    "with open('test_cases.txt', 'w') as f:\n",
    "    for one_test in red_test_cases_l:\n",
    "        f.write(str(one_test)+\".csv\"+ \"\\n\")\n",
    " "
   ]
  }
 ],
 "metadata": {
  "kernelspec": {
   "display_name": "Python 3",
   "language": "python",
   "name": "python3"
  },
  "language_info": {
   "codemirror_mode": {
    "name": "ipython",
    "version": 3
   },
   "file_extension": ".py",
   "mimetype": "text/x-python",
   "name": "python",
   "nbconvert_exporter": "python",
   "pygments_lexer": "ipython3",
   "version": "3.9.1"
  },
  "orig_nbformat": 4,
  "vscode": {
   "interpreter": {
    "hash": "81794d4967e6c3204c66dcd87b604927b115b27c00565d3d43f05ba2f3a2cb0d"
   }
  }
 },
 "nbformat": 4,
 "nbformat_minor": 2
}
