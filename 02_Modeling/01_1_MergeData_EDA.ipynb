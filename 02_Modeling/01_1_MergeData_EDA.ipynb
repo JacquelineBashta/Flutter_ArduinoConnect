{
 "cells": [
  {
   "attachments": {},
   "cell_type": "markdown",
   "metadata": {},
   "source": [
    "## Import Data"
   ]
  },
  {
   "cell_type": "code",
   "execution_count": 25,
   "metadata": {},
   "outputs": [],
   "source": [
    "SMALLEST_DS_SIZE = 100"
   ]
  },
  {
   "cell_type": "code",
   "execution_count": 26,
   "metadata": {},
   "outputs": [],
   "source": [
    "import pandas as pd\n",
    "import matplotlib.pyplot as plt\n",
    "import seaborn as sns\n",
    "import numpy as np\n",
    "\n",
    "sns.set_style(\"darkgrid\")\n",
    "import glob\n",
    "import os\n",
    "\n",
    "import random\n",
    "\n",
    "# userAcceleration data\n",
    "# float S8g = 4096.0;\n",
    "# NewAcceleration = userAcceleration/S8g ;  \n",
    "# unit = g\n",
    "\n",
    "# rotationRate data (speed of rotation)\n",
    "# float RFS2000 = 16.4;\n",
    "# NewRotationRate = rotationRate/RFS2000 ;  \n",
    "# unit = deg/s\n",
    "\n",
    "# attitude \"oriantation\" (angle of rotation) \n",
    "# unit = deg\n",
    "\n",
    "# gravity ( gravitional force on sensor axis)\n",
    "# float S8g = 4096.0;\n",
    "# NewGravity = gravity/S8g ;  \n",
    "# unit = g\n",
    "\n",
    "# Get data file names\n",
    "START_T_COUNT = 0\n",
    "START_F_COUNT = 500\n",
    "\n",
    "path = r'D:\\_1_Technicals\\DataScience_Bootcamp\\Final_project\\Flutter_ArduinoConnect\\00_DataSets'\n",
    "filenames = glob.glob(path + \"/**/*.csv\")\n",
    "\n",
    "# shuffeling the files as its always ordered alphabetic\n",
    "random.seed(10)\n",
    "shuffled_filenames = random.sample(filenames, len(filenames))\n",
    "\n",
    "\n",
    "dfs = []\n",
    "num_t = START_T_COUNT\n",
    "num_f = START_F_COUNT\n",
    "for filename in shuffled_filenames:\n",
    "   \n",
    "    df = pd.read_csv(filename, index_col=False)\n",
    "    df.columns= [\"time\",\"rotR_x\",\"rotR_y\",\"rotR_z\",\"acc_x\",\"acc_y\",\"acc_z\",\"or_x\",\"or_y\",\"or_z\",\"grav_x\",\"grav_y\",\"grav_z\"]\n",
    "    df.acc_x = df.acc_x/4096.0\n",
    "    df.acc_y = df.acc_y/4096.0\n",
    "    df.acc_z = df.acc_z/4096.0\n",
    "    \n",
    "    df.rotR_x = df.rotR_x/(16.4*100)\n",
    "    df.rotR_y = df.rotR_y/(16.4*100)\n",
    "    df.rotR_z = df.rotR_z/(16.4*100)\n",
    "    \n",
    "    df.grav_x = df.grav_x/4096.0\n",
    "    df.grav_y = df.grav_y/4096.0\n",
    "    df.grav_z = df.grav_z/4096.0\n",
    "    \n",
    "    df.or_x = df.or_x/100\n",
    "    df.or_y = df.or_y/100\n",
    "    df.or_z = df.or_z/100\n",
    "    \n",
    "    _, tail = os.path.split(filename)\n",
    "    df[\"action\"] = str(tail).split(\".\")[0]\n",
    "    \n",
    "\n",
    "    if df.action.str.startswith(\"t_\").sum():\n",
    "        df[\"label\"] = 1\n",
    "        df[\"action_num\"] = num_t # 0 - 499\n",
    "        num_t += 1\n",
    "    else:\n",
    "        df[\"label\"] = 0\n",
    "        df[\"action_num\"] = num_f # 500 - 1000\n",
    "        num_f += 1\n",
    "    \n",
    "    df = df.drop(columns=\"time\").reset_index().rename(columns={\"index\":\"time\"})\n",
    "    dfs.append(df)\n",
    "df_all = pd.concat(dfs,axis=0).set_index(\"time\")"
   ]
  },
  {
   "cell_type": "code",
   "execution_count": 27,
   "metadata": {},
   "outputs": [
    {
     "data": {
      "text/html": [
       "<div>\n",
       "<style scoped>\n",
       "    .dataframe tbody tr th:only-of-type {\n",
       "        vertical-align: middle;\n",
       "    }\n",
       "\n",
       "    .dataframe tbody tr th {\n",
       "        vertical-align: top;\n",
       "    }\n",
       "\n",
       "    .dataframe thead th {\n",
       "        text-align: right;\n",
       "    }\n",
       "</style>\n",
       "<table border=\"1\" class=\"dataframe\">\n",
       "  <thead>\n",
       "    <tr style=\"text-align: right;\">\n",
       "      <th></th>\n",
       "      <th>time</th>\n",
       "      <th>rotR_x</th>\n",
       "      <th>rotR_y</th>\n",
       "      <th>rotR_z</th>\n",
       "      <th>acc_x</th>\n",
       "      <th>acc_y</th>\n",
       "      <th>acc_z</th>\n",
       "      <th>or_x</th>\n",
       "      <th>or_y</th>\n",
       "      <th>or_z</th>\n",
       "      <th>grav_x</th>\n",
       "      <th>grav_y</th>\n",
       "      <th>grav_z</th>\n",
       "      <th>label</th>\n",
       "      <th>action_num</th>\n",
       "    </tr>\n",
       "  </thead>\n",
       "  <tbody>\n",
       "    <tr>\n",
       "      <th>count</th>\n",
       "      <td>539.000000</td>\n",
       "      <td>539.000000</td>\n",
       "      <td>539.000000</td>\n",
       "      <td>539.000000</td>\n",
       "      <td>539.000000</td>\n",
       "      <td>539.000000</td>\n",
       "      <td>539.000000</td>\n",
       "      <td>539.000000</td>\n",
       "      <td>539.000000</td>\n",
       "      <td>539.000000</td>\n",
       "      <td>539.000000</td>\n",
       "      <td>539.000000</td>\n",
       "      <td>539.000000</td>\n",
       "      <td>539.0</td>\n",
       "      <td>539.0</td>\n",
       "    </tr>\n",
       "    <tr>\n",
       "      <th>mean</th>\n",
       "      <td>269.000000</td>\n",
       "      <td>0.015534</td>\n",
       "      <td>-0.006069</td>\n",
       "      <td>0.000913</td>\n",
       "      <td>0.019712</td>\n",
       "      <td>-0.008395</td>\n",
       "      <td>0.011639</td>\n",
       "      <td>-0.170464</td>\n",
       "      <td>0.423748</td>\n",
       "      <td>0.548776</td>\n",
       "      <td>-0.275488</td>\n",
       "      <td>-0.605757</td>\n",
       "      <td>0.445555</td>\n",
       "      <td>1.0</td>\n",
       "      <td>0.0</td>\n",
       "    </tr>\n",
       "    <tr>\n",
       "      <th>std</th>\n",
       "      <td>155.740168</td>\n",
       "      <td>0.441466</td>\n",
       "      <td>0.334659</td>\n",
       "      <td>0.333863</td>\n",
       "      <td>0.065603</td>\n",
       "      <td>0.076440</td>\n",
       "      <td>0.063460</td>\n",
       "      <td>0.205463</td>\n",
       "      <td>0.419638</td>\n",
       "      <td>0.328680</td>\n",
       "      <td>0.329519</td>\n",
       "      <td>0.465503</td>\n",
       "      <td>0.183296</td>\n",
       "      <td>0.0</td>\n",
       "      <td>0.0</td>\n",
       "    </tr>\n",
       "    <tr>\n",
       "      <th>min</th>\n",
       "      <td>0.000000</td>\n",
       "      <td>-1.939024</td>\n",
       "      <td>-1.079878</td>\n",
       "      <td>-1.617073</td>\n",
       "      <td>-0.211182</td>\n",
       "      <td>-0.331787</td>\n",
       "      <td>-0.249756</td>\n",
       "      <td>-0.550000</td>\n",
       "      <td>-0.880000</td>\n",
       "      <td>0.200000</td>\n",
       "      <td>-0.823486</td>\n",
       "      <td>-0.985596</td>\n",
       "      <td>0.014160</td>\n",
       "      <td>1.0</td>\n",
       "      <td>0.0</td>\n",
       "    </tr>\n",
       "    <tr>\n",
       "      <th>25%</th>\n",
       "      <td>134.500000</td>\n",
       "      <td>-0.135061</td>\n",
       "      <td>-0.073780</td>\n",
       "      <td>-0.094512</td>\n",
       "      <td>-0.011230</td>\n",
       "      <td>-0.047852</td>\n",
       "      <td>-0.018677</td>\n",
       "      <td>-0.290000</td>\n",
       "      <td>0.400000</td>\n",
       "      <td>0.350000</td>\n",
       "      <td>-0.491699</td>\n",
       "      <td>-0.895386</td>\n",
       "      <td>0.366821</td>\n",
       "      <td>1.0</td>\n",
       "      <td>0.0</td>\n",
       "    </tr>\n",
       "    <tr>\n",
       "      <th>50%</th>\n",
       "      <td>269.000000</td>\n",
       "      <td>0.019512</td>\n",
       "      <td>0.000000</td>\n",
       "      <td>-0.007317</td>\n",
       "      <td>0.011963</td>\n",
       "      <td>-0.007812</td>\n",
       "      <td>0.009033</td>\n",
       "      <td>-0.160000</td>\n",
       "      <td>0.600000</td>\n",
       "      <td>0.390000</td>\n",
       "      <td>-0.288574</td>\n",
       "      <td>-0.788330</td>\n",
       "      <td>0.434326</td>\n",
       "      <td>1.0</td>\n",
       "      <td>0.0</td>\n",
       "    </tr>\n",
       "    <tr>\n",
       "      <th>75%</th>\n",
       "      <td>403.500000</td>\n",
       "      <td>0.205793</td>\n",
       "      <td>0.084146</td>\n",
       "      <td>0.078659</td>\n",
       "      <td>0.043335</td>\n",
       "      <td>0.030884</td>\n",
       "      <td>0.039917</td>\n",
       "      <td>0.000000</td>\n",
       "      <td>0.650000</td>\n",
       "      <td>0.755000</td>\n",
       "      <td>0.002075</td>\n",
       "      <td>-0.574463</td>\n",
       "      <td>0.556641</td>\n",
       "      <td>1.0</td>\n",
       "      <td>0.0</td>\n",
       "    </tr>\n",
       "    <tr>\n",
       "      <th>max</th>\n",
       "      <td>538.000000</td>\n",
       "      <td>1.743902</td>\n",
       "      <td>1.559146</td>\n",
       "      <td>1.279268</td>\n",
       "      <td>0.280273</td>\n",
       "      <td>0.451660</td>\n",
       "      <td>0.371338</td>\n",
       "      <td>0.150000</td>\n",
       "      <td>0.880000</td>\n",
       "      <td>1.500000</td>\n",
       "      <td>0.271240</td>\n",
       "      <td>0.664795</td>\n",
       "      <td>0.934326</td>\n",
       "      <td>1.0</td>\n",
       "      <td>0.0</td>\n",
       "    </tr>\n",
       "  </tbody>\n",
       "</table>\n",
       "</div>"
      ],
      "text/plain": [
       "             time      rotR_x      rotR_y      rotR_z       acc_x       acc_y  \\\n",
       "count  539.000000  539.000000  539.000000  539.000000  539.000000  539.000000   \n",
       "mean   269.000000    0.015534   -0.006069    0.000913    0.019712   -0.008395   \n",
       "std    155.740168    0.441466    0.334659    0.333863    0.065603    0.076440   \n",
       "min      0.000000   -1.939024   -1.079878   -1.617073   -0.211182   -0.331787   \n",
       "25%    134.500000   -0.135061   -0.073780   -0.094512   -0.011230   -0.047852   \n",
       "50%    269.000000    0.019512    0.000000   -0.007317    0.011963   -0.007812   \n",
       "75%    403.500000    0.205793    0.084146    0.078659    0.043335    0.030884   \n",
       "max    538.000000    1.743902    1.559146    1.279268    0.280273    0.451660   \n",
       "\n",
       "            acc_z        or_x        or_y        or_z      grav_x      grav_y  \\\n",
       "count  539.000000  539.000000  539.000000  539.000000  539.000000  539.000000   \n",
       "mean     0.011639   -0.170464    0.423748    0.548776   -0.275488   -0.605757   \n",
       "std      0.063460    0.205463    0.419638    0.328680    0.329519    0.465503   \n",
       "min     -0.249756   -0.550000   -0.880000    0.200000   -0.823486   -0.985596   \n",
       "25%     -0.018677   -0.290000    0.400000    0.350000   -0.491699   -0.895386   \n",
       "50%      0.009033   -0.160000    0.600000    0.390000   -0.288574   -0.788330   \n",
       "75%      0.039917    0.000000    0.650000    0.755000    0.002075   -0.574463   \n",
       "max      0.371338    0.150000    0.880000    1.500000    0.271240    0.664795   \n",
       "\n",
       "           grav_z  label  action_num  \n",
       "count  539.000000  539.0       539.0  \n",
       "mean     0.445555    1.0         0.0  \n",
       "std      0.183296    0.0         0.0  \n",
       "min      0.014160    1.0         0.0  \n",
       "25%      0.366821    1.0         0.0  \n",
       "50%      0.434326    1.0         0.0  \n",
       "75%      0.556641    1.0         0.0  \n",
       "max      0.934326    1.0         0.0  "
      ]
     },
     "execution_count": 27,
     "metadata": {},
     "output_type": "execute_result"
    }
   ],
   "source": [
    "dfs[0].describe()"
   ]
  },
  {
   "cell_type": "code",
   "execution_count": 28,
   "metadata": {},
   "outputs": [
    {
     "data": {
      "text/plain": [
       "185"
      ]
     },
     "execution_count": 28,
     "metadata": {},
     "output_type": "execute_result"
    }
   ],
   "source": [
    "len(filenames)"
   ]
  },
  {
   "cell_type": "code",
   "execution_count": 29,
   "metadata": {},
   "outputs": [
    {
     "data": {
      "text/plain": [
       "87"
      ]
     },
     "execution_count": 29,
     "metadata": {},
     "output_type": "execute_result"
    }
   ],
   "source": [
    "num_t"
   ]
  },
  {
   "cell_type": "code",
   "execution_count": 30,
   "metadata": {},
   "outputs": [
    {
     "data": {
      "text/plain": [
       "598"
      ]
     },
     "execution_count": 30,
     "metadata": {},
     "output_type": "execute_result"
    }
   ],
   "source": [
    "num_f"
   ]
  },
  {
   "cell_type": "code",
   "execution_count": 31,
   "metadata": {},
   "outputs": [
    {
     "data": {
      "text/plain": [
       "(71082, 15)"
      ]
     },
     "execution_count": 31,
     "metadata": {},
     "output_type": "execute_result"
    }
   ],
   "source": [
    "df_all.shape"
   ]
  },
  {
   "cell_type": "code",
   "execution_count": 32,
   "metadata": {},
   "outputs": [
    {
     "data": {
      "text/html": [
       "<div>\n",
       "<style scoped>\n",
       "    .dataframe tbody tr th:only-of-type {\n",
       "        vertical-align: middle;\n",
       "    }\n",
       "\n",
       "    .dataframe tbody tr th {\n",
       "        vertical-align: top;\n",
       "    }\n",
       "\n",
       "    .dataframe thead th {\n",
       "        text-align: right;\n",
       "    }\n",
       "</style>\n",
       "<table border=\"1\" class=\"dataframe\">\n",
       "  <thead>\n",
       "    <tr style=\"text-align: right;\">\n",
       "      <th></th>\n",
       "      <th>rotR_x</th>\n",
       "      <th>rotR_y</th>\n",
       "      <th>rotR_z</th>\n",
       "      <th>acc_x</th>\n",
       "      <th>acc_y</th>\n",
       "      <th>acc_z</th>\n",
       "      <th>or_x</th>\n",
       "      <th>or_y</th>\n",
       "      <th>or_z</th>\n",
       "      <th>grav_x</th>\n",
       "      <th>grav_y</th>\n",
       "      <th>grav_z</th>\n",
       "      <th>action</th>\n",
       "      <th>label</th>\n",
       "      <th>action_num</th>\n",
       "    </tr>\n",
       "    <tr>\n",
       "      <th>time</th>\n",
       "      <th></th>\n",
       "      <th></th>\n",
       "      <th></th>\n",
       "      <th></th>\n",
       "      <th></th>\n",
       "      <th></th>\n",
       "      <th></th>\n",
       "      <th></th>\n",
       "      <th></th>\n",
       "      <th></th>\n",
       "      <th></th>\n",
       "      <th></th>\n",
       "      <th></th>\n",
       "      <th></th>\n",
       "      <th></th>\n",
       "    </tr>\n",
       "  </thead>\n",
       "  <tbody>\n",
       "    <tr>\n",
       "      <th>0</th>\n",
       "      <td>-0.120122</td>\n",
       "      <td>0.052439</td>\n",
       "      <td>0.011585</td>\n",
       "      <td>0.098145</td>\n",
       "      <td>0.047607</td>\n",
       "      <td>0.029785</td>\n",
       "      <td>0.15</td>\n",
       "      <td>0.13</td>\n",
       "      <td>0.80</td>\n",
       "      <td>0.271240</td>\n",
       "      <td>-0.230225</td>\n",
       "      <td>0.934326</td>\n",
       "      <td>t_stand_left_DrinkBottle_10ml_1s_right</td>\n",
       "      <td>1</td>\n",
       "      <td>0</td>\n",
       "    </tr>\n",
       "    <tr>\n",
       "      <th>1</th>\n",
       "      <td>-0.237805</td>\n",
       "      <td>0.171951</td>\n",
       "      <td>0.036585</td>\n",
       "      <td>0.093994</td>\n",
       "      <td>0.043213</td>\n",
       "      <td>0.041748</td>\n",
       "      <td>0.15</td>\n",
       "      <td>0.14</td>\n",
       "      <td>0.80</td>\n",
       "      <td>0.259766</td>\n",
       "      <td>-0.249023</td>\n",
       "      <td>0.932861</td>\n",
       "      <td>t_stand_left_DrinkBottle_10ml_1s_right</td>\n",
       "      <td>1</td>\n",
       "      <td>0</td>\n",
       "    </tr>\n",
       "    <tr>\n",
       "      <th>2</th>\n",
       "      <td>-0.279268</td>\n",
       "      <td>0.214024</td>\n",
       "      <td>0.028049</td>\n",
       "      <td>0.099121</td>\n",
       "      <td>0.081543</td>\n",
       "      <td>0.036377</td>\n",
       "      <td>0.14</td>\n",
       "      <td>0.15</td>\n",
       "      <td>0.80</td>\n",
       "      <td>0.246094</td>\n",
       "      <td>-0.265869</td>\n",
       "      <td>0.931885</td>\n",
       "      <td>t_stand_left_DrinkBottle_10ml_1s_right</td>\n",
       "      <td>1</td>\n",
       "      <td>0</td>\n",
       "    </tr>\n",
       "    <tr>\n",
       "      <th>3</th>\n",
       "      <td>-0.643293</td>\n",
       "      <td>0.204268</td>\n",
       "      <td>0.090854</td>\n",
       "      <td>0.108398</td>\n",
       "      <td>0.070312</td>\n",
       "      <td>0.013916</td>\n",
       "      <td>0.12</td>\n",
       "      <td>0.19</td>\n",
       "      <td>0.80</td>\n",
       "      <td>0.219238</td>\n",
       "      <td>-0.322998</td>\n",
       "      <td>0.920410</td>\n",
       "      <td>t_stand_left_DrinkBottle_10ml_1s_right</td>\n",
       "      <td>1</td>\n",
       "      <td>0</td>\n",
       "    </tr>\n",
       "    <tr>\n",
       "      <th>4</th>\n",
       "      <td>-1.070732</td>\n",
       "      <td>0.196341</td>\n",
       "      <td>0.144512</td>\n",
       "      <td>0.096680</td>\n",
       "      <td>0.083252</td>\n",
       "      <td>-0.019775</td>\n",
       "      <td>0.11</td>\n",
       "      <td>0.24</td>\n",
       "      <td>0.81</td>\n",
       "      <td>0.195801</td>\n",
       "      <td>-0.404785</td>\n",
       "      <td>0.892822</td>\n",
       "      <td>t_stand_left_DrinkBottle_10ml_1s_right</td>\n",
       "      <td>1</td>\n",
       "      <td>0</td>\n",
       "    </tr>\n",
       "    <tr>\n",
       "      <th>...</th>\n",
       "      <td>...</td>\n",
       "      <td>...</td>\n",
       "      <td>...</td>\n",
       "      <td>...</td>\n",
       "      <td>...</td>\n",
       "      <td>...</td>\n",
       "      <td>...</td>\n",
       "      <td>...</td>\n",
       "      <td>...</td>\n",
       "      <td>...</td>\n",
       "      <td>...</td>\n",
       "      <td>...</td>\n",
       "      <td>...</td>\n",
       "      <td>...</td>\n",
       "      <td>...</td>\n",
       "    </tr>\n",
       "    <tr>\n",
       "      <th>239</th>\n",
       "      <td>0.032927</td>\n",
       "      <td>-0.010366</td>\n",
       "      <td>-0.041463</td>\n",
       "      <td>-0.000732</td>\n",
       "      <td>0.063965</td>\n",
       "      <td>0.010254</td>\n",
       "      <td>0.63</td>\n",
       "      <td>0.60</td>\n",
       "      <td>3.42</td>\n",
       "      <td>0.904785</td>\n",
       "      <td>-0.377686</td>\n",
       "      <td>0.196045</td>\n",
       "      <td>t_stand_hold_DrinkCup_10ml_1s_right</td>\n",
       "      <td>1</td>\n",
       "      <td>86</td>\n",
       "    </tr>\n",
       "    <tr>\n",
       "      <th>240</th>\n",
       "      <td>-0.079268</td>\n",
       "      <td>0.004878</td>\n",
       "      <td>-0.066463</td>\n",
       "      <td>-0.007812</td>\n",
       "      <td>0.024170</td>\n",
       "      <td>0.018066</td>\n",
       "      <td>0.63</td>\n",
       "      <td>0.60</td>\n",
       "      <td>3.42</td>\n",
       "      <td>0.906250</td>\n",
       "      <td>-0.374268</td>\n",
       "      <td>0.196045</td>\n",
       "      <td>t_stand_hold_DrinkCup_10ml_1s_right</td>\n",
       "      <td>1</td>\n",
       "      <td>86</td>\n",
       "    </tr>\n",
       "    <tr>\n",
       "      <th>241</th>\n",
       "      <td>-0.051220</td>\n",
       "      <td>-0.013415</td>\n",
       "      <td>-0.078659</td>\n",
       "      <td>0.006836</td>\n",
       "      <td>0.008057</td>\n",
       "      <td>0.009521</td>\n",
       "      <td>0.63</td>\n",
       "      <td>0.60</td>\n",
       "      <td>3.43</td>\n",
       "      <td>0.907227</td>\n",
       "      <td>-0.372070</td>\n",
       "      <td>0.194824</td>\n",
       "      <td>t_stand_hold_DrinkCup_10ml_1s_right</td>\n",
       "      <td>1</td>\n",
       "      <td>86</td>\n",
       "    </tr>\n",
       "    <tr>\n",
       "      <th>242</th>\n",
       "      <td>-0.035366</td>\n",
       "      <td>0.023780</td>\n",
       "      <td>-0.089024</td>\n",
       "      <td>0.003418</td>\n",
       "      <td>0.003174</td>\n",
       "      <td>0.014893</td>\n",
       "      <td>0.63</td>\n",
       "      <td>0.60</td>\n",
       "      <td>3.43</td>\n",
       "      <td>0.908691</td>\n",
       "      <td>-0.368652</td>\n",
       "      <td>0.194580</td>\n",
       "      <td>t_stand_hold_DrinkCup_10ml_1s_right</td>\n",
       "      <td>1</td>\n",
       "      <td>86</td>\n",
       "    </tr>\n",
       "    <tr>\n",
       "      <th>243</th>\n",
       "      <td>-0.048171</td>\n",
       "      <td>-0.008537</td>\n",
       "      <td>-0.079268</td>\n",
       "      <td>0.001709</td>\n",
       "      <td>0.009033</td>\n",
       "      <td>0.018311</td>\n",
       "      <td>0.64</td>\n",
       "      <td>0.60</td>\n",
       "      <td>3.43</td>\n",
       "      <td>0.910889</td>\n",
       "      <td>-0.363281</td>\n",
       "      <td>0.194824</td>\n",
       "      <td>t_stand_hold_DrinkCup_10ml_1s_right</td>\n",
       "      <td>1</td>\n",
       "      <td>86</td>\n",
       "    </tr>\n",
       "  </tbody>\n",
       "</table>\n",
       "<p>71082 rows × 15 columns</p>\n",
       "</div>"
      ],
      "text/plain": [
       "        rotR_x    rotR_y    rotR_z     acc_x     acc_y     acc_z  or_x  or_y  \\\n",
       "time                                                                           \n",
       "0    -0.120122  0.052439  0.011585  0.098145  0.047607  0.029785  0.15  0.13   \n",
       "1    -0.237805  0.171951  0.036585  0.093994  0.043213  0.041748  0.15  0.14   \n",
       "2    -0.279268  0.214024  0.028049  0.099121  0.081543  0.036377  0.14  0.15   \n",
       "3    -0.643293  0.204268  0.090854  0.108398  0.070312  0.013916  0.12  0.19   \n",
       "4    -1.070732  0.196341  0.144512  0.096680  0.083252 -0.019775  0.11  0.24   \n",
       "...        ...       ...       ...       ...       ...       ...   ...   ...   \n",
       "239   0.032927 -0.010366 -0.041463 -0.000732  0.063965  0.010254  0.63  0.60   \n",
       "240  -0.079268  0.004878 -0.066463 -0.007812  0.024170  0.018066  0.63  0.60   \n",
       "241  -0.051220 -0.013415 -0.078659  0.006836  0.008057  0.009521  0.63  0.60   \n",
       "242  -0.035366  0.023780 -0.089024  0.003418  0.003174  0.014893  0.63  0.60   \n",
       "243  -0.048171 -0.008537 -0.079268  0.001709  0.009033  0.018311  0.64  0.60   \n",
       "\n",
       "      or_z    grav_x    grav_y    grav_z  \\\n",
       "time                                       \n",
       "0     0.80  0.271240 -0.230225  0.934326   \n",
       "1     0.80  0.259766 -0.249023  0.932861   \n",
       "2     0.80  0.246094 -0.265869  0.931885   \n",
       "3     0.80  0.219238 -0.322998  0.920410   \n",
       "4     0.81  0.195801 -0.404785  0.892822   \n",
       "...    ...       ...       ...       ...   \n",
       "239   3.42  0.904785 -0.377686  0.196045   \n",
       "240   3.42  0.906250 -0.374268  0.196045   \n",
       "241   3.43  0.907227 -0.372070  0.194824   \n",
       "242   3.43  0.908691 -0.368652  0.194580   \n",
       "243   3.43  0.910889 -0.363281  0.194824   \n",
       "\n",
       "                                      action  label  action_num  \n",
       "time                                                             \n",
       "0     t_stand_left_DrinkBottle_10ml_1s_right      1           0  \n",
       "1     t_stand_left_DrinkBottle_10ml_1s_right      1           0  \n",
       "2     t_stand_left_DrinkBottle_10ml_1s_right      1           0  \n",
       "3     t_stand_left_DrinkBottle_10ml_1s_right      1           0  \n",
       "4     t_stand_left_DrinkBottle_10ml_1s_right      1           0  \n",
       "...                                      ...    ...         ...  \n",
       "239      t_stand_hold_DrinkCup_10ml_1s_right      1          86  \n",
       "240      t_stand_hold_DrinkCup_10ml_1s_right      1          86  \n",
       "241      t_stand_hold_DrinkCup_10ml_1s_right      1          86  \n",
       "242      t_stand_hold_DrinkCup_10ml_1s_right      1          86  \n",
       "243      t_stand_hold_DrinkCup_10ml_1s_right      1          86  \n",
       "\n",
       "[71082 rows x 15 columns]"
      ]
     },
     "execution_count": 32,
     "metadata": {},
     "output_type": "execute_result"
    }
   ],
   "source": [
    "df_all"
   ]
  },
  {
   "cell_type": "code",
   "execution_count": 33,
   "metadata": {},
   "outputs": [
    {
     "data": {
      "text/html": [
       "<div>\n",
       "<style scoped>\n",
       "    .dataframe tbody tr th:only-of-type {\n",
       "        vertical-align: middle;\n",
       "    }\n",
       "\n",
       "    .dataframe tbody tr th {\n",
       "        vertical-align: top;\n",
       "    }\n",
       "\n",
       "    .dataframe thead th {\n",
       "        text-align: right;\n",
       "    }\n",
       "</style>\n",
       "<table border=\"1\" class=\"dataframe\">\n",
       "  <thead>\n",
       "    <tr style=\"text-align: right;\">\n",
       "      <th></th>\n",
       "      <th>rotR_x</th>\n",
       "      <th>rotR_y</th>\n",
       "      <th>rotR_z</th>\n",
       "      <th>acc_x</th>\n",
       "      <th>acc_y</th>\n",
       "      <th>acc_z</th>\n",
       "      <th>or_x</th>\n",
       "      <th>or_y</th>\n",
       "      <th>or_z</th>\n",
       "      <th>grav_x</th>\n",
       "      <th>grav_y</th>\n",
       "      <th>grav_z</th>\n",
       "      <th>label</th>\n",
       "      <th>action_num</th>\n",
       "    </tr>\n",
       "  </thead>\n",
       "  <tbody>\n",
       "    <tr>\n",
       "      <th>count</th>\n",
       "      <td>71082.000000</td>\n",
       "      <td>71082.000000</td>\n",
       "      <td>71082.000000</td>\n",
       "      <td>71082.000000</td>\n",
       "      <td>71082.000000</td>\n",
       "      <td>71082.000000</td>\n",
       "      <td>71082.000000</td>\n",
       "      <td>71082.000000</td>\n",
       "      <td>71082.000000</td>\n",
       "      <td>71082.000000</td>\n",
       "      <td>71082.000000</td>\n",
       "      <td>71082.000000</td>\n",
       "      <td>71082.000000</td>\n",
       "      <td>71082.000000</td>\n",
       "    </tr>\n",
       "    <tr>\n",
       "      <th>mean</th>\n",
       "      <td>-0.001034</td>\n",
       "      <td>-0.000051</td>\n",
       "      <td>-0.000806</td>\n",
       "      <td>0.017361</td>\n",
       "      <td>0.001630</td>\n",
       "      <td>0.001820</td>\n",
       "      <td>-0.097270</td>\n",
       "      <td>0.518277</td>\n",
       "      <td>1.572731</td>\n",
       "      <td>-0.161966</td>\n",
       "      <td>-0.543697</td>\n",
       "      <td>0.332035</td>\n",
       "      <td>0.487254</td>\n",
       "      <td>302.094370</td>\n",
       "    </tr>\n",
       "    <tr>\n",
       "      <th>std</th>\n",
       "      <td>0.494194</td>\n",
       "      <td>0.304018</td>\n",
       "      <td>0.344566</td>\n",
       "      <td>0.077409</td>\n",
       "      <td>0.099037</td>\n",
       "      <td>0.074350</td>\n",
       "      <td>0.272389</td>\n",
       "      <td>0.534142</td>\n",
       "      <td>1.045023</td>\n",
       "      <td>0.422603</td>\n",
       "      <td>0.417447</td>\n",
       "      <td>0.463170</td>\n",
       "      <td>0.499841</td>\n",
       "      <td>255.407921</td>\n",
       "    </tr>\n",
       "    <tr>\n",
       "      <th>min</th>\n",
       "      <td>-10.221951</td>\n",
       "      <td>-3.263415</td>\n",
       "      <td>-2.895732</td>\n",
       "      <td>-0.916748</td>\n",
       "      <td>-2.086914</td>\n",
       "      <td>-1.875244</td>\n",
       "      <td>-0.790000</td>\n",
       "      <td>-1.790000</td>\n",
       "      <td>0.000000</td>\n",
       "      <td>-0.982910</td>\n",
       "      <td>-0.999756</td>\n",
       "      <td>-0.965576</td>\n",
       "      <td>0.000000</td>\n",
       "      <td>0.000000</td>\n",
       "    </tr>\n",
       "    <tr>\n",
       "      <th>25%</th>\n",
       "      <td>-0.134756</td>\n",
       "      <td>-0.067073</td>\n",
       "      <td>-0.084756</td>\n",
       "      <td>-0.010986</td>\n",
       "      <td>-0.032715</td>\n",
       "      <td>-0.021973</td>\n",
       "      <td>-0.300000</td>\n",
       "      <td>0.280000</td>\n",
       "      <td>0.660000</td>\n",
       "      <td>-0.500000</td>\n",
       "      <td>-0.840576</td>\n",
       "      <td>0.000000</td>\n",
       "      <td>0.000000</td>\n",
       "      <td>42.000000</td>\n",
       "    </tr>\n",
       "    <tr>\n",
       "      <th>50%</th>\n",
       "      <td>0.001220</td>\n",
       "      <td>0.002439</td>\n",
       "      <td>-0.002439</td>\n",
       "      <td>0.007812</td>\n",
       "      <td>0.002197</td>\n",
       "      <td>0.003418</td>\n",
       "      <td>-0.080000</td>\n",
       "      <td>0.530000</td>\n",
       "      <td>1.320000</td>\n",
       "      <td>-0.146484</td>\n",
       "      <td>-0.675781</td>\n",
       "      <td>0.465576</td>\n",
       "      <td>0.000000</td>\n",
       "      <td>504.000000</td>\n",
       "    </tr>\n",
       "    <tr>\n",
       "      <th>75%</th>\n",
       "      <td>0.140244</td>\n",
       "      <td>0.072561</td>\n",
       "      <td>0.070122</td>\n",
       "      <td>0.042236</td>\n",
       "      <td>0.034668</td>\n",
       "      <td>0.031250</td>\n",
       "      <td>0.060000</td>\n",
       "      <td>0.860000</td>\n",
       "      <td>2.450000</td>\n",
       "      <td>0.109619</td>\n",
       "      <td>-0.376465</td>\n",
       "      <td>0.698242</td>\n",
       "      <td>1.000000</td>\n",
       "      <td>551.000000</td>\n",
       "    </tr>\n",
       "    <tr>\n",
       "      <th>max</th>\n",
       "      <td>5.950000</td>\n",
       "      <td>3.003049</td>\n",
       "      <td>2.873780</td>\n",
       "      <td>3.119141</td>\n",
       "      <td>1.618164</td>\n",
       "      <td>1.549561</td>\n",
       "      <td>0.840000</td>\n",
       "      <td>1.790000</td>\n",
       "      <td>3.590000</td>\n",
       "      <td>0.995117</td>\n",
       "      <td>0.999756</td>\n",
       "      <td>0.999756</td>\n",
       "      <td>1.000000</td>\n",
       "      <td>597.000000</td>\n",
       "    </tr>\n",
       "  </tbody>\n",
       "</table>\n",
       "</div>"
      ],
      "text/plain": [
       "             rotR_x        rotR_y        rotR_z         acc_x         acc_y  \\\n",
       "count  71082.000000  71082.000000  71082.000000  71082.000000  71082.000000   \n",
       "mean      -0.001034     -0.000051     -0.000806      0.017361      0.001630   \n",
       "std        0.494194      0.304018      0.344566      0.077409      0.099037   \n",
       "min      -10.221951     -3.263415     -2.895732     -0.916748     -2.086914   \n",
       "25%       -0.134756     -0.067073     -0.084756     -0.010986     -0.032715   \n",
       "50%        0.001220      0.002439     -0.002439      0.007812      0.002197   \n",
       "75%        0.140244      0.072561      0.070122      0.042236      0.034668   \n",
       "max        5.950000      3.003049      2.873780      3.119141      1.618164   \n",
       "\n",
       "              acc_z          or_x          or_y          or_z        grav_x  \\\n",
       "count  71082.000000  71082.000000  71082.000000  71082.000000  71082.000000   \n",
       "mean       0.001820     -0.097270      0.518277      1.572731     -0.161966   \n",
       "std        0.074350      0.272389      0.534142      1.045023      0.422603   \n",
       "min       -1.875244     -0.790000     -1.790000      0.000000     -0.982910   \n",
       "25%       -0.021973     -0.300000      0.280000      0.660000     -0.500000   \n",
       "50%        0.003418     -0.080000      0.530000      1.320000     -0.146484   \n",
       "75%        0.031250      0.060000      0.860000      2.450000      0.109619   \n",
       "max        1.549561      0.840000      1.790000      3.590000      0.995117   \n",
       "\n",
       "             grav_y        grav_z         label    action_num  \n",
       "count  71082.000000  71082.000000  71082.000000  71082.000000  \n",
       "mean      -0.543697      0.332035      0.487254    302.094370  \n",
       "std        0.417447      0.463170      0.499841    255.407921  \n",
       "min       -0.999756     -0.965576      0.000000      0.000000  \n",
       "25%       -0.840576      0.000000      0.000000     42.000000  \n",
       "50%       -0.675781      0.465576      0.000000    504.000000  \n",
       "75%       -0.376465      0.698242      1.000000    551.000000  \n",
       "max        0.999756      0.999756      1.000000    597.000000  "
      ]
     },
     "execution_count": 33,
     "metadata": {},
     "output_type": "execute_result"
    }
   ],
   "source": [
    "df_all.describe()"
   ]
  },
  {
   "cell_type": "code",
   "execution_count": 34,
   "metadata": {},
   "outputs": [
    {
     "data": {
      "text/plain": [
       "34635"
      ]
     },
     "execution_count": 34,
     "metadata": {},
     "output_type": "execute_result"
    }
   ],
   "source": [
    "(df_all.label == 1).sum()"
   ]
  },
  {
   "attachments": {},
   "cell_type": "markdown",
   "metadata": {},
   "source": [
    "## Missig Data"
   ]
  },
  {
   "cell_type": "code",
   "execution_count": 35,
   "metadata": {},
   "outputs": [
    {
     "data": {
      "text/plain": [
       "rotR_x        0\n",
       "rotR_y        0\n",
       "rotR_z        0\n",
       "acc_x         0\n",
       "acc_y         0\n",
       "acc_z         0\n",
       "or_x          0\n",
       "or_y          0\n",
       "or_z          0\n",
       "grav_x        0\n",
       "grav_y        0\n",
       "grav_z        0\n",
       "action        0\n",
       "label         0\n",
       "action_num    0\n",
       "dtype: int64"
      ]
     },
     "execution_count": 35,
     "metadata": {},
     "output_type": "execute_result"
    }
   ],
   "source": [
    "pd.isna(df_all).sum()"
   ]
  },
  {
   "attachments": {},
   "cell_type": "markdown",
   "metadata": {},
   "source": [
    "##  Class Balance"
   ]
  },
  {
   "cell_type": "code",
   "execution_count": 36,
   "metadata": {},
   "outputs": [
    {
     "data": {
      "image/png": "[encoded data removed]",
      "text/plain": [
       "<Figure size 640x480 with 1 Axes>"
      ]
     },
     "metadata": {},
     "output_type": "display_data"
    }
   ],
   "source": [
    "plt.title('Size of each class')\n",
    "plt.xlabel('activity label')\n",
    "plt.hist(df_all.label,rwidth=1)\n",
    "plt.xticks([0,1]);"
   ]
  },
  {
   "cell_type": "code",
   "execution_count": 37,
   "metadata": {},
   "outputs": [
    {
     "data": {
      "text/plain": [
       "array([  0, 500,   1,   2,   3, 501,   4,   5,   6, 502, 503,   7, 504,\n",
       "         8, 505, 506, 507, 508, 509, 510,   9,  10,  11, 511, 512, 513,\n",
       "       514, 515,  12,  13, 516, 517,  14,  15, 518,  16, 519, 520, 521,\n",
       "       522,  17,  18, 523,  19, 524,  20, 525,  21,  22,  23, 526, 527,\n",
       "        24,  25, 528,  26,  27, 529, 530, 531,  28, 532,  29, 533,  30,\n",
       "       534, 535, 536, 537, 538,  31,  32,  33, 539,  34, 540, 541, 542,\n",
       "       543, 544, 545, 546,  35,  36, 547,  37,  38,  39, 548, 549, 550,\n",
       "       551, 552, 553, 554,  40, 555,  41, 556,  42, 557, 558, 559,  43,\n",
       "       560, 561, 562,  44, 563, 564, 565,  45,  46,  47,  48,  49,  50,\n",
       "        51, 566,  52, 567,  53,  54, 568, 569, 570, 571, 572,  55, 573,\n",
       "        56, 574, 575,  57,  58,  59, 576,  60, 577,  61, 578,  62, 579,\n",
       "       580,  63, 581,  64, 582, 583, 584,  65,  66, 585, 586, 587,  67,\n",
       "        68,  69,  70,  71, 588,  72, 589, 590,  73,  74,  75,  76,  77,\n",
       "       591, 592, 593, 594,  78,  79,  80,  81,  82,  83, 595,  84,  85,\n",
       "       596, 597,  86], dtype=int64)"
      ]
     },
     "execution_count": 37,
     "metadata": {},
     "output_type": "execute_result"
    }
   ],
   "source": [
    "(df_all.action_num.unique())"
   ]
  },
  {
   "cell_type": "code",
   "execution_count": 38,
   "metadata": {},
   "outputs": [
    {
     "data": {
      "text/plain": [
       "<Figure size 640x480 with 0 Axes>"
      ]
     },
     "metadata": {},
     "output_type": "display_data"
    },
    {
     "data": {
      "image/png": "[encoded data removed]",
      "text/plain": [
       "<Figure size 1500x500 with 1 Axes>"
      ]
     },
     "metadata": {},
     "output_type": "display_data"
    }
   ],
   "source": [
    "### Length of time series\n",
    "action_num_list = df_all.action_num.unique()\n",
    "series_length = list()\n",
    "for act in action_num_list:\n",
    "    series_length.append(df_all[(df_all.action_num == act)].shape[0])\n",
    "plt.figure(2)\n",
    "plt.figure(figsize=(15,5))\n",
    "plt.title('Histogram of length of raw time series')\n",
    "plt.hist(series_length,bins=len(action_num_list),rwidth=0.3,align='left');\n",
    "#plt.xlim(0,350)\n",
    "plt.xlabel(\"size of each observation\")\n",
    "plt.ylabel(\"number of observation with same length\")\n",
    "plt.axvline(300, color=\"grey\",linestyle=\"dashed\")\n",
    "plt.axvline(600, color=\"grey\",linestyle=\"dashed\");"
   ]
  },
  {
   "cell_type": "code",
   "execution_count": 39,
   "metadata": {},
   "outputs": [],
   "source": [
    "# There is too small and too large datasets\n",
    "# lets analyze which is which\n",
    "action_num_list = df_all.action_num.unique()\n",
    "each_series_length = list()\n",
    "for act_num in action_num_list:\n",
    "    each_series_length.append((df_all[(df_all.action_num == act_num)].shape[0],act_num))\n",
    "each_series_length.sort()"
   ]
  },
  {
   "attachments": {},
   "cell_type": "markdown",
   "metadata": {},
   "source": [
    "### Analyze Smallest DSs"
   ]
  },
  {
   "cell_type": "code",
   "execution_count": 40,
   "metadata": {},
   "outputs": [
    {
     "name": "stdout",
     "output_type": "stream",
     "text": [
      "The largest dataset size is 693 records with name: f_sit_hold_LookMobile_2sec_front\n"
     ]
    }
   ],
   "source": [
    "#check the largest dataset\n",
    "dataset_name = df_all[df_all.action_num == each_series_length[-1][1]].action.unique()[0]\n",
    "print(f\"The largest dataset size is {each_series_length[-1][0]} records with name: {dataset_name}\")"
   ]
  },
  {
   "cell_type": "code",
   "execution_count": 41,
   "metadata": {},
   "outputs": [],
   "source": [
    "small_tests=[]\n",
    "for test in each_series_length:\n",
    "    if test[0] < SMALLEST_DS_SIZE:\n",
    "        small_tests.append(test[1])"
   ]
  },
  {
   "cell_type": "code",
   "execution_count": 42,
   "metadata": {},
   "outputs": [
    {
     "data": {
      "text/plain": [
       "[521, 501, 566, 565, 507, 500, 584, 530, 545, 553, 84, 563, 540, 510, 45]"
      ]
     },
     "execution_count": 42,
     "metadata": {},
     "output_type": "execute_result"
    }
   ],
   "source": [
    "small_tests"
   ]
  },
  {
   "cell_type": "code",
   "execution_count": 43,
   "metadata": {},
   "outputs": [
    {
     "name": "stdout",
     "output_type": "stream",
     "text": [
      "['f_sit_front_EatFood_2sec_right']\n",
      "['f_sit_hold_EatFood_2sec_hold']\n",
      "['f_stand_hold_LookMobile_2sec_hold']\n",
      "['f_sit_hold_LookMobile_2sec_hold']\n",
      "['f_stand_hold_LookMobile_2sec_front']\n",
      "['f_sit_right_EatFood_2sec_right']\n",
      "['f_sit_hold_EatFood_2sec_front']\n",
      "['f_sit_hold_EatFood_2sec_left']\n",
      "['f_stand_hold_LookMobile_2sec_left']\n",
      "['f_stand_hold_LookMobile_2sec_right']\n",
      "['t_sit_front_DrinkBottle_10ml_1s_front']\n",
      "['f_sit_front_EatFood_2sec_front']\n",
      "['f_stand_front_LookMobile_2sec_hold']\n",
      "['f_stand_front_EatFood_2sec_left']\n",
      "['t_stand_hold_DrinkCup_10ml_1s_front']\n"
     ]
    }
   ],
   "source": [
    "#check which testcases are these\n",
    "for small_dataset in small_tests:\n",
    "    print(df_all[df_all.action_num == small_dataset].action.unique())"
   ]
  },
  {
   "cell_type": "code",
   "execution_count": 44,
   "metadata": {},
   "outputs": [],
   "source": [
    "# drop the smallest datasets\n",
    "for small_dataset in small_tests:\n",
    "    df_all = df_all[(df_all.action_num != small_dataset)]"
   ]
  },
  {
   "cell_type": "code",
   "execution_count": 45,
   "metadata": {},
   "outputs": [
    {
     "data": {
      "image/png": "[encoded data removed]",
      "text/plain": [
       "<Figure size 640x480 with 1 Axes>"
      ]
     },
     "metadata": {},
     "output_type": "display_data"
    }
   ],
   "source": [
    "plt.title('Size of each class')\n",
    "plt.xlabel('activity label')\n",
    "plt.hist(df_all.label,rwidth=1)\n",
    "plt.xticks([0,1]);"
   ]
  },
  {
   "cell_type": "code",
   "execution_count": 46,
   "metadata": {},
   "outputs": [
    {
     "data": {
      "text/plain": [
       "<Figure size 640x480 with 0 Axes>"
      ]
     },
     "metadata": {},
     "output_type": "display_data"
    },
    {
     "data": {
      "image/png": "[encoded data removed]",
      "text/plain": [
       "<Figure size 1500x500 with 1 Axes>"
      ]
     },
     "metadata": {},
     "output_type": "display_data"
    }
   ],
   "source": [
    "### Length of time series\n",
    "action_num_list = df_all.action_num.unique()\n",
    "series_length = list()\n",
    "for act in action_num_list:\n",
    "    series_length.append(df_all[(df_all.action_num == act)].shape[0])\n",
    "plt.figure(2)\n",
    "plt.figure(figsize=(15,5))\n",
    "plt.title('Histogram of length of raw time series')\n",
    "plt.hist(series_length,bins=len(action_num_list),rwidth=0.4,align='left');\n",
    "#plt.xlim(0,350)\n",
    "plt.xlabel(\"size of each observation\")\n",
    "plt.ylabel(\"number of observation with same length\");"
   ]
  },
  {
   "attachments": {},
   "cell_type": "markdown",
   "metadata": {},
   "source": [
    "### Conclusion"
   ]
  },
  {
   "attachments": {},
   "cell_type": "markdown",
   "metadata": {},
   "source": [
    "From above analysis\n",
    "\n",
    "1. This dataset raised concern on class imbalance. --> make sure to consider same number of  f and t dataset \n",
    "2. The distribution of time-series length is broad. --> average dataset size should be around 200 - 300 (4sec to 6sec)"
   ]
  },
  {
   "attachments": {},
   "cell_type": "markdown",
   "metadata": {},
   "source": [
    "## Export Data"
   ]
  },
  {
   "cell_type": "code",
   "execution_count": 47,
   "metadata": {},
   "outputs": [],
   "source": [
    "df_all.to_pickle(\"merged_df.pkl\")"
   ]
  }
 ],
 "metadata": {
  "kernelspec": {
   "display_name": "Python 3",
   "language": "python",
   "name": "python3"
  },
  "language_info": {
   "codemirror_mode": {
    "name": "ipython",
    "version": 3
   },
   "file_extension": ".py",
   "mimetype": "text/x-python",
   "name": "python",
   "nbconvert_exporter": "python",
   "pygments_lexer": "ipython3",
   "version": "3.10.9"
  },
  "orig_nbformat": 4,
  "vscode": {
   "interpreter": {
    "hash": "81794d4967e6c3204c66dcd87b604927b115b27c00565d3d43f05ba2f3a2cb0d"
   }
  }
 },
 "nbformat": 4,
 "nbformat_minor": 2
}
