{
 "cells": [
  {
   "cell_type": "code",
   "execution_count": 1,
   "metadata": {},
   "outputs": [],
   "source": [
    "import pandas as pd\n",
    "import matplotlib.pyplot as plt\n",
    "import seaborn as sns\n",
    "import numpy as np\n",
    "\n",
    "sns.set_style(\"darkgrid\")\n",
    "\n",
    "import common_functions as cf"
   ]
  },
  {
   "attachments": {},
   "cell_type": "markdown",
   "metadata": {},
   "source": [
    "## Import Data"
   ]
  },
  {
   "cell_type": "code",
   "execution_count": 2,
   "metadata": {},
   "outputs": [],
   "source": [
    "df_all = pd.read_pickle(\"merged_df.pkl\")"
   ]
  },
  {
   "attachments": {},
   "cell_type": "markdown",
   "metadata": {},
   "source": [
    "# Feature engineering (basic)"
   ]
  },
  {
   "cell_type": "code",
   "execution_count": 50,
   "metadata": {},
   "outputs": [
    {
     "data": {
      "text/html": [
       "<div>\n",
       "<style scoped>\n",
       "    .dataframe tbody tr th:only-of-type {\n",
       "        vertical-align: middle;\n",
       "    }\n",
       "\n",
       "    .dataframe tbody tr th {\n",
       "        vertical-align: top;\n",
       "    }\n",
       "\n",
       "    .dataframe thead th {\n",
       "        text-align: right;\n",
       "    }\n",
       "</style>\n",
       "<table border=\"1\" class=\"dataframe\">\n",
       "  <thead>\n",
       "    <tr style=\"text-align: right;\">\n",
       "      <th></th>\n",
       "      <th>rotR_x</th>\n",
       "      <th>rotR_y</th>\n",
       "      <th>rotR_z</th>\n",
       "      <th>acc_x</th>\n",
       "      <th>acc_y</th>\n",
       "      <th>acc_z</th>\n",
       "      <th>or_x</th>\n",
       "      <th>or_y</th>\n",
       "      <th>or_z</th>\n",
       "      <th>grav_x</th>\n",
       "      <th>grav_y</th>\n",
       "      <th>grav_z</th>\n",
       "      <th>action</th>\n",
       "      <th>label</th>\n",
       "      <th>action_num</th>\n",
       "    </tr>\n",
       "    <tr>\n",
       "      <th>time</th>\n",
       "      <th></th>\n",
       "      <th></th>\n",
       "      <th></th>\n",
       "      <th></th>\n",
       "      <th></th>\n",
       "      <th></th>\n",
       "      <th></th>\n",
       "      <th></th>\n",
       "      <th></th>\n",
       "      <th></th>\n",
       "      <th></th>\n",
       "      <th></th>\n",
       "      <th></th>\n",
       "      <th></th>\n",
       "      <th></th>\n",
       "    </tr>\n",
       "  </thead>\n",
       "  <tbody>\n",
       "    <tr>\n",
       "      <th>242</th>\n",
       "      <td>-0.035366</td>\n",
       "      <td>0.023780</td>\n",
       "      <td>-0.089024</td>\n",
       "      <td>0.003418</td>\n",
       "      <td>0.003174</td>\n",
       "      <td>0.014893</td>\n",
       "      <td>0.63</td>\n",
       "      <td>0.6</td>\n",
       "      <td>3.43</td>\n",
       "      <td>0.908691</td>\n",
       "      <td>-0.368652</td>\n",
       "      <td>0.194580</td>\n",
       "      <td>t_stand_hold_DrinkCup_10ml_1s_right</td>\n",
       "      <td>1</td>\n",
       "      <td>86</td>\n",
       "    </tr>\n",
       "    <tr>\n",
       "      <th>243</th>\n",
       "      <td>-0.048171</td>\n",
       "      <td>-0.008537</td>\n",
       "      <td>-0.079268</td>\n",
       "      <td>0.001709</td>\n",
       "      <td>0.009033</td>\n",
       "      <td>0.018311</td>\n",
       "      <td>0.64</td>\n",
       "      <td>0.6</td>\n",
       "      <td>3.43</td>\n",
       "      <td>0.910889</td>\n",
       "      <td>-0.363281</td>\n",
       "      <td>0.194824</td>\n",
       "      <td>t_stand_hold_DrinkCup_10ml_1s_right</td>\n",
       "      <td>1</td>\n",
       "      <td>86</td>\n",
       "    </tr>\n",
       "  </tbody>\n",
       "</table>\n",
       "</div>"
      ],
      "text/plain": [
       "        rotR_x    rotR_y    rotR_z     acc_x     acc_y     acc_z  or_x  or_y  \\\n",
       "time                                                                           \n",
       "242  -0.035366  0.023780 -0.089024  0.003418  0.003174  0.014893  0.63   0.6   \n",
       "243  -0.048171 -0.008537 -0.079268  0.001709  0.009033  0.018311  0.64   0.6   \n",
       "\n",
       "      or_z    grav_x    grav_y    grav_z                               action  \\\n",
       "time                                                                            \n",
       "242   3.43  0.908691 -0.368652  0.194580  t_stand_hold_DrinkCup_10ml_1s_right   \n",
       "243   3.43  0.910889 -0.363281  0.194824  t_stand_hold_DrinkCup_10ml_1s_right   \n",
       "\n",
       "      label  action_num  \n",
       "time                     \n",
       "242       1          86  \n",
       "243       1          86  "
      ]
     },
     "execution_count": 50,
     "metadata": {},
     "output_type": "execute_result"
    }
   ],
   "source": [
    "df_all.tail(2)"
   ]
  },
  {
   "cell_type": "code",
   "execution_count": 4,
   "metadata": {},
   "outputs": [],
   "source": [
    "df_fe = cf.fe_basic_features(df_all)"
   ]
  },
  {
   "attachments": {},
   "cell_type": "markdown",
   "metadata": {},
   "source": [
    "# Feature engineering (Rolling)\n",
    "rolling function takes an amount of directly preceding values to generate stuff like mean, median etc. So for my later input data, I don't need anything else than a set of preceding motion data."
   ]
  },
  {
   "cell_type": "code",
   "execution_count": 5,
   "metadata": {},
   "outputs": [],
   "source": [
    "ROLL_STEPS = 100"
   ]
  },
  {
   "cell_type": "code",
   "execution_count": 58,
   "metadata": {},
   "outputs": [],
   "source": [
    "roll_df =  cf.fe_roll_features(df_fe,ROLL_STEPS)"
   ]
  },
  {
   "cell_type": "code",
   "execution_count": 52,
   "metadata": {},
   "outputs": [
    {
     "data": {
      "text/html": [
       "<div>\n",
       "<style scoped>\n",
       "    .dataframe tbody tr th:only-of-type {\n",
       "        vertical-align: middle;\n",
       "    }\n",
       "\n",
       "    .dataframe tbody tr th {\n",
       "        vertical-align: top;\n",
       "    }\n",
       "\n",
       "    .dataframe thead th {\n",
       "        text-align: right;\n",
       "    }\n",
       "</style>\n",
       "<table border=\"1\" class=\"dataframe\">\n",
       "  <thead>\n",
       "    <tr style=\"text-align: right;\">\n",
       "      <th></th>\n",
       "      <th>accel_norm</th>\n",
       "      <th>accel_norm_rmean</th>\n",
       "      <th>accel_norm_rstd</th>\n",
       "      <th>accel_norm_rmed</th>\n",
       "      <th>rotR_x</th>\n",
       "      <th>rotR_x_rmean</th>\n",
       "      <th>rotR_x_rstd</th>\n",
       "      <th>rotR_x_rmed</th>\n",
       "      <th>rotR_y</th>\n",
       "      <th>rotR_y_rmean</th>\n",
       "      <th>...</th>\n",
       "      <th>grav_y_rmean</th>\n",
       "      <th>grav_y_rstd</th>\n",
       "      <th>grav_y_rmed</th>\n",
       "      <th>grav_z</th>\n",
       "      <th>grav_z_rmean</th>\n",
       "      <th>grav_z_rstd</th>\n",
       "      <th>grav_z_rmed</th>\n",
       "      <th>action</th>\n",
       "      <th>label</th>\n",
       "      <th>action_num</th>\n",
       "    </tr>\n",
       "    <tr>\n",
       "      <th>time</th>\n",
       "      <th></th>\n",
       "      <th></th>\n",
       "      <th></th>\n",
       "      <th></th>\n",
       "      <th></th>\n",
       "      <th></th>\n",
       "      <th></th>\n",
       "      <th></th>\n",
       "      <th></th>\n",
       "      <th></th>\n",
       "      <th></th>\n",
       "      <th></th>\n",
       "      <th></th>\n",
       "      <th></th>\n",
       "      <th></th>\n",
       "      <th></th>\n",
       "      <th></th>\n",
       "      <th></th>\n",
       "      <th></th>\n",
       "      <th></th>\n",
       "      <th></th>\n",
       "    </tr>\n",
       "  </thead>\n",
       "  <tbody>\n",
       "    <tr>\n",
       "      <th>242</th>\n",
       "      <td>1.004687</td>\n",
       "      <td>1.006443</td>\n",
       "      <td>0.055150</td>\n",
       "      <td>0.999673</td>\n",
       "      <td>-0.035366</td>\n",
       "      <td>0.027171</td>\n",
       "      <td>0.233537</td>\n",
       "      <td>-0.021037</td>\n",
       "      <td>0.023780</td>\n",
       "      <td>-0.052390</td>\n",
       "      <td>...</td>\n",
       "      <td>-0.674055</td>\n",
       "      <td>0.18862</td>\n",
       "      <td>-0.774902</td>\n",
       "      <td>0.194580</td>\n",
       "      <td>0.260559</td>\n",
       "      <td>0.104118</td>\n",
       "      <td>0.222656</td>\n",
       "      <td>t_stand_hold_DrinkCup_10ml_1s_right</td>\n",
       "      <td>1</td>\n",
       "      <td>86</td>\n",
       "    </tr>\n",
       "    <tr>\n",
       "      <th>243</th>\n",
       "      <td>1.001875</td>\n",
       "      <td>1.005045</td>\n",
       "      <td>0.053434</td>\n",
       "      <td>0.999673</td>\n",
       "      <td>-0.048171</td>\n",
       "      <td>0.028195</td>\n",
       "      <td>0.232973</td>\n",
       "      <td>-0.021037</td>\n",
       "      <td>-0.008537</td>\n",
       "      <td>-0.054134</td>\n",
       "      <td>...</td>\n",
       "      <td>-0.668911</td>\n",
       "      <td>0.19002</td>\n",
       "      <td>-0.771606</td>\n",
       "      <td>0.194824</td>\n",
       "      <td>0.258062</td>\n",
       "      <td>0.102645</td>\n",
       "      <td>0.219849</td>\n",
       "      <td>t_stand_hold_DrinkCup_10ml_1s_right</td>\n",
       "      <td>1</td>\n",
       "      <td>86</td>\n",
       "    </tr>\n",
       "  </tbody>\n",
       "</table>\n",
       "<p>2 rows × 55 columns</p>\n",
       "</div>"
      ],
      "text/plain": [
       "      accel_norm  accel_norm_rmean  accel_norm_rstd  accel_norm_rmed  \\\n",
       "time                                                                   \n",
       "242     1.004687          1.006443         0.055150         0.999673   \n",
       "243     1.001875          1.005045         0.053434         0.999673   \n",
       "\n",
       "        rotR_x  rotR_x_rmean  rotR_x_rstd  rotR_x_rmed    rotR_y  \\\n",
       "time                                                               \n",
       "242  -0.035366      0.027171     0.233537    -0.021037  0.023780   \n",
       "243  -0.048171      0.028195     0.232973    -0.021037 -0.008537   \n",
       "\n",
       "      rotR_y_rmean  ...  grav_y_rmean  grav_y_rstd  grav_y_rmed    grav_z  \\\n",
       "time                ...                                                     \n",
       "242      -0.052390  ...     -0.674055      0.18862    -0.774902  0.194580   \n",
       "243      -0.054134  ...     -0.668911      0.19002    -0.771606  0.194824   \n",
       "\n",
       "      grav_z_rmean  grav_z_rstd  grav_z_rmed  \\\n",
       "time                                           \n",
       "242       0.260559     0.104118     0.222656   \n",
       "243       0.258062     0.102645     0.219849   \n",
       "\n",
       "                                   action  label  action_num  \n",
       "time                                                          \n",
       "242   t_stand_hold_DrinkCup_10ml_1s_right      1          86  \n",
       "243   t_stand_hold_DrinkCup_10ml_1s_right      1          86  \n",
       "\n",
       "[2 rows x 55 columns]"
      ]
     },
     "execution_count": 52,
     "metadata": {},
     "output_type": "execute_result"
    }
   ],
   "source": [
    "roll_df.tail(2)"
   ]
  },
  {
   "cell_type": "code",
   "execution_count": 69,
   "metadata": {},
   "outputs": [],
   "source": [
    "roll = roll_df.iloc[-1]  # If deployment, take last part\n",
    "roll = np.asarray(roll).reshape(1,-1)"
   ]
  },
  {
   "cell_type": "code",
   "execution_count": 60,
   "metadata": {},
   "outputs": [
    {
     "data": {
      "text/plain": [
       "numpy.ndarray"
      ]
     },
     "execution_count": 60,
     "metadata": {},
     "output_type": "execute_result"
    }
   ],
   "source": [
    "type(roll)"
   ]
  },
  {
   "cell_type": "code",
   "execution_count": 64,
   "metadata": {},
   "outputs": [
    {
     "name": "stdout",
     "output_type": "stream",
     "text": [
      "hi\n"
     ]
    }
   ],
   "source": [
    "if type(roll) == np.ndarray :\n",
    "    print(\"hi\")"
   ]
  },
  {
   "cell_type": "code",
   "execution_count": 66,
   "metadata": {},
   "outputs": [],
   "source": [
    "roll = np.asarray(roll)"
   ]
  },
  {
   "cell_type": "code",
   "execution_count": 70,
   "metadata": {},
   "outputs": [
    {
     "data": {
      "text/plain": [
       "(1, 55)"
      ]
     },
     "execution_count": 70,
     "metadata": {},
     "output_type": "execute_result"
    }
   ],
   "source": [
    "roll.shape"
   ]
  },
  {
   "cell_type": "code",
   "execution_count": 56,
   "metadata": {},
   "outputs": [
    {
     "data": {
      "text/plain": [
       "array([[1.0018745376671518, 1.0050450856267346, 0.05343384321146245,\n",
       "        0.9996734753860312, -0.04817073170731708, 0.02819512195121959,\n",
       "        0.2329729074251666, -0.021036585365853663, -0.00853658536585366,\n",
       "        -0.05413414634146338, 0.28383883309369773, 0.005182926829268294,\n",
       "        -0.07926829268292684, -0.20182926829268297, 0.24168903594262847,\n",
       "        -0.09146341463414635, 0.001708984375, 0.00251708984375,\n",
       "        0.04836928678392995, 0.0023193359375, 0.009033203125,\n",
       "        -0.00668212890625, 0.07137936853915285, -0.0150146484375,\n",
       "        0.018310546875, 0.00052490234375, 0.05687698454585839,\n",
       "        0.004638671875, 0.64, 0.39209999999999995, 0.17280978624551857,\n",
       "        0.36, 0.6, 0.6667000000000001, 0.05798040421319408, 0.66, 3.43,\n",
       "        3.3335000000000004, 0.11350588468696697, 3.365, 0.910888671875,\n",
       "        0.6272607421875, 0.2152633048655556, 0.6121826171875,\n",
       "        -0.36328125, -0.6689111328125, 0.19001998405624454,\n",
       "        -0.7716064453125, 0.19482421875, 0.2580615234375,\n",
       "        0.10264477280566912, 0.2198486328125,\n",
       "        't_stand_hold_DrinkCup_10ml_1s_right', 1, 86]], dtype=object)"
      ]
     },
     "execution_count": 56,
     "metadata": {},
     "output_type": "execute_result"
    }
   ],
   "source": [
    "roll_df"
   ]
  },
  {
   "attachments": {},
   "cell_type": "markdown",
   "metadata": {},
   "source": [
    "## Data Splitting(Test/train)"
   ]
  },
  {
   "cell_type": "code",
   "execution_count": 8,
   "metadata": {},
   "outputs": [],
   "source": [
    "train_df_roll,test_df_roll = cf.data_split_TrainTest(roll_df)"
   ]
  },
  {
   "attachments": {},
   "cell_type": "markdown",
   "metadata": {},
   "source": [
    "## Preprocess (Normalizing)"
   ]
  },
  {
   "cell_type": "code",
   "execution_count": 9,
   "metadata": {},
   "outputs": [],
   "source": [
    "# from sklearn.preprocessing import StandardScaler\n",
    "\n",
    "# for act_num in train_df_roll.action_num.unique():\n",
    "#     std = StandardScaler().set_output(transform='pandas')\n",
    "#     std.fit(train_df_roll.loc[train_df_roll.action_num == act_num,:\"rotR_z_rmed\"])\n",
    "#     train_df_roll.loc[train_df_roll.action_num == act_num,:\"rotR_z_rmed\"] = std.transform(train_df_roll.loc[train_df_roll.action_num == act_num,:\"rotR_z_rmed\"])\n",
    "\n",
    "\n",
    "# for act_num in test_df_roll.action_num.unique():\n",
    "#     std = StandardScaler().set_output(transform='pandas')\n",
    "#     std.fit(test_df_roll.loc[test_df_roll.action_num == act_num,:\"rotR_z_rmed\"])\n",
    "#     test_df_roll.loc[test_df_roll.action_num == act_num,:\"rotR_z_rmed\"] = std.transform(test_df_roll.loc[test_df_roll.action_num == act_num,:\"rotR_z_rmed\"])"
   ]
  },
  {
   "cell_type": "code",
   "execution_count": 10,
   "metadata": {},
   "outputs": [],
   "source": [
    "#X_train_roll = cf.pre_normalize_tanh(X_train_roll)\n",
    "#X_test_roll = cf.pre_normalize_tanh(X_test_roll)"
   ]
  },
  {
   "cell_type": "markdown",
   "metadata": {},
   "source": [
    "## Modeling"
   ]
  },
  {
   "attachments": {},
   "cell_type": "markdown",
   "metadata": {},
   "source": [
    "### Split Data (Feature/Label)"
   ]
  },
  {
   "cell_type": "code",
   "execution_count": 11,
   "metadata": {},
   "outputs": [],
   "source": [
    "X_train_roll,y_train_roll = cf.data_split_FeatLabel(train_df_roll)\n",
    "X_test_roll,y_test_roll = cf.data_split_FeatLabel(test_df_roll)"
   ]
  },
  {
   "attachments": {},
   "cell_type": "markdown",
   "metadata": {},
   "source": [
    "### Preprocess (Normalizing)"
   ]
  },
  {
   "cell_type": "code",
   "execution_count": 13,
   "metadata": {},
   "outputs": [],
   "source": [
    "# from sklearn.preprocessing import StandardScaler\n",
    "\n",
    "# std = StandardScaler().set_output(transform='pandas')\n",
    "# std.fit(X_train_roll)\n",
    "# X_train_roll = std.transform(X_train_roll)\n",
    "# X_test_roll = std.transform(X_test_roll)"
   ]
  },
  {
   "cell_type": "markdown",
   "metadata": {},
   "source": [
    "### Neurel Network"
   ]
  },
  {
   "cell_type": "code",
   "execution_count": 15,
   "metadata": {},
   "outputs": [],
   "source": [
    "from tensorflow import keras\n",
    "from tensorflow.keras.models import Sequential,load_model\n",
    "from tensorflow.keras.layers import Dense,Dropout,BatchNormalization\n",
    "from tensorflow.keras.callbacks import EarlyStopping,ModelCheckpoint\n",
    "\n",
    "from sklearn.model_selection import train_test_split\n",
    "from sklearn.metrics import mean_absolute_error\n",
    "\n",
    "\n",
    "import tensorflow as tf\n",
    "import sklearn\n",
    "tf.random.set_seed(20) # to fix the randomization\n",
    "import numpy as np\n",
    "np.random.seed(20)# to fix the randomizationin sklearn\n",
    "sklearn.random.seed(1)"
   ]
  },
  {
   "cell_type": "code",
   "execution_count": 16,
   "metadata": {},
   "outputs": [
    {
     "data": {
      "text/plain": [
       "array([[ 1.01817711,  1.014761  ,  0.04358826,  1.01077922,  0.30487805,\n",
       "        -0.08839024,  0.46115352,  0.02012195,  0.10792683, -0.05790244,\n",
       "         0.25876025, -0.00335366,  0.07926829,  0.05258537,  0.16523987,\n",
       "         0.01128049, -0.1015625 ,  0.00530273,  0.06162395,  0.01245117,\n",
       "        -0.00683594, -0.01330811,  0.04808149, -0.01208496, -0.00830078,\n",
       "        -0.00340088,  0.04156665, -0.0065918 , -0.05      , -0.0271    ,\n",
       "         0.04018379, -0.04      ,  0.67      ,  0.6689    ,  0.12531895,\n",
       "         0.675     ,  0.43      ,  0.4226    ,  0.11997155,  0.39      ,\n",
       "        -0.09960938, -0.05415039,  0.07280594, -0.07177734, -0.9230957 ,\n",
       "        -0.9016748 ,  0.13493224, -0.92626953,  0.37084961,  0.36723145,\n",
       "         0.16050718,  0.36865234]])"
      ]
     },
     "execution_count": 16,
     "metadata": {},
     "output_type": "execute_result"
    }
   ],
   "source": [
    "np.asarray(X_train_roll.iloc[0]).reshape(1,-1)"
   ]
  },
  {
   "cell_type": "code",
   "execution_count": 39,
   "metadata": {},
   "outputs": [],
   "source": [
    "input_dim = X_train_roll.shape[1]\n",
    "cnn = Sequential()\n",
    "cnn.add(Dense(100, input_dim=input_dim, activation='relu'))\n",
    "cnn.add(Dropout(rate =0.2)) # drop some of the neurals in the back prop. analysis to avoid overfitting\n",
    "cnn.add(BatchNormalization())\n",
    "cnn.add(Dense(40, activation='relu'))\n",
    "cnn.add(Dropout(rate =0.5))\n",
    "cnn.add(BatchNormalization())\n",
    "cnn.add(Dense(20, activation='relu'))\n",
    "cnn.add(Dropout(rate =0.4))\n",
    "cnn.add(BatchNormalization())\n",
    "cnn.add(Dense(1, activation='sigmoid'))"
   ]
  },
  {
   "cell_type": "code",
   "execution_count": 40,
   "metadata": {},
   "outputs": [],
   "source": [
    "#print(cnn.summary())"
   ]
  },
  {
   "cell_type": "code",
   "execution_count": 41,
   "metadata": {},
   "outputs": [],
   "source": [
    "opt = keras.optimizers.Adam(learning_rate=0.005)\n",
    "\n",
    "cnn.compile(loss='binary_crossentropy', optimizer=opt, metrics=['accuracy'])\n",
    "\n",
    "X_train, val_X, y_train, val_y = train_test_split(X_train_roll, y_train_roll, shuffle=True,test_size=0.2 )"
   ]
  },
  {
   "cell_type": "code",
   "execution_count": 42,
   "metadata": {},
   "outputs": [],
   "source": [
    "X_train_arr = np.asarray(X_train_roll)\n",
    "y_train_arr = np.asarray(y_train_roll)\n",
    "X_test_arr = np.asarray(X_test_roll)\n",
    "y_test_arr = np.asarray(y_test_roll)\n",
    "val_X =  np.asarray(val_X)\n",
    "val_y =  np.asarray(val_y)"
   ]
  },
  {
   "cell_type": "code",
   "execution_count": 43,
   "metadata": {},
   "outputs": [],
   "source": [
    "es = EarlyStopping(monitor='val_accuracy', mode='max', verbose=0, patience=10)\n",
    "mc = ModelCheckpoint('best_model.h5', monitor='val_accuracy', mode='max', verbose=1, save_best_only=True)"
   ]
  },
  {
   "cell_type": "code",
   "execution_count": 44,
   "metadata": {},
   "outputs": [
    {
     "name": "stdout",
     "output_type": "stream",
     "text": [
      "Epoch 1/100\n",
      "117/117 [==============================] - ETA: 0s - loss: 0.4025 - accuracy: 0.8115\n",
      "Epoch 1: val_accuracy improved from -inf to 0.71382, saving model to best_model.h5\n",
      "117/117 [==============================] - 6s 18ms/step - loss: 0.4025 - accuracy: 0.8115 - val_loss: 0.5006 - val_accuracy: 0.7138\n",
      "Epoch 2/100\n",
      "114/117 [============================>.] - ETA: 0s - loss: 0.1813 - accuracy: 0.9319\n",
      "Epoch 2: val_accuracy improved from 0.71382 to 0.84997, saving model to best_model.h5\n",
      "117/117 [==============================] - 2s 17ms/step - loss: 0.1796 - accuracy: 0.9328 - val_loss: 0.3167 - val_accuracy: 0.8500\n",
      "Epoch 3/100\n",
      "114/117 [============================>.] - ETA: 0s - loss: 0.1219 - accuracy: 0.9568\n",
      "Epoch 3: val_accuracy improved from 0.84997 to 0.95616, saving model to best_model.h5\n",
      "117/117 [==============================] - 2s 16ms/step - loss: 0.1219 - accuracy: 0.9569 - val_loss: 0.1089 - val_accuracy: 0.9562\n",
      "Epoch 4/100\n",
      "114/117 [============================>.] - ETA: 0s - loss: 0.0993 - accuracy: 0.9648\n",
      "Epoch 4: val_accuracy improved from 0.95616 to 0.97911, saving model to best_model.h5\n",
      "117/117 [==============================] - 2s 18ms/step - loss: 0.0990 - accuracy: 0.9649 - val_loss: 0.0585 - val_accuracy: 0.9791\n",
      "Epoch 5/100\n",
      "113/117 [===========================>..] - ETA: 0s - loss: 0.0956 - accuracy: 0.9675\n",
      "Epoch 5: val_accuracy did not improve from 0.97911\n",
      "117/117 [==============================] - 1s 9ms/step - loss: 0.0954 - accuracy: 0.9675 - val_loss: 0.1047 - val_accuracy: 0.9507\n",
      "Epoch 6/100\n",
      "113/117 [===========================>..] - ETA: 0s - loss: 0.0800 - accuracy: 0.9735\n",
      "Epoch 6: val_accuracy improved from 0.97911 to 0.99024, saving model to best_model.h5\n",
      "117/117 [==============================] - 1s 10ms/step - loss: 0.0795 - accuracy: 0.9737 - val_loss: 0.0327 - val_accuracy: 0.9902\n",
      "Epoch 7/100\n",
      "113/117 [===========================>..] - ETA: 0s - loss: 0.0691 - accuracy: 0.9767\n",
      "Epoch 7: val_accuracy did not improve from 0.99024\n",
      "117/117 [==============================] - 1s 12ms/step - loss: 0.0689 - accuracy: 0.9767 - val_loss: 0.0272 - val_accuracy: 0.9894\n",
      "Epoch 8/100\n",
      "113/117 [===========================>..] - ETA: 0s - loss: 0.0627 - accuracy: 0.9795\n",
      "Epoch 8: val_accuracy did not improve from 0.99024\n",
      "117/117 [==============================] - 1s 9ms/step - loss: 0.0623 - accuracy: 0.9796 - val_loss: 0.0470 - val_accuracy: 0.9832\n",
      "Epoch 9/100\n",
      "112/117 [===========================>..] - ETA: 0s - loss: 0.0632 - accuracy: 0.9803\n",
      "Epoch 9: val_accuracy improved from 0.99024 to 0.99058, saving model to best_model.h5\n",
      "117/117 [==============================] - 1s 10ms/step - loss: 0.0633 - accuracy: 0.9802 - val_loss: 0.0307 - val_accuracy: 0.9906\n",
      "Epoch 10/100\n",
      "113/117 [===========================>..] - ETA: 0s - loss: 0.0628 - accuracy: 0.9801\n",
      "Epoch 10: val_accuracy improved from 0.99058 to 0.99401, saving model to best_model.h5\n",
      "117/117 [==============================] - 1s 10ms/step - loss: 0.0623 - accuracy: 0.9802 - val_loss: 0.0201 - val_accuracy: 0.9940\n",
      "Epoch 11/100\n",
      "116/117 [============================>.] - ETA: 0s - loss: 0.0573 - accuracy: 0.9815\n",
      "Epoch 11: val_accuracy did not improve from 0.99401\n",
      "117/117 [==============================] - 2s 14ms/step - loss: 0.0574 - accuracy: 0.9815 - val_loss: 0.1858 - val_accuracy: 0.9219\n",
      "Epoch 12/100\n",
      "117/117 [==============================] - ETA: 0s - loss: 0.0580 - accuracy: 0.9828\n",
      "Epoch 12: val_accuracy did not improve from 0.99401\n",
      "117/117 [==============================] - 2s 13ms/step - loss: 0.0580 - accuracy: 0.9828 - val_loss: 0.0408 - val_accuracy: 0.9818\n",
      "Epoch 13/100\n",
      "112/117 [===========================>..] - ETA: 0s - loss: 0.0514 - accuracy: 0.9844\n",
      "Epoch 13: val_accuracy did not improve from 0.99401\n",
      "117/117 [==============================] - 2s 13ms/step - loss: 0.0506 - accuracy: 0.9848 - val_loss: 0.0217 - val_accuracy: 0.9920\n",
      "Epoch 14/100\n",
      "115/117 [============================>.] - ETA: 0s - loss: 0.0491 - accuracy: 0.9854\n",
      "Epoch 14: val_accuracy improved from 0.99401 to 0.99452, saving model to best_model.h5\n",
      "117/117 [==============================] - 1s 12ms/step - loss: 0.0494 - accuracy: 0.9853 - val_loss: 0.0132 - val_accuracy: 0.9945\n",
      "Epoch 15/100\n",
      "113/117 [===========================>..] - ETA: 0s - loss: 0.0468 - accuracy: 0.9861\n",
      "Epoch 15: val_accuracy improved from 0.99452 to 0.99914, saving model to best_model.h5\n",
      "117/117 [==============================] - 1s 11ms/step - loss: 0.0471 - accuracy: 0.9861 - val_loss: 0.0060 - val_accuracy: 0.9991\n",
      "Epoch 16/100\n",
      "114/117 [============================>.] - ETA: 0s - loss: 0.0454 - accuracy: 0.9859\n",
      "Epoch 16: val_accuracy did not improve from 0.99914\n",
      "117/117 [==============================] - 1s 10ms/step - loss: 0.0455 - accuracy: 0.9859 - val_loss: 0.1882 - val_accuracy: 0.9279\n",
      "Epoch 17/100\n",
      "112/117 [===========================>..] - ETA: 0s - loss: 0.0490 - accuracy: 0.9852\n",
      "Epoch 17: val_accuracy did not improve from 0.99914\n",
      "117/117 [==============================] - 1s 10ms/step - loss: 0.0493 - accuracy: 0.9851 - val_loss: 0.0094 - val_accuracy: 0.9971\n",
      "Epoch 18/100\n",
      "113/117 [===========================>..] - ETA: 0s - loss: 0.0437 - accuracy: 0.9869\n",
      "Epoch 18: val_accuracy did not improve from 0.99914\n",
      "117/117 [==============================] - 1s 9ms/step - loss: 0.0439 - accuracy: 0.9868 - val_loss: 0.0088 - val_accuracy: 0.9964\n",
      "Epoch 19/100\n",
      "115/117 [============================>.] - ETA: 0s - loss: 0.0400 - accuracy: 0.9878\n",
      "Epoch 19: val_accuracy did not improve from 0.99914\n",
      "117/117 [==============================] - 7s 64ms/step - loss: 0.0398 - accuracy: 0.9878 - val_loss: 0.0091 - val_accuracy: 0.9976\n",
      "Epoch 20/100\n",
      "114/117 [============================>.] - ETA: 0s - loss: 0.0431 - accuracy: 0.9866\n",
      "Epoch 20: val_accuracy did not improve from 0.99914\n",
      "117/117 [==============================] - 3s 23ms/step - loss: 0.0432 - accuracy: 0.9865 - val_loss: 0.0123 - val_accuracy: 0.9955\n",
      "Epoch 21/100\n",
      "115/117 [============================>.] - ETA: 0s - loss: 0.0437 - accuracy: 0.9871\n",
      "Epoch 21: val_accuracy did not improve from 0.99914\n",
      "117/117 [==============================] - 3s 26ms/step - loss: 0.0438 - accuracy: 0.9871 - val_loss: 0.0206 - val_accuracy: 0.9926\n",
      "Epoch 22/100\n",
      "112/117 [===========================>..] - ETA: 0s - loss: 0.0490 - accuracy: 0.9847\n",
      "Epoch 22: val_accuracy improved from 0.99914 to 0.99966, saving model to best_model.h5\n",
      "117/117 [==============================] - 2s 17ms/step - loss: 0.0485 - accuracy: 0.9850 - val_loss: 0.0034 - val_accuracy: 0.9997\n",
      "Epoch 23/100\n",
      "117/117 [==============================] - ETA: 0s - loss: 0.0414 - accuracy: 0.9875\n",
      "Epoch 23: val_accuracy did not improve from 0.99966\n",
      "117/117 [==============================] - 1s 9ms/step - loss: 0.0414 - accuracy: 0.9875 - val_loss: 0.0335 - val_accuracy: 0.9887\n",
      "Epoch 24/100\n",
      "114/117 [============================>.] - ETA: 0s - loss: 0.0432 - accuracy: 0.9862\n",
      "Epoch 24: val_accuracy did not improve from 0.99966\n",
      "117/117 [==============================] - 2s 13ms/step - loss: 0.0432 - accuracy: 0.9862 - val_loss: 0.0158 - val_accuracy: 0.9942\n",
      "Epoch 25/100\n",
      "112/117 [===========================>..] - ETA: 0s - loss: 0.0464 - accuracy: 0.9858\n",
      "Epoch 25: val_accuracy did not improve from 0.99966\n",
      "117/117 [==============================] - 1s 12ms/step - loss: 0.0463 - accuracy: 0.9860 - val_loss: 0.0069 - val_accuracy: 0.9981\n",
      "Epoch 26/100\n",
      "116/117 [============================>.] - ETA: 0s - loss: 0.0393 - accuracy: 0.9877\n",
      "Epoch 26: val_accuracy did not improve from 0.99966\n",
      "117/117 [==============================] - 1s 11ms/step - loss: 0.0392 - accuracy: 0.9877 - val_loss: 0.0228 - val_accuracy: 0.9901\n",
      "Epoch 27/100\n",
      "114/117 [============================>.] - ETA: 0s - loss: 0.0404 - accuracy: 0.9877\n",
      "Epoch 27: val_accuracy did not improve from 0.99966\n",
      "117/117 [==============================] - 2s 16ms/step - loss: 0.0403 - accuracy: 0.9876 - val_loss: 0.0219 - val_accuracy: 0.9940\n",
      "Epoch 28/100\n",
      "111/117 [===========================>..] - ETA: 0s - loss: 0.0403 - accuracy: 0.9883\n",
      "Epoch 28: val_accuracy did not improve from 0.99966\n",
      "117/117 [==============================] - 2s 15ms/step - loss: 0.0397 - accuracy: 0.9886 - val_loss: 0.0045 - val_accuracy: 0.9993\n",
      "Epoch 29/100\n",
      "113/117 [===========================>..] - ETA: 0s - loss: 0.0381 - accuracy: 0.9881\n",
      "Epoch 29: val_accuracy did not improve from 0.99966\n",
      "117/117 [==============================] - 1s 11ms/step - loss: 0.0377 - accuracy: 0.9882 - val_loss: 0.0711 - val_accuracy: 0.9762\n",
      "Epoch 30/100\n",
      "113/117 [===========================>..] - ETA: 0s - loss: 0.0377 - accuracy: 0.9890\n",
      "Epoch 30: val_accuracy did not improve from 0.99966\n",
      "117/117 [==============================] - 1s 10ms/step - loss: 0.0378 - accuracy: 0.9890 - val_loss: 0.0129 - val_accuracy: 0.9962\n",
      "Epoch 31/100\n",
      "117/117 [==============================] - ETA: 0s - loss: 0.0389 - accuracy: 0.9876\n",
      "Epoch 31: val_accuracy did not improve from 0.99966\n",
      "117/117 [==============================] - 1s 10ms/step - loss: 0.0389 - accuracy: 0.9876 - val_loss: 0.0083 - val_accuracy: 0.9967\n",
      "Epoch 32/100\n",
      "114/117 [============================>.] - ETA: 0s - loss: 0.0367 - accuracy: 0.9888\n",
      "Epoch 32: val_accuracy did not improve from 0.99966\n",
      "117/117 [==============================] - 2s 15ms/step - loss: 0.0378 - accuracy: 0.9885 - val_loss: 0.0163 - val_accuracy: 0.9967\n"
     ]
    }
   ],
   "source": [
    "history = cnn.fit(X_train_arr, y_train_arr, epochs=100, batch_size=250,callbacks=[es,mc]\n",
    "                  , validation_data=(val_X,val_y)\n",
    "                  )\n"
   ]
  },
  {
   "cell_type": "code",
   "execution_count": 45,
   "metadata": {},
   "outputs": [
    {
     "data": {
      "image/png": "[encoded data removed]",
      "text/plain": [
       "<Figure size 640x480 with 1 Axes>"
      ]
     },
     "metadata": {},
     "output_type": "display_data"
    }
   ],
   "source": [
    "history_df = pd.DataFrame(history.history)\n",
    "history_df.loc[:, ['loss',\"val_loss\"]].plot()\n",
    "plt.show()"
   ]
  },
  {
   "cell_type": "markdown",
   "metadata": {},
   "source": [
    "#### Evaluation"
   ]
  },
  {
   "cell_type": "markdown",
   "metadata": {},
   "source": [
    "- Evaluate best model which was monitored and saved"
   ]
  },
  {
   "cell_type": "code",
   "execution_count": 46,
   "metadata": {},
   "outputs": [
    {
     "name": "stdout",
     "output_type": "stream",
     "text": [
      "Train: 99.95, Test: 89.01\n"
     ]
    }
   ],
   "source": [
    "best_saved_model = load_model('best_model.h5')\n",
    "_, train_acc = best_saved_model.evaluate(X_train_arr, y_train_arr, verbose=0)\n",
    "_, test_acc = best_saved_model.evaluate(X_test_arr, y_test_arr, verbose=0)\n",
    "print('Train: %.2f, Test: %.2f' % (train_acc*100, test_acc*100))"
   ]
  },
  {
   "cell_type": "code",
   "execution_count": 47,
   "metadata": {},
   "outputs": [
    {
     "name": "stdout",
     "output_type": "stream",
     "text": [
      "745/745 [==============================] - 4s 5ms/step\n",
      "mean absolute error is 0.113\n"
     ]
    }
   ],
   "source": [
    "\n",
    "best_model_predictions = best_saved_model.predict(X_test_arr)\n",
    "mae = round(mean_absolute_error(y_test_roll, best_model_predictions),3)\n",
    "print(\"mean absolute error is\",mae)"
   ]
  },
  {
   "cell_type": "code",
   "execution_count": 48,
   "metadata": {},
   "outputs": [],
   "source": [
    "# convert predicted label rom analog to binary value\n",
    "bin_best_model_predictions=[]\n",
    "for val in best_model_predictions:\n",
    "    if val >=0.5:\n",
    "        bin_best_model_predictions.append(1)\n",
    "    else:\n",
    "        bin_best_model_predictions.append(0)"
   ]
  },
  {
   "cell_type": "code",
   "execution_count": 49,
   "metadata": {},
   "outputs": [
    {
     "data": {
      "image/png": "[encoded data removed]",
      "text/plain": [
       "<Figure size 640x480 with 2 Axes>"
      ]
     },
     "metadata": {},
     "output_type": "display_data"
    }
   ],
   "source": [
    "from sklearn.metrics import confusion_matrix\n",
    "from sklearn.metrics import ConfusionMatrixDisplay\n",
    "from matplotlib import pyplot as plt\n",
    "\n",
    "conf_mat = confusion_matrix(bin_best_model_predictions, y_test_roll)\n",
    "conf_mat_disp = ConfusionMatrixDisplay(confusion_matrix=conf_mat)\n",
    "conf_mat_disp.plot(cmap='Greens')\n",
    "plt.show()"
   ]
  },
  {
   "cell_type": "code",
   "execution_count": null,
   "metadata": {},
   "outputs": [],
   "source": []
  },
  {
   "cell_type": "code",
   "execution_count": null,
   "metadata": {},
   "outputs": [],
   "source": [
    "from tensorflow import keras\n",
    "from tensorflow.keras.models import Sequential,load_model\n",
    "from tensorflow.keras.layers import Dense,Dropout,BatchNormalization\n",
    "from tensorflow.keras.callbacks import EarlyStopping,ModelCheckpoint\n",
    "\n",
    "from sklearn.model_selection import train_test_split\n",
    "from sklearn.metrics import mean_absolute_error\n",
    "\n",
    "\n",
    "import tensorflow as tf\n",
    "import sklearn\n",
    "tf.random.set_seed(20) # to fix the randomization\n",
    "import numpy as np\n",
    "np.random.seed(20)# to fix the randomizationin sklearn\n",
    "sklearn.random.seed(1)"
   ]
  },
  {
   "cell_type": "code",
   "execution_count": null,
   "metadata": {},
   "outputs": [],
   "source": [
    "my_cnn = DecisionTreeClassifier()\n",
    "my_cleaner = CleanDataTransformer(columns=[\"PoolArea\",\"ScreenPorch\"])"
   ]
  }
 ],
 "metadata": {
  "kernelspec": {
   "display_name": "Python 3",
   "language": "python",
   "name": "python3"
  },
  "language_info": {
   "codemirror_mode": {
    "name": "ipython",
    "version": 3
   },
   "file_extension": ".py",
   "mimetype": "text/x-python",
   "name": "python",
   "nbconvert_exporter": "python",
   "pygments_lexer": "ipython3",
   "version": "3.10.9"
  },
  "orig_nbformat": 4,
  "vscode": {
   "interpreter": {
    "hash": "81794d4967e6c3204c66dcd87b604927b115b27c00565d3d43f05ba2f3a2cb0d"
   }
  }
 },
 "nbformat": 4,
 "nbformat_minor": 2
}
