{
 "cells": [
  {
   "attachments": {},
   "cell_type": "markdown",
   "metadata": {},
   "source": [
    "## Import Data"
   ]
  },
  {
   "cell_type": "code",
   "execution_count": 220,
   "metadata": {},
   "outputs": [],
   "source": [
    "\n",
    "import pandas as pd\n",
    "import matplotlib.pyplot as plt\n",
    "import seaborn as sns\n",
    "import numpy as np\n",
    "\n",
    "sns.set_style(\"darkgrid\")\n",
    "\n",
    "import glob\n",
    "import os\n",
    "\n",
    "import random\n",
    "\n",
    "import common_functions as cf"
   ]
  },
  {
   "cell_type": "code",
   "execution_count": 221,
   "metadata": {},
   "outputs": [],
   "source": [
    "path = r'D:\\_1_Technicals\\DataScience_Bootcamp\\Final_project\\Flutter_ArduinoConnect\\00_DataSets'\n",
    "filenames = glob.glob(path + \"/**/*.csv\")\n",
    "\n",
    "# shuffeling the files as its always ordered alphabetic\n",
    "random.seed(10)\n",
    "shuffled_filenames = random.sample(filenames, len(filenames))"
   ]
  },
  {
   "cell_type": "code",
   "execution_count": 222,
   "metadata": {},
   "outputs": [],
   "source": [
    "dfs = []\n",
    "num_t = cf.START_T_COUNT\n",
    "num_f = cf.START_F_COUNT\n",
    "for filename in shuffled_filenames:\n",
    "    df = pd.read_csv(filename, index_col=False)\n",
    "    \n",
    "    # # append extra rows for the small datatsets\n",
    "    # if df.shape[0] < SMALLEST_DS_SIZE:\n",
    "    #     missing_rows = SMALLEST_DS_SIZE - df.shape[0]\n",
    "    #     for i in range(missing_rows):\n",
    "    #         df = df.append(df.iloc[0]) \n",
    "    \n",
    "\n",
    "    # Rename columns\n",
    "    df.columns= [\"time\",\"rotR_x\",\"rotR_y\",\"rotR_z\",\"acc_x\",\"acc_y\",\"acc_z\",\"or_x\",\"or_y\",\"or_z\",\"grav_x\",\"grav_y\",\"grav_z\"]\n",
    "    \n",
    "    # fix units\n",
    "    df.acc_x = df.acc_x/4096.0\n",
    "    df.acc_y = df.acc_y/4096.0\n",
    "    df.acc_z = df.acc_z/4096.0\n",
    "    \n",
    "    df.rotR_x = df.rotR_x/16.4\n",
    "    df.rotR_y = df.rotR_y/16.4\n",
    "    df.rotR_z = df.rotR_z/16.4\n",
    "    \n",
    "    df.grav_x = df.grav_x/4096.0\n",
    "    df.grav_y = df.grav_y/4096.0\n",
    "    df.grav_z = df.grav_z/4096.0\n",
    "    \n",
    "    # get the file name and set it in action column\n",
    "    _, tail = os.path.split(filename)\n",
    "    df[\"action\"] = str(tail).split(\".\")[0]\n",
    "    \n",
    "    # add the label (0= Not drinking, 1= drinking)\n",
    "    # add action_num value to ideintify separate observations\n",
    "    if df.action.str.startswith(\"t_\").sum():\n",
    "        df[\"label\"] = 1\n",
    "        df[\"action_num\"] = num_t # 0 - 499\n",
    "        num_t += 1\n",
    "    else:\n",
    "        df[\"label\"] = 0\n",
    "        df[\"action_num\"] = num_f # 500 - 1000\n",
    "        num_f += 1\n",
    "    \n",
    "    # include time in index\n",
    "    df = df.drop(columns=\"time\")\n",
    "    #df = df.drop(columns=\"time\").reset_index().rename(columns={\"index\":\"time\"})\n",
    "                                                                                                                                                                                                                                                                                                                                                                                                                \n",
    "    dfs.append(df)\n"
   ]
  },
  {
   "cell_type": "code",
   "execution_count": 223,
   "metadata": {},
   "outputs": [],
   "source": [
    "# Assume we want to have time series data with shape (num_samples, seq_length, num_features)\n",
    "# where num_samples is the number of sequences, seq_length is the length of each sequence,\n",
    "# and num_features is the number of variables included in the time series data\n",
    "\n",
    "# Initialize an empty list to store the windowed data\n",
    "windowed_dfs=[]\n",
    "# Loop over each df in the dfs\n",
    "for df in dfs:\n",
    "    # Extract the number of time steps(rows) in the df\n",
    "    num_steps = df.shape[0]\n",
    "    if num_steps >= cf.SMALLEST_DS_SIZE:\n",
    "        # Calculate the number of windows that can be created from the df\n",
    "        num_windows = int((num_steps - cf.SEQUENCE_SIZE) / cf.step_size) + 1\n",
    "\n",
    "        # Loop over each window in the sample\n",
    "\n",
    "        for i in range(num_windows):\n",
    "            # Calculate the start and end indices of the window\n",
    "            start = i * cf.step_size\n",
    "            end = start + cf.SEQUENCE_SIZE\n",
    "            # Extract the window from the sample\n",
    "            window_df = df.iloc[start:end, :]\n",
    "            # Append the window to the list of windowed data\n",
    "            windowed_dfs.append(window_df)\n",
    "        \n",
    "# Convert the list of windowed data to a NumPy array\n",
    "w_arr_all = np.array(windowed_dfs)"
   ]
  },
  {
   "cell_type": "code",
   "execution_count": 224,
   "metadata": {},
   "outputs": [
    {
     "data": {
      "text/plain": [
       "(1147, 100, 15)"
      ]
     },
     "execution_count": 224,
     "metadata": {},
     "output_type": "execute_result"
    }
   ],
   "source": [
    "w_arr_all.shape"
   ]
  },
  {
   "cell_type": "code",
   "execution_count": 225,
   "metadata": {},
   "outputs": [],
   "source": [
    "#w_df_all = pd.concat(windowed_dfs,axis=0).set_index(\"time\")\n",
    "w_df_all = pd.concat(windowed_dfs,axis=0)"
   ]
  },
  {
   "cell_type": "code",
   "execution_count": 226,
   "metadata": {},
   "outputs": [
    {
     "data": {
      "text/plain": [
       "(114700, 15)"
      ]
     },
     "execution_count": 226,
     "metadata": {},
     "output_type": "execute_result"
    }
   ],
   "source": [
    "w_df_all.shape"
   ]
  },
  {
   "cell_type": "code",
   "execution_count": 227,
   "metadata": {},
   "outputs": [
    {
     "data": {
      "text/plain": [
       "185"
      ]
     },
     "execution_count": 227,
     "metadata": {},
     "output_type": "execute_result"
    }
   ],
   "source": [
    "len(filenames)"
   ]
  },
  {
   "cell_type": "code",
   "execution_count": 228,
   "metadata": {},
   "outputs": [
    {
     "data": {
      "text/plain": [
       "87"
      ]
     },
     "execution_count": 228,
     "metadata": {},
     "output_type": "execute_result"
    }
   ],
   "source": [
    "num_t"
   ]
  },
  {
   "cell_type": "code",
   "execution_count": 229,
   "metadata": {},
   "outputs": [
    {
     "data": {
      "text/plain": [
       "598"
      ]
     },
     "execution_count": 229,
     "metadata": {},
     "output_type": "execute_result"
    }
   ],
   "source": [
    "num_f"
   ]
  },
  {
   "cell_type": "code",
   "execution_count": 230,
   "metadata": {},
   "outputs": [
    {
     "data": {
      "text/plain": [
       "(114700, 15)"
      ]
     },
     "execution_count": 230,
     "metadata": {},
     "output_type": "execute_result"
    }
   ],
   "source": [
    "w_df_all.shape"
   ]
  },
  {
   "cell_type": "code",
   "execution_count": 231,
   "metadata": {},
   "outputs": [
    {
     "data": {
      "text/html": [
       "<div>\n",
       "<style scoped>\n",
       "    .dataframe tbody tr th:only-of-type {\n",
       "        vertical-align: middle;\n",
       "    }\n",
       "\n",
       "    .dataframe tbody tr th {\n",
       "        vertical-align: top;\n",
       "    }\n",
       "\n",
       "    .dataframe thead th {\n",
       "        text-align: right;\n",
       "    }\n",
       "</style>\n",
       "<table border=\"1\" class=\"dataframe\">\n",
       "  <thead>\n",
       "    <tr style=\"text-align: right;\">\n",
       "      <th></th>\n",
       "      <th>rotR_x</th>\n",
       "      <th>rotR_y</th>\n",
       "      <th>rotR_z</th>\n",
       "      <th>acc_x</th>\n",
       "      <th>acc_y</th>\n",
       "      <th>acc_z</th>\n",
       "      <th>or_x</th>\n",
       "      <th>or_y</th>\n",
       "      <th>or_z</th>\n",
       "      <th>grav_x</th>\n",
       "      <th>grav_y</th>\n",
       "      <th>grav_z</th>\n",
       "      <th>action</th>\n",
       "      <th>label</th>\n",
       "      <th>action_num</th>\n",
       "    </tr>\n",
       "  </thead>\n",
       "  <tbody>\n",
       "    <tr>\n",
       "      <th>0</th>\n",
       "      <td>-12.012195</td>\n",
       "      <td>5.243902</td>\n",
       "      <td>1.158537</td>\n",
       "      <td>0.098145</td>\n",
       "      <td>0.047607</td>\n",
       "      <td>0.029785</td>\n",
       "      <td>15</td>\n",
       "      <td>13</td>\n",
       "      <td>80</td>\n",
       "      <td>0.271240</td>\n",
       "      <td>-0.230225</td>\n",
       "      <td>0.934326</td>\n",
       "      <td>t_stand_left_DrinkBottle_10ml_1s_right</td>\n",
       "      <td>1</td>\n",
       "      <td>0</td>\n",
       "    </tr>\n",
       "    <tr>\n",
       "      <th>1</th>\n",
       "      <td>-23.780488</td>\n",
       "      <td>17.195122</td>\n",
       "      <td>3.658537</td>\n",
       "      <td>0.093994</td>\n",
       "      <td>0.043213</td>\n",
       "      <td>0.041748</td>\n",
       "      <td>15</td>\n",
       "      <td>14</td>\n",
       "      <td>80</td>\n",
       "      <td>0.259766</td>\n",
       "      <td>-0.249023</td>\n",
       "      <td>0.932861</td>\n",
       "      <td>t_stand_left_DrinkBottle_10ml_1s_right</td>\n",
       "      <td>1</td>\n",
       "      <td>0</td>\n",
       "    </tr>\n",
       "    <tr>\n",
       "      <th>2</th>\n",
       "      <td>-27.926829</td>\n",
       "      <td>21.402439</td>\n",
       "      <td>2.804878</td>\n",
       "      <td>0.099121</td>\n",
       "      <td>0.081543</td>\n",
       "      <td>0.036377</td>\n",
       "      <td>14</td>\n",
       "      <td>15</td>\n",
       "      <td>80</td>\n",
       "      <td>0.246094</td>\n",
       "      <td>-0.265869</td>\n",
       "      <td>0.931885</td>\n",
       "      <td>t_stand_left_DrinkBottle_10ml_1s_right</td>\n",
       "      <td>1</td>\n",
       "      <td>0</td>\n",
       "    </tr>\n",
       "    <tr>\n",
       "      <th>3</th>\n",
       "      <td>-64.329268</td>\n",
       "      <td>20.426829</td>\n",
       "      <td>9.085366</td>\n",
       "      <td>0.108398</td>\n",
       "      <td>0.070312</td>\n",
       "      <td>0.013916</td>\n",
       "      <td>12</td>\n",
       "      <td>19</td>\n",
       "      <td>80</td>\n",
       "      <td>0.219238</td>\n",
       "      <td>-0.322998</td>\n",
       "      <td>0.920410</td>\n",
       "      <td>t_stand_left_DrinkBottle_10ml_1s_right</td>\n",
       "      <td>1</td>\n",
       "      <td>0</td>\n",
       "    </tr>\n",
       "    <tr>\n",
       "      <th>4</th>\n",
       "      <td>-107.073171</td>\n",
       "      <td>19.634146</td>\n",
       "      <td>14.451220</td>\n",
       "      <td>0.096680</td>\n",
       "      <td>0.083252</td>\n",
       "      <td>-0.019775</td>\n",
       "      <td>11</td>\n",
       "      <td>24</td>\n",
       "      <td>81</td>\n",
       "      <td>0.195801</td>\n",
       "      <td>-0.404785</td>\n",
       "      <td>0.892822</td>\n",
       "      <td>t_stand_left_DrinkBottle_10ml_1s_right</td>\n",
       "      <td>1</td>\n",
       "      <td>0</td>\n",
       "    </tr>\n",
       "    <tr>\n",
       "      <th>...</th>\n",
       "      <td>...</td>\n",
       "      <td>...</td>\n",
       "      <td>...</td>\n",
       "      <td>...</td>\n",
       "      <td>...</td>\n",
       "      <td>...</td>\n",
       "      <td>...</td>\n",
       "      <td>...</td>\n",
       "      <td>...</td>\n",
       "      <td>...</td>\n",
       "      <td>...</td>\n",
       "      <td>...</td>\n",
       "      <td>...</td>\n",
       "      <td>...</td>\n",
       "      <td>...</td>\n",
       "    </tr>\n",
       "    <tr>\n",
       "      <th>195</th>\n",
       "      <td>19.512195</td>\n",
       "      <td>-51.097561</td>\n",
       "      <td>-10.487805</td>\n",
       "      <td>-0.070312</td>\n",
       "      <td>-0.041992</td>\n",
       "      <td>0.044922</td>\n",
       "      <td>37</td>\n",
       "      <td>77</td>\n",
       "      <td>336</td>\n",
       "      <td>0.622070</td>\n",
       "      <td>-0.766113</td>\n",
       "      <td>0.159424</td>\n",
       "      <td>t_stand_hold_DrinkCup_10ml_1s_right</td>\n",
       "      <td>1</td>\n",
       "      <td>86</td>\n",
       "    </tr>\n",
       "    <tr>\n",
       "      <th>196</th>\n",
       "      <td>15.731707</td>\n",
       "      <td>-52.682927</td>\n",
       "      <td>-13.536585</td>\n",
       "      <td>-0.107910</td>\n",
       "      <td>-0.050293</td>\n",
       "      <td>0.091064</td>\n",
       "      <td>38</td>\n",
       "      <td>77</td>\n",
       "      <td>335</td>\n",
       "      <td>0.633545</td>\n",
       "      <td>-0.759033</td>\n",
       "      <td>0.148193</td>\n",
       "      <td>t_stand_hold_DrinkCup_10ml_1s_right</td>\n",
       "      <td>1</td>\n",
       "      <td>86</td>\n",
       "    </tr>\n",
       "    <tr>\n",
       "      <th>197</th>\n",
       "      <td>16.463415</td>\n",
       "      <td>-55.304878</td>\n",
       "      <td>-10.853659</td>\n",
       "      <td>-0.083496</td>\n",
       "      <td>-0.107178</td>\n",
       "      <td>0.083008</td>\n",
       "      <td>38</td>\n",
       "      <td>78</td>\n",
       "      <td>335</td>\n",
       "      <td>0.640625</td>\n",
       "      <td>-0.755127</td>\n",
       "      <td>0.138184</td>\n",
       "      <td>t_stand_hold_DrinkCup_10ml_1s_right</td>\n",
       "      <td>1</td>\n",
       "      <td>86</td>\n",
       "    </tr>\n",
       "    <tr>\n",
       "      <th>198</th>\n",
       "      <td>21.280488</td>\n",
       "      <td>-54.939024</td>\n",
       "      <td>-9.512195</td>\n",
       "      <td>-0.077637</td>\n",
       "      <td>-0.082031</td>\n",
       "      <td>0.085693</td>\n",
       "      <td>39</td>\n",
       "      <td>78</td>\n",
       "      <td>334</td>\n",
       "      <td>0.646484</td>\n",
       "      <td>-0.751465</td>\n",
       "      <td>0.129883</td>\n",
       "      <td>t_stand_hold_DrinkCup_10ml_1s_right</td>\n",
       "      <td>1</td>\n",
       "      <td>86</td>\n",
       "    </tr>\n",
       "    <tr>\n",
       "      <th>199</th>\n",
       "      <td>28.170732</td>\n",
       "      <td>-51.158537</td>\n",
       "      <td>-5.914634</td>\n",
       "      <td>-0.052979</td>\n",
       "      <td>-0.093262</td>\n",
       "      <td>0.123047</td>\n",
       "      <td>39</td>\n",
       "      <td>79</td>\n",
       "      <td>333</td>\n",
       "      <td>0.654053</td>\n",
       "      <td>-0.746582</td>\n",
       "      <td>0.120117</td>\n",
       "      <td>t_stand_hold_DrinkCup_10ml_1s_right</td>\n",
       "      <td>1</td>\n",
       "      <td>86</td>\n",
       "    </tr>\n",
       "  </tbody>\n",
       "</table>\n",
       "<p>114700 rows × 15 columns</p>\n",
       "</div>"
      ],
      "text/plain": [
       "         rotR_x     rotR_y     rotR_z     acc_x     acc_y     acc_z  or_x  \\\n",
       "0    -12.012195   5.243902   1.158537  0.098145  0.047607  0.029785    15   \n",
       "1    -23.780488  17.195122   3.658537  0.093994  0.043213  0.041748    15   \n",
       "2    -27.926829  21.402439   2.804878  0.099121  0.081543  0.036377    14   \n",
       "3    -64.329268  20.426829   9.085366  0.108398  0.070312  0.013916    12   \n",
       "4   -107.073171  19.634146  14.451220  0.096680  0.083252 -0.019775    11   \n",
       "..          ...        ...        ...       ...       ...       ...   ...   \n",
       "195   19.512195 -51.097561 -10.487805 -0.070312 -0.041992  0.044922    37   \n",
       "196   15.731707 -52.682927 -13.536585 -0.107910 -0.050293  0.091064    38   \n",
       "197   16.463415 -55.304878 -10.853659 -0.083496 -0.107178  0.083008    38   \n",
       "198   21.280488 -54.939024  -9.512195 -0.077637 -0.082031  0.085693    39   \n",
       "199   28.170732 -51.158537  -5.914634 -0.052979 -0.093262  0.123047    39   \n",
       "\n",
       "     or_y  or_z    grav_x    grav_y    grav_z  \\\n",
       "0      13    80  0.271240 -0.230225  0.934326   \n",
       "1      14    80  0.259766 -0.249023  0.932861   \n",
       "2      15    80  0.246094 -0.265869  0.931885   \n",
       "3      19    80  0.219238 -0.322998  0.920410   \n",
       "4      24    81  0.195801 -0.404785  0.892822   \n",
       "..    ...   ...       ...       ...       ...   \n",
       "195    77   336  0.622070 -0.766113  0.159424   \n",
       "196    77   335  0.633545 -0.759033  0.148193   \n",
       "197    78   335  0.640625 -0.755127  0.138184   \n",
       "198    78   334  0.646484 -0.751465  0.129883   \n",
       "199    79   333  0.654053 -0.746582  0.120117   \n",
       "\n",
       "                                     action  label  action_num  \n",
       "0    t_stand_left_DrinkBottle_10ml_1s_right      1           0  \n",
       "1    t_stand_left_DrinkBottle_10ml_1s_right      1           0  \n",
       "2    t_stand_left_DrinkBottle_10ml_1s_right      1           0  \n",
       "3    t_stand_left_DrinkBottle_10ml_1s_right      1           0  \n",
       "4    t_stand_left_DrinkBottle_10ml_1s_right      1           0  \n",
       "..                                      ...    ...         ...  \n",
       "195     t_stand_hold_DrinkCup_10ml_1s_right      1          86  \n",
       "196     t_stand_hold_DrinkCup_10ml_1s_right      1          86  \n",
       "197     t_stand_hold_DrinkCup_10ml_1s_right      1          86  \n",
       "198     t_stand_hold_DrinkCup_10ml_1s_right      1          86  \n",
       "199     t_stand_hold_DrinkCup_10ml_1s_right      1          86  \n",
       "\n",
       "[114700 rows x 15 columns]"
      ]
     },
     "execution_count": 231,
     "metadata": {},
     "output_type": "execute_result"
    }
   ],
   "source": [
    "w_df_all"
   ]
  },
  {
   "cell_type": "code",
   "execution_count": 232,
   "metadata": {},
   "outputs": [
    {
     "data": {
      "text/html": [
       "<div>\n",
       "<style scoped>\n",
       "    .dataframe tbody tr th:only-of-type {\n",
       "        vertical-align: middle;\n",
       "    }\n",
       "\n",
       "    .dataframe tbody tr th {\n",
       "        vertical-align: top;\n",
       "    }\n",
       "\n",
       "    .dataframe thead th {\n",
       "        text-align: right;\n",
       "    }\n",
       "</style>\n",
       "<table border=\"1\" class=\"dataframe\">\n",
       "  <thead>\n",
       "    <tr style=\"text-align: right;\">\n",
       "      <th></th>\n",
       "      <th>rotR_x</th>\n",
       "      <th>rotR_y</th>\n",
       "      <th>rotR_z</th>\n",
       "      <th>acc_x</th>\n",
       "      <th>acc_y</th>\n",
       "      <th>acc_z</th>\n",
       "      <th>or_x</th>\n",
       "      <th>or_y</th>\n",
       "      <th>or_z</th>\n",
       "      <th>grav_x</th>\n",
       "      <th>grav_y</th>\n",
       "      <th>grav_z</th>\n",
       "      <th>label</th>\n",
       "      <th>action_num</th>\n",
       "    </tr>\n",
       "  </thead>\n",
       "  <tbody>\n",
       "    <tr>\n",
       "      <th>count</th>\n",
       "      <td>114700.000000</td>\n",
       "      <td>114700.000000</td>\n",
       "      <td>114700.000000</td>\n",
       "      <td>114700.000000</td>\n",
       "      <td>114700.000000</td>\n",
       "      <td>114700.000000</td>\n",
       "      <td>114700.000000</td>\n",
       "      <td>114700.000000</td>\n",
       "      <td>114700.000000</td>\n",
       "      <td>114700.000000</td>\n",
       "      <td>114700.000000</td>\n",
       "      <td>114700.000000</td>\n",
       "      <td>114700.000000</td>\n",
       "      <td>114700.000000</td>\n",
       "    </tr>\n",
       "    <tr>\n",
       "      <th>mean</th>\n",
       "      <td>-0.417600</td>\n",
       "      <td>0.298494</td>\n",
       "      <td>-0.271052</td>\n",
       "      <td>0.018461</td>\n",
       "      <td>0.000666</td>\n",
       "      <td>0.001898</td>\n",
       "      <td>-13.280139</td>\n",
       "      <td>52.828213</td>\n",
       "      <td>156.304429</td>\n",
       "      <td>-0.217986</td>\n",
       "      <td>-0.540696</td>\n",
       "      <td>0.313303</td>\n",
       "      <td>0.490846</td>\n",
       "      <td>300.287707</td>\n",
       "    </tr>\n",
       "    <tr>\n",
       "      <th>std</th>\n",
       "      <td>50.755684</td>\n",
       "      <td>29.948001</td>\n",
       "      <td>35.141569</td>\n",
       "      <td>0.076568</td>\n",
       "      <td>0.099901</td>\n",
       "      <td>0.074452</td>\n",
       "      <td>26.109912</td>\n",
       "      <td>53.806505</td>\n",
       "      <td>105.349117</td>\n",
       "      <td>0.408268</td>\n",
       "      <td>0.425708</td>\n",
       "      <td>0.462133</td>\n",
       "      <td>0.499918</td>\n",
       "      <td>255.824028</td>\n",
       "    </tr>\n",
       "    <tr>\n",
       "      <th>min</th>\n",
       "      <td>-1022.195122</td>\n",
       "      <td>-326.341463</td>\n",
       "      <td>-289.573171</td>\n",
       "      <td>-0.668701</td>\n",
       "      <td>-2.086914</td>\n",
       "      <td>-1.875244</td>\n",
       "      <td>-79.000000</td>\n",
       "      <td>-179.000000</td>\n",
       "      <td>0.000000</td>\n",
       "      <td>-0.982910</td>\n",
       "      <td>-0.999756</td>\n",
       "      <td>-0.920898</td>\n",
       "      <td>0.000000</td>\n",
       "      <td>0.000000</td>\n",
       "    </tr>\n",
       "    <tr>\n",
       "      <th>25%</th>\n",
       "      <td>-15.121951</td>\n",
       "      <td>-7.012195</td>\n",
       "      <td>-9.390244</td>\n",
       "      <td>-0.011475</td>\n",
       "      <td>-0.036133</td>\n",
       "      <td>-0.023682</td>\n",
       "      <td>-34.000000</td>\n",
       "      <td>28.000000</td>\n",
       "      <td>63.000000</td>\n",
       "      <td>-0.559570</td>\n",
       "      <td>-0.843994</td>\n",
       "      <td>-0.014893</td>\n",
       "      <td>0.000000</td>\n",
       "      <td>41.000000</td>\n",
       "    </tr>\n",
       "    <tr>\n",
       "      <th>50%</th>\n",
       "      <td>0.243902</td>\n",
       "      <td>0.243902</td>\n",
       "      <td>-0.243902</td>\n",
       "      <td>0.009033</td>\n",
       "      <td>0.001221</td>\n",
       "      <td>0.003662</td>\n",
       "      <td>-12.000000</td>\n",
       "      <td>54.000000</td>\n",
       "      <td>130.000000</td>\n",
       "      <td>-0.222900</td>\n",
       "      <td>-0.681396</td>\n",
       "      <td>0.447754</td>\n",
       "      <td>0.000000</td>\n",
       "      <td>504.000000</td>\n",
       "    </tr>\n",
       "    <tr>\n",
       "      <th>75%</th>\n",
       "      <td>15.487805</td>\n",
       "      <td>7.865854</td>\n",
       "      <td>7.804878</td>\n",
       "      <td>0.044434</td>\n",
       "      <td>0.035889</td>\n",
       "      <td>0.032959</td>\n",
       "      <td>2.000000</td>\n",
       "      <td>87.000000</td>\n",
       "      <td>245.000000</td>\n",
       "      <td>0.041992</td>\n",
       "      <td>-0.375244</td>\n",
       "      <td>0.674561</td>\n",
       "      <td>1.000000</td>\n",
       "      <td>551.000000</td>\n",
       "    </tr>\n",
       "    <tr>\n",
       "      <th>max</th>\n",
       "      <td>595.000000</td>\n",
       "      <td>300.304878</td>\n",
       "      <td>287.378049</td>\n",
       "      <td>3.119141</td>\n",
       "      <td>1.618164</td>\n",
       "      <td>1.549561</td>\n",
       "      <td>84.000000</td>\n",
       "      <td>179.000000</td>\n",
       "      <td>359.000000</td>\n",
       "      <td>0.994873</td>\n",
       "      <td>0.999756</td>\n",
       "      <td>0.999756</td>\n",
       "      <td>1.000000</td>\n",
       "      <td>597.000000</td>\n",
       "    </tr>\n",
       "  </tbody>\n",
       "</table>\n",
       "</div>"
      ],
      "text/plain": [
       "              rotR_x         rotR_y         rotR_z          acc_x  \\\n",
       "count  114700.000000  114700.000000  114700.000000  114700.000000   \n",
       "mean       -0.417600       0.298494      -0.271052       0.018461   \n",
       "std        50.755684      29.948001      35.141569       0.076568   \n",
       "min     -1022.195122    -326.341463    -289.573171      -0.668701   \n",
       "25%       -15.121951      -7.012195      -9.390244      -0.011475   \n",
       "50%         0.243902       0.243902      -0.243902       0.009033   \n",
       "75%        15.487805       7.865854       7.804878       0.044434   \n",
       "max       595.000000     300.304878     287.378049       3.119141   \n",
       "\n",
       "               acc_y          acc_z           or_x           or_y  \\\n",
       "count  114700.000000  114700.000000  114700.000000  114700.000000   \n",
       "mean        0.000666       0.001898     -13.280139      52.828213   \n",
       "std         0.099901       0.074452      26.109912      53.806505   \n",
       "min        -2.086914      -1.875244     -79.000000    -179.000000   \n",
       "25%        -0.036133      -0.023682     -34.000000      28.000000   \n",
       "50%         0.001221       0.003662     -12.000000      54.000000   \n",
       "75%         0.035889       0.032959       2.000000      87.000000   \n",
       "max         1.618164       1.549561      84.000000     179.000000   \n",
       "\n",
       "                or_z         grav_x         grav_y         grav_z  \\\n",
       "count  114700.000000  114700.000000  114700.000000  114700.000000   \n",
       "mean      156.304429      -0.217986      -0.540696       0.313303   \n",
       "std       105.349117       0.408268       0.425708       0.462133   \n",
       "min         0.000000      -0.982910      -0.999756      -0.920898   \n",
       "25%        63.000000      -0.559570      -0.843994      -0.014893   \n",
       "50%       130.000000      -0.222900      -0.681396       0.447754   \n",
       "75%       245.000000       0.041992      -0.375244       0.674561   \n",
       "max       359.000000       0.994873       0.999756       0.999756   \n",
       "\n",
       "               label     action_num  \n",
       "count  114700.000000  114700.000000  \n",
       "mean        0.490846     300.287707  \n",
       "std         0.499918     255.824028  \n",
       "min         0.000000       0.000000  \n",
       "25%         0.000000      41.000000  \n",
       "50%         0.000000     504.000000  \n",
       "75%         1.000000     551.000000  \n",
       "max         1.000000     597.000000  "
      ]
     },
     "execution_count": 232,
     "metadata": {},
     "output_type": "execute_result"
    }
   ],
   "source": [
    "w_df_all.describe()"
   ]
  },
  {
   "cell_type": "code",
   "execution_count": 233,
   "metadata": {},
   "outputs": [
    {
     "data": {
      "text/plain": [
       "56300"
      ]
     },
     "execution_count": 233,
     "metadata": {},
     "output_type": "execute_result"
    }
   ],
   "source": [
    "(w_df_all.label == 1).sum()"
   ]
  },
  {
   "attachments": {},
   "cell_type": "markdown",
   "metadata": {},
   "source": [
    "## Missig Data"
   ]
  },
  {
   "cell_type": "code",
   "execution_count": 234,
   "metadata": {},
   "outputs": [
    {
     "data": {
      "text/plain": [
       "rotR_x        0\n",
       "rotR_y        0\n",
       "rotR_z        0\n",
       "acc_x         0\n",
       "acc_y         0\n",
       "acc_z         0\n",
       "or_x          0\n",
       "or_y          0\n",
       "or_z          0\n",
       "grav_x        0\n",
       "grav_y        0\n",
       "grav_z        0\n",
       "action        0\n",
       "label         0\n",
       "action_num    0\n",
       "dtype: int64"
      ]
     },
     "execution_count": 234,
     "metadata": {},
     "output_type": "execute_result"
    }
   ],
   "source": [
    "pd.isna(w_df_all).sum()"
   ]
  },
  {
   "attachments": {},
   "cell_type": "markdown",
   "metadata": {},
   "source": [
    "##  Class Balance"
   ]
  },
  {
   "cell_type": "code",
   "execution_count": 235,
   "metadata": {},
   "outputs": [
    {
     "data": {
      "image/png": "[encoded data removed]",
      "text/plain": [
       "<Figure size 640x480 with 1 Axes>"
      ]
     },
     "metadata": {},
     "output_type": "display_data"
    }
   ],
   "source": [
    "plt.title('Size of each class')\n",
    "plt.xlabel('activity label')\n",
    "plt.hist(w_df_all.label,rwidth=1)\n",
    "plt.xticks([0,1]);"
   ]
  },
  {
   "cell_type": "code",
   "execution_count": 236,
   "metadata": {},
   "outputs": [
    {
     "data": {
      "text/plain": [
       "array([  0,   1,   2,   3,   4,   5,   6,   7,   8,   9,  10,  11,  12,\n",
       "        13,  14,  15,  16,  17,  18,  19,  20,  21,  22,  23,  24,  25,\n",
       "        26,  27,  28,  29,  30,  31,  32,  33,  34,  35,  36,  37,  38,\n",
       "        39,  40,  41,  42,  43,  44,  46,  47,  48,  49,  50,  51,  52,\n",
       "        53,  54,  55,  56,  57,  58,  59,  60,  61,  62,  63,  64,  65,\n",
       "        66,  67,  68,  69,  70,  71,  72,  73,  74,  75,  76,  77,  78,\n",
       "        79,  80,  81,  82,  83,  85,  86, 502, 503, 504, 505, 506, 508,\n",
       "       509, 511, 512, 513, 514, 515, 516, 517, 518, 519, 520, 522, 523,\n",
       "       524, 525, 526, 527, 528, 529, 531, 532, 533, 534, 535, 536, 537,\n",
       "       538, 539, 541, 542, 543, 544, 546, 547, 548, 549, 550, 551, 552,\n",
       "       554, 555, 556, 557, 558, 559, 560, 561, 562, 564, 567, 568, 569,\n",
       "       570, 571, 572, 573, 574, 575, 576, 577, 578, 579, 580, 581, 582,\n",
       "       583, 585, 586, 587, 588, 589, 590, 591, 592, 593, 594, 595, 596,\n",
       "       597], dtype=int64)"
      ]
     },
     "execution_count": 236,
     "metadata": {},
     "output_type": "execute_result"
    }
   ],
   "source": [
    "x= (w_df_all.action_num.unique())\n",
    "x.sort()\n",
    "x"
   ]
  },
  {
   "cell_type": "code",
   "execution_count": 237,
   "metadata": {},
   "outputs": [
    {
     "data": {
      "text/plain": [
       "''"
      ]
     },
     "execution_count": 237,
     "metadata": {},
     "output_type": "execute_result"
    },
    {
     "data": {
      "text/plain": [
       "<Figure size 640x480 with 0 Axes>"
      ]
     },
     "metadata": {},
     "output_type": "display_data"
    },
    {
     "data": {
      "image/png": "[encoded data removed]",
      "text/plain": [
       "<Figure size 1500x500 with 1 Axes>"
      ]
     },
     "metadata": {},
     "output_type": "display_data"
    }
   ],
   "source": [
    "### Length of time series\n",
    "action_num_list = w_df_all.action_num.unique()\n",
    "series_length = list()\n",
    "for act in action_num_list:\n",
    "    series_length.append(w_df_all[(w_df_all.action_num == act)].shape[0])\n",
    "plt.figure(2)\n",
    "plt.figure(figsize=(15,5))\n",
    "plt.title('Histogram of length of raw time series')\n",
    "plt.hist(series_length,bins=len(action_num_list),rwidth=0.4,align='left')\n",
    "plt.xlabel(\"size of each observation\")\n",
    "plt.ylabel(\"number of observation with same length\")\n",
    "#plt.axvline(300, color=\"grey\",linestyle=\"dashed\")\n",
    "#plt.axvline(600, color=\"grey\",linestyle=\"dashed\")\n",
    ";"
   ]
  },
  {
   "cell_type": "code",
   "execution_count": 238,
   "metadata": {},
   "outputs": [],
   "source": [
    "# There is too small and too large datasets\n",
    "# lets analyze which is which\n",
    "action_num_list = w_df_all.action_num.unique()\n",
    "each_series_length = list()\n",
    "for act_num in action_num_list:\n",
    "    each_series_length.append((w_df_all[(w_df_all.action_num == act_num)].shape[0],act_num))\n",
    "each_series_length.sort()"
   ]
  },
  {
   "attachments": {},
   "cell_type": "markdown",
   "metadata": {},
   "source": [
    "### Analyze DSs"
   ]
  },
  {
   "cell_type": "code",
   "execution_count": 239,
   "metadata": {},
   "outputs": [
    {
     "name": "stdout",
     "output_type": "stream",
     "text": [
      "The largest dataset size is 1200 records with name: f_stand_pocket_LookMobile_30sec_pocket\n"
     ]
    }
   ],
   "source": [
    "#check the largest dataset\n",
    "dataset_name = w_df_all[w_df_all.action_num == each_series_length[-1][1]].action.unique()[0]\n",
    "print(f\"The largest dataset size is {each_series_length[-1][0]} records with name: {dataset_name}\")"
   ]
  },
  {
   "cell_type": "code",
   "execution_count": 240,
   "metadata": {},
   "outputs": [
    {
     "data": {
      "text/plain": [
       "(114700, 15)"
      ]
     },
     "execution_count": 240,
     "metadata": {},
     "output_type": "execute_result"
    }
   ],
   "source": [
    "w_df_all.shape"
   ]
  },
  {
   "attachments": {},
   "cell_type": "markdown",
   "metadata": {},
   "source": [
    "### Conclusion"
   ]
  },
  {
   "attachments": {},
   "cell_type": "markdown",
   "metadata": {},
   "source": [
    "From above analysis\n",
    "\n",
    "1. This dataset raised concern on class imbalance. --> make sure to consider same number of  f and t dataset \n",
    "2. The distribution of time-series length is broad. --> average dataset size should be around 200 - 300 (4sec to 6sec)"
   ]
  },
  {
   "attachments": {},
   "cell_type": "markdown",
   "metadata": {},
   "source": [
    "## Export Data"
   ]
  },
  {
   "cell_type": "code",
   "execution_count": 241,
   "metadata": {},
   "outputs": [
    {
     "data": {
      "text/plain": [
       "(1147, 100, 15)"
      ]
     },
     "execution_count": 241,
     "metadata": {},
     "output_type": "execute_result"
    }
   ],
   "source": [
    "w_arr_all.shape"
   ]
  },
  {
   "cell_type": "code",
   "execution_count": 242,
   "metadata": {},
   "outputs": [],
   "source": [
    "w_df_all.to_pickle(\"merged_w_df.pkl\")"
   ]
  },
  {
   "cell_type": "code",
   "execution_count": 243,
   "metadata": {},
   "outputs": [],
   "source": [
    "import pickle\n",
    "with open('merged_w_arr.pkl','wb') as f:\n",
    "    pickle.dump(w_arr_all, f)"
   ]
  }
 ],
 "metadata": {
  "kernelspec": {
   "display_name": "Python 3",
   "language": "python",
   "name": "python3"
  },
  "language_info": {
   "codemirror_mode": {
    "name": "ipython",
    "version": 3
   },
   "file_extension": ".py",
   "mimetype": "text/x-python",
   "name": "python",
   "nbconvert_exporter": "python",
   "pygments_lexer": "ipython3",
   "version": "3.10.9"
  },
  "orig_nbformat": 4,
  "vscode": {
   "interpreter": {
    "hash": "81794d4967e6c3204c66dcd87b604927b115b27c00565d3d43f05ba2f3a2cb0d"
   }
  }
 },
 "nbformat": 4,
 "nbformat_minor": 2
}
