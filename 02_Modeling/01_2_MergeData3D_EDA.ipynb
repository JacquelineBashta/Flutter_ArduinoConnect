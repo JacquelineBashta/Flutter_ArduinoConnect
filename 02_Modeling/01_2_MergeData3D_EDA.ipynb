{
 "cells": [
  {
   "attachments": {},
   "cell_type": "markdown",
   "metadata": {},
   "source": [
    "## Import Data"
   ]
  },
  {
   "cell_type": "code",
   "execution_count": 120,
   "metadata": {},
   "outputs": [],
   "source": [
    "\n",
    "import pandas as pd\n",
    "import matplotlib.pyplot as plt\n",
    "import seaborn as sns\n",
    "import numpy as np\n",
    "\n",
    "sns.set_style(\"darkgrid\")\n",
    "\n",
    "import glob\n",
    "import os\n",
    "\n",
    "import random\n",
    "\n",
    "import common_functions as cf"
   ]
  },
  {
   "cell_type": "code",
   "execution_count": 121,
   "metadata": {},
   "outputs": [],
   "source": [
    "path = r'D:\\_1_Technicals\\DataScience_Bootcamp\\Final_project\\Flutter_ArduinoConnect\\00_DataSets'\n",
    "filenames = glob.glob(path + \"/**/*.csv\")\n",
    "\n",
    "# shuffeling the files as its always ordered alphabetic\n",
    "random.seed(10)\n",
    "shuffled_filenames = random.sample(filenames, len(filenames))"
   ]
  },
  {
   "cell_type": "code",
   "execution_count": 122,
   "metadata": {},
   "outputs": [],
   "source": [
    "dfs = []\n",
    "num_t = cf.START_T_COUNT\n",
    "num_f = cf.START_F_COUNT\n",
    "for filename in shuffled_filenames:\n",
    "    df = pd.read_csv(filename, index_col=False)\n",
    "    \n",
    "    # # append extra rows for the small datatsets\n",
    "    # if df.shape[0] < SMALLEST_DS_SIZE:\n",
    "    #     missing_rows = SMALLEST_DS_SIZE - df.shape[0]\n",
    "    #     for i in range(missing_rows):\n",
    "    #         df = df.append(df.iloc[0]) \n",
    "    \n",
    "\n",
    "    # Rename columns\n",
    "    df.columns= [\"time\",\"rotR_x\",\"rotR_y\",\"rotR_z\",\"acc_x\",\"acc_y\",\"acc_z\",\"or_x\",\"or_y\",\"or_z\",\"grav_x\",\"grav_y\",\"grav_z\"]\n",
    "    \n",
    "    # # fix units\n",
    "    df.acc_x = df.acc_x/4096.0\n",
    "    df.acc_y = df.acc_y/4096.0\n",
    "    df.acc_z = df.acc_z/4096.0\n",
    "    \n",
    "    df.rotR_x = df.rotR_x/16.4\n",
    "    df.rotR_y = df.rotR_y/16.4\n",
    "    df.rotR_z = df.rotR_z/16.4\n",
    "    \n",
    "    df.grav_x = df.grav_x/4096.0\n",
    "    df.grav_y = df.grav_y/4096.0\n",
    "    df.grav_z = df.grav_z/4096.0\n",
    "    \n",
    "    # get the file name and set it in action column\n",
    "    _, tail = os.path.split(filename)\n",
    "    df[\"action\"] = str(tail).split(\".\")[0]\n",
    "    \n",
    "    # add the label (0= Not drinking, 1= drinking)\n",
    "    # add action_num value to ideintify separate observations\n",
    "    if df.action.str.startswith(\"t_\").sum():\n",
    "        df[\"label\"] = 1\n",
    "        df[\"action_num\"] = num_t # 0 - 499\n",
    "        num_t += 1\n",
    "    else:\n",
    "        df[\"label\"] = 0\n",
    "        df[\"action_num\"] = num_f # 500 - 1000\n",
    "        num_f += 1\n",
    "    \n",
    "    # include time in index\n",
    "    df = df.drop(columns=\"time\").reset_index().rename(columns={\"index\":\"time\"})\n",
    "                                                                                                                                                                                                                                                                                                                                                                                                                \n",
    "    dfs.append(df)\n"
   ]
  },
  {
   "cell_type": "code",
   "execution_count": 123,
   "metadata": {},
   "outputs": [],
   "source": [
    "# Assume we want to have time series data with shape (num_samples, seq_length, num_features)\n",
    "# where num_samples is the number of sequences, seq_length is the length of each sequence,\n",
    "# and num_features is the number of variables included in the time series data\n",
    "\n",
    "\n",
    "\n",
    "# Initialize an empty list to store the windowed data\n",
    "windowed_dfs=[]\n",
    "# Loop over each df in the dfs\n",
    "for df in dfs:\n",
    "    # Extract the number of time steps(rows) in the df\n",
    "    num_steps = df.shape[0]\n",
    "    if num_steps >= cf.SMALLEST_DS_SIZE:\n",
    "        # Calculate the number of windows that can be created from the df\n",
    "        num_windows = int((num_steps - cf.SEQUENCE_SIZE) / cf.step_size) + 1\n",
    "\n",
    "        # Loop over each window in the sample\n",
    "\n",
    "        for i in range(num_windows):\n",
    "            # Calculate the start and end indices of the window\n",
    "            start = i * cf.step_size\n",
    "            end = start + cf.SEQUENCE_SIZE\n",
    "            # Extract the window from the sample\n",
    "            window_df = df.iloc[start:end, :]\n",
    "            # Append the window to the list of windowed data\n",
    "            windowed_dfs.append(window_df)\n",
    "        \n",
    "# Convert the list of windowed data to a NumPy array\n",
    "w_arr_all = np.array(windowed_dfs)"
   ]
  },
  {
   "cell_type": "code",
   "execution_count": 124,
   "metadata": {},
   "outputs": [
    {
     "data": {
      "text/plain": [
       "(2570, 50, 16)"
      ]
     },
     "execution_count": 124,
     "metadata": {},
     "output_type": "execute_result"
    }
   ],
   "source": [
    "w_arr_all.shape"
   ]
  },
  {
   "cell_type": "code",
   "execution_count": 125,
   "metadata": {},
   "outputs": [],
   "source": [
    "w_df_all = pd.concat(windowed_dfs,axis=0).set_index(\"time\")"
   ]
  },
  {
   "cell_type": "code",
   "execution_count": 126,
   "metadata": {},
   "outputs": [
    {
     "data": {
      "text/plain": [
       "(128500, 15)"
      ]
     },
     "execution_count": 126,
     "metadata": {},
     "output_type": "execute_result"
    }
   ],
   "source": [
    "w_df_all.shape"
   ]
  },
  {
   "cell_type": "code",
   "execution_count": 127,
   "metadata": {},
   "outputs": [
    {
     "data": {
      "text/plain": [
       "185"
      ]
     },
     "execution_count": 127,
     "metadata": {},
     "output_type": "execute_result"
    }
   ],
   "source": [
    "len(filenames)"
   ]
  },
  {
   "cell_type": "code",
   "execution_count": 128,
   "metadata": {},
   "outputs": [
    {
     "data": {
      "text/plain": [
       "87"
      ]
     },
     "execution_count": 128,
     "metadata": {},
     "output_type": "execute_result"
    }
   ],
   "source": [
    "num_t"
   ]
  },
  {
   "cell_type": "code",
   "execution_count": 129,
   "metadata": {},
   "outputs": [
    {
     "data": {
      "text/plain": [
       "598"
      ]
     },
     "execution_count": 129,
     "metadata": {},
     "output_type": "execute_result"
    }
   ],
   "source": [
    "num_f"
   ]
  },
  {
   "cell_type": "code",
   "execution_count": 130,
   "metadata": {},
   "outputs": [
    {
     "data": {
      "text/plain": [
       "(128500, 15)"
      ]
     },
     "execution_count": 130,
     "metadata": {},
     "output_type": "execute_result"
    }
   ],
   "source": [
    "w_df_all.shape"
   ]
  },
  {
   "cell_type": "code",
   "execution_count": 131,
   "metadata": {},
   "outputs": [
    {
     "data": {
      "text/html": [
       "<div>\n",
       "<style scoped>\n",
       "    .dataframe tbody tr th:only-of-type {\n",
       "        vertical-align: middle;\n",
       "    }\n",
       "\n",
       "    .dataframe tbody tr th {\n",
       "        vertical-align: top;\n",
       "    }\n",
       "\n",
       "    .dataframe thead th {\n",
       "        text-align: right;\n",
       "    }\n",
       "</style>\n",
       "<table border=\"1\" class=\"dataframe\">\n",
       "  <thead>\n",
       "    <tr style=\"text-align: right;\">\n",
       "      <th></th>\n",
       "      <th>rotR_x</th>\n",
       "      <th>rotR_y</th>\n",
       "      <th>rotR_z</th>\n",
       "      <th>acc_x</th>\n",
       "      <th>acc_y</th>\n",
       "      <th>acc_z</th>\n",
       "      <th>or_x</th>\n",
       "      <th>or_y</th>\n",
       "      <th>or_z</th>\n",
       "      <th>grav_x</th>\n",
       "      <th>grav_y</th>\n",
       "      <th>grav_z</th>\n",
       "      <th>action</th>\n",
       "      <th>label</th>\n",
       "      <th>action_num</th>\n",
       "    </tr>\n",
       "    <tr>\n",
       "      <th>time</th>\n",
       "      <th></th>\n",
       "      <th></th>\n",
       "      <th></th>\n",
       "      <th></th>\n",
       "      <th></th>\n",
       "      <th></th>\n",
       "      <th></th>\n",
       "      <th></th>\n",
       "      <th></th>\n",
       "      <th></th>\n",
       "      <th></th>\n",
       "      <th></th>\n",
       "      <th></th>\n",
       "      <th></th>\n",
       "      <th></th>\n",
       "    </tr>\n",
       "  </thead>\n",
       "  <tbody>\n",
       "    <tr>\n",
       "      <th>0</th>\n",
       "      <td>-12.012195</td>\n",
       "      <td>5.243902</td>\n",
       "      <td>1.158537</td>\n",
       "      <td>0.098145</td>\n",
       "      <td>0.047607</td>\n",
       "      <td>0.029785</td>\n",
       "      <td>15</td>\n",
       "      <td>13</td>\n",
       "      <td>80</td>\n",
       "      <td>0.271240</td>\n",
       "      <td>-0.230225</td>\n",
       "      <td>0.934326</td>\n",
       "      <td>t_stand_left_DrinkBottle_10ml_1s_right</td>\n",
       "      <td>1</td>\n",
       "      <td>0</td>\n",
       "    </tr>\n",
       "    <tr>\n",
       "      <th>1</th>\n",
       "      <td>-23.780488</td>\n",
       "      <td>17.195122</td>\n",
       "      <td>3.658537</td>\n",
       "      <td>0.093994</td>\n",
       "      <td>0.043213</td>\n",
       "      <td>0.041748</td>\n",
       "      <td>15</td>\n",
       "      <td>14</td>\n",
       "      <td>80</td>\n",
       "      <td>0.259766</td>\n",
       "      <td>-0.249023</td>\n",
       "      <td>0.932861</td>\n",
       "      <td>t_stand_left_DrinkBottle_10ml_1s_right</td>\n",
       "      <td>1</td>\n",
       "      <td>0</td>\n",
       "    </tr>\n",
       "    <tr>\n",
       "      <th>2</th>\n",
       "      <td>-27.926829</td>\n",
       "      <td>21.402439</td>\n",
       "      <td>2.804878</td>\n",
       "      <td>0.099121</td>\n",
       "      <td>0.081543</td>\n",
       "      <td>0.036377</td>\n",
       "      <td>14</td>\n",
       "      <td>15</td>\n",
       "      <td>80</td>\n",
       "      <td>0.246094</td>\n",
       "      <td>-0.265869</td>\n",
       "      <td>0.931885</td>\n",
       "      <td>t_stand_left_DrinkBottle_10ml_1s_right</td>\n",
       "      <td>1</td>\n",
       "      <td>0</td>\n",
       "    </tr>\n",
       "    <tr>\n",
       "      <th>3</th>\n",
       "      <td>-64.329268</td>\n",
       "      <td>20.426829</td>\n",
       "      <td>9.085366</td>\n",
       "      <td>0.108398</td>\n",
       "      <td>0.070312</td>\n",
       "      <td>0.013916</td>\n",
       "      <td>12</td>\n",
       "      <td>19</td>\n",
       "      <td>80</td>\n",
       "      <td>0.219238</td>\n",
       "      <td>-0.322998</td>\n",
       "      <td>0.920410</td>\n",
       "      <td>t_stand_left_DrinkBottle_10ml_1s_right</td>\n",
       "      <td>1</td>\n",
       "      <td>0</td>\n",
       "    </tr>\n",
       "    <tr>\n",
       "      <th>4</th>\n",
       "      <td>-107.073171</td>\n",
       "      <td>19.634146</td>\n",
       "      <td>14.451220</td>\n",
       "      <td>0.096680</td>\n",
       "      <td>0.083252</td>\n",
       "      <td>-0.019775</td>\n",
       "      <td>11</td>\n",
       "      <td>24</td>\n",
       "      <td>81</td>\n",
       "      <td>0.195801</td>\n",
       "      <td>-0.404785</td>\n",
       "      <td>0.892822</td>\n",
       "      <td>t_stand_left_DrinkBottle_10ml_1s_right</td>\n",
       "      <td>1</td>\n",
       "      <td>0</td>\n",
       "    </tr>\n",
       "    <tr>\n",
       "      <th>...</th>\n",
       "      <td>...</td>\n",
       "      <td>...</td>\n",
       "      <td>...</td>\n",
       "      <td>...</td>\n",
       "      <td>...</td>\n",
       "      <td>...</td>\n",
       "      <td>...</td>\n",
       "      <td>...</td>\n",
       "      <td>...</td>\n",
       "      <td>...</td>\n",
       "      <td>...</td>\n",
       "      <td>...</td>\n",
       "      <td>...</td>\n",
       "      <td>...</td>\n",
       "      <td>...</td>\n",
       "    </tr>\n",
       "    <tr>\n",
       "      <th>220</th>\n",
       "      <td>-2.073171</td>\n",
       "      <td>-7.256098</td>\n",
       "      <td>-47.682927</td>\n",
       "      <td>0.104248</td>\n",
       "      <td>-0.101318</td>\n",
       "      <td>0.054688</td>\n",
       "      <td>63</td>\n",
       "      <td>64</td>\n",
       "      <td>339</td>\n",
       "      <td>0.906738</td>\n",
       "      <td>-0.387207</td>\n",
       "      <td>0.165283</td>\n",
       "      <td>t_stand_hold_DrinkCup_10ml_1s_right</td>\n",
       "      <td>1</td>\n",
       "      <td>86</td>\n",
       "    </tr>\n",
       "    <tr>\n",
       "      <th>221</th>\n",
       "      <td>-9.634146</td>\n",
       "      <td>2.439024</td>\n",
       "      <td>-37.621951</td>\n",
       "      <td>0.055176</td>\n",
       "      <td>-0.089844</td>\n",
       "      <td>0.062256</td>\n",
       "      <td>64</td>\n",
       "      <td>63</td>\n",
       "      <td>341</td>\n",
       "      <td>0.914307</td>\n",
       "      <td>-0.369629</td>\n",
       "      <td>0.164551</td>\n",
       "      <td>t_stand_hold_DrinkCup_10ml_1s_right</td>\n",
       "      <td>1</td>\n",
       "      <td>86</td>\n",
       "    </tr>\n",
       "    <tr>\n",
       "      <th>222</th>\n",
       "      <td>-11.951220</td>\n",
       "      <td>-2.439024</td>\n",
       "      <td>-28.292683</td>\n",
       "      <td>0.032471</td>\n",
       "      <td>-0.084961</td>\n",
       "      <td>0.055420</td>\n",
       "      <td>65</td>\n",
       "      <td>62</td>\n",
       "      <td>342</td>\n",
       "      <td>0.919189</td>\n",
       "      <td>-0.358154</td>\n",
       "      <td>0.162598</td>\n",
       "      <td>t_stand_hold_DrinkCup_10ml_1s_right</td>\n",
       "      <td>1</td>\n",
       "      <td>86</td>\n",
       "    </tr>\n",
       "    <tr>\n",
       "      <th>223</th>\n",
       "      <td>-14.817073</td>\n",
       "      <td>8.902439</td>\n",
       "      <td>-13.902439</td>\n",
       "      <td>0.000488</td>\n",
       "      <td>-0.129883</td>\n",
       "      <td>0.061768</td>\n",
       "      <td>65</td>\n",
       "      <td>62</td>\n",
       "      <td>343</td>\n",
       "      <td>0.923828</td>\n",
       "      <td>-0.346680</td>\n",
       "      <td>0.161377</td>\n",
       "      <td>t_stand_hold_DrinkCup_10ml_1s_right</td>\n",
       "      <td>1</td>\n",
       "      <td>86</td>\n",
       "    </tr>\n",
       "    <tr>\n",
       "      <th>224</th>\n",
       "      <td>-13.292683</td>\n",
       "      <td>8.841463</td>\n",
       "      <td>-8.231707</td>\n",
       "      <td>-0.027832</td>\n",
       "      <td>-0.128174</td>\n",
       "      <td>0.062744</td>\n",
       "      <td>66</td>\n",
       "      <td>62</td>\n",
       "      <td>344</td>\n",
       "      <td>0.924316</td>\n",
       "      <td>-0.344238</td>\n",
       "      <td>0.163086</td>\n",
       "      <td>t_stand_hold_DrinkCup_10ml_1s_right</td>\n",
       "      <td>1</td>\n",
       "      <td>86</td>\n",
       "    </tr>\n",
       "  </tbody>\n",
       "</table>\n",
       "<p>128500 rows × 15 columns</p>\n",
       "</div>"
      ],
      "text/plain": [
       "          rotR_x     rotR_y     rotR_z     acc_x     acc_y     acc_z  or_x  \\\n",
       "time                                                                         \n",
       "0     -12.012195   5.243902   1.158537  0.098145  0.047607  0.029785    15   \n",
       "1     -23.780488  17.195122   3.658537  0.093994  0.043213  0.041748    15   \n",
       "2     -27.926829  21.402439   2.804878  0.099121  0.081543  0.036377    14   \n",
       "3     -64.329268  20.426829   9.085366  0.108398  0.070312  0.013916    12   \n",
       "4    -107.073171  19.634146  14.451220  0.096680  0.083252 -0.019775    11   \n",
       "...          ...        ...        ...       ...       ...       ...   ...   \n",
       "220    -2.073171  -7.256098 -47.682927  0.104248 -0.101318  0.054688    63   \n",
       "221    -9.634146   2.439024 -37.621951  0.055176 -0.089844  0.062256    64   \n",
       "222   -11.951220  -2.439024 -28.292683  0.032471 -0.084961  0.055420    65   \n",
       "223   -14.817073   8.902439 -13.902439  0.000488 -0.129883  0.061768    65   \n",
       "224   -13.292683   8.841463  -8.231707 -0.027832 -0.128174  0.062744    66   \n",
       "\n",
       "      or_y  or_z    grav_x    grav_y    grav_z  \\\n",
       "time                                             \n",
       "0       13    80  0.271240 -0.230225  0.934326   \n",
       "1       14    80  0.259766 -0.249023  0.932861   \n",
       "2       15    80  0.246094 -0.265869  0.931885   \n",
       "3       19    80  0.219238 -0.322998  0.920410   \n",
       "4       24    81  0.195801 -0.404785  0.892822   \n",
       "...    ...   ...       ...       ...       ...   \n",
       "220     64   339  0.906738 -0.387207  0.165283   \n",
       "221     63   341  0.914307 -0.369629  0.164551   \n",
       "222     62   342  0.919189 -0.358154  0.162598   \n",
       "223     62   343  0.923828 -0.346680  0.161377   \n",
       "224     62   344  0.924316 -0.344238  0.163086   \n",
       "\n",
       "                                      action  label  action_num  \n",
       "time                                                             \n",
       "0     t_stand_left_DrinkBottle_10ml_1s_right      1           0  \n",
       "1     t_stand_left_DrinkBottle_10ml_1s_right      1           0  \n",
       "2     t_stand_left_DrinkBottle_10ml_1s_right      1           0  \n",
       "3     t_stand_left_DrinkBottle_10ml_1s_right      1           0  \n",
       "4     t_stand_left_DrinkBottle_10ml_1s_right      1           0  \n",
       "...                                      ...    ...         ...  \n",
       "220      t_stand_hold_DrinkCup_10ml_1s_right      1          86  \n",
       "221      t_stand_hold_DrinkCup_10ml_1s_right      1          86  \n",
       "222      t_stand_hold_DrinkCup_10ml_1s_right      1          86  \n",
       "223      t_stand_hold_DrinkCup_10ml_1s_right      1          86  \n",
       "224      t_stand_hold_DrinkCup_10ml_1s_right      1          86  \n",
       "\n",
       "[128500 rows x 15 columns]"
      ]
     },
     "execution_count": 131,
     "metadata": {},
     "output_type": "execute_result"
    }
   ],
   "source": [
    "w_df_all"
   ]
  },
  {
   "cell_type": "code",
   "execution_count": 132,
   "metadata": {},
   "outputs": [
    {
     "data": {
      "text/html": [
       "<div>\n",
       "<style scoped>\n",
       "    .dataframe tbody tr th:only-of-type {\n",
       "        vertical-align: middle;\n",
       "    }\n",
       "\n",
       "    .dataframe tbody tr th {\n",
       "        vertical-align: top;\n",
       "    }\n",
       "\n",
       "    .dataframe thead th {\n",
       "        text-align: right;\n",
       "    }\n",
       "</style>\n",
       "<table border=\"1\" class=\"dataframe\">\n",
       "  <thead>\n",
       "    <tr style=\"text-align: right;\">\n",
       "      <th></th>\n",
       "      <th>rotR_x</th>\n",
       "      <th>rotR_y</th>\n",
       "      <th>rotR_z</th>\n",
       "      <th>acc_x</th>\n",
       "      <th>acc_y</th>\n",
       "      <th>acc_z</th>\n",
       "      <th>or_x</th>\n",
       "      <th>or_y</th>\n",
       "      <th>or_z</th>\n",
       "      <th>grav_x</th>\n",
       "      <th>grav_y</th>\n",
       "      <th>grav_z</th>\n",
       "      <th>label</th>\n",
       "      <th>action_num</th>\n",
       "    </tr>\n",
       "  </thead>\n",
       "  <tbody>\n",
       "    <tr>\n",
       "      <th>count</th>\n",
       "      <td>128500.000000</td>\n",
       "      <td>128500.000000</td>\n",
       "      <td>128500.000000</td>\n",
       "      <td>128500.000000</td>\n",
       "      <td>128500.000000</td>\n",
       "      <td>128500.000000</td>\n",
       "      <td>128500.000000</td>\n",
       "      <td>128500.000000</td>\n",
       "      <td>128500.000000</td>\n",
       "      <td>128500.000000</td>\n",
       "      <td>128500.000000</td>\n",
       "      <td>128500.000000</td>\n",
       "      <td>128500.000000</td>\n",
       "      <td>128500.000000</td>\n",
       "    </tr>\n",
       "    <tr>\n",
       "      <th>mean</th>\n",
       "      <td>-0.188512</td>\n",
       "      <td>0.148507</td>\n",
       "      <td>-0.090838</td>\n",
       "      <td>0.018208</td>\n",
       "      <td>0.001246</td>\n",
       "      <td>0.001691</td>\n",
       "      <td>-11.693751</td>\n",
       "      <td>52.519572</td>\n",
       "      <td>156.407004</td>\n",
       "      <td>-0.192600</td>\n",
       "      <td>-0.544404</td>\n",
       "      <td>0.322081</td>\n",
       "      <td>0.489883</td>\n",
       "      <td>300.763035</td>\n",
       "    </tr>\n",
       "    <tr>\n",
       "      <th>std</th>\n",
       "      <td>50.515063</td>\n",
       "      <td>30.840650</td>\n",
       "      <td>35.231496</td>\n",
       "      <td>0.078183</td>\n",
       "      <td>0.100835</td>\n",
       "      <td>0.075560</td>\n",
       "      <td>26.470025</td>\n",
       "      <td>53.389376</td>\n",
       "      <td>104.772476</td>\n",
       "      <td>0.413571</td>\n",
       "      <td>0.421863</td>\n",
       "      <td>0.461841</td>\n",
       "      <td>0.499900</td>\n",
       "      <td>255.605905</td>\n",
       "    </tr>\n",
       "    <tr>\n",
       "      <th>min</th>\n",
       "      <td>-1022.195122</td>\n",
       "      <td>-326.341463</td>\n",
       "      <td>-289.573171</td>\n",
       "      <td>-0.916748</td>\n",
       "      <td>-2.086914</td>\n",
       "      <td>-1.875244</td>\n",
       "      <td>-79.000000</td>\n",
       "      <td>-179.000000</td>\n",
       "      <td>0.000000</td>\n",
       "      <td>-0.982910</td>\n",
       "      <td>-0.999756</td>\n",
       "      <td>-0.965576</td>\n",
       "      <td>0.000000</td>\n",
       "      <td>0.000000</td>\n",
       "    </tr>\n",
       "    <tr>\n",
       "      <th>25%</th>\n",
       "      <td>-14.756098</td>\n",
       "      <td>-7.012195</td>\n",
       "      <td>-9.207317</td>\n",
       "      <td>-0.011475</td>\n",
       "      <td>-0.035156</td>\n",
       "      <td>-0.023682</td>\n",
       "      <td>-32.000000</td>\n",
       "      <td>28.000000</td>\n",
       "      <td>64.000000</td>\n",
       "      <td>-0.536621</td>\n",
       "      <td>-0.843506</td>\n",
       "      <td>-0.006836</td>\n",
       "      <td>0.000000</td>\n",
       "      <td>41.000000</td>\n",
       "    </tr>\n",
       "    <tr>\n",
       "      <th>50%</th>\n",
       "      <td>0.182927</td>\n",
       "      <td>0.243902</td>\n",
       "      <td>-0.243902</td>\n",
       "      <td>0.008789</td>\n",
       "      <td>0.001709</td>\n",
       "      <td>0.003418</td>\n",
       "      <td>-10.000000</td>\n",
       "      <td>53.000000</td>\n",
       "      <td>131.000000</td>\n",
       "      <td>-0.186035</td>\n",
       "      <td>-0.680664</td>\n",
       "      <td>0.455322</td>\n",
       "      <td>0.000000</td>\n",
       "      <td>504.000000</td>\n",
       "    </tr>\n",
       "    <tr>\n",
       "      <th>75%</th>\n",
       "      <td>15.121951</td>\n",
       "      <td>7.804878</td>\n",
       "      <td>7.682927</td>\n",
       "      <td>0.044434</td>\n",
       "      <td>0.035889</td>\n",
       "      <td>0.032471</td>\n",
       "      <td>4.000000</td>\n",
       "      <td>86.000000</td>\n",
       "      <td>244.000000</td>\n",
       "      <td>0.071777</td>\n",
       "      <td>-0.382324</td>\n",
       "      <td>0.683594</td>\n",
       "      <td>1.000000</td>\n",
       "      <td>551.000000</td>\n",
       "    </tr>\n",
       "    <tr>\n",
       "      <th>max</th>\n",
       "      <td>595.000000</td>\n",
       "      <td>300.304878</td>\n",
       "      <td>287.378049</td>\n",
       "      <td>3.119141</td>\n",
       "      <td>1.618164</td>\n",
       "      <td>1.549561</td>\n",
       "      <td>84.000000</td>\n",
       "      <td>179.000000</td>\n",
       "      <td>359.000000</td>\n",
       "      <td>0.994873</td>\n",
       "      <td>0.999756</td>\n",
       "      <td>0.999756</td>\n",
       "      <td>1.000000</td>\n",
       "      <td>597.000000</td>\n",
       "    </tr>\n",
       "  </tbody>\n",
       "</table>\n",
       "</div>"
      ],
      "text/plain": [
       "              rotR_x         rotR_y         rotR_z          acc_x  \\\n",
       "count  128500.000000  128500.000000  128500.000000  128500.000000   \n",
       "mean       -0.188512       0.148507      -0.090838       0.018208   \n",
       "std        50.515063      30.840650      35.231496       0.078183   \n",
       "min     -1022.195122    -326.341463    -289.573171      -0.916748   \n",
       "25%       -14.756098      -7.012195      -9.207317      -0.011475   \n",
       "50%         0.182927       0.243902      -0.243902       0.008789   \n",
       "75%        15.121951       7.804878       7.682927       0.044434   \n",
       "max       595.000000     300.304878     287.378049       3.119141   \n",
       "\n",
       "               acc_y          acc_z           or_x           or_y  \\\n",
       "count  128500.000000  128500.000000  128500.000000  128500.000000   \n",
       "mean        0.001246       0.001691     -11.693751      52.519572   \n",
       "std         0.100835       0.075560      26.470025      53.389376   \n",
       "min        -2.086914      -1.875244     -79.000000    -179.000000   \n",
       "25%        -0.035156      -0.023682     -32.000000      28.000000   \n",
       "50%         0.001709       0.003418     -10.000000      53.000000   \n",
       "75%         0.035889       0.032471       4.000000      86.000000   \n",
       "max         1.618164       1.549561      84.000000     179.000000   \n",
       "\n",
       "                or_z         grav_x         grav_y         grav_z  \\\n",
       "count  128500.000000  128500.000000  128500.000000  128500.000000   \n",
       "mean      156.407004      -0.192600      -0.544404       0.322081   \n",
       "std       104.772476       0.413571       0.421863       0.461841   \n",
       "min         0.000000      -0.982910      -0.999756      -0.965576   \n",
       "25%        64.000000      -0.536621      -0.843506      -0.006836   \n",
       "50%       131.000000      -0.186035      -0.680664       0.455322   \n",
       "75%       244.000000       0.071777      -0.382324       0.683594   \n",
       "max       359.000000       0.994873       0.999756       0.999756   \n",
       "\n",
       "               label     action_num  \n",
       "count  128500.000000  128500.000000  \n",
       "mean        0.489883     300.763035  \n",
       "std         0.499900     255.605905  \n",
       "min         0.000000       0.000000  \n",
       "25%         0.000000      41.000000  \n",
       "50%         0.000000     504.000000  \n",
       "75%         1.000000     551.000000  \n",
       "max         1.000000     597.000000  "
      ]
     },
     "execution_count": 132,
     "metadata": {},
     "output_type": "execute_result"
    }
   ],
   "source": [
    "w_df_all.describe()"
   ]
  },
  {
   "cell_type": "code",
   "execution_count": 133,
   "metadata": {},
   "outputs": [
    {
     "data": {
      "text/plain": [
       "62950"
      ]
     },
     "execution_count": 133,
     "metadata": {},
     "output_type": "execute_result"
    }
   ],
   "source": [
    "(w_df_all.label == 1).sum()"
   ]
  },
  {
   "attachments": {},
   "cell_type": "markdown",
   "metadata": {},
   "source": [
    "## Missig Data"
   ]
  },
  {
   "cell_type": "code",
   "execution_count": 134,
   "metadata": {},
   "outputs": [
    {
     "data": {
      "text/plain": [
       "rotR_x        0\n",
       "rotR_y        0\n",
       "rotR_z        0\n",
       "acc_x         0\n",
       "acc_y         0\n",
       "acc_z         0\n",
       "or_x          0\n",
       "or_y          0\n",
       "or_z          0\n",
       "grav_x        0\n",
       "grav_y        0\n",
       "grav_z        0\n",
       "action        0\n",
       "label         0\n",
       "action_num    0\n",
       "dtype: int64"
      ]
     },
     "execution_count": 134,
     "metadata": {},
     "output_type": "execute_result"
    }
   ],
   "source": [
    "pd.isna(w_df_all).sum()"
   ]
  },
  {
   "attachments": {},
   "cell_type": "markdown",
   "metadata": {},
   "source": [
    "##  Class Balance"
   ]
  },
  {
   "cell_type": "code",
   "execution_count": 135,
   "metadata": {},
   "outputs": [
    {
     "data": {
      "image/png": "[encoded data removed]",
      "text/plain": [
       "<Figure size 640x480 with 1 Axes>"
      ]
     },
     "metadata": {},
     "output_type": "display_data"
    }
   ],
   "source": [
    "plt.title('Size of each class')\n",
    "plt.xlabel('activity label')\n",
    "plt.hist(w_df_all.label,rwidth=1)\n",
    "plt.xticks([0,1]);"
   ]
  },
  {
   "cell_type": "code",
   "execution_count": 136,
   "metadata": {},
   "outputs": [
    {
     "data": {
      "text/plain": [
       "array([  0,   1,   2,   3,   4,   5,   6,   7,   8,   9,  10,  11,  12,\n",
       "        13,  14,  15,  16,  17,  18,  19,  20,  21,  22,  23,  24,  25,\n",
       "        26,  27,  28,  29,  30,  31,  32,  33,  34,  35,  36,  37,  38,\n",
       "        39,  40,  41,  42,  43,  44,  45,  46,  47,  48,  49,  50,  51,\n",
       "        52,  53,  54,  55,  56,  57,  58,  59,  60,  61,  62,  63,  64,\n",
       "        65,  66,  67,  68,  69,  70,  71,  72,  73,  74,  75,  76,  77,\n",
       "        78,  79,  80,  81,  82,  83,  84,  85,  86, 500, 502, 503, 504,\n",
       "       505, 506, 507, 508, 509, 510, 511, 512, 513, 514, 515, 516, 517,\n",
       "       518, 519, 520, 522, 523, 524, 525, 526, 527, 528, 529, 530, 531,\n",
       "       532, 533, 534, 535, 536, 537, 538, 539, 540, 541, 542, 543, 544,\n",
       "       545, 546, 547, 548, 549, 550, 551, 552, 553, 554, 555, 556, 557,\n",
       "       558, 559, 560, 561, 562, 563, 564, 565, 566, 567, 568, 569, 570,\n",
       "       571, 572, 573, 574, 575, 576, 577, 578, 579, 580, 581, 582, 583,\n",
       "       584, 585, 586, 587, 588, 589, 590, 591, 592, 593, 594, 595, 596,\n",
       "       597], dtype=int64)"
      ]
     },
     "execution_count": 136,
     "metadata": {},
     "output_type": "execute_result"
    }
   ],
   "source": [
    "x= (w_df_all.action_num.unique())\n",
    "x.sort()\n",
    "x"
   ]
  },
  {
   "cell_type": "code",
   "execution_count": 137,
   "metadata": {},
   "outputs": [
    {
     "data": {
      "text/plain": [
       "''"
      ]
     },
     "execution_count": 137,
     "metadata": {},
     "output_type": "execute_result"
    },
    {
     "data": {
      "text/plain": [
       "<Figure size 640x480 with 0 Axes>"
      ]
     },
     "metadata": {},
     "output_type": "display_data"
    },
    {
     "data": {
      "image/png": "[encoded data removed]",
      "text/plain": [
       "<Figure size 1500x500 with 1 Axes>"
      ]
     },
     "metadata": {},
     "output_type": "display_data"
    }
   ],
   "source": [
    "### Length of time series\n",
    "action_num_list = w_df_all.action_num.unique()\n",
    "series_length = list()\n",
    "for act in action_num_list:\n",
    "    series_length.append(w_df_all[(w_df_all.action_num == act)].shape[0])\n",
    "plt.figure(2)\n",
    "plt.figure(figsize=(15,5))\n",
    "plt.title('Histogram of length of raw time series')\n",
    "plt.hist(series_length,bins=len(action_num_list),rwidth=0.4,align='left')\n",
    "plt.xlabel(\"size of each observation\")\n",
    "plt.ylabel(\"number of observation with same length\")\n",
    "#plt.axvline(300, color=\"grey\",linestyle=\"dashed\")\n",
    "#plt.axvline(600, color=\"grey\",linestyle=\"dashed\")\n",
    ";"
   ]
  },
  {
   "cell_type": "code",
   "execution_count": 138,
   "metadata": {},
   "outputs": [],
   "source": [
    "# There is too small and too large datasets\n",
    "# lets analyze which is which\n",
    "action_num_list = w_df_all.action_num.unique()\n",
    "each_series_length = list()\n",
    "for act_num in action_num_list:\n",
    "    each_series_length.append((w_df_all[(w_df_all.action_num == act_num)].shape[0],act_num))\n",
    "each_series_length.sort()"
   ]
  },
  {
   "attachments": {},
   "cell_type": "markdown",
   "metadata": {},
   "source": [
    "### Analyze DSs"
   ]
  },
  {
   "cell_type": "code",
   "execution_count": 140,
   "metadata": {},
   "outputs": [
    {
     "name": "stdout",
     "output_type": "stream",
     "text": [
      "The largest dataset size is 1300 records with name: f_sit_hold_LookMobile_2sec_front\n"
     ]
    }
   ],
   "source": [
    "#check the largest dataset\n",
    "dataset_name = w_df_all[w_df_all.action_num == each_series_length[-1][1]].action.unique()[0]\n",
    "print(f\"The largest dataset size is {each_series_length[-1][0]} records with name: {dataset_name}\")"
   ]
  },
  {
   "cell_type": "code",
   "execution_count": 144,
   "metadata": {},
   "outputs": [
    {
     "data": {
      "text/plain": [
       "(128500, 15)"
      ]
     },
     "execution_count": 144,
     "metadata": {},
     "output_type": "execute_result"
    }
   ],
   "source": [
    "w_df_all.shape"
   ]
  },
  {
   "attachments": {},
   "cell_type": "markdown",
   "metadata": {},
   "source": [
    "### Conclusion"
   ]
  },
  {
   "attachments": {},
   "cell_type": "markdown",
   "metadata": {},
   "source": [
    "From above analysis\n",
    "\n",
    "1. This dataset raised concern on class imbalance. --> make sure to consider same number of  f and t dataset \n",
    "2. The distribution of time-series length is broad. --> average dataset size should be around 200 - 300 (4sec to 6sec)"
   ]
  },
  {
   "attachments": {},
   "cell_type": "markdown",
   "metadata": {},
   "source": [
    "## Export Data"
   ]
  },
  {
   "cell_type": "code",
   "execution_count": 147,
   "metadata": {},
   "outputs": [
    {
     "data": {
      "text/plain": [
       "(2570, 50, 16)"
      ]
     },
     "execution_count": 147,
     "metadata": {},
     "output_type": "execute_result"
    }
   ],
   "source": [
    "w_arr_all.shape"
   ]
  },
  {
   "cell_type": "code",
   "execution_count": 82,
   "metadata": {},
   "outputs": [
    {
     "data": {
      "text/plain": [
       "(128500, 15)"
      ]
     },
     "execution_count": 82,
     "metadata": {},
     "output_type": "execute_result"
    }
   ],
   "source": [
    "w_df_all.to_pickle(\"merged_w_df.pkl\")"
   ]
  },
  {
   "cell_type": "code",
   "execution_count": 151,
   "metadata": {},
   "outputs": [],
   "source": [
    "import pickle\n",
    "with open('merged_w_arr.pkl','wb') as f:\n",
    "    pickle.dump(w_arr_all, f)"
   ]
  }
 ],
 "metadata": {
  "kernelspec": {
   "display_name": "Python 3",
   "language": "python",
   "name": "python3"
  },
  "language_info": {
   "codemirror_mode": {
    "name": "ipython",
    "version": 3
   },
   "file_extension": ".py",
   "mimetype": "text/x-python",
   "name": "python",
   "nbconvert_exporter": "python",
   "pygments_lexer": "ipython3",
   "version": "3.10.9"
  },
  "orig_nbformat": 4,
  "vscode": {
   "interpreter": {
    "hash": "81794d4967e6c3204c66dcd87b604927b115b27c00565d3d43f05ba2f3a2cb0d"
   }
  }
 },
 "nbformat": 4,
 "nbformat_minor": 2
}
