{
 "cells": [
  {
   "cell_type": "code",
   "execution_count": 6,
   "metadata": {},
   "outputs": [],
   "source": [
    "import pandas as pd\n",
    "import matplotlib.pyplot as plt\n",
    "import seaborn as sns\n",
    "import numpy as np\n",
    "\n",
    "sns.set_style(\"darkgrid\")\n",
    "\n",
    "import common_functions as cf"
   ]
  },
  {
   "cell_type": "markdown",
   "metadata": {},
   "source": [
    "## Import Data"
   ]
  },
  {
   "cell_type": "code",
   "execution_count": 7,
   "metadata": {},
   "outputs": [],
   "source": [
    "df_all = pd.read_pickle(\"merged_w_df.pkl\")"
   ]
  },
  {
   "cell_type": "code",
   "execution_count": 8,
   "metadata": {},
   "outputs": [
    {
     "data": {
      "text/plain": [
       "(128500, 15)"
      ]
     },
     "execution_count": 8,
     "metadata": {},
     "output_type": "execute_result"
    }
   ],
   "source": [
    "df_all.shape"
   ]
  },
  {
   "cell_type": "code",
   "execution_count": 9,
   "metadata": {},
   "outputs": [],
   "source": [
    "#np.asarray(df_all).reshape(2570,50,15)"
   ]
  },
  {
   "cell_type": "code",
   "execution_count": 10,
   "metadata": {},
   "outputs": [],
   "source": [
    "# import pickle\n",
    "# with open('merged_w_arr.pkl','rb') as f:\n",
    "#     arr_all = pickle.load(f)\n",
    "# arr_all.shape"
   ]
  },
  {
   "cell_type": "code",
   "execution_count": 11,
   "metadata": {},
   "outputs": [
    {
     "data": {
      "text/html": [
       "<div>\n",
       "<style scoped>\n",
       "    .dataframe tbody tr th:only-of-type {\n",
       "        vertical-align: middle;\n",
       "    }\n",
       "\n",
       "    .dataframe tbody tr th {\n",
       "        vertical-align: top;\n",
       "    }\n",
       "\n",
       "    .dataframe thead th {\n",
       "        text-align: right;\n",
       "    }\n",
       "</style>\n",
       "<table border=\"1\" class=\"dataframe\">\n",
       "  <thead>\n",
       "    <tr style=\"text-align: right;\">\n",
       "      <th></th>\n",
       "      <th>rotR_x</th>\n",
       "      <th>rotR_y</th>\n",
       "      <th>rotR_z</th>\n",
       "      <th>acc_x</th>\n",
       "      <th>acc_y</th>\n",
       "      <th>acc_z</th>\n",
       "      <th>or_x</th>\n",
       "      <th>or_y</th>\n",
       "      <th>or_z</th>\n",
       "      <th>grav_x</th>\n",
       "      <th>grav_y</th>\n",
       "      <th>grav_z</th>\n",
       "      <th>action</th>\n",
       "      <th>label</th>\n",
       "      <th>action_num</th>\n",
       "    </tr>\n",
       "    <tr>\n",
       "      <th>time</th>\n",
       "      <th></th>\n",
       "      <th></th>\n",
       "      <th></th>\n",
       "      <th></th>\n",
       "      <th></th>\n",
       "      <th></th>\n",
       "      <th></th>\n",
       "      <th></th>\n",
       "      <th></th>\n",
       "      <th></th>\n",
       "      <th></th>\n",
       "      <th></th>\n",
       "      <th></th>\n",
       "      <th></th>\n",
       "      <th></th>\n",
       "    </tr>\n",
       "  </thead>\n",
       "  <tbody>\n",
       "    <tr>\n",
       "      <th>0</th>\n",
       "      <td>-12.012195</td>\n",
       "      <td>5.243902</td>\n",
       "      <td>1.158537</td>\n",
       "      <td>0.098145</td>\n",
       "      <td>0.047607</td>\n",
       "      <td>0.029785</td>\n",
       "      <td>15</td>\n",
       "      <td>13</td>\n",
       "      <td>80</td>\n",
       "      <td>0.271240</td>\n",
       "      <td>-0.230225</td>\n",
       "      <td>0.934326</td>\n",
       "      <td>t_stand_left_DrinkBottle_10ml_1s_right</td>\n",
       "      <td>1</td>\n",
       "      <td>0</td>\n",
       "    </tr>\n",
       "    <tr>\n",
       "      <th>1</th>\n",
       "      <td>-23.780488</td>\n",
       "      <td>17.195122</td>\n",
       "      <td>3.658537</td>\n",
       "      <td>0.093994</td>\n",
       "      <td>0.043213</td>\n",
       "      <td>0.041748</td>\n",
       "      <td>15</td>\n",
       "      <td>14</td>\n",
       "      <td>80</td>\n",
       "      <td>0.259766</td>\n",
       "      <td>-0.249023</td>\n",
       "      <td>0.932861</td>\n",
       "      <td>t_stand_left_DrinkBottle_10ml_1s_right</td>\n",
       "      <td>1</td>\n",
       "      <td>0</td>\n",
       "    </tr>\n",
       "  </tbody>\n",
       "</table>\n",
       "</div>"
      ],
      "text/plain": [
       "         rotR_x     rotR_y    rotR_z     acc_x     acc_y     acc_z  or_x  \\\n",
       "time                                                                       \n",
       "0    -12.012195   5.243902  1.158537  0.098145  0.047607  0.029785    15   \n",
       "1    -23.780488  17.195122  3.658537  0.093994  0.043213  0.041748    15   \n",
       "\n",
       "      or_y  or_z    grav_x    grav_y    grav_z  \\\n",
       "time                                             \n",
       "0       13    80  0.271240 -0.230225  0.934326   \n",
       "1       14    80  0.259766 -0.249023  0.932861   \n",
       "\n",
       "                                      action  label  action_num  \n",
       "time                                                             \n",
       "0     t_stand_left_DrinkBottle_10ml_1s_right      1           0  \n",
       "1     t_stand_left_DrinkBottle_10ml_1s_right      1           0  "
      ]
     },
     "execution_count": 11,
     "metadata": {},
     "output_type": "execute_result"
    }
   ],
   "source": [
    "df_all.head(2)"
   ]
  },
  {
   "cell_type": "markdown",
   "metadata": {},
   "source": [
    "# Feature engineering (basic)"
   ]
  },
  {
   "cell_type": "code",
   "execution_count": 12,
   "metadata": {},
   "outputs": [],
   "source": [
    "df_fe = cf.fe_basic_features(df_all)"
   ]
  },
  {
   "cell_type": "code",
   "execution_count": 13,
   "metadata": {},
   "outputs": [
    {
     "data": {
      "text/html": [
       "<div>\n",
       "<style scoped>\n",
       "    .dataframe tbody tr th:only-of-type {\n",
       "        vertical-align: middle;\n",
       "    }\n",
       "\n",
       "    .dataframe tbody tr th {\n",
       "        vertical-align: top;\n",
       "    }\n",
       "\n",
       "    .dataframe thead th {\n",
       "        text-align: right;\n",
       "    }\n",
       "</style>\n",
       "<table border=\"1\" class=\"dataframe\">\n",
       "  <thead>\n",
       "    <tr style=\"text-align: right;\">\n",
       "      <th></th>\n",
       "      <th>accel_norm</th>\n",
       "      <th>rotR_x</th>\n",
       "      <th>rotR_y</th>\n",
       "      <th>rotR_z</th>\n",
       "      <th>acc_x</th>\n",
       "      <th>acc_y</th>\n",
       "      <th>acc_z</th>\n",
       "      <th>or_x</th>\n",
       "      <th>or_y</th>\n",
       "      <th>or_z</th>\n",
       "      <th>grav_x</th>\n",
       "      <th>grav_y</th>\n",
       "      <th>grav_z</th>\n",
       "      <th>action</th>\n",
       "      <th>label</th>\n",
       "      <th>action_num</th>\n",
       "    </tr>\n",
       "    <tr>\n",
       "      <th>time</th>\n",
       "      <th></th>\n",
       "      <th></th>\n",
       "      <th></th>\n",
       "      <th></th>\n",
       "      <th></th>\n",
       "      <th></th>\n",
       "      <th></th>\n",
       "      <th></th>\n",
       "      <th></th>\n",
       "      <th></th>\n",
       "      <th></th>\n",
       "      <th></th>\n",
       "      <th></th>\n",
       "      <th></th>\n",
       "      <th></th>\n",
       "      <th></th>\n",
       "    </tr>\n",
       "  </thead>\n",
       "  <tbody>\n",
       "    <tr>\n",
       "      <th>0</th>\n",
       "      <td>1.048477</td>\n",
       "      <td>-12.012195</td>\n",
       "      <td>5.243902</td>\n",
       "      <td>1.158537</td>\n",
       "      <td>0.098145</td>\n",
       "      <td>0.047607</td>\n",
       "      <td>0.029785</td>\n",
       "      <td>15</td>\n",
       "      <td>13</td>\n",
       "      <td>80</td>\n",
       "      <td>0.271240</td>\n",
       "      <td>-0.230225</td>\n",
       "      <td>0.934326</td>\n",
       "      <td>t_stand_left_DrinkBottle_10ml_1s_right</td>\n",
       "      <td>1</td>\n",
       "      <td>0</td>\n",
       "    </tr>\n",
       "    <tr>\n",
       "      <th>1</th>\n",
       "      <td>1.057056</td>\n",
       "      <td>-23.780488</td>\n",
       "      <td>17.195122</td>\n",
       "      <td>3.658537</td>\n",
       "      <td>0.093994</td>\n",
       "      <td>0.043213</td>\n",
       "      <td>0.041748</td>\n",
       "      <td>15</td>\n",
       "      <td>14</td>\n",
       "      <td>80</td>\n",
       "      <td>0.259766</td>\n",
       "      <td>-0.249023</td>\n",
       "      <td>0.932861</td>\n",
       "      <td>t_stand_left_DrinkBottle_10ml_1s_right</td>\n",
       "      <td>1</td>\n",
       "      <td>0</td>\n",
       "    </tr>\n",
       "  </tbody>\n",
       "</table>\n",
       "</div>"
      ],
      "text/plain": [
       "      accel_norm     rotR_x     rotR_y    rotR_z     acc_x     acc_y  \\\n",
       "time                                                                   \n",
       "0       1.048477 -12.012195   5.243902  1.158537  0.098145  0.047607   \n",
       "1       1.057056 -23.780488  17.195122  3.658537  0.093994  0.043213   \n",
       "\n",
       "         acc_z  or_x  or_y  or_z    grav_x    grav_y    grav_z  \\\n",
       "time                                                             \n",
       "0     0.029785    15    13    80  0.271240 -0.230225  0.934326   \n",
       "1     0.041748    15    14    80  0.259766 -0.249023  0.932861   \n",
       "\n",
       "                                      action  label  action_num  \n",
       "time                                                             \n",
       "0     t_stand_left_DrinkBottle_10ml_1s_right      1           0  \n",
       "1     t_stand_left_DrinkBottle_10ml_1s_right      1           0  "
      ]
     },
     "execution_count": 13,
     "metadata": {},
     "output_type": "execute_result"
    }
   ],
   "source": [
    "df_fe.head(2)"
   ]
  },
  {
   "cell_type": "code",
   "execution_count": 14,
   "metadata": {},
   "outputs": [
    {
     "data": {
      "text/plain": [
       "(128500, 16)"
      ]
     },
     "execution_count": 14,
     "metadata": {},
     "output_type": "execute_result"
    }
   ],
   "source": [
    "df_fe.shape"
   ]
  },
  {
   "cell_type": "markdown",
   "metadata": {},
   "source": [
    "## Data Splitting(Test/train)"
   ]
  },
  {
   "cell_type": "code",
   "execution_count": 15,
   "metadata": {},
   "outputs": [],
   "source": [
    "train_df,test_df = cf.data_split_TrainTest(df_fe)"
   ]
  },
  {
   "cell_type": "code",
   "execution_count": 16,
   "metadata": {},
   "outputs": [
    {
     "data": {
      "text/plain": [
       "((72150, 16), (56350, 16))"
      ]
     },
     "execution_count": 16,
     "metadata": {},
     "output_type": "execute_result"
    }
   ],
   "source": [
    "train_df.shape,test_df.shape"
   ]
  },
  {
   "cell_type": "markdown",
   "metadata": {},
   "source": [
    "## Preprocess (Normalizing)"
   ]
  },
  {
   "cell_type": "code",
   "execution_count": 17,
   "metadata": {},
   "outputs": [],
   "source": [
    "from sklearn.preprocessing import StandardScaler\n",
    "last_feat_column = df_fe.columns[-4]\n",
    "\n",
    "for act_num in train_df.action_num.unique():\n",
    "    std = StandardScaler().set_output(transform='pandas')\n",
    "    \n",
    "    train_df_w_act_num = train_df.loc[train_df.action_num == act_num,:last_feat_column].copy()\n",
    "    std.fit(train_df_w_act_num)\n",
    "    train_df.loc[train_df.action_num == act_num,:last_feat_column] = std.transform(train_df_w_act_num)\n",
    "\n",
    "\n",
    "for act_num in test_df.action_num.unique():\n",
    "    std = StandardScaler().set_output(transform='pandas')\n",
    "    \n",
    "    test_df_w_act_num = test_df.loc[test_df.action_num == act_num,:last_feat_column].copy()\n",
    "    std.fit(test_df_w_act_num)\n",
    "    test_df.loc[test_df.action_num == act_num,:last_feat_column] = std.transform(test_df_w_act_num)"
   ]
  },
  {
   "cell_type": "code",
   "execution_count": 18,
   "metadata": {},
   "outputs": [
    {
     "data": {
      "text/plain": [
       "((72150, 16), (56350, 16))"
      ]
     },
     "execution_count": 18,
     "metadata": {},
     "output_type": "execute_result"
    }
   ],
   "source": [
    "train_df.shape,test_df.shape"
   ]
  },
  {
   "cell_type": "code",
   "execution_count": 19,
   "metadata": {},
   "outputs": [],
   "source": [
    "#X_train_roll = cf.pre_normalize_tanh(X_train_roll)\n",
    "#X_test_roll = cf.pre_normalize_tanh(X_test_roll)"
   ]
  },
  {
   "cell_type": "markdown",
   "metadata": {},
   "source": [
    "## Modeling"
   ]
  },
  {
   "cell_type": "markdown",
   "metadata": {},
   "source": [
    "### Split Data (Feature/Label)"
   ]
  },
  {
   "cell_type": "code",
   "execution_count": 99,
   "metadata": {},
   "outputs": [],
   "source": [
    "def load_dataset():\n",
    "    X_train,y_train = cf.data_split_FeatLabel(train_df)\n",
    "    X_test,y_test = cf.data_split_FeatLabel(test_df)\n",
    "   \n",
    "    X_train = np.asarray(X_train).reshape(int(X_train.shape[0]/cf.SEQUENCE_SIZE) , cf.SEQUENCE_SIZE, X_train.shape[1])\n",
    "    y_train = np.asarray(y_train).reshape(int(y_train.shape[0]/cf.SEQUENCE_SIZE) , cf.SEQUENCE_SIZE)\n",
    "\n",
    "    X_test = np.asarray(X_test).reshape(int(X_test.shape[0]/cf.SEQUENCE_SIZE) , cf.SEQUENCE_SIZE, X_test.shape[1])\n",
    "    y_test = np.asarray(y_test).reshape(int(y_test.shape[0]/cf.SEQUENCE_SIZE) , cf.SEQUENCE_SIZE)\n",
    "\n",
    "    return  X_train,y_train,X_test,y_test"
   ]
  },
  {
   "cell_type": "code",
   "execution_count": 100,
   "metadata": {},
   "outputs": [],
   "source": [
    "# load data\n",
    "trainX, trainy, testX, testy = load_dataset()"
   ]
  },
  {
   "cell_type": "code",
   "execution_count": 103,
   "metadata": {},
   "outputs": [],
   "source": [
    "n_timesteps, n_features = trainX.shape[1], trainX.shape[2]\n",
    "n_outputs =1\n",
    "\n",
    "# reshape data into time steps of sub-sequences\n",
    "n_steps = 2\n",
    "n_length = int(cf.SEQUENCE_SIZE/n_steps) \n",
    "\n",
    "trainX_resh = trainX.reshape((trainX.shape[0], n_steps, n_length, n_features))\n",
    "testX_resh = testX.reshape((testX.shape[0], n_steps, n_length, n_features))"
   ]
  },
  {
   "cell_type": "code",
   "execution_count": 102,
   "metadata": {},
   "outputs": [
    {
     "data": {
      "text/plain": [
       "(72150,)"
      ]
     },
     "execution_count": 102,
     "metadata": {},
     "output_type": "execute_result"
    }
   ],
   "source": [
    "trainy.shape"
   ]
  },
  {
   "cell_type": "markdown",
   "metadata": {},
   "source": [
    "### Neurel Network"
   ]
  },
  {
   "cell_type": "code",
   "execution_count": 104,
   "metadata": {},
   "outputs": [],
   "source": [
    "\n",
    "\n",
    "from tensorflow import keras\n",
    "from tensorflow.keras.models import Sequential,load_model\n",
    "from tensorflow.keras.layers import Dense,Flatten,Dropout,LSTM,TimeDistributed,MaxPooling1D,Conv1D\n",
    "\n",
    "from tensorflow.keras.callbacks import EarlyStopping,ModelCheckpoint\n",
    "\n",
    "from sklearn.model_selection import train_test_split\n",
    "from sklearn.metrics import mean_absolute_error\n",
    "\n",
    "import tensorflow as tf\n",
    "import sklearn\n",
    "tf.random.set_seed(20) # to fix the randomization\n",
    "np.random.seed(20)# to fix the randomizationin sklearn\n",
    "sklearn.random.seed(1)"
   ]
  },
  {
   "cell_type": "code",
   "execution_count": 105,
   "metadata": {},
   "outputs": [
    {
     "name": "stdout",
     "output_type": "stream",
     "text": [
      "Model: \"sequential_16\"\n",
      "_________________________________________________________________\n",
      " Layer (type)                Output Shape              Param #   \n",
      "=================================================================\n",
      " time_distributed_80 (TimeDi  (None, None, 23, 10)     400       \n",
      " stributed)                                                      \n",
      "                                                                 \n",
      " time_distributed_81 (TimeDi  (None, None, 21, 10)     310       \n",
      " stributed)                                                      \n",
      "                                                                 \n",
      " time_distributed_82 (TimeDi  (None, None, 21, 10)     0         \n",
      " stributed)                                                      \n",
      "                                                                 \n",
      " time_distributed_83 (TimeDi  (None, None, 10, 10)     0         \n",
      " stributed)                                                      \n",
      "                                                                 \n",
      " time_distributed_84 (TimeDi  (None, None, 100)        0         \n",
      " stributed)                                                      \n",
      "                                                                 \n",
      " lstm_16 (LSTM)              (None, 50)                30200     \n",
      "                                                                 \n",
      " dropout_33 (Dropout)        (None, 50)                0         \n",
      "                                                                 \n",
      " dense_32 (Dense)            (None, 50)                2550      \n",
      "                                                                 \n",
      " dense_33 (Dense)            (None, 1)                 51        \n",
      "                                                                 \n",
      "=================================================================\n",
      "Total params: 33,511\n",
      "Trainable params: 33,511\n",
      "Non-trainable params: 0\n",
      "_________________________________________________________________\n",
      "None\n"
     ]
    }
   ],
   "source": [
    "# define model\n",
    "model = Sequential()\n",
    "model.add(TimeDistributed(Conv1D(filters=10, kernel_size=3, activation='relu'), input_shape=(None,n_length,n_features)))\n",
    "model.add(TimeDistributed(Conv1D(filters=10, kernel_size=3, activation='relu')))\n",
    "model.add(TimeDistributed(Dropout(0.2)))\n",
    "model.add(TimeDistributed(MaxPooling1D(pool_size=2)))\n",
    "model.add(TimeDistributed(Flatten()))\n",
    "model.add(LSTM(50))\n",
    "model.add(Dropout(0.5))\n",
    "model.add(Dense(50, activation='relu'))\n",
    "model.add(Dense(n_outputs, activation='sigmoid'))\n",
    "print(model.summary())\n"
   ]
  },
  {
   "cell_type": "code",
   "execution_count": 106,
   "metadata": {},
   "outputs": [
    {
     "ename": "ValueError",
     "evalue": "Found input variables with inconsistent numbers of samples: [1443, 72150]",
     "output_type": "error",
     "traceback": [
      "\u001b[1;31m---------------------------------------------------------------------------\u001b[0m",
      "\u001b[1;31mValueError\u001b[0m                                Traceback (most recent call last)",
      "Cell \u001b[1;32mIn[106], line 4\u001b[0m\n\u001b[0;32m      1\u001b[0m opt \u001b[39m=\u001b[39m keras\u001b[39m.\u001b[39moptimizers\u001b[39m.\u001b[39mAdam(learning_rate\u001b[39m=\u001b[39m\u001b[39m0.02\u001b[39m)\n\u001b[0;32m      2\u001b[0m model\u001b[39m.\u001b[39mcompile(loss\u001b[39m=\u001b[39m\u001b[39m'\u001b[39m\u001b[39mbinary_crossentropy\u001b[39m\u001b[39m'\u001b[39m, optimizer\u001b[39m=\u001b[39mopt, metrics\u001b[39m=\u001b[39m[\u001b[39m'\u001b[39m\u001b[39maccuracy\u001b[39m\u001b[39m'\u001b[39m])\n\u001b[1;32m----> 4\u001b[0m X_train, val_X, y_train, val_y \u001b[39m=\u001b[39m train_test_split(trainX_resh, trainy, shuffle\u001b[39m=\u001b[39;49m\u001b[39mTrue\u001b[39;49;00m,test_size\u001b[39m=\u001b[39;49m\u001b[39m0.2\u001b[39;49m )\n",
      "File \u001b[1;32mc:\\Users\\Jacqueline\\anaconda3\\envs\\tf\\lib\\site-packages\\sklearn\\model_selection\\_split.py:2559\u001b[0m, in \u001b[0;36mtrain_test_split\u001b[1;34m(test_size, train_size, random_state, shuffle, stratify, *arrays)\u001b[0m\n\u001b[0;32m   2556\u001b[0m \u001b[39mif\u001b[39;00m n_arrays \u001b[39m==\u001b[39m \u001b[39m0\u001b[39m:\n\u001b[0;32m   2557\u001b[0m     \u001b[39mraise\u001b[39;00m \u001b[39mValueError\u001b[39;00m(\u001b[39m\"\u001b[39m\u001b[39mAt least one array required as input\u001b[39m\u001b[39m\"\u001b[39m)\n\u001b[1;32m-> 2559\u001b[0m arrays \u001b[39m=\u001b[39m indexable(\u001b[39m*\u001b[39;49marrays)\n\u001b[0;32m   2561\u001b[0m n_samples \u001b[39m=\u001b[39m _num_samples(arrays[\u001b[39m0\u001b[39m])\n\u001b[0;32m   2562\u001b[0m n_train, n_test \u001b[39m=\u001b[39m _validate_shuffle_split(\n\u001b[0;32m   2563\u001b[0m     n_samples, test_size, train_size, default_test_size\u001b[39m=\u001b[39m\u001b[39m0.25\u001b[39m\n\u001b[0;32m   2564\u001b[0m )\n",
      "File \u001b[1;32mc:\\Users\\Jacqueline\\anaconda3\\envs\\tf\\lib\\site-packages\\sklearn\\utils\\validation.py:443\u001b[0m, in \u001b[0;36mindexable\u001b[1;34m(*iterables)\u001b[0m\n\u001b[0;32m    424\u001b[0m \u001b[39m\u001b[39m\u001b[39m\"\"\"Make arrays indexable for cross-validation.\u001b[39;00m\n\u001b[0;32m    425\u001b[0m \n\u001b[0;32m    426\u001b[0m \u001b[39mChecks consistent length, passes through None, and ensures that everything\u001b[39;00m\n\u001b[1;32m   (...)\u001b[0m\n\u001b[0;32m    439\u001b[0m \u001b[39m    sparse matrix, or dataframe) or `None`.\u001b[39;00m\n\u001b[0;32m    440\u001b[0m \u001b[39m\"\"\"\u001b[39;00m\n\u001b[0;32m    442\u001b[0m result \u001b[39m=\u001b[39m [_make_indexable(X) \u001b[39mfor\u001b[39;00m X \u001b[39min\u001b[39;00m iterables]\n\u001b[1;32m--> 443\u001b[0m check_consistent_length(\u001b[39m*\u001b[39;49mresult)\n\u001b[0;32m    444\u001b[0m \u001b[39mreturn\u001b[39;00m result\n",
      "File \u001b[1;32mc:\\Users\\Jacqueline\\anaconda3\\envs\\tf\\lib\\site-packages\\sklearn\\utils\\validation.py:397\u001b[0m, in \u001b[0;36mcheck_consistent_length\u001b[1;34m(*arrays)\u001b[0m\n\u001b[0;32m    395\u001b[0m uniques \u001b[39m=\u001b[39m np\u001b[39m.\u001b[39munique(lengths)\n\u001b[0;32m    396\u001b[0m \u001b[39mif\u001b[39;00m \u001b[39mlen\u001b[39m(uniques) \u001b[39m>\u001b[39m \u001b[39m1\u001b[39m:\n\u001b[1;32m--> 397\u001b[0m     \u001b[39mraise\u001b[39;00m \u001b[39mValueError\u001b[39;00m(\n\u001b[0;32m    398\u001b[0m         \u001b[39m\"\u001b[39m\u001b[39mFound input variables with inconsistent numbers of samples: \u001b[39m\u001b[39m%r\u001b[39;00m\u001b[39m\"\u001b[39m\n\u001b[0;32m    399\u001b[0m         \u001b[39m%\u001b[39m [\u001b[39mint\u001b[39m(l) \u001b[39mfor\u001b[39;00m l \u001b[39min\u001b[39;00m lengths]\n\u001b[0;32m    400\u001b[0m     )\n",
      "\u001b[1;31mValueError\u001b[0m: Found input variables with inconsistent numbers of samples: [1443, 72150]"
     ]
    }
   ],
   "source": [
    "opt = keras.optimizers.Adam(learning_rate=0.02)\n",
    "model.compile(loss='binary_crossentropy', optimizer=opt, metrics=['accuracy'])\n",
    "\n",
    "X_train, val_X, y_train, val_y = train_test_split(trainX_resh, trainy, shuffle=True,test_size=0.2 )"
   ]
  },
  {
   "cell_type": "code",
   "execution_count": 94,
   "metadata": {},
   "outputs": [
    {
     "name": "stdout",
     "output_type": "stream",
     "text": [
      "Epoch 1/50\n",
      "4/5 [=======================>......] - ETA: 0s - loss: 0.6886 - accuracy: 0.0040 \n",
      "Epoch 1: val_accuracy improved from -inf to 0.00000, saving model to best_model_LSTM.h5\n",
      "5/5 [==============================] - 8s 437ms/step - loss: 0.6877 - accuracy: 0.0035 - val_loss: 0.6486 - val_accuracy: 0.0000e+00\n",
      "Epoch 2/50\n",
      "4/5 [=======================>......] - ETA: 0s - loss: 0.6292 - accuracy: 0.0010    \n",
      "Epoch 2: val_accuracy did not improve from 0.00000\n",
      "5/5 [==============================] - 0s 41ms/step - loss: 0.6290 - accuracy: 8.6655e-04 - val_loss: 0.5710 - val_accuracy: 0.0000e+00\n",
      "Epoch 3/50\n",
      "4/5 [=======================>......] - ETA: 0s - loss: 0.5431 - accuracy: 0.0170\n",
      "Epoch 3: val_accuracy improved from 0.00000 to 0.00346, saving model to best_model_LSTM.h5\n",
      "5/5 [==============================] - 0s 73ms/step - loss: 0.5516 - accuracy: 0.0147 - val_loss: 0.5360 - val_accuracy: 0.0035\n",
      "Epoch 4/50\n",
      "3/5 [=================>............] - ETA: 0s - loss: 0.4954 - accuracy: 0.0413\n",
      "Epoch 4: val_accuracy improved from 0.00346 to 0.01730, saving model to best_model_LSTM.h5\n",
      "5/5 [==============================] - 0s 79ms/step - loss: 0.4971 - accuracy: 0.0425 - val_loss: 0.4235 - val_accuracy: 0.0173\n",
      "Epoch 5/50\n",
      "5/5 [==============================] - ETA: 0s - loss: 0.4144 - accuracy: 0.1109\n",
      "Epoch 5: val_accuracy improved from 0.01730 to 0.10035, saving model to best_model_LSTM.h5\n",
      "5/5 [==============================] - 0s 97ms/step - loss: 0.4144 - accuracy: 0.1109 - val_loss: 0.4023 - val_accuracy: 0.1003\n",
      "Epoch 6/50\n",
      "5/5 [==============================] - ETA: 0s - loss: 0.3725 - accuracy: 0.0182\n",
      "Epoch 6: val_accuracy did not improve from 0.10035\n",
      "5/5 [==============================] - 0s 55ms/step - loss: 0.3725 - accuracy: 0.0182 - val_loss: 0.3325 - val_accuracy: 0.0000e+00\n",
      "Epoch 7/50\n",
      "5/5 [==============================] - ETA: 0s - loss: 0.3413 - accuracy: 0.0139\n",
      "Epoch 7: val_accuracy did not improve from 0.10035\n",
      "5/5 [==============================] - 0s 57ms/step - loss: 0.3413 - accuracy: 0.0139 - val_loss: 0.3638 - val_accuracy: 0.0000e+00\n",
      "Epoch 8/50\n",
      "5/5 [==============================] - ETA: 0s - loss: 0.2910 - accuracy: 0.0121  \n",
      "Epoch 8: val_accuracy did not improve from 0.10035\n",
      "5/5 [==============================] - 0s 66ms/step - loss: 0.2910 - accuracy: 0.0121 - val_loss: 0.3726 - val_accuracy: 0.0000e+00\n",
      "Epoch 9/50\n",
      "4/5 [=======================>......] - ETA: 0s - loss: 0.2655 - accuracy: 0.0130\n",
      "Epoch 9: val_accuracy did not improve from 0.10035\n",
      "5/5 [==============================] - 0s 44ms/step - loss: 0.2601 - accuracy: 0.0156 - val_loss: 0.4329 - val_accuracy: 0.0138\n",
      "Epoch 10/50\n",
      "4/5 [=======================>......] - ETA: 0s - loss: 0.2371 - accuracy: 0.0190\n",
      "Epoch 10: val_accuracy did not improve from 0.10035\n",
      "5/5 [==============================] - 0s 97ms/step - loss: 0.2312 - accuracy: 0.0217 - val_loss: 0.3784 - val_accuracy: 0.0173\n",
      "Epoch 11/50\n",
      "4/5 [=======================>......] - ETA: 0s - loss: 0.2067 - accuracy: 0.0420\n",
      "Epoch 11: val_accuracy did not improve from 0.10035\n",
      "5/5 [==============================] - 0s 46ms/step - loss: 0.2115 - accuracy: 0.0407 - val_loss: 0.4713 - val_accuracy: 0.0138\n",
      "Epoch 12/50\n",
      "3/5 [=================>............] - ETA: 0s - loss: 0.1710 - accuracy: 0.0267\n",
      "Epoch 12: val_accuracy did not improve from 0.10035\n",
      "5/5 [==============================] - 0s 54ms/step - loss: 0.1920 - accuracy: 0.0243 - val_loss: 0.3296 - val_accuracy: 0.0035\n",
      "Epoch 13/50\n",
      "4/5 [=======================>......] - ETA: 0s - loss: 0.2062 - accuracy: 0.0070\n",
      "Epoch 13: val_accuracy did not improve from 0.10035\n",
      "5/5 [==============================] - 0s 39ms/step - loss: 0.2028 - accuracy: 0.0069 - val_loss: 0.3548 - val_accuracy: 0.0000e+00\n",
      "Epoch 14/50\n",
      "4/5 [=======================>......] - ETA: 0s - loss: 0.1749 - accuracy: 0.0020\n",
      "Epoch 14: val_accuracy did not improve from 0.10035\n",
      "5/5 [==============================] - 0s 43ms/step - loss: 0.1779 - accuracy: 0.0035 - val_loss: 0.4868 - val_accuracy: 0.0000e+00\n",
      "Epoch 15/50\n",
      "3/5 [=================>............] - ETA: 0s - loss: 0.1764 - accuracy: 0.0067\n",
      "Epoch 15: val_accuracy did not improve from 0.10035\n",
      "5/5 [==============================] - 0s 48ms/step - loss: 0.1812 - accuracy: 0.0069 - val_loss: 0.3871 - val_accuracy: 0.0000e+00\n",
      "Epoch 16/50\n",
      "5/5 [==============================] - ETA: 0s - loss: 0.1645 - accuracy: 0.0104\n",
      "Epoch 16: val_accuracy did not improve from 0.10035\n",
      "5/5 [==============================] - 0s 55ms/step - loss: 0.1645 - accuracy: 0.0104 - val_loss: 0.3921 - val_accuracy: 0.0035\n",
      "Epoch 17/50\n",
      "4/5 [=======================>......] - ETA: 0s - loss: 0.1521 - accuracy: 0.0100\n",
      "Epoch 17: val_accuracy did not improve from 0.10035\n",
      "5/5 [==============================] - 0s 41ms/step - loss: 0.1481 - accuracy: 0.0104 - val_loss: 0.3467 - val_accuracy: 0.0104\n",
      "Epoch 18/50\n",
      "4/5 [=======================>......] - ETA: 0s - loss: 0.1435 - accuracy: 0.0070    \n",
      "Epoch 18: val_accuracy did not improve from 0.10035\n",
      "5/5 [==============================] - 0s 40ms/step - loss: 0.1332 - accuracy: 0.0078 - val_loss: 0.4422 - val_accuracy: 0.0035\n",
      "Epoch 19/50\n",
      "4/5 [=======================>......] - ETA: 0s - loss: 0.0991 - accuracy: 0.0090\n",
      "Epoch 19: val_accuracy did not improve from 0.10035\n",
      "5/5 [==============================] - 0s 41ms/step - loss: 0.1009 - accuracy: 0.0078 - val_loss: 0.4144 - val_accuracy: 0.0104\n",
      "Epoch 20/50\n",
      "4/5 [=======================>......] - ETA: 0s - loss: 0.1223 - accuracy: 0.0070\n",
      "Epoch 20: val_accuracy did not improve from 0.10035\n",
      "5/5 [==============================] - 0s 45ms/step - loss: 0.1420 - accuracy: 0.0061 - val_loss: 0.4017 - val_accuracy: 0.0000e+00\n",
      "Epoch 21/50\n",
      "4/5 [=======================>......] - ETA: 0s - loss: 0.1181 - accuracy: 0.0160\n",
      "Epoch 21: val_accuracy did not improve from 0.10035\n",
      "5/5 [==============================] - 0s 39ms/step - loss: 0.1146 - accuracy: 0.0182 - val_loss: 0.3517 - val_accuracy: 0.0035\n",
      "Epoch 22/50\n",
      "4/5 [=======================>......] - ETA: 0s - loss: 0.1284 - accuracy: 0.0140\n",
      "Epoch 22: val_accuracy did not improve from 0.10035\n",
      "5/5 [==============================] - 0s 43ms/step - loss: 0.1294 - accuracy: 0.0139 - val_loss: 0.3820 - val_accuracy: 0.0035\n",
      "Epoch 23/50\n",
      "5/5 [==============================] - ETA: 0s - loss: 0.1006 - accuracy: 0.0130\n",
      "Epoch 23: val_accuracy did not improve from 0.10035\n",
      "5/5 [==============================] - 0s 54ms/step - loss: 0.1006 - accuracy: 0.0130 - val_loss: 0.3565 - val_accuracy: 0.0035\n",
      "Epoch 24/50\n",
      "3/5 [=================>............] - ETA: 0s - loss: 0.0811 - accuracy: 0.0200\n",
      "Epoch 24: val_accuracy did not improve from 0.10035\n",
      "5/5 [==============================] - 0s 48ms/step - loss: 0.0924 - accuracy: 0.0182 - val_loss: 0.3683 - val_accuracy: 0.0104\n",
      "Epoch 25/50\n",
      "3/5 [=================>............] - ETA: 0s - loss: 0.0905 - accuracy: 0.0293\n",
      "Epoch 25: val_accuracy did not improve from 0.10035\n",
      "5/5 [==============================] - 0s 45ms/step - loss: 0.0807 - accuracy: 0.0338 - val_loss: 0.3643 - val_accuracy: 0.0346\n",
      "Epoch 26/50\n",
      "4/5 [=======================>......] - ETA: 0s - loss: 0.0617 - accuracy: 0.0210\n",
      "Epoch 26: val_accuracy did not improve from 0.10035\n",
      "5/5 [==============================] - 0s 40ms/step - loss: 0.0610 - accuracy: 0.0243 - val_loss: 0.3990 - val_accuracy: 0.0104\n",
      "Epoch 27/50\n",
      "3/5 [=================>............] - ETA: 0s - loss: 0.0643 - accuracy: 0.0293\n",
      "Epoch 27: val_accuracy did not improve from 0.10035\n",
      "5/5 [==============================] - 0s 47ms/step - loss: 0.0752 - accuracy: 0.0260 - val_loss: 0.4752 - val_accuracy: 0.0069\n",
      "Epoch 28/50\n",
      "4/5 [=======================>......] - ETA: 0s - loss: 0.1033 - accuracy: 0.0150\n",
      "Epoch 28: val_accuracy did not improve from 0.10035\n",
      "5/5 [==============================] - 0s 39ms/step - loss: 0.0953 - accuracy: 0.0147 - val_loss: 0.4087 - val_accuracy: 0.0069\n",
      "Epoch 29/50\n",
      "4/5 [=======================>......] - ETA: 0s - loss: 0.0967 - accuracy: 0.0160\n",
      "Epoch 29: val_accuracy did not improve from 0.10035\n",
      "5/5 [==============================] - 0s 41ms/step - loss: 0.0929 - accuracy: 0.0147 - val_loss: 0.3691 - val_accuracy: 0.0035\n",
      "Epoch 30/50\n",
      "4/5 [=======================>......] - ETA: 0s - loss: 0.0878 - accuracy: 0.0130\n",
      "Epoch 30: val_accuracy did not improve from 0.10035\n",
      "5/5 [==============================] - 0s 39ms/step - loss: 0.0894 - accuracy: 0.0130 - val_loss: 0.3676 - val_accuracy: 0.0035\n",
      "Epoch 31/50\n",
      "4/5 [=======================>......] - ETA: 0s - loss: 0.0792 - accuracy: 0.0090\n",
      "Epoch 31: val_accuracy did not improve from 0.10035\n",
      "5/5 [==============================] - 0s 40ms/step - loss: 0.0835 - accuracy: 0.0095 - val_loss: 0.3999 - val_accuracy: 0.0069\n",
      "Epoch 32/50\n",
      "4/5 [=======================>......] - ETA: 0s - loss: 0.0794 - accuracy: 0.0150\n",
      "Epoch 32: val_accuracy did not improve from 0.10035\n",
      "5/5 [==============================] - 0s 40ms/step - loss: 0.0813 - accuracy: 0.0147 - val_loss: 0.3554 - val_accuracy: 0.0000e+00\n",
      "Epoch 32: early stopping\n"
     ]
    }
   ],
   "source": [
    "es = EarlyStopping(monitor='val_loss', mode='min', verbose=1, patience=20)\n",
    "mc = ModelCheckpoint('best_model_LSTM.h5', monitor='val_accuracy', mode='max', verbose=1, save_best_only=True)\n",
    "# fit network\n",
    "history = model.fit(X_train, y_train, epochs=50, batch_size=250,validation_data=(val_X,val_y),callbacks=[es,mc])"
   ]
  },
  {
   "cell_type": "code",
   "execution_count": 95,
   "metadata": {},
   "outputs": [
    {
     "data": {
      "image/png": "[encoded data removed]",
      "text/plain": [
       "<Figure size 640x480 with 1 Axes>"
      ]
     },
     "metadata": {},
     "output_type": "display_data"
    }
   ],
   "source": [
    "history_df = pd.DataFrame(history.history)\n",
    "history_df.loc[:, ['loss',\"val_loss\"]].plot()\n",
    "plt.show()"
   ]
  },
  {
   "attachments": {},
   "cell_type": "markdown",
   "metadata": {},
   "source": [
    "#### Evaluate"
   ]
  },
  {
   "cell_type": "code",
   "execution_count": 96,
   "metadata": {},
   "outputs": [
    {
     "name": "stdout",
     "output_type": "stream",
     "text": [
      "Train: 8.73, Test: 10.03\n"
     ]
    }
   ],
   "source": [
    "best_saved_model = load_model('best_model_LSTM.h5')\n",
    "_, train_acc = best_saved_model.evaluate(trainX_resh, trainy, verbose=0)\n",
    "_, test_acc = best_saved_model.evaluate(testX_resh, testy, verbose=0)\n",
    "print('Train: %.2f, Test: %.2f' % (train_acc*100, test_acc*100))"
   ]
  }
 ],
 "metadata": {
  "kernelspec": {
   "display_name": "tf",
   "language": "python",
   "name": "python3"
  },
  "language_info": {
   "codemirror_mode": {
    "name": "ipython",
    "version": 3
   },
   "file_extension": ".py",
   "mimetype": "text/x-python",
   "name": "python",
   "nbconvert_exporter": "python",
   "pygments_lexer": "ipython3",
   "version": "3.10.9"
  },
  "orig_nbformat": 4
 },
 "nbformat": 4,
 "nbformat_minor": 2
}
