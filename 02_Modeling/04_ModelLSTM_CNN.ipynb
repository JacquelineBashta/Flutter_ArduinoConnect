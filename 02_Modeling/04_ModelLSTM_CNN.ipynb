{
 "cells": [
  {
   "cell_type": "code",
   "execution_count": 27,
   "metadata": {},
   "outputs": [],
   "source": [
    "import pandas as pd\n",
    "import matplotlib.pyplot as plt\n",
    "import seaborn as sns\n",
    "import numpy as np\n",
    "\n",
    "sns.set_style(\"darkgrid\")\n",
    "\n",
    "import common_functions as cf"
   ]
  },
  {
   "cell_type": "code",
   "execution_count": 28,
   "metadata": {},
   "outputs": [
    {
     "data": {
      "text/plain": [
       "100"
      ]
     },
     "execution_count": 28,
     "metadata": {},
     "output_type": "execute_result"
    }
   ],
   "source": [
    "cf.SEQUENCE_SIZE"
   ]
  },
  {
   "cell_type": "markdown",
   "metadata": {},
   "source": [
    "## Import Data"
   ]
  },
  {
   "cell_type": "code",
   "execution_count": 29,
   "metadata": {},
   "outputs": [],
   "source": [
    "df_all = pd.read_pickle(\"merged_w_df.pkl\")"
   ]
  },
  {
   "cell_type": "code",
   "execution_count": 30,
   "metadata": {},
   "outputs": [
    {
     "data": {
      "text/plain": [
       "(114700, 15)"
      ]
     },
     "execution_count": 30,
     "metadata": {},
     "output_type": "execute_result"
    }
   ],
   "source": [
    "df_all.shape"
   ]
  },
  {
   "cell_type": "code",
   "execution_count": 31,
   "metadata": {},
   "outputs": [
    {
     "data": {
      "text/html": [
       "<div>\n",
       "<style scoped>\n",
       "    .dataframe tbody tr th:only-of-type {\n",
       "        vertical-align: middle;\n",
       "    }\n",
       "\n",
       "    .dataframe tbody tr th {\n",
       "        vertical-align: top;\n",
       "    }\n",
       "\n",
       "    .dataframe thead th {\n",
       "        text-align: right;\n",
       "    }\n",
       "</style>\n",
       "<table border=\"1\" class=\"dataframe\">\n",
       "  <thead>\n",
       "    <tr style=\"text-align: right;\">\n",
       "      <th></th>\n",
       "      <th>rotR_x</th>\n",
       "      <th>rotR_y</th>\n",
       "      <th>rotR_z</th>\n",
       "      <th>acc_x</th>\n",
       "      <th>acc_y</th>\n",
       "      <th>acc_z</th>\n",
       "      <th>or_x</th>\n",
       "      <th>or_y</th>\n",
       "      <th>or_z</th>\n",
       "      <th>grav_x</th>\n",
       "      <th>grav_y</th>\n",
       "      <th>grav_z</th>\n",
       "      <th>action</th>\n",
       "      <th>label</th>\n",
       "      <th>action_num</th>\n",
       "    </tr>\n",
       "  </thead>\n",
       "  <tbody>\n",
       "    <tr>\n",
       "      <th>0</th>\n",
       "      <td>-12.012195</td>\n",
       "      <td>5.243902</td>\n",
       "      <td>1.158537</td>\n",
       "      <td>0.098145</td>\n",
       "      <td>0.047607</td>\n",
       "      <td>0.029785</td>\n",
       "      <td>15</td>\n",
       "      <td>13</td>\n",
       "      <td>80</td>\n",
       "      <td>0.271240</td>\n",
       "      <td>-0.230225</td>\n",
       "      <td>0.934326</td>\n",
       "      <td>t_stand_left_DrinkBottle_10ml_1s_right</td>\n",
       "      <td>1</td>\n",
       "      <td>0</td>\n",
       "    </tr>\n",
       "    <tr>\n",
       "      <th>1</th>\n",
       "      <td>-23.780488</td>\n",
       "      <td>17.195122</td>\n",
       "      <td>3.658537</td>\n",
       "      <td>0.093994</td>\n",
       "      <td>0.043213</td>\n",
       "      <td>0.041748</td>\n",
       "      <td>15</td>\n",
       "      <td>14</td>\n",
       "      <td>80</td>\n",
       "      <td>0.259766</td>\n",
       "      <td>-0.249023</td>\n",
       "      <td>0.932861</td>\n",
       "      <td>t_stand_left_DrinkBottle_10ml_1s_right</td>\n",
       "      <td>1</td>\n",
       "      <td>0</td>\n",
       "    </tr>\n",
       "  </tbody>\n",
       "</table>\n",
       "</div>"
      ],
      "text/plain": [
       "      rotR_x     rotR_y    rotR_z     acc_x     acc_y     acc_z  or_x  or_y  \\\n",
       "0 -12.012195   5.243902  1.158537  0.098145  0.047607  0.029785    15    13   \n",
       "1 -23.780488  17.195122  3.658537  0.093994  0.043213  0.041748    15    14   \n",
       "\n",
       "   or_z    grav_x    grav_y    grav_z                                  action  \\\n",
       "0    80  0.271240 -0.230225  0.934326  t_stand_left_DrinkBottle_10ml_1s_right   \n",
       "1    80  0.259766 -0.249023  0.932861  t_stand_left_DrinkBottle_10ml_1s_right   \n",
       "\n",
       "   label  action_num  \n",
       "0      1           0  \n",
       "1      1           0  "
      ]
     },
     "execution_count": 31,
     "metadata": {},
     "output_type": "execute_result"
    }
   ],
   "source": [
    "df_all.head(2)"
   ]
  },
  {
   "cell_type": "markdown",
   "metadata": {},
   "source": [
    "# Feature engineering (basic)"
   ]
  },
  {
   "cell_type": "code",
   "execution_count": 32,
   "metadata": {},
   "outputs": [],
   "source": [
    "df_fe = cf.fe_basic_features(df_all)\n",
    "#df_fe = df_all.copy()"
   ]
  },
  {
   "cell_type": "code",
   "execution_count": 33,
   "metadata": {},
   "outputs": [
    {
     "data": {
      "text/html": [
       "<div>\n",
       "<style scoped>\n",
       "    .dataframe tbody tr th:only-of-type {\n",
       "        vertical-align: middle;\n",
       "    }\n",
       "\n",
       "    .dataframe tbody tr th {\n",
       "        vertical-align: top;\n",
       "    }\n",
       "\n",
       "    .dataframe thead th {\n",
       "        text-align: right;\n",
       "    }\n",
       "</style>\n",
       "<table border=\"1\" class=\"dataframe\">\n",
       "  <thead>\n",
       "    <tr style=\"text-align: right;\">\n",
       "      <th></th>\n",
       "      <th>accel_norm</th>\n",
       "      <th>rotR_x</th>\n",
       "      <th>rotR_y</th>\n",
       "      <th>rotR_z</th>\n",
       "      <th>acc_x</th>\n",
       "      <th>acc_y</th>\n",
       "      <th>acc_z</th>\n",
       "      <th>or_x</th>\n",
       "      <th>or_y</th>\n",
       "      <th>or_z</th>\n",
       "      <th>grav_x</th>\n",
       "      <th>grav_y</th>\n",
       "      <th>grav_z</th>\n",
       "      <th>action</th>\n",
       "      <th>label</th>\n",
       "      <th>action_num</th>\n",
       "    </tr>\n",
       "  </thead>\n",
       "  <tbody>\n",
       "    <tr>\n",
       "      <th>0</th>\n",
       "      <td>1.048477</td>\n",
       "      <td>-12.012195</td>\n",
       "      <td>5.243902</td>\n",
       "      <td>1.158537</td>\n",
       "      <td>0.098145</td>\n",
       "      <td>0.047607</td>\n",
       "      <td>0.029785</td>\n",
       "      <td>15</td>\n",
       "      <td>13</td>\n",
       "      <td>80</td>\n",
       "      <td>0.271240</td>\n",
       "      <td>-0.230225</td>\n",
       "      <td>0.934326</td>\n",
       "      <td>t_stand_left_DrinkBottle_10ml_1s_right</td>\n",
       "      <td>1</td>\n",
       "      <td>0</td>\n",
       "    </tr>\n",
       "    <tr>\n",
       "      <th>1</th>\n",
       "      <td>1.057056</td>\n",
       "      <td>-23.780488</td>\n",
       "      <td>17.195122</td>\n",
       "      <td>3.658537</td>\n",
       "      <td>0.093994</td>\n",
       "      <td>0.043213</td>\n",
       "      <td>0.041748</td>\n",
       "      <td>15</td>\n",
       "      <td>14</td>\n",
       "      <td>80</td>\n",
       "      <td>0.259766</td>\n",
       "      <td>-0.249023</td>\n",
       "      <td>0.932861</td>\n",
       "      <td>t_stand_left_DrinkBottle_10ml_1s_right</td>\n",
       "      <td>1</td>\n",
       "      <td>0</td>\n",
       "    </tr>\n",
       "  </tbody>\n",
       "</table>\n",
       "</div>"
      ],
      "text/plain": [
       "   accel_norm     rotR_x     rotR_y    rotR_z     acc_x     acc_y     acc_z  \\\n",
       "0    1.048477 -12.012195   5.243902  1.158537  0.098145  0.047607  0.029785   \n",
       "1    1.057056 -23.780488  17.195122  3.658537  0.093994  0.043213  0.041748   \n",
       "\n",
       "   or_x  or_y  or_z    grav_x    grav_y    grav_z  \\\n",
       "0    15    13    80  0.271240 -0.230225  0.934326   \n",
       "1    15    14    80  0.259766 -0.249023  0.932861   \n",
       "\n",
       "                                   action  label  action_num  \n",
       "0  t_stand_left_DrinkBottle_10ml_1s_right      1           0  \n",
       "1  t_stand_left_DrinkBottle_10ml_1s_right      1           0  "
      ]
     },
     "execution_count": 33,
     "metadata": {},
     "output_type": "execute_result"
    }
   ],
   "source": [
    "df_fe.head(2)"
   ]
  },
  {
   "cell_type": "code",
   "execution_count": 34,
   "metadata": {},
   "outputs": [
    {
     "data": {
      "text/plain": [
       "(114700, 16)"
      ]
     },
     "execution_count": 34,
     "metadata": {},
     "output_type": "execute_result"
    }
   ],
   "source": [
    "df_fe.shape"
   ]
  },
  {
   "cell_type": "markdown",
   "metadata": {},
   "source": [
    "## Data Splitting(Test/train)"
   ]
  },
  {
   "cell_type": "code",
   "execution_count": 35,
   "metadata": {},
   "outputs": [],
   "source": [
    "train_df,test_df = cf.data_split_TrainTest(df_fe)"
   ]
  },
  {
   "cell_type": "code",
   "execution_count": 36,
   "metadata": {},
   "outputs": [
    {
     "data": {
      "text/plain": [
       "((63000, 16), (51700, 16))"
      ]
     },
     "execution_count": 36,
     "metadata": {},
     "output_type": "execute_result"
    }
   ],
   "source": [
    "train_df.shape,test_df.shape"
   ]
  },
  {
   "cell_type": "markdown",
   "metadata": {},
   "source": [
    "## Preprocess (Normalizing)"
   ]
  },
  {
   "cell_type": "code",
   "execution_count": 37,
   "metadata": {},
   "outputs": [],
   "source": [
    "from sklearn.preprocessing import StandardScaler\n",
    "last_feat_column = df_fe.columns[-4]\n",
    "\n",
    "for act_num in train_df.action_num.unique():\n",
    "    std = StandardScaler().set_output(transform='pandas')\n",
    "    \n",
    "    train_df_w_act_num = train_df.loc[train_df.action_num == act_num,:last_feat_column].copy()\n",
    "    std.fit(train_df_w_act_num)\n",
    "    train_df.loc[train_df.action_num == act_num,:last_feat_column] = std.transform(train_df_w_act_num)\n",
    "\n",
    "\n",
    "for act_num in test_df.action_num.unique():\n",
    "    std = StandardScaler().set_output(transform='pandas')\n",
    "    \n",
    "    test_df_w_act_num = test_df.loc[test_df.action_num == act_num,:last_feat_column].copy()\n",
    "    std.fit(test_df_w_act_num)\n",
    "    test_df.loc[test_df.action_num == act_num,:last_feat_column] = std.transform(test_df_w_act_num)"
   ]
  },
  {
   "cell_type": "code",
   "execution_count": 38,
   "metadata": {},
   "outputs": [
    {
     "data": {
      "text/plain": [
       "((63000, 16), (51700, 16))"
      ]
     },
     "execution_count": 38,
     "metadata": {},
     "output_type": "execute_result"
    }
   ],
   "source": [
    "train_df.shape,test_df.shape"
   ]
  },
  {
   "cell_type": "markdown",
   "metadata": {},
   "source": [
    "## Modeling"
   ]
  },
  {
   "cell_type": "markdown",
   "metadata": {},
   "source": [
    "### Split Data (Feature/Label)"
   ]
  },
  {
   "cell_type": "code",
   "execution_count": 39,
   "metadata": {},
   "outputs": [],
   "source": [
    "def load_dataset():\n",
    "    X_train,y_train = cf.data_split_FeatLabel(train_df)\n",
    "    X_test,y_test = cf.data_split_FeatLabel(test_df)\n",
    "   \n",
    "    X_train = np.asarray(X_train).reshape(int(X_train.shape[0]/cf.SEQUENCE_SIZE) , cf.SEQUENCE_SIZE, X_train.shape[1])\n",
    "    y_train = np.asarray(y_train).reshape(int(y_train.shape[0]/cf.SEQUENCE_SIZE) , cf.SEQUENCE_SIZE)\n",
    "    y_train_compact=[]\n",
    "    for lis in y_train:\n",
    "        if sum(lis) == 0:\n",
    "            y_train_compact.append(0)\n",
    "        elif sum(lis) == cf.SEQUENCE_SIZE:\n",
    "            y_train_compact.append(1)\n",
    "        else:\n",
    "            print(\"something wrong\")\n",
    "    y_train_compact = np.asarray(y_train_compact)\n",
    "    X_test = np.asarray(X_test).reshape(int(X_test.shape[0]/cf.SEQUENCE_SIZE) , cf.SEQUENCE_SIZE, X_test.shape[1])\n",
    "    y_test = np.asarray(y_test).reshape(int(y_test.shape[0]/cf.SEQUENCE_SIZE) , cf.SEQUENCE_SIZE)\n",
    "    y_test_compact=[]\n",
    "    for lis in y_test:\n",
    "        if sum(lis) == 0:\n",
    "            y_test_compact.append(0)\n",
    "        elif sum(lis) == cf.SEQUENCE_SIZE:\n",
    "            y_test_compact.append(1)\n",
    "        else:\n",
    "            print(\"something wrong\")\n",
    "    y_test_compact = np.asarray(y_test_compact)\n",
    "\n",
    "    return  X_train,y_train_compact,X_test,y_test_compact"
   ]
  },
  {
   "cell_type": "code",
   "execution_count": 40,
   "metadata": {},
   "outputs": [],
   "source": [
    "# load data\n",
    "trainX, trainy, testX, testy = load_dataset()"
   ]
  },
  {
   "cell_type": "code",
   "execution_count": 41,
   "metadata": {},
   "outputs": [
    {
     "data": {
      "text/plain": [
       "((630, 100, 13), (630,), (517, 100, 13), (517,))"
      ]
     },
     "execution_count": 41,
     "metadata": {},
     "output_type": "execute_result"
    }
   ],
   "source": [
    "trainX.shape,trainy.shape, testX.shape, testy.shape"
   ]
  },
  {
   "cell_type": "code",
   "execution_count": 42,
   "metadata": {},
   "outputs": [
    {
     "data": {
      "text/plain": [
       "((1443, 50, 13), (1443,), (1127, 50, 13), (1127,))"
      ]
     },
     "execution_count": 42,
     "metadata": {},
     "output_type": "execute_result"
    }
   ],
   "source": [
    "((1443, 50, 13), (1443,), (1127, 50, 13), (1127,))"
   ]
  },
  {
   "cell_type": "code",
   "execution_count": 43,
   "metadata": {},
   "outputs": [],
   "source": [
    "n_features = trainX.shape[2]\n",
    "\n",
    "# reshape data into time steps of sub-sequences\n",
    "n_steps = 4\n",
    "n_length = int(cf.SEQUENCE_SIZE/n_steps) \n",
    "\n",
    "trainX_resh = trainX.reshape((trainX.shape[0], n_steps, n_length, n_features))\n",
    "testX_resh = testX.reshape((testX.shape[0], n_steps, n_length, n_features))"
   ]
  },
  {
   "cell_type": "code",
   "execution_count": 44,
   "metadata": {},
   "outputs": [
    {
     "data": {
      "text/plain": [
       "((630,), (517,))"
      ]
     },
     "execution_count": 44,
     "metadata": {},
     "output_type": "execute_result"
    }
   ],
   "source": [
    "trainy.shape, testy.shape"
   ]
  },
  {
   "cell_type": "code",
   "execution_count": 45,
   "metadata": {},
   "outputs": [
    {
     "data": {
      "text/plain": [
       "((630, 4, 25, 13), (517, 4, 25, 13))"
      ]
     },
     "execution_count": 45,
     "metadata": {},
     "output_type": "execute_result"
    }
   ],
   "source": [
    "trainX_resh.shape,testX_resh.shape"
   ]
  },
  {
   "cell_type": "markdown",
   "metadata": {},
   "source": [
    "### Neurel Network"
   ]
  },
  {
   "cell_type": "code",
   "execution_count": 46,
   "metadata": {},
   "outputs": [],
   "source": [
    "from tensorflow.keras.models import Sequential,load_model\n",
    "from tensorflow.keras.layers import Dense,Flatten,Dropout,LSTM,TimeDistributed,MaxPooling1D,Conv1D,BatchNormalization\n",
    "from tensorflow.keras.callbacks import EarlyStopping,ModelCheckpoint\n",
    "from tensorflow.keras.optimizers import Adam\n",
    "\n",
    "from sklearn.model_selection import train_test_split\n",
    "\n",
    "import tensorflow as tf\n",
    "import sklearn\n",
    "tf.random.set_seed(20) # to fix the randomization\n",
    "np.random.seed(20)# to fix the randomizationin sklearn\n",
    "sklearn.random.seed(1)"
   ]
  },
  {
   "cell_type": "code",
   "execution_count": 47,
   "metadata": {},
   "outputs": [],
   "source": [
    "# define model\n",
    "model = Sequential()\n",
    "model.add(TimeDistributed(Conv1D(filters=50, kernel_size=3, activation='relu'), input_shape=(None,n_length,n_features)))\n",
    "model.add(TimeDistributed(Conv1D(filters=50, kernel_size=3, activation='relu')))\n",
    "model.add(TimeDistributed(Dropout(0.5)))\n",
    "model.add(TimeDistributed(MaxPooling1D(pool_size=2)))\n",
    "model.add(TimeDistributed(Flatten()))\n",
    "model.add(LSTM(100))\n",
    "model.add(Dropout(0.5))\n",
    "model.add(Dense(100, activation='relu'))\n",
    "model.add(Dense(1, activation='sigmoid'))\n",
    "#print(model.summary())\n"
   ]
  },
  {
   "cell_type": "code",
   "execution_count": 48,
   "metadata": {},
   "outputs": [],
   "source": [
    "opt = Adam(learning_rate=0.005)\n",
    "model.compile(loss='binary_crossentropy', optimizer=opt, metrics=['accuracy'])\n",
    "\n",
    "X_train, val_X, y_train, val_y = train_test_split(trainX_resh, trainy, shuffle=True,test_size=0.2 ,random_state=10)"
   ]
  },
  {
   "cell_type": "code",
   "execution_count": 49,
   "metadata": {},
   "outputs": [
    {
     "data": {
      "text/plain": [
       "((504, 4, 25, 13), (126, 4, 25, 13), (504,), (126,))"
      ]
     },
     "execution_count": 49,
     "metadata": {},
     "output_type": "execute_result"
    }
   ],
   "source": [
    "X_train.shape, val_X.shape, y_train.shape, val_y.shape"
   ]
  },
  {
   "cell_type": "code",
   "execution_count": 50,
   "metadata": {},
   "outputs": [
    {
     "name": "stdout",
     "output_type": "stream",
     "text": [
      "\n",
      "Epoch 1: val_accuracy improved from -inf to 0.76984, saving model to best_model_LSTM.h5\n",
      "\n",
      "Epoch 2: val_accuracy improved from 0.76984 to 0.81746, saving model to best_model_LSTM.h5\n",
      "\n",
      "Epoch 3: val_accuracy did not improve from 0.81746\n",
      "\n",
      "Epoch 4: val_accuracy improved from 0.81746 to 0.88889, saving model to best_model_LSTM.h5\n",
      "\n",
      "Epoch 5: val_accuracy did not improve from 0.88889\n",
      "\n",
      "Epoch 6: val_accuracy did not improve from 0.88889\n",
      "\n",
      "Epoch 7: val_accuracy did not improve from 0.88889\n",
      "\n",
      "Epoch 8: val_accuracy improved from 0.88889 to 0.90476, saving model to best_model_LSTM.h5\n",
      "\n",
      "Epoch 9: val_accuracy improved from 0.90476 to 0.92857, saving model to best_model_LSTM.h5\n",
      "\n",
      "Epoch 10: val_accuracy did not improve from 0.92857\n",
      "\n",
      "Epoch 11: val_accuracy improved from 0.92857 to 0.93651, saving model to best_model_LSTM.h5\n",
      "\n",
      "Epoch 12: val_accuracy did not improve from 0.93651\n",
      "\n",
      "Epoch 13: val_accuracy did not improve from 0.93651\n",
      "\n",
      "Epoch 14: val_accuracy did not improve from 0.93651\n",
      "\n",
      "Epoch 15: val_accuracy did not improve from 0.93651\n",
      "\n",
      "Epoch 16: val_accuracy did not improve from 0.93651\n",
      "\n",
      "Epoch 17: val_accuracy improved from 0.93651 to 0.94444, saving model to best_model_LSTM.h5\n",
      "\n",
      "Epoch 18: val_accuracy did not improve from 0.94444\n",
      "\n",
      "Epoch 19: val_accuracy did not improve from 0.94444\n",
      "\n",
      "Epoch 20: val_accuracy did not improve from 0.94444\n",
      "\n",
      "Epoch 21: val_accuracy did not improve from 0.94444\n",
      "\n",
      "Epoch 22: val_accuracy did not improve from 0.94444\n",
      "\n",
      "Epoch 23: val_accuracy did not improve from 0.94444\n",
      "\n",
      "Epoch 24: val_accuracy did not improve from 0.94444\n",
      "\n",
      "Epoch 25: val_accuracy did not improve from 0.94444\n",
      "\n",
      "Epoch 26: val_accuracy did not improve from 0.94444\n",
      "\n",
      "Epoch 27: val_accuracy did not improve from 0.94444\n",
      "\n",
      "Epoch 28: val_accuracy improved from 0.94444 to 0.95238, saving model to best_model_LSTM.h5\n",
      "\n",
      "Epoch 29: val_accuracy did not improve from 0.95238\n",
      "\n",
      "Epoch 30: val_accuracy improved from 0.95238 to 0.96032, saving model to best_model_LSTM.h5\n",
      "\n",
      "Epoch 31: val_accuracy did not improve from 0.96032\n",
      "\n",
      "Epoch 32: val_accuracy did not improve from 0.96032\n",
      "\n",
      "Epoch 33: val_accuracy did not improve from 0.96032\n",
      "\n",
      "Epoch 34: val_accuracy did not improve from 0.96032\n",
      "\n",
      "Epoch 35: val_accuracy did not improve from 0.96032\n",
      "\n",
      "Epoch 36: val_accuracy did not improve from 0.96032\n",
      "\n",
      "Epoch 37: val_accuracy did not improve from 0.96032\n",
      "\n",
      "Epoch 38: val_accuracy did not improve from 0.96032\n",
      "\n",
      "Epoch 39: val_accuracy did not improve from 0.96032\n",
      "\n",
      "Epoch 40: val_accuracy improved from 0.96032 to 0.96825, saving model to best_model_LSTM.h5\n",
      "\n",
      "Epoch 41: val_accuracy did not improve from 0.96825\n",
      "\n",
      "Epoch 42: val_accuracy did not improve from 0.96825\n",
      "\n",
      "Epoch 43: val_accuracy did not improve from 0.96825\n",
      "\n",
      "Epoch 44: val_accuracy improved from 0.96825 to 0.97619, saving model to best_model_LSTM.h5\n",
      "\n",
      "Epoch 45: val_accuracy did not improve from 0.97619\n",
      "\n",
      "Epoch 46: val_accuracy did not improve from 0.97619\n",
      "\n",
      "Epoch 47: val_accuracy did not improve from 0.97619\n",
      "\n",
      "Epoch 48: val_accuracy did not improve from 0.97619\n",
      "\n",
      "Epoch 49: val_accuracy did not improve from 0.97619\n",
      "\n",
      "Epoch 50: val_accuracy did not improve from 0.97619\n",
      "\n",
      "Epoch 51: val_accuracy did not improve from 0.97619\n",
      "\n",
      "Epoch 52: val_accuracy did not improve from 0.97619\n",
      "\n",
      "Epoch 53: val_accuracy did not improve from 0.97619\n",
      "\n",
      "Epoch 54: val_accuracy did not improve from 0.97619\n",
      "\n",
      "Epoch 55: val_accuracy did not improve from 0.97619\n",
      "\n",
      "Epoch 56: val_accuracy did not improve from 0.97619\n",
      "\n",
      "Epoch 57: val_accuracy did not improve from 0.97619\n",
      "\n",
      "Epoch 58: val_accuracy did not improve from 0.97619\n",
      "\n",
      "Epoch 59: val_accuracy did not improve from 0.97619\n",
      "\n",
      "Epoch 60: val_accuracy did not improve from 0.97619\n",
      "\n",
      "Epoch 61: val_accuracy did not improve from 0.97619\n",
      "\n",
      "Epoch 62: val_accuracy did not improve from 0.97619\n",
      "\n",
      "Epoch 63: val_accuracy did not improve from 0.97619\n",
      "\n",
      "Epoch 64: val_accuracy did not improve from 0.97619\n",
      "\n",
      "Epoch 65: val_accuracy did not improve from 0.97619\n",
      "\n",
      "Epoch 66: val_accuracy did not improve from 0.97619\n",
      "\n",
      "Epoch 67: val_accuracy did not improve from 0.97619\n",
      "\n",
      "Epoch 68: val_accuracy did not improve from 0.97619\n",
      "\n",
      "Epoch 69: val_accuracy did not improve from 0.97619\n",
      "Epoch 69: early stopping\n"
     ]
    }
   ],
   "source": [
    "es = EarlyStopping(monitor='val_accuracy', mode='max', verbose=1, patience=25)\n",
    "mc = ModelCheckpoint('best_model_LSTM.h5', monitor='val_accuracy', mode='max', verbose=1, save_best_only=True)\n",
    "# fit network\n",
    "history = model.fit(X_train, y_train, epochs=100, batch_size=int(cf.SEQUENCE_SIZE/2),validation_data=(val_X,val_y),callbacks=[es,mc],verbose=0)"
   ]
  },
  {
   "cell_type": "code",
   "execution_count": 51,
   "metadata": {},
   "outputs": [
    {
     "data": {
      "image/png": "[encoded data removed]",
      "text/plain": [
       "<Figure size 640x480 with 1 Axes>"
      ]
     },
     "metadata": {},
     "output_type": "display_data"
    }
   ],
   "source": [
    "history_df = pd.DataFrame(history.history)\n",
    "history_df.loc[:, ['loss',\"val_loss\"]].plot()\n",
    "plt.show()"
   ]
  },
  {
   "attachments": {},
   "cell_type": "markdown",
   "metadata": {},
   "source": [
    "#### Evaluate"
   ]
  },
  {
   "cell_type": "code",
   "execution_count": 52,
   "metadata": {},
   "outputs": [
    {
     "name": "stdout",
     "output_type": "stream",
     "text": [
      "Train: 99.52, Test: 92.84\n"
     ]
    }
   ],
   "source": [
    "best_saved_model = load_model('best_model_LSTM.h5')\n",
    "_, train_acc = best_saved_model.evaluate(trainX_resh, trainy, verbose=0)\n",
    "_, test_acc = best_saved_model.evaluate(testX_resh, testy, verbose=0)\n",
    "print('Train: %.2f, Test: %.2f' % (train_acc*100, test_acc*100))"
   ]
  }
 ],
 "metadata": {
  "kernelspec": {
   "display_name": "tf",
   "language": "python",
   "name": "python3"
  },
  "language_info": {
   "codemirror_mode": {
    "name": "ipython",
    "version": 3
   },
   "file_extension": ".py",
   "mimetype": "text/x-python",
   "name": "python",
   "nbconvert_exporter": "python",
   "pygments_lexer": "ipython3",
   "version": "3.10.9"
  },
  "orig_nbformat": 4
 },
 "nbformat": 4,
 "nbformat_minor": 2
}
