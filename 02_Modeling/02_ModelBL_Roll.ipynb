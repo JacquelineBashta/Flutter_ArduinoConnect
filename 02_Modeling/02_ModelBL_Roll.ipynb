{
 "cells": [
  {
   "cell_type": "code",
   "execution_count": 24,
   "metadata": {},
   "outputs": [],
   "source": [
    "import pandas as pd\n",
    "import matplotlib.pyplot as plt\n",
    "import seaborn as sns\n",
    "import numpy as np\n",
    "\n",
    "sns.set_style(\"darkgrid\")\n",
    "\n",
    "import common_functions as cf"
   ]
  },
  {
   "cell_type": "code",
   "execution_count": 25,
   "metadata": {},
   "outputs": [],
   "source": [
    "ROLL_STEPS = 100"
   ]
  },
  {
   "attachments": {},
   "cell_type": "markdown",
   "metadata": {},
   "source": [
    "## Import Data"
   ]
  },
  {
   "cell_type": "code",
   "execution_count": 26,
   "metadata": {},
   "outputs": [],
   "source": [
    "df_all = pd.read_pickle(\"merged_df.pkl\")"
   ]
  },
  {
   "attachments": {},
   "cell_type": "markdown",
   "metadata": {},
   "source": [
    "# Feature engineering (basic)"
   ]
  },
  {
   "cell_type": "code",
   "execution_count": 27,
   "metadata": {},
   "outputs": [],
   "source": [
    "df_fe = cf.fe_basic_features(df_all)"
   ]
  },
  {
   "attachments": {},
   "cell_type": "markdown",
   "metadata": {},
   "source": [
    "# Feature engineering (Rolling)\n",
    "rolling function takes an amount of directly preceding values to generate stuff like mean, median etc. So for my later input data, I don't need anything else than a set of preceding motion data."
   ]
  },
  {
   "cell_type": "code",
   "execution_count": 28,
   "metadata": {},
   "outputs": [],
   "source": [
    "roll_df =  cf.fe_roll_features(df_fe,ROLL_STEPS)"
   ]
  },
  {
   "cell_type": "code",
   "execution_count": 29,
   "metadata": {},
   "outputs": [
    {
     "data": {
      "text/plain": [
       "31"
      ]
     },
     "execution_count": 29,
     "metadata": {},
     "output_type": "execute_result"
    }
   ],
   "source": [
    "len(roll_df.columns)"
   ]
  },
  {
   "cell_type": "markdown",
   "metadata": {},
   "source": [
    "## Data Splitting"
   ]
  },
  {
   "cell_type": "code",
   "execution_count": 30,
   "metadata": {},
   "outputs": [],
   "source": [
    "train_df_roll,test_df_roll = cf.data_split_TrainTest(roll_df)"
   ]
  },
  {
   "cell_type": "code",
   "execution_count": 31,
   "metadata": {},
   "outputs": [],
   "source": [
    "X_train_roll,y_train_roll = cf.data_split_FeatLabel(train_df_roll)\n",
    "X_test_roll,y_test_roll = cf.data_split_FeatLabel(test_df_roll)"
   ]
  },
  {
   "cell_type": "markdown",
   "metadata": {},
   "source": [
    "## Modeling"
   ]
  },
  {
   "cell_type": "markdown",
   "metadata": {},
   "source": [
    "### Random ForestClassifier (baseline)"
   ]
  },
  {
   "cell_type": "code",
   "execution_count": 32,
   "metadata": {},
   "outputs": [
    {
     "data": {
      "text/html": [
       "<style>#sk-container-id-2 {color: black;background-color: white;}#sk-container-id-2 pre{padding: 0;}#sk-container-id-2 div.sk-toggleable {background-color: white;}#sk-container-id-2 label.sk-toggleable__label {cursor: pointer;display: block;width: 100%;margin-bottom: 0;padding: 0.3em;box-sizing: border-box;text-align: center;}#sk-container-id-2 label.sk-toggleable__label-arrow:before {content: \"▸\";float: left;margin-right: 0.25em;color: #696969;}#sk-container-id-2 label.sk-toggleable__label-arrow:hover:before {color: black;}#sk-container-id-2 div.sk-estimator:hover label.sk-toggleable__label-arrow:before {color: black;}#sk-container-id-2 div.sk-toggleable__content {max-height: 0;max-width: 0;overflow: hidden;text-align: left;background-color: #f0f8ff;}#sk-container-id-2 div.sk-toggleable__content pre {margin: 0.2em;color: black;border-radius: 0.25em;background-color: #f0f8ff;}#sk-container-id-2 input.sk-toggleable__control:checked~div.sk-toggleable__content {max-height: 200px;max-width: 100%;overflow: auto;}#sk-container-id-2 input.sk-toggleable__control:checked~label.sk-toggleable__label-arrow:before {content: \"▾\";}#sk-container-id-2 div.sk-estimator input.sk-toggleable__control:checked~label.sk-toggleable__label {background-color: #d4ebff;}#sk-container-id-2 div.sk-label input.sk-toggleable__control:checked~label.sk-toggleable__label {background-color: #d4ebff;}#sk-container-id-2 input.sk-hidden--visually {border: 0;clip: rect(1px 1px 1px 1px);clip: rect(1px, 1px, 1px, 1px);height: 1px;margin: -1px;overflow: hidden;padding: 0;position: absolute;width: 1px;}#sk-container-id-2 div.sk-estimator {font-family: monospace;background-color: #f0f8ff;border: 1px dotted black;border-radius: 0.25em;box-sizing: border-box;margin-bottom: 0.5em;}#sk-container-id-2 div.sk-estimator:hover {background-color: #d4ebff;}#sk-container-id-2 div.sk-parallel-item::after {content: \"\";width: 100%;border-bottom: 1px solid gray;flex-grow: 1;}#sk-container-id-2 div.sk-label:hover label.sk-toggleable__label {background-color: #d4ebff;}#sk-container-id-2 div.sk-serial::before {content: \"\";position: absolute;border-left: 1px solid gray;box-sizing: border-box;top: 0;bottom: 0;left: 50%;z-index: 0;}#sk-container-id-2 div.sk-serial {display: flex;flex-direction: column;align-items: center;background-color: white;padding-right: 0.2em;padding-left: 0.2em;position: relative;}#sk-container-id-2 div.sk-item {position: relative;z-index: 1;}#sk-container-id-2 div.sk-parallel {display: flex;align-items: stretch;justify-content: center;background-color: white;position: relative;}#sk-container-id-2 div.sk-item::before, #sk-container-id-2 div.sk-parallel-item::before {content: \"\";position: absolute;border-left: 1px solid gray;box-sizing: border-box;top: 0;bottom: 0;left: 50%;z-index: -1;}#sk-container-id-2 div.sk-parallel-item {display: flex;flex-direction: column;z-index: 1;position: relative;background-color: white;}#sk-container-id-2 div.sk-parallel-item:first-child::after {align-self: flex-end;width: 50%;}#sk-container-id-2 div.sk-parallel-item:last-child::after {align-self: flex-start;width: 50%;}#sk-container-id-2 div.sk-parallel-item:only-child::after {width: 0;}#sk-container-id-2 div.sk-dashed-wrapped {border: 1px dashed gray;margin: 0 0.4em 0.5em 0.4em;box-sizing: border-box;padding-bottom: 0.4em;background-color: white;}#sk-container-id-2 div.sk-label label {font-family: monospace;font-weight: bold;display: inline-block;line-height: 1.2em;}#sk-container-id-2 div.sk-label-container {text-align: center;}#sk-container-id-2 div.sk-container {/* jupyter's `normalize.less` sets `[hidden] { display: none; }` but bootstrap.min.css set `[hidden] { display: none !important; }` so we also need the `!important` here to be able to override the default hidden behavior on the sphinx rendered scikit-learn.org. See: https://github.com/scikit-learn/scikit-learn/issues/21755 */display: inline-block !important;position: relative;}#sk-container-id-2 div.sk-text-repr-fallback {display: none;}</style><div id=\"sk-container-id-2\" class=\"sk-top-container\"><div class=\"sk-text-repr-fallback\"><pre>RandomForestClassifier(max_depth=4)</pre><b>In a Jupyter environment, please rerun this cell to show the HTML representation or trust the notebook. <br />On GitHub, the HTML representation is unable to render, please try loading this page with nbviewer.org.</b></div><div class=\"sk-container\" hidden><div class=\"sk-item\"><div class=\"sk-estimator sk-toggleable\"><input class=\"sk-toggleable__control sk-hidden--visually\" id=\"sk-estimator-id-2\" type=\"checkbox\" checked><label for=\"sk-estimator-id-2\" class=\"sk-toggleable__label sk-toggleable__label-arrow\">RandomForestClassifier</label><div class=\"sk-toggleable__content\"><pre>RandomForestClassifier(max_depth=4)</pre></div></div></div></div></div>"
      ],
      "text/plain": [
       "RandomForestClassifier(max_depth=4)"
      ]
     },
     "execution_count": 32,
     "metadata": {},
     "output_type": "execute_result"
    }
   ],
   "source": [
    "from sklearn.ensemble import RandomForestClassifier\n",
    "from sklearn.metrics import accuracy_score\n",
    "\n",
    "roll_rfc = RandomForestClassifier(n_estimators=100,max_depth=4)\n",
    "roll_rfc.fit(X_train_roll, y_train_roll)"
   ]
  },
  {
   "cell_type": "code",
   "execution_count": 33,
   "metadata": {},
   "outputs": [
    {
     "name": "stdout",
     "output_type": "stream",
     "text": [
      " The acurracy for Train data is: 84.682 %\n"
     ]
    }
   ],
   "source": [
    "print(f\" The acurracy for Train data is: {round(accuracy_score(y_train_roll,roll_rfc.predict(X_train_roll))*100,3)} %\")"
   ]
  },
  {
   "cell_type": "code",
   "execution_count": 34,
   "metadata": {},
   "outputs": [
    {
     "name": "stdout",
     "output_type": "stream",
     "text": [
      " The acurracy for Test data is: 84.402 %\n"
     ]
    }
   ],
   "source": [
    "print(f\" The acurracy for Test data is: {round(accuracy_score(y_test_roll,roll_rfc.predict(X_test_roll))*100,3)} %\")\n"
   ]
  },
  {
   "cell_type": "markdown",
   "metadata": {},
   "source": [
    "### Neurel Network"
   ]
  },
  {
   "cell_type": "code",
   "execution_count": 47,
   "metadata": {},
   "outputs": [],
   "source": [
    "from tensorflow import keras\n",
    "from tensorflow.keras.models import Sequential,load_model\n",
    "\n",
    "from tensorflow.keras.layers import Dense\n",
    "#from tensorflow.keras.utils import np_utils\n",
    "from tensorflow.keras.callbacks import EarlyStopping,ModelCheckpoint\n",
    "import tensorflow as tf\n",
    "from keras.layers import Dropout\n"
   ]
  },
  {
   "cell_type": "code",
   "execution_count": 48,
   "metadata": {},
   "outputs": [],
   "source": [
    "input_dim = X_train_roll.shape[1]\n",
    "cnn = Sequential()\n",
    "cnn.add(Dense(80, input_dim=input_dim, activation='relu'))\n",
    "#cnn.add(Dropout(0.2))\n",
    "cnn.add(Dense(40, activation='relu'))\n",
    "cnn.add(Dense(20, activation='relu'))\n",
    "#cnn.add(Dropout(0.5))\n",
    "cnn.add(Dense(1, activation='sigmoid'))"
   ]
  },
  {
   "cell_type": "code",
   "execution_count": 49,
   "metadata": {},
   "outputs": [
    {
     "name": "stdout",
     "output_type": "stream",
     "text": [
      "Model: \"sequential_2\"\n",
      "_________________________________________________________________\n",
      " Layer (type)                Output Shape              Param #   \n",
      "=================================================================\n",
      " dense_8 (Dense)             (None, 80)                2320      \n",
      "                                                                 \n",
      " dense_9 (Dense)             (None, 40)                3240      \n",
      "                                                                 \n",
      " dense_10 (Dense)            (None, 20)                820       \n",
      "                                                                 \n",
      " dense_11 (Dense)            (None, 1)                 21        \n",
      "                                                                 \n",
      "=================================================================\n",
      "Total params: 6,401\n",
      "Trainable params: 6,401\n",
      "Non-trainable params: 0\n",
      "_________________________________________________________________\n",
      "None\n"
     ]
    }
   ],
   "source": [
    "print(cnn.summary())"
   ]
  },
  {
   "cell_type": "code",
   "execution_count": 50,
   "metadata": {},
   "outputs": [],
   "source": [
    "opt = keras.optimizers.Adam(learning_rate=0.01)\n",
    "\n",
    "cnn.compile(loss='binary_crossentropy', optimizer=opt, metrics=['accuracy'])"
   ]
  },
  {
   "cell_type": "code",
   "execution_count": 51,
   "metadata": {},
   "outputs": [],
   "source": [
    "X_train_arr = np.asarray(X_train_roll)\n",
    "y_train_arr = np.asarray(y_train_roll)\n",
    "X_test_arr = np.asarray(X_test_roll)\n",
    "y_test_arr = np.asarray(y_test_roll)"
   ]
  },
  {
   "cell_type": "code",
   "execution_count": 52,
   "metadata": {},
   "outputs": [],
   "source": [
    "es = EarlyStopping(monitor='val_loss', mode='min', verbose=1, patience=20)\n",
    "mc = ModelCheckpoint('best_model.h5', monitor='val_accuracy', mode='max', verbose=1, save_best_only=True)"
   ]
  },
  {
   "cell_type": "code",
   "execution_count": 53,
   "metadata": {},
   "outputs": [
    {
     "name": "stdout",
     "output_type": "stream",
     "text": [
      "Epoch 1/100\n",
      "93/94 [============================>.] - ETA: 0s - loss: 0.5934 - accuracy: 0.6890\n",
      "Epoch 1: val_accuracy improved from -inf to 0.71331, saving model to best_model.h5\n",
      "94/94 [==============================] - 4s 16ms/step - loss: 0.5931 - accuracy: 0.6891 - val_loss: 0.5387 - val_accuracy: 0.7133\n",
      "Epoch 2/100\n",
      "87/94 [==========================>...] - ETA: 0s - loss: 0.4207 - accuracy: 0.7898\n",
      "Epoch 2: val_accuracy improved from 0.71331 to 0.78798, saving model to best_model.h5\n",
      "94/94 [==============================] - 1s 10ms/step - loss: 0.4157 - accuracy: 0.7937 - val_loss: 0.4615 - val_accuracy: 0.7880\n",
      "Epoch 3/100\n",
      "93/94 [============================>.] - ETA: 0s - loss: 0.3024 - accuracy: 0.8638\n",
      "Epoch 3: val_accuracy did not improve from 0.78798\n",
      "94/94 [==============================] - 1s 9ms/step - loss: 0.3020 - accuracy: 0.8641 - val_loss: 0.5633 - val_accuracy: 0.7715\n",
      "Epoch 4/100\n",
      "92/94 [============================>.] - ETA: 0s - loss: 0.2293 - accuracy: 0.9006\n",
      "Epoch 4: val_accuracy improved from 0.78798 to 0.81058, saving model to best_model.h5\n",
      "94/94 [==============================] - 1s 14ms/step - loss: 0.2288 - accuracy: 0.9011 - val_loss: 0.4599 - val_accuracy: 0.8106\n",
      "Epoch 5/100\n",
      "90/94 [===========================>..] - ETA: 0s - loss: 0.1671 - accuracy: 0.9312\n",
      "Epoch 5: val_accuracy improved from 0.81058 to 0.82154, saving model to best_model.h5\n",
      "94/94 [==============================] - 1s 12ms/step - loss: 0.1657 - accuracy: 0.9319 - val_loss: 0.5280 - val_accuracy: 0.8215\n",
      "Epoch 6/100\n",
      "88/94 [===========================>..] - ETA: 0s - loss: 0.1440 - accuracy: 0.9427\n",
      "Epoch 6: val_accuracy did not improve from 0.82154\n",
      "94/94 [==============================] - 1s 11ms/step - loss: 0.1411 - accuracy: 0.9438 - val_loss: 0.7469 - val_accuracy: 0.7864\n",
      "Epoch 7/100\n",
      "87/94 [==========================>...] - ETA: 0s - loss: 0.0894 - accuracy: 0.9662\n",
      "Epoch 7: val_accuracy did not improve from 0.82154\n",
      "94/94 [==============================] - 1s 9ms/step - loss: 0.0885 - accuracy: 0.9664 - val_loss: 0.8833 - val_accuracy: 0.7965\n",
      "Epoch 8/100\n",
      "87/94 [==========================>...] - ETA: 0s - loss: 0.0826 - accuracy: 0.9696\n",
      "Epoch 8: val_accuracy did not improve from 0.82154\n",
      "94/94 [==============================] - 1s 9ms/step - loss: 0.0834 - accuracy: 0.9693 - val_loss: 0.8134 - val_accuracy: 0.8202\n",
      "Epoch 9/100\n",
      "94/94 [==============================] - ETA: 0s - loss: 0.0661 - accuracy: 0.9752\n",
      "Epoch 9: val_accuracy did not improve from 0.82154\n",
      "94/94 [==============================] - 1s 11ms/step - loss: 0.0661 - accuracy: 0.9752 - val_loss: 0.8668 - val_accuracy: 0.8188\n",
      "Epoch 10/100\n",
      "94/94 [==============================] - ETA: 0s - loss: 0.0509 - accuracy: 0.9824\n",
      "Epoch 10: val_accuracy improved from 0.82154 to 0.84364, saving model to best_model.h5\n",
      "94/94 [==============================] - 1s 11ms/step - loss: 0.0509 - accuracy: 0.9824 - val_loss: 0.7980 - val_accuracy: 0.8436\n",
      "Epoch 11/100\n",
      "93/94 [============================>.] - ETA: 0s - loss: 0.0473 - accuracy: 0.9837\n",
      "Epoch 11: val_accuracy did not improve from 0.84364\n",
      "94/94 [==============================] - 1s 9ms/step - loss: 0.0473 - accuracy: 0.9836 - val_loss: 0.9789 - val_accuracy: 0.8060\n",
      "Epoch 12/100\n",
      "88/94 [===========================>..] - ETA: 0s - loss: 0.0503 - accuracy: 0.9808\n",
      "Epoch 12: val_accuracy did not improve from 0.84364\n",
      "94/94 [==============================] - 1s 9ms/step - loss: 0.0522 - accuracy: 0.9802 - val_loss: 0.9652 - val_accuracy: 0.8243\n",
      "Epoch 13/100\n",
      "91/94 [============================>.] - ETA: 0s - loss: 0.0706 - accuracy: 0.9745\n",
      "Epoch 13: val_accuracy improved from 0.84364 to 0.85323, saving model to best_model.h5\n",
      "94/94 [==============================] - 1s 10ms/step - loss: 0.0705 - accuracy: 0.9744 - val_loss: 0.6276 - val_accuracy: 0.8532\n",
      "Epoch 14/100\n",
      "88/94 [===========================>..] - ETA: 0s - loss: 0.0440 - accuracy: 0.9848\n",
      "Epoch 14: val_accuracy did not improve from 0.85323\n",
      "94/94 [==============================] - 1s 9ms/step - loss: 0.0444 - accuracy: 0.9849 - val_loss: 0.8556 - val_accuracy: 0.8435\n",
      "Epoch 15/100\n",
      "92/94 [============================>.] - ETA: 0s - loss: 0.0421 - accuracy: 0.9865\n",
      "Epoch 15: val_accuracy did not improve from 0.85323\n",
      "94/94 [==============================] - 1s 12ms/step - loss: 0.0425 - accuracy: 0.9863 - val_loss: 0.8577 - val_accuracy: 0.8529\n",
      "Epoch 16/100\n",
      "89/94 [===========================>..] - ETA: 0s - loss: 0.0358 - accuracy: 0.9874\n",
      "Epoch 16: val_accuracy did not improve from 0.85323\n",
      "94/94 [==============================] - 1s 10ms/step - loss: 0.0350 - accuracy: 0.9878 - val_loss: 0.9869 - val_accuracy: 0.8376\n",
      "Epoch 17/100\n",
      "93/94 [============================>.] - ETA: 0s - loss: 0.0240 - accuracy: 0.9920\n",
      "Epoch 17: val_accuracy did not improve from 0.85323\n",
      "94/94 [==============================] - 1s 8ms/step - loss: 0.0239 - accuracy: 0.9920 - val_loss: 1.0919 - val_accuracy: 0.8262\n",
      "Epoch 18/100\n",
      "91/94 [============================>.] - ETA: 0s - loss: 0.0274 - accuracy: 0.9916\n",
      "Epoch 18: val_accuracy did not improve from 0.85323\n",
      "94/94 [==============================] - 1s 8ms/step - loss: 0.0270 - accuracy: 0.9918 - val_loss: 0.9969 - val_accuracy: 0.8479\n",
      "Epoch 19/100\n",
      "87/94 [==========================>...] - ETA: 0s - loss: 0.0363 - accuracy: 0.9882\n",
      "Epoch 19: val_accuracy did not improve from 0.85323\n",
      "94/94 [==============================] - 1s 8ms/step - loss: 0.0362 - accuracy: 0.9884 - val_loss: 0.9938 - val_accuracy: 0.8361\n",
      "Epoch 20/100\n",
      "91/94 [============================>.] - ETA: 0s - loss: 0.0215 - accuracy: 0.9940\n",
      "Epoch 20: val_accuracy did not improve from 0.85323\n",
      "94/94 [==============================] - 1s 16ms/step - loss: 0.0218 - accuracy: 0.9939 - val_loss: 0.9885 - val_accuracy: 0.8166\n",
      "Epoch 21/100\n",
      "91/94 [============================>.] - ETA: 0s - loss: 0.0223 - accuracy: 0.9927\n",
      "Epoch 21: val_accuracy did not improve from 0.85323\n",
      "94/94 [==============================] - 1s 9ms/step - loss: 0.0227 - accuracy: 0.9925 - val_loss: 1.0994 - val_accuracy: 0.8173\n",
      "Epoch 22/100\n",
      "91/94 [============================>.] - ETA: 0s - loss: 0.0282 - accuracy: 0.9915\n",
      "Epoch 22: val_accuracy did not improve from 0.85323\n",
      "94/94 [==============================] - 1s 8ms/step - loss: 0.0280 - accuracy: 0.9914 - val_loss: 1.5036 - val_accuracy: 0.8029\n",
      "Epoch 23/100\n",
      "86/94 [==========================>...] - ETA: 0s - loss: 0.0311 - accuracy: 0.9903\n",
      "Epoch 23: val_accuracy did not improve from 0.85323\n",
      "94/94 [==============================] - 1s 9ms/step - loss: 0.0309 - accuracy: 0.9902 - val_loss: 1.3341 - val_accuracy: 0.8334\n",
      "Epoch 24/100\n",
      "87/94 [==========================>...] - ETA: 0s - loss: 0.0322 - accuracy: 0.9901\n",
      "Epoch 24: val_accuracy did not improve from 0.85323\n",
      "94/94 [==============================] - 1s 8ms/step - loss: 0.0317 - accuracy: 0.9902 - val_loss: 0.9355 - val_accuracy: 0.8382\n",
      "Epoch 24: early stopping\n"
     ]
    }
   ],
   "source": [
    "history = cnn.fit(X_train_arr, y_train_arr, epochs=100, batch_size=250,callbacks=[es,mc]\n",
    "                  ,validation_split=0.2)\n"
   ]
  },
  {
   "cell_type": "code",
   "execution_count": 54,
   "metadata": {},
   "outputs": [
    {
     "data": {
      "image/png": "[encoded data removed]",
      "text/plain": [
       "<Figure size 640x480 with 1 Axes>"
      ]
     },
     "metadata": {},
     "output_type": "display_data"
    }
   ],
   "source": [
    "history_df = pd.DataFrame(history.history)\n",
    "history_df.loc[:, ['loss',\"val_loss\"]].plot()\n",
    "plt.show()"
   ]
  },
  {
   "cell_type": "markdown",
   "metadata": {},
   "source": [
    "#### Evaluation"
   ]
  },
  {
   "cell_type": "markdown",
   "metadata": {},
   "source": [
    "- Evaluate best model which was monitored and saved"
   ]
  },
  {
   "cell_type": "code",
   "execution_count": 55,
   "metadata": {},
   "outputs": [
    {
     "name": "stdout",
     "output_type": "stream",
     "text": [
      "Train: 95.39, Test: 80.02\n"
     ]
    }
   ],
   "source": [
    "best_saved_model = load_model('best_model.h5')\n",
    "_, train_acc = best_saved_model.evaluate(X_train_arr, y_train_arr, verbose=0)\n",
    "_, test_acc = best_saved_model.evaluate(X_test_arr, y_test_arr, verbose=0)\n",
    "print('Train: %.2f, Test: %.2f' % (train_acc*100, test_acc*100))"
   ]
  },
  {
   "cell_type": "code",
   "execution_count": 56,
   "metadata": {},
   "outputs": [
    {
     "name": "stdout",
     "output_type": "stream",
     "text": [
      "745/745 [==============================] - 4s 4ms/step\n",
      "mean absolute error is 0.205\n"
     ]
    }
   ],
   "source": [
    "from sklearn.metrics import mean_absolute_error\n",
    "best_model_predictions = best_saved_model.predict(X_test_arr)\n",
    "mae = round(mean_absolute_error(y_test_roll, best_model_predictions),3)\n",
    "print(\"mean absolute error is\",mae)"
   ]
  },
  {
   "cell_type": "code",
   "execution_count": 57,
   "metadata": {},
   "outputs": [],
   "source": [
    "# convert predicted label rom analog to binary value\n",
    "bin_best_model_predictions=[]\n",
    "for val in best_model_predictions:\n",
    "    if val >=0.5:\n",
    "        bin_best_model_predictions.append(1)\n",
    "    else:\n",
    "        bin_best_model_predictions.append(0)"
   ]
  },
  {
   "cell_type": "code",
   "execution_count": 58,
   "metadata": {},
   "outputs": [
    {
     "data": {
      "image/png": "[encoded data removed]",
      "text/plain": [
       "<Figure size 640x480 with 2 Axes>"
      ]
     },
     "metadata": {},
     "output_type": "display_data"
    }
   ],
   "source": [
    "from sklearn.metrics import confusion_matrix\n",
    "from sklearn.metrics import ConfusionMatrixDisplay\n",
    "from matplotlib import pyplot as plt\n",
    "\n",
    "conf_mat = confusion_matrix(bin_best_model_predictions, y_test_roll)\n",
    "conf_mat_disp = ConfusionMatrixDisplay(confusion_matrix=conf_mat)\n",
    "conf_mat_disp.plot(cmap='Greens')\n",
    "plt.show()"
   ]
  }
 ],
 "metadata": {
  "kernelspec": {
   "display_name": "Python 3",
   "language": "python",
   "name": "python3"
  },
  "language_info": {
   "codemirror_mode": {
    "name": "ipython",
    "version": 3
   },
   "file_extension": ".py",
   "mimetype": "text/x-python",
   "name": "python",
   "nbconvert_exporter": "python",
   "pygments_lexer": "ipython3",
   "version": "3.10.9"
  },
  "orig_nbformat": 4,
  "vscode": {
   "interpreter": {
    "hash": "81794d4967e6c3204c66dcd87b604927b115b27c00565d3d43f05ba2f3a2cb0d"
   }
  }
 },
 "nbformat": 4,
 "nbformat_minor": 2
}
