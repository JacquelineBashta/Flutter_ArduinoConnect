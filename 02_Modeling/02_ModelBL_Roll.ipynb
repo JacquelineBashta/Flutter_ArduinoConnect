{
 "cells": [
  {
   "cell_type": "code",
   "execution_count": 12,
   "metadata": {},
   "outputs": [],
   "source": [
    "import pandas as pd\n",
    "import matplotlib.pyplot as plt\n",
    "import seaborn as sns\n",
    "import numpy as np\n",
    "\n",
    "sns.set_style(\"darkgrid\")\n",
    "\n",
    "import common_functions as cf"
   ]
  },
  {
   "attachments": {},
   "cell_type": "markdown",
   "metadata": {},
   "source": [
    "## Import Data"
   ]
  },
  {
   "cell_type": "code",
   "execution_count": 13,
   "metadata": {},
   "outputs": [],
   "source": [
    "df_all = pd.read_pickle(\"merged_df.pkl\")"
   ]
  },
  {
   "attachments": {},
   "cell_type": "markdown",
   "metadata": {},
   "source": [
    "# Feature engineering (basic)"
   ]
  },
  {
   "cell_type": "code",
   "execution_count": 14,
   "metadata": {},
   "outputs": [],
   "source": [
    "df_fe = cf.fe_basic_features(df_all)"
   ]
  },
  {
   "attachments": {},
   "cell_type": "markdown",
   "metadata": {},
   "source": [
    "# Feature engineering (Rolling)\n",
    "rolling function takes an amount of directly preceding values to generate stuff like mean, median etc. So for my later input data, I don't need anything else than a set of preceding motion data."
   ]
  },
  {
   "cell_type": "code",
   "execution_count": 15,
   "metadata": {},
   "outputs": [],
   "source": [
    "ROLL_STEPS = 100"
   ]
  },
  {
   "cell_type": "code",
   "execution_count": 16,
   "metadata": {},
   "outputs": [],
   "source": [
    "roll_df =  cf.fe_roll_features(df_fe,ROLL_STEPS)"
   ]
  },
  {
   "attachments": {},
   "cell_type": "markdown",
   "metadata": {},
   "source": [
    "## Data Splitting(Test/train)"
   ]
  },
  {
   "cell_type": "code",
   "execution_count": 19,
   "metadata": {},
   "outputs": [],
   "source": [
    "train_df_roll,test_df_roll = cf.data_split_TrainTest(roll_df)"
   ]
  },
  {
   "attachments": {},
   "cell_type": "markdown",
   "metadata": {},
   "source": [
    "## Preprocess (Normalizing)"
   ]
  },
  {
   "cell_type": "code",
   "execution_count": 21,
   "metadata": {},
   "outputs": [],
   "source": [
    "from sklearn.preprocessing import StandardScaler\n",
    "\n",
    "for act_num in train_df_roll.action_num.unique():\n",
    "    std = StandardScaler().set_output(transform='pandas')\n",
    "    std.fit(train_df_roll.loc[train_df_roll.action_num == act_num,:\"rotR_z_rmed\"])\n",
    "    train_df_roll.loc[train_df_roll.action_num == act_num,:\"rotR_z_rmed\"] = std.transform(train_df_roll.loc[train_df_roll.action_num == act_num,:\"rotR_z_rmed\"])\n",
    "\n",
    "\n",
    "for act_num in test_df_roll.action_num.unique():\n",
    "    std = StandardScaler().set_output(transform='pandas')\n",
    "    std.fit(test_df_roll.loc[test_df_roll.action_num == act_num,:\"rotR_z_rmed\"])\n",
    "    test_df_roll.loc[test_df_roll.action_num == act_num,:\"rotR_z_rmed\"] = std.transform(test_df_roll.loc[test_df_roll.action_num == act_num,:\"rotR_z_rmed\"])"
   ]
  },
  {
   "cell_type": "code",
   "execution_count": 25,
   "metadata": {},
   "outputs": [],
   "source": [
    "#X_train_roll = cf.pre_normalize_tanh(X_train_roll)\n",
    "#X_test_roll = cf.pre_normalize_tanh(X_test_roll)"
   ]
  },
  {
   "cell_type": "markdown",
   "metadata": {},
   "source": [
    "## Modeling"
   ]
  },
  {
   "attachments": {},
   "cell_type": "markdown",
   "metadata": {},
   "source": [
    "### Split Data (Feature/Label)"
   ]
  },
  {
   "cell_type": "code",
   "execution_count": 23,
   "metadata": {},
   "outputs": [],
   "source": [
    "X_train_roll,y_train_roll = cf.data_split_FeatLabel(train_df_roll)\n",
    "X_test_roll,y_test_roll = cf.data_split_FeatLabel(test_df_roll)"
   ]
  },
  {
   "cell_type": "markdown",
   "metadata": {},
   "source": [
    "### Neurel Network"
   ]
  },
  {
   "cell_type": "code",
   "execution_count": 28,
   "metadata": {},
   "outputs": [],
   "source": [
    "from tensorflow import keras\n",
    "from tensorflow.keras.models import Sequential,load_model\n",
    "from tensorflow.keras.layers import Dense,Dropout,BatchNormalization\n",
    "from tensorflow.keras.callbacks import EarlyStopping,ModelCheckpoint\n",
    "\n",
    "from sklearn.model_selection import train_test_split\n",
    "from sklearn.metrics import mean_absolute_error\n",
    "\n",
    "\n",
    "import tensorflow as tf\n",
    "import sklearn\n",
    "tf.random.set_seed(20) # to fix the randomization\n",
    "import numpy as np\n",
    "np.random.seed(20)# to fix the randomizationin sklearn\n",
    "sklearn.random.seed(1)"
   ]
  },
  {
   "cell_type": "code",
   "execution_count": 29,
   "metadata": {},
   "outputs": [],
   "source": [
    "input_dim = X_train_roll.shape[1]\n",
    "cnn = Sequential()\n",
    "cnn.add(Dense(80, input_dim=input_dim, activation='relu'))\n",
    "cnn.add(Dropout(rate =0.2)) # drop some of the neurals in the back prop. analysis to avoid overfitting\n",
    "cnn.add(BatchNormalization())\n",
    "cnn.add(Dense(40, activation='relu'))\n",
    "cnn.add(Dropout(rate =0.5))\n",
    "cnn.add(BatchNormalization())\n",
    "cnn.add(Dense(20, activation='relu'))\n",
    "cnn.add(Dropout(rate =0.2))\n",
    "cnn.add(BatchNormalization())\n",
    "cnn.add(Dense(1, activation='sigmoid'))"
   ]
  },
  {
   "cell_type": "code",
   "execution_count": 30,
   "metadata": {},
   "outputs": [
    {
     "name": "stdout",
     "output_type": "stream",
     "text": [
      "Model: \"sequential\"\n",
      "_________________________________________________________________\n",
      " Layer (type)                Output Shape              Param #   \n",
      "=================================================================\n",
      " dense (Dense)               (None, 80)                2320      \n",
      "                                                                 \n",
      " dropout (Dropout)           (None, 80)                0         \n",
      "                                                                 \n",
      " batch_normalization (BatchN  (None, 80)               320       \n",
      " ormalization)                                                   \n",
      "                                                                 \n",
      " dense_1 (Dense)             (None, 40)                3240      \n",
      "                                                                 \n",
      " dropout_1 (Dropout)         (None, 40)                0         \n",
      "                                                                 \n",
      " batch_normalization_1 (Batc  (None, 40)               160       \n",
      " hNormalization)                                                 \n",
      "                                                                 \n",
      " dense_2 (Dense)             (None, 20)                820       \n",
      "                                                                 \n",
      " dropout_2 (Dropout)         (None, 20)                0         \n",
      "                                                                 \n",
      " batch_normalization_2 (Batc  (None, 20)               80        \n",
      " hNormalization)                                                 \n",
      "                                                                 \n",
      " dense_3 (Dense)             (None, 1)                 21        \n",
      "                                                                 \n",
      "=================================================================\n",
      "Total params: 6,961\n",
      "Trainable params: 6,681\n",
      "Non-trainable params: 280\n",
      "_________________________________________________________________\n",
      "None\n"
     ]
    }
   ],
   "source": [
    "print(cnn.summary())"
   ]
  },
  {
   "cell_type": "code",
   "execution_count": 31,
   "metadata": {},
   "outputs": [],
   "source": [
    "opt = keras.optimizers.Adam(learning_rate=0.02)\n",
    "\n",
    "cnn.compile(loss='binary_crossentropy', optimizer=opt, metrics=['accuracy'])\n",
    "\n",
    "X_train, val_X, y_train, val_y = train_test_split(X_train_roll, y_train_roll, shuffle=True,test_size=0.2 )"
   ]
  },
  {
   "cell_type": "code",
   "execution_count": 32,
   "metadata": {},
   "outputs": [],
   "source": [
    "X_train_arr = np.asarray(X_train_roll)\n",
    "y_train_arr = np.asarray(y_train_roll)\n",
    "X_test_arr = np.asarray(X_test_roll)\n",
    "y_test_arr = np.asarray(y_test_roll)\n",
    "val_X =  np.asarray(val_X)\n",
    "val_y =  np.asarray(val_y)"
   ]
  },
  {
   "cell_type": "code",
   "execution_count": 33,
   "metadata": {},
   "outputs": [],
   "source": [
    "es = EarlyStopping(monitor='val_loss', mode='min', verbose=1, patience=20)\n",
    "mc = ModelCheckpoint('best_model.h5', monitor='val_accuracy', mode='max', verbose=1, save_best_only=True)"
   ]
  },
  {
   "cell_type": "code",
   "execution_count": 34,
   "metadata": {},
   "outputs": [
    {
     "name": "stdout",
     "output_type": "stream",
     "text": [
      "Epoch 1/100\n",
      "115/117 [============================>.] - ETA: 0s - loss: 0.4360 - accuracy: 0.7902\n",
      "Epoch 1: val_accuracy improved from -inf to 0.93081, saving model to best_model.h5\n",
      "117/117 [==============================] - 8s 22ms/step - loss: 0.4335 - accuracy: 0.7917 - val_loss: 0.1772 - val_accuracy: 0.9308\n",
      "Epoch 2/100\n",
      "115/117 [============================>.] - ETA: 0s - loss: 0.2526 - accuracy: 0.8967\n",
      "Epoch 2: val_accuracy improved from 0.93081 to 0.94759, saving model to best_model.h5\n",
      "117/117 [==============================] - 2s 21ms/step - loss: 0.2524 - accuracy: 0.8967 - val_loss: 0.1245 - val_accuracy: 0.9476\n",
      "Epoch 3/100\n",
      "112/117 [===========================>..] - ETA: 0s - loss: 0.1926 - accuracy: 0.9250\n",
      "Epoch 3: val_accuracy improved from 0.94759 to 0.97791, saving model to best_model.h5\n",
      "117/117 [==============================] - 1s 12ms/step - loss: 0.1927 - accuracy: 0.9250 - val_loss: 0.0738 - val_accuracy: 0.9779\n",
      "Epoch 4/100\n",
      "115/117 [============================>.] - ETA: 0s - loss: 0.1614 - accuracy: 0.9383\n",
      "Epoch 4: val_accuracy did not improve from 0.97791\n",
      "117/117 [==============================] - 1s 11ms/step - loss: 0.1615 - accuracy: 0.9382 - val_loss: 0.0717 - val_accuracy: 0.9772\n",
      "Epoch 5/100\n",
      "116/117 [============================>.] - ETA: 0s - loss: 0.1508 - accuracy: 0.9445\n",
      "Epoch 5: val_accuracy improved from 0.97791 to 0.98476, saving model to best_model.h5\n",
      "117/117 [==============================] - 1s 10ms/step - loss: 0.1503 - accuracy: 0.9447 - val_loss: 0.0486 - val_accuracy: 0.9848\n",
      "Epoch 6/100\n",
      "111/117 [===========================>..] - ETA: 0s - loss: 0.1246 - accuracy: 0.9545\n",
      "Epoch 6: val_accuracy improved from 0.98476 to 0.98493, saving model to best_model.h5\n",
      "117/117 [==============================] - 2s 17ms/step - loss: 0.1238 - accuracy: 0.9550 - val_loss: 0.0473 - val_accuracy: 0.9849\n",
      "Epoch 7/100\n",
      "116/117 [============================>.] - ETA: 0s - loss: 0.1232 - accuracy: 0.9556\n",
      "Epoch 7: val_accuracy did not improve from 0.98493\n",
      "117/117 [==============================] - 2s 16ms/step - loss: 0.1235 - accuracy: 0.9554 - val_loss: 0.0754 - val_accuracy: 0.9711\n",
      "Epoch 8/100\n",
      "114/117 [============================>.] - ETA: 0s - loss: 0.1096 - accuracy: 0.9611\n",
      "Epoch 8: val_accuracy did not improve from 0.98493\n",
      "117/117 [==============================] - 1s 9ms/step - loss: 0.1089 - accuracy: 0.9612 - val_loss: 0.0512 - val_accuracy: 0.9842\n",
      "Epoch 9/100\n",
      "117/117 [==============================] - ETA: 0s - loss: 0.1021 - accuracy: 0.9638\n",
      "Epoch 9: val_accuracy improved from 0.98493 to 0.98750, saving model to best_model.h5\n",
      "117/117 [==============================] - 1s 10ms/step - loss: 0.1021 - accuracy: 0.9638 - val_loss: 0.0307 - val_accuracy: 0.9875\n",
      "Epoch 10/100\n",
      "114/117 [============================>.] - ETA: 0s - loss: 0.0962 - accuracy: 0.9674\n",
      "Epoch 10: val_accuracy improved from 0.98750 to 0.99606, saving model to best_model.h5\n",
      "117/117 [==============================] - 2s 14ms/step - loss: 0.0956 - accuracy: 0.9676 - val_loss: 0.0176 - val_accuracy: 0.9961\n",
      "Epoch 11/100\n",
      "116/117 [============================>.] - ETA: 0s - loss: 0.0959 - accuracy: 0.9648\n",
      "Epoch 11: val_accuracy did not improve from 0.99606\n",
      "117/117 [==============================] - 1s 10ms/step - loss: 0.0958 - accuracy: 0.9648 - val_loss: 0.0250 - val_accuracy: 0.9916\n",
      "Epoch 12/100\n",
      "115/117 [============================>.] - ETA: 0s - loss: 0.0914 - accuracy: 0.9679\n",
      "Epoch 12: val_accuracy did not improve from 0.99606\n",
      "117/117 [==============================] - 1s 12ms/step - loss: 0.0915 - accuracy: 0.9679 - val_loss: 0.0204 - val_accuracy: 0.9925\n",
      "Epoch 13/100\n",
      "117/117 [==============================] - ETA: 0s - loss: 0.0865 - accuracy: 0.9705\n",
      "Epoch 13: val_accuracy did not improve from 0.99606\n",
      "117/117 [==============================] - 2s 20ms/step - loss: 0.0865 - accuracy: 0.9705 - val_loss: 0.0366 - val_accuracy: 0.9872\n",
      "Epoch 14/100\n",
      "117/117 [==============================] - ETA: 0s - loss: 0.0851 - accuracy: 0.9714\n",
      "Epoch 14: val_accuracy did not improve from 0.99606\n",
      "117/117 [==============================] - 1s 12ms/step - loss: 0.0851 - accuracy: 0.9714 - val_loss: 0.0206 - val_accuracy: 0.9947\n",
      "Epoch 15/100\n",
      "114/117 [============================>.] - ETA: 0s - loss: 0.0803 - accuracy: 0.9717\n",
      "Epoch 15: val_accuracy did not improve from 0.99606\n",
      "117/117 [==============================] - 2s 14ms/step - loss: 0.0802 - accuracy: 0.9716 - val_loss: 0.0286 - val_accuracy: 0.9930\n",
      "Epoch 16/100\n",
      "114/117 [============================>.] - ETA: 0s - loss: 0.0827 - accuracy: 0.9702\n",
      "Epoch 16: val_accuracy did not improve from 0.99606\n",
      "117/117 [==============================] - 1s 11ms/step - loss: 0.0824 - accuracy: 0.9704 - val_loss: 0.0221 - val_accuracy: 0.9943\n",
      "Epoch 17/100\n",
      "117/117 [==============================] - ETA: 0s - loss: 0.0762 - accuracy: 0.9736\n",
      "Epoch 17: val_accuracy improved from 0.99606 to 0.99709, saving model to best_model.h5\n",
      "117/117 [==============================] - 1s 13ms/step - loss: 0.0762 - accuracy: 0.9736 - val_loss: 0.0153 - val_accuracy: 0.9971\n",
      "Epoch 18/100\n",
      "113/117 [===========================>..] - ETA: 0s - loss: 0.0760 - accuracy: 0.9748\n",
      "Epoch 18: val_accuracy improved from 0.99709 to 0.99829, saving model to best_model.h5\n",
      "117/117 [==============================] - 2s 17ms/step - loss: 0.0766 - accuracy: 0.9748 - val_loss: 0.0119 - val_accuracy: 0.9983\n",
      "Epoch 19/100\n",
      "115/117 [============================>.] - ETA: 0s - loss: 0.0752 - accuracy: 0.9753\n",
      "Epoch 19: val_accuracy did not improve from 0.99829\n",
      "117/117 [==============================] - 3s 24ms/step - loss: 0.0748 - accuracy: 0.9755 - val_loss: 0.0207 - val_accuracy: 0.9928\n",
      "Epoch 20/100\n",
      "114/117 [============================>.] - ETA: 0s - loss: 0.0718 - accuracy: 0.9748\n",
      "Epoch 20: val_accuracy did not improve from 0.99829\n",
      "117/117 [==============================] - 2s 20ms/step - loss: 0.0720 - accuracy: 0.9747 - val_loss: 0.0166 - val_accuracy: 0.9959\n",
      "Epoch 21/100\n",
      "114/117 [============================>.] - ETA: 0s - loss: 0.0688 - accuracy: 0.9759\n",
      "Epoch 21: val_accuracy did not improve from 0.99829\n",
      "117/117 [==============================] - 2s 15ms/step - loss: 0.0687 - accuracy: 0.9759 - val_loss: 0.0132 - val_accuracy: 0.9961\n",
      "Epoch 22/100\n",
      "116/117 [============================>.] - ETA: 0s - loss: 0.0748 - accuracy: 0.9749\n",
      "Epoch 22: val_accuracy did not improve from 0.99829\n",
      "117/117 [==============================] - 1s 11ms/step - loss: 0.0747 - accuracy: 0.9749 - val_loss: 0.0148 - val_accuracy: 0.9964\n",
      "Epoch 23/100\n",
      "117/117 [==============================] - ETA: 0s - loss: 0.0727 - accuracy: 0.9755\n",
      "Epoch 23: val_accuracy did not improve from 0.99829\n",
      "117/117 [==============================] - 2s 18ms/step - loss: 0.0727 - accuracy: 0.9755 - val_loss: 0.0123 - val_accuracy: 0.9966\n",
      "Epoch 24/100\n",
      "114/117 [============================>.] - ETA: 0s - loss: 0.0719 - accuracy: 0.9761\n",
      "Epoch 24: val_accuracy did not improve from 0.99829\n",
      "117/117 [==============================] - 1s 12ms/step - loss: 0.0717 - accuracy: 0.9763 - val_loss: 0.0111 - val_accuracy: 0.9979\n",
      "Epoch 25/100\n",
      "117/117 [==============================] - ETA: 0s - loss: 0.0689 - accuracy: 0.9772\n",
      "Epoch 25: val_accuracy did not improve from 0.99829\n",
      "117/117 [==============================] - 1s 10ms/step - loss: 0.0689 - accuracy: 0.9772 - val_loss: 0.0119 - val_accuracy: 0.9966\n",
      "Epoch 26/100\n",
      "115/117 [============================>.] - ETA: 0s - loss: 0.0667 - accuracy: 0.9776\n",
      "Epoch 26: val_accuracy did not improve from 0.99829\n",
      "117/117 [==============================] - 1s 12ms/step - loss: 0.0670 - accuracy: 0.9776 - val_loss: 0.0131 - val_accuracy: 0.9959\n",
      "Epoch 27/100\n",
      "113/117 [===========================>..] - ETA: 0s - loss: 0.0622 - accuracy: 0.9786\n",
      "Epoch 27: val_accuracy did not improve from 0.99829\n",
      "117/117 [==============================] - 1s 10ms/step - loss: 0.0626 - accuracy: 0.9784 - val_loss: 0.0609 - val_accuracy: 0.9801\n",
      "Epoch 28/100\n",
      "114/117 [============================>.] - ETA: 0s - loss: 0.0656 - accuracy: 0.9779\n",
      "Epoch 28: val_accuracy did not improve from 0.99829\n",
      "117/117 [==============================] - 1s 11ms/step - loss: 0.0652 - accuracy: 0.9780 - val_loss: 0.0079 - val_accuracy: 0.9983\n",
      "Epoch 29/100\n",
      "112/117 [===========================>..] - ETA: 0s - loss: 0.0605 - accuracy: 0.9803\n",
      "Epoch 29: val_accuracy did not improve from 0.99829\n",
      "117/117 [==============================] - 1s 9ms/step - loss: 0.0612 - accuracy: 0.9802 - val_loss: 0.0100 - val_accuracy: 0.9979\n",
      "Epoch 30/100\n",
      "114/117 [============================>.] - ETA: 0s - loss: 0.0558 - accuracy: 0.9812\n",
      "Epoch 30: val_accuracy did not improve from 0.99829\n",
      "117/117 [==============================] - 2s 13ms/step - loss: 0.0559 - accuracy: 0.9812 - val_loss: 0.0125 - val_accuracy: 0.9961\n",
      "Epoch 31/100\n",
      "115/117 [============================>.] - ETA: 0s - loss: 0.0658 - accuracy: 0.9784\n",
      "Epoch 31: val_accuracy did not improve from 0.99829\n",
      "117/117 [==============================] - 1s 10ms/step - loss: 0.0657 - accuracy: 0.9785 - val_loss: 0.0116 - val_accuracy: 0.9971\n",
      "Epoch 32/100\n",
      "117/117 [==============================] - ETA: 0s - loss: 0.0641 - accuracy: 0.9784\n",
      "Epoch 32: val_accuracy did not improve from 0.99829\n",
      "117/117 [==============================] - 1s 12ms/step - loss: 0.0641 - accuracy: 0.9784 - val_loss: 0.0156 - val_accuracy: 0.9967\n",
      "Epoch 33/100\n",
      "114/117 [============================>.] - ETA: 0s - loss: 0.0547 - accuracy: 0.9813\n",
      "Epoch 33: val_accuracy did not improve from 0.99829\n",
      "117/117 [==============================] - 1s 12ms/step - loss: 0.0557 - accuracy: 0.9810 - val_loss: 0.0112 - val_accuracy: 0.9976\n",
      "Epoch 34/100\n",
      "111/117 [===========================>..] - ETA: 0s - loss: 0.0572 - accuracy: 0.9818\n",
      "Epoch 34: val_accuracy improved from 0.99829 to 0.99914, saving model to best_model.h5\n",
      "117/117 [==============================] - 1s 11ms/step - loss: 0.0574 - accuracy: 0.9817 - val_loss: 0.0066 - val_accuracy: 0.9991\n",
      "Epoch 35/100\n",
      "113/117 [===========================>..] - ETA: 0s - loss: 0.0577 - accuracy: 0.9811\n",
      "Epoch 35: val_accuracy did not improve from 0.99914\n",
      "117/117 [==============================] - 2s 17ms/step - loss: 0.0589 - accuracy: 0.9806 - val_loss: 0.0303 - val_accuracy: 0.9902\n",
      "Epoch 36/100\n",
      "111/117 [===========================>..] - ETA: 0s - loss: 0.0593 - accuracy: 0.9805\n",
      "Epoch 36: val_accuracy did not improve from 0.99914\n",
      "117/117 [==============================] - 1s 9ms/step - loss: 0.0590 - accuracy: 0.9805 - val_loss: 0.0096 - val_accuracy: 0.9973\n",
      "Epoch 37/100\n",
      "114/117 [============================>.] - ETA: 0s - loss: 0.0572 - accuracy: 0.9814\n",
      "Epoch 37: val_accuracy did not improve from 0.99914\n",
      "117/117 [==============================] - 1s 9ms/step - loss: 0.0571 - accuracy: 0.9814 - val_loss: 0.0084 - val_accuracy: 0.9991\n",
      "Epoch 38/100\n",
      "116/117 [============================>.] - ETA: 0s - loss: 0.0555 - accuracy: 0.9814\n",
      "Epoch 38: val_accuracy did not improve from 0.99914\n",
      "117/117 [==============================] - 1s 12ms/step - loss: 0.0555 - accuracy: 0.9814 - val_loss: 0.0082 - val_accuracy: 0.9986\n",
      "Epoch 39/100\n",
      "113/117 [===========================>..] - ETA: 0s - loss: 0.0579 - accuracy: 0.9806\n",
      "Epoch 39: val_accuracy did not improve from 0.99914\n",
      "117/117 [==============================] - 1s 10ms/step - loss: 0.0580 - accuracy: 0.9806 - val_loss: 0.0089 - val_accuracy: 0.9986\n",
      "Epoch 40/100\n",
      "115/117 [============================>.] - ETA: 0s - loss: 0.0550 - accuracy: 0.9812\n",
      "Epoch 40: val_accuracy did not improve from 0.99914\n",
      "117/117 [==============================] - 1s 12ms/step - loss: 0.0545 - accuracy: 0.9815 - val_loss: 0.0115 - val_accuracy: 0.9976\n",
      "Epoch 41/100\n",
      "117/117 [==============================] - ETA: 0s - loss: 0.0532 - accuracy: 0.9830\n",
      "Epoch 41: val_accuracy did not improve from 0.99914\n",
      "117/117 [==============================] - 1s 12ms/step - loss: 0.0532 - accuracy: 0.9830 - val_loss: 0.0069 - val_accuracy: 0.9986\n",
      "Epoch 42/100\n",
      "115/117 [============================>.] - ETA: 0s - loss: 0.0538 - accuracy: 0.9820\n",
      "Epoch 42: val_accuracy did not improve from 0.99914\n",
      "117/117 [==============================] - 2s 18ms/step - loss: 0.0541 - accuracy: 0.9818 - val_loss: 0.0105 - val_accuracy: 0.9979\n",
      "Epoch 43/100\n",
      "112/117 [===========================>..] - ETA: 0s - loss: 0.0534 - accuracy: 0.9826\n",
      "Epoch 43: val_accuracy did not improve from 0.99914\n",
      "117/117 [==============================] - 1s 11ms/step - loss: 0.0537 - accuracy: 0.9824 - val_loss: 0.0069 - val_accuracy: 0.9990\n",
      "Epoch 44/100\n",
      "112/117 [===========================>..] - ETA: 0s - loss: 0.0551 - accuracy: 0.9820\n",
      "Epoch 44: val_accuracy did not improve from 0.99914\n",
      "117/117 [==============================] - 1s 11ms/step - loss: 0.0549 - accuracy: 0.9821 - val_loss: 0.0116 - val_accuracy: 0.9974\n",
      "Epoch 45/100\n",
      "117/117 [==============================] - ETA: 0s - loss: 0.0543 - accuracy: 0.9824\n",
      "Epoch 45: val_accuracy did not improve from 0.99914\n",
      "117/117 [==============================] - 1s 11ms/step - loss: 0.0543 - accuracy: 0.9824 - val_loss: 0.0079 - val_accuracy: 0.9991\n",
      "Epoch 46/100\n",
      "113/117 [===========================>..] - ETA: 0s - loss: 0.0491 - accuracy: 0.9845\n",
      "Epoch 46: val_accuracy did not improve from 0.99914\n",
      "117/117 [==============================] - 2s 16ms/step - loss: 0.0498 - accuracy: 0.9843 - val_loss: 0.0169 - val_accuracy: 0.9962\n",
      "Epoch 47/100\n",
      "112/117 [===========================>..] - ETA: 0s - loss: 0.0516 - accuracy: 0.9835\n",
      "Epoch 47: val_accuracy did not improve from 0.99914\n",
      "117/117 [==============================] - 2s 13ms/step - loss: 0.0510 - accuracy: 0.9839 - val_loss: 0.0063 - val_accuracy: 0.9985\n",
      "Epoch 48/100\n",
      "117/117 [==============================] - ETA: 0s - loss: 0.0533 - accuracy: 0.9829\n",
      "Epoch 48: val_accuracy did not improve from 0.99914\n",
      "117/117 [==============================] - 1s 12ms/step - loss: 0.0533 - accuracy: 0.9829 - val_loss: 0.0040 - val_accuracy: 0.9991\n",
      "Epoch 49/100\n",
      "116/117 [============================>.] - ETA: 0s - loss: 0.0503 - accuracy: 0.9834\n",
      "Epoch 49: val_accuracy did not improve from 0.99914\n",
      "117/117 [==============================] - 1s 11ms/step - loss: 0.0505 - accuracy: 0.9834 - val_loss: 0.0120 - val_accuracy: 0.9969\n",
      "Epoch 50/100\n",
      "117/117 [==============================] - ETA: 0s - loss: 0.0478 - accuracy: 0.9841\n",
      "Epoch 50: val_accuracy did not improve from 0.99914\n",
      "117/117 [==============================] - 1s 12ms/step - loss: 0.0478 - accuracy: 0.9841 - val_loss: 0.0094 - val_accuracy: 0.9976\n",
      "Epoch 51/100\n",
      "113/117 [===========================>..] - ETA: 0s - loss: 0.0486 - accuracy: 0.9843\n",
      "Epoch 51: val_accuracy improved from 0.99914 to 0.99931, saving model to best_model.h5\n",
      "117/117 [==============================] - 2s 18ms/step - loss: 0.0485 - accuracy: 0.9844 - val_loss: 0.0066 - val_accuracy: 0.9993\n",
      "Epoch 52/100\n",
      "115/117 [============================>.] - ETA: 0s - loss: 0.0503 - accuracy: 0.9840\n",
      "Epoch 52: val_accuracy improved from 0.99931 to 1.00000, saving model to best_model.h5\n",
      "117/117 [==============================] - 2s 14ms/step - loss: 0.0504 - accuracy: 0.9840 - val_loss: 0.0037 - val_accuracy: 1.0000\n",
      "Epoch 53/100\n",
      "113/117 [===========================>..] - ETA: 0s - loss: 0.0475 - accuracy: 0.9848\n",
      "Epoch 53: val_accuracy did not improve from 1.00000\n",
      "117/117 [==============================] - 1s 10ms/step - loss: 0.0471 - accuracy: 0.9849 - val_loss: 0.0048 - val_accuracy: 0.9990\n",
      "Epoch 54/100\n",
      "116/117 [============================>.] - ETA: 0s - loss: 0.0523 - accuracy: 0.9835\n",
      "Epoch 54: val_accuracy did not improve from 1.00000\n",
      "117/117 [==============================] - 1s 11ms/step - loss: 0.0521 - accuracy: 0.9836 - val_loss: 0.0043 - val_accuracy: 0.9997\n",
      "Epoch 55/100\n",
      "117/117 [==============================] - ETA: 0s - loss: 0.0507 - accuracy: 0.9841\n",
      "Epoch 55: val_accuracy did not improve from 1.00000\n",
      "117/117 [==============================] - 2s 13ms/step - loss: 0.0507 - accuracy: 0.9841 - val_loss: 0.0056 - val_accuracy: 0.9988\n",
      "Epoch 56/100\n",
      "114/117 [============================>.] - ETA: 0s - loss: 0.0462 - accuracy: 0.9853\n",
      "Epoch 56: val_accuracy did not improve from 1.00000\n",
      "117/117 [==============================] - 2s 14ms/step - loss: 0.0478 - accuracy: 0.9849 - val_loss: 0.0064 - val_accuracy: 0.9985\n",
      "Epoch 57/100\n",
      "111/117 [===========================>..] - ETA: 0s - loss: 0.0486 - accuracy: 0.9846\n",
      "Epoch 57: val_accuracy did not improve from 1.00000\n",
      "117/117 [==============================] - 1s 10ms/step - loss: 0.0495 - accuracy: 0.9844 - val_loss: 0.0054 - val_accuracy: 0.9995\n",
      "Epoch 58/100\n",
      "115/117 [============================>.] - ETA: 0s - loss: 0.0512 - accuracy: 0.9830\n",
      "Epoch 58: val_accuracy did not improve from 1.00000\n",
      "117/117 [==============================] - 1s 10ms/step - loss: 0.0511 - accuracy: 0.9830 - val_loss: 0.0068 - val_accuracy: 0.9990\n",
      "Epoch 59/100\n",
      "115/117 [============================>.] - ETA: 0s - loss: 0.0474 - accuracy: 0.9844\n",
      "Epoch 59: val_accuracy did not improve from 1.00000\n",
      "117/117 [==============================] - 1s 13ms/step - loss: 0.0473 - accuracy: 0.9844 - val_loss: 0.0074 - val_accuracy: 0.9993\n",
      "Epoch 60/100\n",
      "114/117 [============================>.] - ETA: 0s - loss: 0.0517 - accuracy: 0.9841\n",
      "Epoch 60: val_accuracy did not improve from 1.00000\n",
      "117/117 [==============================] - 1s 12ms/step - loss: 0.0525 - accuracy: 0.9839 - val_loss: 0.0063 - val_accuracy: 0.9988\n",
      "Epoch 61/100\n",
      "117/117 [==============================] - ETA: 0s - loss: 0.0467 - accuracy: 0.9855\n",
      "Epoch 61: val_accuracy did not improve from 1.00000\n",
      "117/117 [==============================] - 2s 17ms/step - loss: 0.0467 - accuracy: 0.9855 - val_loss: 0.0070 - val_accuracy: 0.9991\n",
      "Epoch 62/100\n",
      "116/117 [============================>.] - ETA: 0s - loss: 0.0439 - accuracy: 0.9862\n",
      "Epoch 62: val_accuracy did not improve from 1.00000\n",
      "117/117 [==============================] - 1s 12ms/step - loss: 0.0440 - accuracy: 0.9862 - val_loss: 0.0048 - val_accuracy: 0.9997\n",
      "Epoch 63/100\n",
      "114/117 [============================>.] - ETA: 0s - loss: 0.0434 - accuracy: 0.9856\n",
      "Epoch 63: val_accuracy did not improve from 1.00000\n",
      "117/117 [==============================] - 1s 11ms/step - loss: 0.0433 - accuracy: 0.9857 - val_loss: 0.0051 - val_accuracy: 0.9990\n",
      "Epoch 64/100\n",
      "116/117 [============================>.] - ETA: 0s - loss: 0.0465 - accuracy: 0.9851\n",
      "Epoch 64: val_accuracy did not improve from 1.00000\n",
      "117/117 [==============================] - 1s 10ms/step - loss: 0.0465 - accuracy: 0.9850 - val_loss: 0.0048 - val_accuracy: 0.9991\n",
      "Epoch 65/100\n",
      "115/117 [============================>.] - ETA: 0s - loss: 0.0477 - accuracy: 0.9842\n",
      "Epoch 65: val_accuracy did not improve from 1.00000\n",
      "117/117 [==============================] - 1s 10ms/step - loss: 0.0482 - accuracy: 0.9841 - val_loss: 0.0041 - val_accuracy: 0.9997\n",
      "Epoch 66/100\n",
      "115/117 [============================>.] - ETA: 0s - loss: 0.0445 - accuracy: 0.9856\n",
      "Epoch 66: val_accuracy did not improve from 1.00000\n",
      "117/117 [==============================] - 2s 18ms/step - loss: 0.0442 - accuracy: 0.9856 - val_loss: 0.0040 - val_accuracy: 0.9998\n",
      "Epoch 67/100\n",
      "114/117 [============================>.] - ETA: 0s - loss: 0.0422 - accuracy: 0.9866\n",
      "Epoch 67: val_accuracy did not improve from 1.00000\n",
      "117/117 [==============================] - 1s 10ms/step - loss: 0.0424 - accuracy: 0.9865 - val_loss: 0.0049 - val_accuracy: 0.9990\n",
      "Epoch 68/100\n",
      "117/117 [==============================] - ETA: 0s - loss: 0.0436 - accuracy: 0.9859\n",
      "Epoch 68: val_accuracy did not improve from 1.00000\n",
      "117/117 [==============================] - 2s 13ms/step - loss: 0.0436 - accuracy: 0.9859 - val_loss: 0.0144 - val_accuracy: 0.9950\n",
      "Epoch 69/100\n",
      "116/117 [============================>.] - ETA: 0s - loss: 0.0438 - accuracy: 0.9861\n",
      "Epoch 69: val_accuracy did not improve from 1.00000\n",
      "117/117 [==============================] - 1s 13ms/step - loss: 0.0438 - accuracy: 0.9860 - val_loss: 0.0047 - val_accuracy: 0.9988\n",
      "Epoch 70/100\n",
      "115/117 [============================>.] - ETA: 0s - loss: 0.0423 - accuracy: 0.9859\n",
      "Epoch 70: val_accuracy did not improve from 1.00000\n",
      "117/117 [==============================] - 1s 11ms/step - loss: 0.0423 - accuracy: 0.9860 - val_loss: 0.0055 - val_accuracy: 0.9993\n",
      "Epoch 71/100\n",
      "115/117 [============================>.] - ETA: 0s - loss: 0.0443 - accuracy: 0.9856\n",
      "Epoch 71: val_accuracy did not improve from 1.00000\n",
      "117/117 [==============================] - 1s 11ms/step - loss: 0.0447 - accuracy: 0.9855 - val_loss: 0.0047 - val_accuracy: 0.9991\n",
      "Epoch 72/100\n",
      "113/117 [===========================>..] - ETA: 0s - loss: 0.0434 - accuracy: 0.9867\n",
      "Epoch 72: val_accuracy did not improve from 1.00000\n",
      "117/117 [==============================] - 2s 16ms/step - loss: 0.0435 - accuracy: 0.9865 - val_loss: 0.0059 - val_accuracy: 0.9993\n",
      "Epoch 72: early stopping\n"
     ]
    }
   ],
   "source": [
    "history = cnn.fit(X_train_arr, y_train_arr, epochs=100, batch_size=250,callbacks=[es,mc]\n",
    "                  , validation_data=(val_X,val_y)\n",
    "                  )\n"
   ]
  },
  {
   "cell_type": "code",
   "execution_count": 35,
   "metadata": {},
   "outputs": [
    {
     "data": {
      "image/png": "[encoded data removed]",
      "text/plain": [
       "<Figure size 640x480 with 1 Axes>"
      ]
     },
     "metadata": {},
     "output_type": "display_data"
    }
   ],
   "source": [
    "history_df = pd.DataFrame(history.history)\n",
    "history_df.loc[:, ['loss',\"val_loss\"]].plot()\n",
    "plt.show()"
   ]
  },
  {
   "cell_type": "markdown",
   "metadata": {},
   "source": [
    "#### Evaluation"
   ]
  },
  {
   "cell_type": "markdown",
   "metadata": {},
   "source": [
    "- Evaluate best model which was monitored and saved"
   ]
  },
  {
   "cell_type": "code",
   "execution_count": 36,
   "metadata": {},
   "outputs": [
    {
     "name": "stdout",
     "output_type": "stream",
     "text": [
      "Train: 99.98, Test: 87.28\n"
     ]
    }
   ],
   "source": [
    "best_saved_model = load_model('best_model.h5')\n",
    "_, train_acc = best_saved_model.evaluate(X_train_arr, y_train_arr, verbose=0)\n",
    "_, test_acc = best_saved_model.evaluate(X_test_arr, y_test_arr, verbose=0)\n",
    "print('Train: %.2f, Test: %.2f' % (train_acc*100, test_acc*100))"
   ]
  },
  {
   "cell_type": "code",
   "execution_count": 37,
   "metadata": {},
   "outputs": [
    {
     "name": "stdout",
     "output_type": "stream",
     "text": [
      "745/745 [==============================] - 4s 4ms/step\n",
      "mean absolute error is 0.134\n"
     ]
    }
   ],
   "source": [
    "\n",
    "best_model_predictions = best_saved_model.predict(X_test_arr)\n",
    "mae = round(mean_absolute_error(y_test_roll, best_model_predictions),3)\n",
    "print(\"mean absolute error is\",mae)"
   ]
  },
  {
   "cell_type": "code",
   "execution_count": 38,
   "metadata": {},
   "outputs": [],
   "source": [
    "# convert predicted label rom analog to binary value\n",
    "bin_best_model_predictions=[]\n",
    "for val in best_model_predictions:\n",
    "    if val >=0.5:\n",
    "        bin_best_model_predictions.append(1)\n",
    "    else:\n",
    "        bin_best_model_predictions.append(0)"
   ]
  },
  {
   "cell_type": "code",
   "execution_count": 39,
   "metadata": {},
   "outputs": [
    {
     "data": {
      "image/png": "[encoded data removed]",
      "text/plain": [
       "<Figure size 640x480 with 2 Axes>"
      ]
     },
     "metadata": {},
     "output_type": "display_data"
    }
   ],
   "source": [
    "from sklearn.metrics import confusion_matrix\n",
    "from sklearn.metrics import ConfusionMatrixDisplay\n",
    "from matplotlib import pyplot as plt\n",
    "\n",
    "conf_mat = confusion_matrix(bin_best_model_predictions, y_test_roll)\n",
    "conf_mat_disp = ConfusionMatrixDisplay(confusion_matrix=conf_mat)\n",
    "conf_mat_disp.plot(cmap='Greens')\n",
    "plt.show()"
   ]
  }
 ],
 "metadata": {
  "kernelspec": {
   "display_name": "Python 3",
   "language": "python",
   "name": "python3"
  },
  "language_info": {
   "codemirror_mode": {
    "name": "ipython",
    "version": 3
   },
   "file_extension": ".py",
   "mimetype": "text/x-python",
   "name": "python",
   "nbconvert_exporter": "python",
   "pygments_lexer": "ipython3",
   "version": "3.10.9"
  },
  "orig_nbformat": 4,
  "vscode": {
   "interpreter": {
    "hash": "81794d4967e6c3204c66dcd87b604927b115b27c00565d3d43f05ba2f3a2cb0d"
   }
  }
 },
 "nbformat": 4,
 "nbformat_minor": 2
}
